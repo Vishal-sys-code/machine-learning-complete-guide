{
  "nbformat": 4,
  "nbformat_minor": 0,
  "metadata": {
    "colab": {
      "provenance": []
    },
    "kernelspec": {
      "name": "python3",
      "display_name": "Python 3"
    },
    "language_info": {
      "name": "python"
    }
  },
  "cells": [
    {
      "cell_type": "markdown",
      "source": [
        "# **Namespaces**\n",
        "A namespace is a space that holds names(identifiers).Programmatically speaking, namespaces are dictionary of identifiers(keys) and their objects(values)\n",
        "\n",
        "***NOTE:*** Identifiers: function name, class name, variable name.\n",
        "\n",
        "There are 4 types of namespaces:\n",
        "\n",
        "- Builtin Namespace\n",
        "- Global Namespace\n",
        "- Enclosing Namespace\n",
        "- Local Namespace\n",
        "\n"
      ],
      "metadata": {
        "id": "s2fWJbfB0Ly8"
      }
    },
    {
      "cell_type": "markdown",
      "source": [
        "![Screenshot (94).png](data:image/png;base64,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)"
      ],
      "metadata": {
        "id": "KMTr4uGP1LJi"
      }
    },
    {
      "cell_type": "markdown",
      "source": [
        "\n",
        "# **Scope**\n",
        "A scope is a textual region of a Python program where a namespace is directly accessible.\n",
        "\n",
        "# **LEGB Rule**\n",
        "The interpreter searches for a name from the inside out, looking in the local, enclosing, global, and finally the built-in scope. If the interpreter doesn’t find the name in any of these locations, then Python raises a NameError exception.\n",
        "\n",
        "\n",
        "To learn visualy go to the `pythontutor[dot]com`.\n",
        "\n",
        "LOCAL -> ENCLOSED -> GLOBAL -> BUILTIN\n",
        "\n",
        "1. **Local (L):** Variables defined **inside a function** and accessible only within that function.  \n",
        "2. **Enclosing (E):** Variables defined in the **outer (enclosing) function** of a **nested function**.  \n",
        "3. **Global (G):** Variables defined at the **top level of a module** or declared as **global** inside a function.  \n",
        "4. **Built-in (B):** Predefined names in Python, like **`print()`**, **`len()`**, and **`max()`**, available **everywhere** in the program."
      ],
      "metadata": {
        "id": "jg_8We251Qvu"
      }
    },
    {
      "cell_type": "markdown",
      "source": [
        "## **Hands-on Local and Global Scopes**"
      ],
      "metadata": {
        "id": "ke0ca5N-4P7R"
      }
    },
    {
      "cell_type": "code",
      "execution_count": 1,
      "metadata": {
        "colab": {
          "base_uri": "https://localhost:8080/"
        },
        "id": "rUzOV-yfz8LT",
        "outputId": "eabd4be2-d9b0-4b43-e56a-e036f34c9e40"
      },
      "outputs": [
        {
          "output_type": "stream",
          "name": "stdout",
          "text": [
            "3\n",
            "2\n"
          ]
        }
      ],
      "source": [
        "# Local and Global\n",
        "# Global scope\n",
        "a = 2\n",
        "\n",
        "def temp():\n",
        "  # Local scope\n",
        "  b = 3\n",
        "  print(b)\n",
        "\n",
        "temp()\n",
        "print(a)"
      ]
    },
    {
      "cell_type": "code",
      "source": [
        "# Local and Global -> Same Name\n",
        "# Global scope\n",
        "a = 2\n",
        "\n",
        "def temp():\n",
        "  # Local scope\n",
        "  a = 3\n",
        "  print(a)\n",
        "\n",
        "temp()\n",
        "print(a)"
      ],
      "metadata": {
        "colab": {
          "base_uri": "https://localhost:8080/"
        },
        "id": "niCrpBhN2roM",
        "outputId": "6a3c00b7-476d-4546-8ab5-9b8be1d0b91d"
      },
      "execution_count": 2,
      "outputs": [
        {
          "output_type": "stream",
          "name": "stdout",
          "text": [
            "3\n",
            "2\n"
          ]
        }
      ]
    },
    {
      "cell_type": "code",
      "source": [
        "# local and global -> local does not have but global has\n",
        "a = 2\n",
        "\n",
        "def temp():\n",
        "  # Local Variable\n",
        "  print(a)\n",
        "\n",
        "temp()\n",
        "print(a)"
      ],
      "metadata": {
        "colab": {
          "base_uri": "https://localhost:8080/"
        },
        "id": "Yuciqqj123Ga",
        "outputId": "4ad8eef9-23db-4830-baac-0306b3d22094"
      },
      "execution_count": 3,
      "outputs": [
        {
          "output_type": "stream",
          "name": "stdout",
          "text": [
            "2\n",
            "2\n"
          ]
        }
      ]
    },
    {
      "cell_type": "code",
      "source": [
        "# local and global -> editing global\n",
        "# We can use the global variable in our local however we cannot perform editing on that.\n",
        "# We can read but we cannot write that variable.\n",
        "a = 2\n",
        "\n",
        "def temp():\n",
        "  # local var\n",
        "  a += 1\n",
        "  print(a)\n",
        "\n",
        "temp()\n",
        "print(a)"
      ],
      "metadata": {
        "colab": {
          "base_uri": "https://localhost:8080/",
          "height": 327
        },
        "id": "wY-BASAf3Auz",
        "outputId": "e57fed91-2ee4-46ca-d097-d3ca898471dc"
      },
      "execution_count": 4,
      "outputs": [
        {
          "output_type": "error",
          "ename": "UnboundLocalError",
          "evalue": "local variable 'a' referenced before assignment",
          "traceback": [
            "\u001b[0;31m---------------------------------------------------------------------------\u001b[0m",
            "\u001b[0;31mUnboundLocalError\u001b[0m                         Traceback (most recent call last)",
            "\u001b[0;32m<ipython-input-4-70b4c922b659>\u001b[0m in \u001b[0;36m<cell line: 11>\u001b[0;34m()\u001b[0m\n\u001b[1;32m      9\u001b[0m   \u001b[0mprint\u001b[0m\u001b[0;34m(\u001b[0m\u001b[0ma\u001b[0m\u001b[0;34m)\u001b[0m\u001b[0;34m\u001b[0m\u001b[0;34m\u001b[0m\u001b[0m\n\u001b[1;32m     10\u001b[0m \u001b[0;34m\u001b[0m\u001b[0m\n\u001b[0;32m---> 11\u001b[0;31m \u001b[0mtemp\u001b[0m\u001b[0;34m(\u001b[0m\u001b[0;34m)\u001b[0m\u001b[0;34m\u001b[0m\u001b[0;34m\u001b[0m\u001b[0m\n\u001b[0m\u001b[1;32m     12\u001b[0m \u001b[0mprint\u001b[0m\u001b[0;34m(\u001b[0m\u001b[0ma\u001b[0m\u001b[0;34m)\u001b[0m\u001b[0;34m\u001b[0m\u001b[0;34m\u001b[0m\u001b[0m\n",
            "\u001b[0;32m<ipython-input-4-70b4c922b659>\u001b[0m in \u001b[0;36mtemp\u001b[0;34m()\u001b[0m\n\u001b[1;32m      6\u001b[0m \u001b[0;32mdef\u001b[0m \u001b[0mtemp\u001b[0m\u001b[0;34m(\u001b[0m\u001b[0;34m)\u001b[0m\u001b[0;34m:\u001b[0m\u001b[0;34m\u001b[0m\u001b[0;34m\u001b[0m\u001b[0m\n\u001b[1;32m      7\u001b[0m   \u001b[0;31m# local var\u001b[0m\u001b[0;34m\u001b[0m\u001b[0;34m\u001b[0m\u001b[0m\n\u001b[0;32m----> 8\u001b[0;31m   \u001b[0ma\u001b[0m \u001b[0;34m+=\u001b[0m \u001b[0;36m1\u001b[0m\u001b[0;34m\u001b[0m\u001b[0;34m\u001b[0m\u001b[0m\n\u001b[0m\u001b[1;32m      9\u001b[0m   \u001b[0mprint\u001b[0m\u001b[0;34m(\u001b[0m\u001b[0ma\u001b[0m\u001b[0;34m)\u001b[0m\u001b[0;34m\u001b[0m\u001b[0;34m\u001b[0m\u001b[0m\n\u001b[1;32m     10\u001b[0m \u001b[0;34m\u001b[0m\u001b[0m\n",
            "\u001b[0;31mUnboundLocalError\u001b[0m: local variable 'a' referenced before assignment"
          ]
        }
      ]
    },
    {
      "cell_type": "code",
      "source": [
        "# To have the editing that global variable we have to do\n",
        "a = 2\n",
        "\n",
        "def temp():\n",
        "  # local var\n",
        "  global a\n",
        "  a += 1\n",
        "  print(a)\n",
        "\n",
        "temp()\n",
        "print(a)"
      ],
      "metadata": {
        "colab": {
          "base_uri": "https://localhost:8080/"
        },
        "id": "0TTonSkX3hiA",
        "outputId": "25737a52-386d-4718-8273-ec8e5ea1bc99"
      },
      "execution_count": 5,
      "outputs": [
        {
          "output_type": "stream",
          "name": "stdout",
          "text": [
            "3\n",
            "3\n"
          ]
        }
      ]
    },
    {
      "cell_type": "code",
      "source": [
        "# local and global -> global created inside local\n",
        "def temp():\n",
        "  # local var\n",
        "  global a\n",
        "  a = 1\n",
        "  print(a)\n",
        "\n",
        "temp()\n",
        "print(a)"
      ],
      "metadata": {
        "colab": {
          "base_uri": "https://localhost:8080/"
        },
        "id": "eZesHoAY3rhP",
        "outputId": "de6ceb94-0755-4042-b482-bfe18cf57161"
      },
      "execution_count": 6,
      "outputs": [
        {
          "output_type": "stream",
          "name": "stdout",
          "text": [
            "1\n",
            "1\n"
          ]
        }
      ]
    },
    {
      "cell_type": "code",
      "source": [
        "# local and global -> function parameter is local\n",
        "def temp(z):\n",
        "  # Local Variable\n",
        "  print(z)\n",
        "\n",
        "a = 5\n",
        "temp(5)\n",
        "print(a)\n",
        "print(z) # Z is a local variable"
      ],
      "metadata": {
        "colab": {
          "base_uri": "https://localhost:8080/",
          "height": 218
        },
        "id": "eOsfvdKQ3xam",
        "outputId": "b9734d65-b717-4700-89f0-382a36040ebe"
      },
      "execution_count": 7,
      "outputs": [
        {
          "output_type": "stream",
          "name": "stdout",
          "text": [
            "5\n",
            "5\n"
          ]
        },
        {
          "output_type": "error",
          "ename": "NameError",
          "evalue": "name 'z' is not defined",
          "traceback": [
            "\u001b[0;31m---------------------------------------------------------------------------\u001b[0m",
            "\u001b[0;31mNameError\u001b[0m                                 Traceback (most recent call last)",
            "\u001b[0;32m<ipython-input-7-15915bd2fa0e>\u001b[0m in \u001b[0;36m<cell line: 9>\u001b[0;34m()\u001b[0m\n\u001b[1;32m      7\u001b[0m \u001b[0mtemp\u001b[0m\u001b[0;34m(\u001b[0m\u001b[0;36m5\u001b[0m\u001b[0;34m)\u001b[0m\u001b[0;34m\u001b[0m\u001b[0;34m\u001b[0m\u001b[0m\n\u001b[1;32m      8\u001b[0m \u001b[0mprint\u001b[0m\u001b[0;34m(\u001b[0m\u001b[0ma\u001b[0m\u001b[0;34m)\u001b[0m\u001b[0;34m\u001b[0m\u001b[0;34m\u001b[0m\u001b[0m\n\u001b[0;32m----> 9\u001b[0;31m \u001b[0mprint\u001b[0m\u001b[0;34m(\u001b[0m\u001b[0mz\u001b[0m\u001b[0;34m)\u001b[0m\u001b[0;34m\u001b[0m\u001b[0;34m\u001b[0m\u001b[0m\n\u001b[0m",
            "\u001b[0;31mNameError\u001b[0m: name 'z' is not defined"
          ]
        }
      ]
    },
    {
      "cell_type": "markdown",
      "source": [
        "## **Built in Scope**"
      ],
      "metadata": {
        "id": "2bseUWhz4X7u"
      }
    },
    {
      "cell_type": "code",
      "source": [
        "import builtins\n",
        "print(dir(builtins))"
      ],
      "metadata": {
        "colab": {
          "base_uri": "https://localhost:8080/"
        },
        "id": "NbKawkvX4IjQ",
        "outputId": "8f3cd4f1-3e84-4490-e754-0bce413babd1"
      },
      "execution_count": 8,
      "outputs": [
        {
          "output_type": "stream",
          "name": "stdout",
          "text": [
            "['ArithmeticError', 'AssertionError', 'AttributeError', 'BaseException', 'BlockingIOError', 'BrokenPipeError', 'BufferError', 'BytesWarning', 'ChildProcessError', 'ConnectionAbortedError', 'ConnectionError', 'ConnectionRefusedError', 'ConnectionResetError', 'DeprecationWarning', 'EOFError', 'Ellipsis', 'EncodingWarning', 'EnvironmentError', 'Exception', 'False', 'FileExistsError', 'FileNotFoundError', 'FloatingPointError', 'FutureWarning', 'GeneratorExit', 'IOError', 'ImportError', 'ImportWarning', 'IndentationError', 'IndexError', 'InterruptedError', 'IsADirectoryError', 'KeyError', 'KeyboardInterrupt', 'LookupError', 'MemoryError', 'ModuleNotFoundError', 'NameError', 'None', 'NotADirectoryError', 'NotImplemented', 'NotImplementedError', 'OSError', 'OverflowError', 'PendingDeprecationWarning', 'PermissionError', 'ProcessLookupError', 'RecursionError', 'ReferenceError', 'ResourceWarning', 'RuntimeError', 'RuntimeWarning', 'StopAsyncIteration', 'StopIteration', 'SyntaxError', 'SyntaxWarning', 'SystemError', 'SystemExit', 'TabError', 'TimeoutError', 'True', 'TypeError', 'UnboundLocalError', 'UnicodeDecodeError', 'UnicodeEncodeError', 'UnicodeError', 'UnicodeTranslateError', 'UnicodeWarning', 'UserWarning', 'ValueError', 'Warning', 'ZeroDivisionError', '__IPYTHON__', '__build_class__', '__debug__', '__doc__', '__import__', '__loader__', '__name__', '__package__', '__spec__', 'abs', 'aiter', 'all', 'anext', 'any', 'ascii', 'bin', 'bool', 'breakpoint', 'bytearray', 'bytes', 'callable', 'chr', 'classmethod', 'compile', 'complex', 'copyright', 'credits', 'delattr', 'dict', 'dir', 'display', 'divmod', 'enumerate', 'eval', 'exec', 'execfile', 'filter', 'float', 'format', 'frozenset', 'get_ipython', 'getattr', 'globals', 'hasattr', 'hash', 'help', 'hex', 'id', 'input', 'int', 'isinstance', 'issubclass', 'iter', 'len', 'license', 'list', 'locals', 'map', 'max', 'memoryview', 'min', 'next', 'object', 'oct', 'open', 'ord', 'pow', 'print', 'property', 'range', 'repr', 'reversed', 'round', 'runfile', 'set', 'setattr', 'slice', 'sorted', 'staticmethod', 'str', 'sum', 'super', 'tuple', 'type', 'vars', 'zip']\n"
          ]
        }
      ]
    },
    {
      "cell_type": "code",
      "source": [
        "print('Hello')"
      ],
      "metadata": {
        "colab": {
          "base_uri": "https://localhost:8080/"
        },
        "id": "1pxRa4D74eSC",
        "outputId": "64aa5c5d-a00d-4abe-efa1-bf222ad98532"
      },
      "execution_count": 9,
      "outputs": [
        {
          "output_type": "stream",
          "name": "stdout",
          "text": [
            "Hello\n"
          ]
        }
      ]
    },
    {
      "cell_type": "code",
      "source": [
        "# Renaming built-ins\n",
        "L = [1,2,3]\n",
        "print(max(L))\n",
        "def max():\n",
        "  print('hello')\n",
        "\n",
        "print(max(L))\n",
        "\"\"\"\n",
        "The code raises a TypeError on the second print(max(L)) because the\n",
        "built-in max() function is overridden by a custom function named max()\n",
        "which takes no arguments, causing a conflict.\n",
        "\"\"\""
      ],
      "metadata": {
        "colab": {
          "base_uri": "https://localhost:8080/",
          "height": 218
        },
        "id": "YwGIrl7J4jWQ",
        "outputId": "76aa4538-f956-4372-db4b-0a452fc654e9"
      },
      "execution_count": 12,
      "outputs": [
        {
          "output_type": "error",
          "ename": "TypeError",
          "evalue": "max() takes 0 positional arguments but 1 was given",
          "traceback": [
            "\u001b[0;31m---------------------------------------------------------------------------\u001b[0m",
            "\u001b[0;31mTypeError\u001b[0m                                 Traceback (most recent call last)",
            "\u001b[0;32m<ipython-input-12-f4d5e064110b>\u001b[0m in \u001b[0;36m<cell line: 3>\u001b[0;34m()\u001b[0m\n\u001b[1;32m      1\u001b[0m \u001b[0;31m# Renaming built-ins\u001b[0m\u001b[0;34m\u001b[0m\u001b[0;34m\u001b[0m\u001b[0m\n\u001b[1;32m      2\u001b[0m \u001b[0mL\u001b[0m \u001b[0;34m=\u001b[0m \u001b[0;34m[\u001b[0m\u001b[0;36m1\u001b[0m\u001b[0;34m,\u001b[0m\u001b[0;36m2\u001b[0m\u001b[0;34m,\u001b[0m\u001b[0;36m3\u001b[0m\u001b[0;34m]\u001b[0m\u001b[0;34m\u001b[0m\u001b[0;34m\u001b[0m\u001b[0m\n\u001b[0;32m----> 3\u001b[0;31m \u001b[0mprint\u001b[0m\u001b[0;34m(\u001b[0m\u001b[0mmax\u001b[0m\u001b[0;34m(\u001b[0m\u001b[0mL\u001b[0m\u001b[0;34m)\u001b[0m\u001b[0;34m)\u001b[0m\u001b[0;34m\u001b[0m\u001b[0;34m\u001b[0m\u001b[0m\n\u001b[0m\u001b[1;32m      4\u001b[0m \u001b[0;32mdef\u001b[0m \u001b[0mmax\u001b[0m\u001b[0;34m(\u001b[0m\u001b[0;34m)\u001b[0m\u001b[0;34m:\u001b[0m\u001b[0;34m\u001b[0m\u001b[0;34m\u001b[0m\u001b[0m\n\u001b[1;32m      5\u001b[0m   \u001b[0mprint\u001b[0m\u001b[0;34m(\u001b[0m\u001b[0;34m'hello'\u001b[0m\u001b[0;34m)\u001b[0m\u001b[0;34m\u001b[0m\u001b[0;34m\u001b[0m\u001b[0m\n",
            "\u001b[0;31mTypeError\u001b[0m: max() takes 0 positional arguments but 1 was given"
          ]
        }
      ]
    },
    {
      "cell_type": "markdown",
      "source": [
        "## **Enclosing Scope**"
      ],
      "metadata": {
        "id": "JyhYp8rD42KU"
      }
    },
    {
      "cell_type": "code",
      "source": [
        "def outer():\n",
        "  def inner():\n",
        "    print(\"Inner Function\")\n",
        "  inner()\n",
        "  print(\"Outer Function\")\n",
        "\n",
        "outer()\n",
        "print(\"Main Program\")"
      ],
      "metadata": {
        "colab": {
          "base_uri": "https://localhost:8080/"
        },
        "id": "hm4KXomb4rGM",
        "outputId": "ba0c73df-5c5f-4874-dfc5-32178909f600"
      },
      "execution_count": 13,
      "outputs": [
        {
          "output_type": "stream",
          "name": "stdout",
          "text": [
            "Inner Function\n",
            "Outer Function\n",
            "Main Program\n"
          ]
        }
      ]
    },
    {
      "cell_type": "markdown",
      "source": [
        "Here you can see that there will be three scopes simultaneously and then there will be a question which will be the enclosed one. The all three scopes are: global, outer, inner. The global one is the Main Program, the inner function one is the Local one, and the outer function is the Enclosing scope.\n",
        "\n",
        "Sometimes this enclosing scope is also called the Non Local Keyword.\n",
        "\n"
      ],
      "metadata": {
        "id": "azeQpMlYJdtD"
      }
    },
    {
      "cell_type": "code",
      "source": [
        "# Non Local keyword\n",
        "def outer():\n",
        "  a = 1\n",
        "  def inner():\n",
        "    nonlocal a\n",
        "    a += 1\n",
        "    print('Inner',a)\n",
        "  inner()\n",
        "  print('Outer',a)\n",
        "\n",
        "\n",
        "outer()\n",
        "print('Main program')"
      ],
      "metadata": {
        "colab": {
          "base_uri": "https://localhost:8080/"
        },
        "id": "m1ZQLGTKJNfM",
        "outputId": "7bf9fce9-498f-4a65-eb0c-1980e55ea209"
      },
      "execution_count": 14,
      "outputs": [
        {
          "output_type": "stream",
          "name": "stdout",
          "text": [
            "inner 2\n",
            "outer 2\n",
            "main program\n"
          ]
        }
      ]
    },
    {
      "cell_type": "markdown",
      "source": [
        "# **Decorators**\n",
        "A decorator in python is a function that receives another function as input and adds some functionality(decoration) to and it and returns it.\n",
        "\n",
        "This can happen only because python functions are 1st class citizens.\n",
        "\n",
        "There are 2 types of decorators available in python\n",
        "\n",
        "- Built in decorators like `@staticmethod`, `@classmethod`, `@abstractmethod` and `@property` etc\n",
        "- User defined decorators that we programmers can create according to our needs\n",
        "\n",
        "*******\n",
        "\n",
        "Decorators ek special function hote hain jo kisi dusre function ya class ko modify ya enhance karne ke liye use kiye jaate hain, bina uska original code change kiye.\n",
        "\n",
        "*******\n",
        "\n",
        "A function that extends the behavior of another function without modifying the base function.\n",
        "\n",
        "Pass the base function as an argument to the decorator\n",
        "\n",
        "```python\n",
        "@add_sprinkles\n",
        "get_ice_cream(\"Vanilla)\n",
        "```"
      ],
      "metadata": {
        "id": "fVQowCqcKe7s"
      }
    },
    {
      "cell_type": "code",
      "source": [
        "def func():\n",
        "  print('HELLO')\n",
        "\n",
        "a = func()\n",
        "func()"
      ],
      "metadata": {
        "colab": {
          "base_uri": "https://localhost:8080/"
        },
        "id": "DCHwWDGFKAgP",
        "outputId": "51ab8f16-7c5f-4ba3-ed57-d0a321449aa2"
      },
      "execution_count": 15,
      "outputs": [
        {
          "output_type": "stream",
          "name": "stdout",
          "text": [
            "HELLO\n",
            "HELLO\n"
          ]
        }
      ]
    },
    {
      "cell_type": "code",
      "source": [
        "def add_sprinkles(func):\n",
        "  def wrapper():\n",
        "    print(\"You add Sprinkles\")\n",
        "    func()\n",
        "  return wrapper\n",
        "\n",
        "@add_sprinkles\n",
        "def get_ice_cream():\n",
        "  print(\"Here is your Icecream\")\n",
        "\n",
        "get_ice_cream()"
      ],
      "metadata": {
        "colab": {
          "base_uri": "https://localhost:8080/"
        },
        "id": "2RIml6ZDLASi",
        "outputId": "37423f5b-cb14-4d13-e6e0-8fd6f4a45d07"
      },
      "execution_count": 17,
      "outputs": [
        {
          "output_type": "stream",
          "name": "stdout",
          "text": [
            "You add Sprinkles\n",
            "Here is your Icecream\n"
          ]
        }
      ]
    },
    {
      "cell_type": "code",
      "source": [
        "# Decorator\n",
        "def modify(func, num):\n",
        "  return func(num)\n",
        "\n",
        "# Input\n",
        "def sqaure(num):\n",
        "  return num ** 2\n",
        "\n",
        "modify(sqaure, 2)"
      ],
      "metadata": {
        "colab": {
          "base_uri": "https://localhost:8080/"
        },
        "id": "G-StiCQ-L3d8",
        "outputId": "bafe3901-91c2-453d-ea1b-8015cad46b1a"
      },
      "execution_count": 18,
      "outputs": [
        {
          "output_type": "execute_result",
          "data": {
            "text/plain": [
              "4"
            ]
          },
          "metadata": {},
          "execution_count": 18
        }
      ]
    },
    {
      "cell_type": "code",
      "source": [
        "# Simple Decorator\n",
        "def my_decorator(func):\n",
        "  def wrapper():\n",
        "    print(\"***************************\")\n",
        "    func()\n",
        "    print(\"***************************\")\n",
        "  return wrapper\n",
        "\n",
        "def hello():\n",
        "  print('Hello')\n",
        "\n",
        "def display():\n",
        "  print(\"Hello Vayishu\")\n",
        "\n",
        "a = my_decorator(hello)\n",
        "a()\n",
        "\n",
        "b = my_decorator(display)\n",
        "b()"
      ],
      "metadata": {
        "colab": {
          "base_uri": "https://localhost:8080/"
        },
        "id": "kf3kZviaNHhE",
        "outputId": "7f4674d3-e5cb-4e5f-8965-bd0c94fee7cd"
      },
      "execution_count": 21,
      "outputs": [
        {
          "output_type": "stream",
          "name": "stdout",
          "text": [
            "***************************\n",
            "Hello\n",
            "***************************\n",
            "***************************\n",
            "Hello Vayishu\n",
            "***************************\n"
          ]
        }
      ]
    },
    {
      "cell_type": "code",
      "source": [
        "# Simple Decorator\n",
        "def my_decorator(func):\n",
        "  def wrapper():\n",
        "    print(\"***************************\")\n",
        "    func()\n",
        "    print(\"***************************\")\n",
        "  return wrapper\n",
        "\n",
        "@my_decorator\n",
        "def hello():\n",
        "  print('Hello')\n",
        "\n",
        "@my_decorator\n",
        "def display():\n",
        "  print(\"Hello Vayishu\")\n",
        "\n",
        "hello()\n",
        "display()"
      ],
      "metadata": {
        "colab": {
          "base_uri": "https://localhost:8080/"
        },
        "id": "BQSkCzo4NdtV",
        "outputId": "6e94d28c-2242-4973-8410-230cf779456e"
      },
      "execution_count": 22,
      "outputs": [
        {
          "output_type": "stream",
          "name": "stdout",
          "text": [
            "***************************\n",
            "Hello\n",
            "***************************\n",
            "***************************\n",
            "Hello Vayishu\n",
            "***************************\n"
          ]
        }
      ]
    },
    {
      "cell_type": "code",
      "source": [
        "# Making a function that will show the execution time of that function\n",
        "import time\n",
        "\n",
        "def timer(func):\n",
        "  def wrapper():\n",
        "    start = time.time()\n",
        "    func()\n",
        "    print(\"Time taken by the function: \", func.__name__, \" function is \" , time.time()-start, \" seconds\")\n",
        "  return wrapper\n",
        "\n",
        "@timer\n",
        "def hello():\n",
        "  print(\"Hello Universe\")\n",
        "  time.sleep(2)\n",
        "\n",
        "@timer\n",
        "def display():\n",
        "  print(\"Display Function is dislaying something\")\n",
        "  time.sleep(4)\n",
        "\n",
        "hello()\n",
        "display()\n",
        "\n",
        "\n",
        "\n",
        "\n",
        "'''\n",
        "Here there is a major problem the decorator function: timer function is calling the\n",
        "func() with no arguments where as if we make a mathematical function then the\n",
        "wrapper function would throw an error. Reason: The wrapper didn't had any positional arguments\n",
        "to send to the func().\n",
        "\n",
        "To solve this we are showing in the next cell.\n",
        "'''"
      ],
      "metadata": {
        "colab": {
          "base_uri": "https://localhost:8080/",
          "height": 162
        },
        "id": "682F7eeJOTyR",
        "outputId": "a54df236-ee30-4694-e14d-35ad1e7323da"
      },
      "execution_count": 32,
      "outputs": [
        {
          "output_type": "stream",
          "name": "stdout",
          "text": [
            "Hello Universe\n",
            "Time taken by the function:  hello  function is  2.0021843910217285  seconds\n",
            "Display Function is dislaying something\n",
            "Time taken by the function:  display  function is  4.006589889526367  seconds\n"
          ]
        },
        {
          "output_type": "execute_result",
          "data": {
            "text/plain": [
              "\"\\nHere there is a major problem the decorator function: timer function is calling the \\nfunc() with no arguments where as if we make a mathematical function then the \\nwrapper function would throw an error. Reason: The wrapper didn't had any positional arguments\\nto send to the func().\\n\""
            ],
            "application/vnd.google.colaboratory.intrinsic+json": {
              "type": "string"
            }
          },
          "metadata": {},
          "execution_count": 32
        }
      ]
    },
    {
      "cell_type": "code",
      "source": [
        "import time\n",
        "\n",
        "def timer(func):\n",
        "  def wrapper(*args):\n",
        "    start = time.time()\n",
        "    func(*args)\n",
        "    print(\"Time taken by the function: \", func.__name__, \" function is \" , time.time()-start, \" seconds\")\n",
        "  return wrapper\n",
        "\n",
        "@timer\n",
        "def hello():\n",
        "  print(\"Hello Universe\")\n",
        "  time.sleep(2)\n",
        "\n",
        "@timer\n",
        "def display():\n",
        "  print(\"\\nDisplay Function is dislaying something\")\n",
        "  time.sleep(4)\n",
        "\n",
        "@timer\n",
        "def square(num):\n",
        "  time.sleep(1)\n",
        "  print(\"\\nSquare is: \", num ** 2)\n",
        "\n",
        "hello()\n",
        "display()\n",
        "square(14)"
      ],
      "metadata": {
        "colab": {
          "base_uri": "https://localhost:8080/"
        },
        "id": "EqqPFki8PrLg",
        "outputId": "a8136ec7-045b-49f9-cfe5-f2125d2af6bb"
      },
      "execution_count": 37,
      "outputs": [
        {
          "output_type": "stream",
          "name": "stdout",
          "text": [
            "Hello Universe\n",
            "Time taken by the function:  hello  function is  2.0021910667419434  seconds\n",
            "\n",
            "Display Function is dislaying something\n",
            "Time taken by the function:  display  function is  4.004076957702637  seconds\n",
            "\n",
            "Square is:  196\n",
            "Time taken by the function:  square  function is  1.0011718273162842  seconds\n"
          ]
        }
      ]
    },
    {
      "cell_type": "markdown",
      "source": [
        "Suppose if you have given a wrong datatype and you need to print correctly then you have to make a wrapper in which you need to check the type of the datatype."
      ],
      "metadata": {
        "id": "JxKC9K4iTE6m"
      }
    },
    {
      "cell_type": "code",
      "source": [
        "def sanity_check(data_type):\n",
        "  def outer_wrapper(func):\n",
        "    def inner_wrapper(*args):\n",
        "      if type(args[0] == data_type):\n",
        "        func(*args)\n",
        "      else:\n",
        "        raise TypeError(\"This datatype will not work\")\n",
        "    return inner_wrapper\n",
        "  return outer_wrapper\n",
        "\n",
        "@sanity_check(int)\n",
        "def square(num):\n",
        "  print(f\"Sqaure of the number {num} is: {num ** 2}\")\n",
        "\n",
        "@sanity_check(str)\n",
        "def greet(name):\n",
        "  print(f\"Hello, {name}\")\n",
        "\n",
        "sqaure(17)\n",
        "greet(\"Vayishu\")"
      ],
      "metadata": {
        "colab": {
          "base_uri": "https://localhost:8080/"
        },
        "id": "GqFOSBxWRo6T",
        "outputId": "5a4b7330-0a99-4990-9522-96af097aee77"
      },
      "execution_count": 45,
      "outputs": [
        {
          "output_type": "stream",
          "name": "stdout",
          "text": [
            "Hello, Vayishu\n"
          ]
        }
      ]
    },
    {
      "cell_type": "code",
      "source": [],
      "metadata": {
        "id": "YEncBSQdTwI7"
      },
      "execution_count": null,
      "outputs": []
    }
  ]
}