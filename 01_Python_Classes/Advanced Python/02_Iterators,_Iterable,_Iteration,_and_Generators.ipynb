{
  "nbformat": 4,
  "nbformat_minor": 0,
  "metadata": {
    "colab": {
      "provenance": []
    },
    "kernelspec": {
      "name": "python3",
      "display_name": "Python 3"
    },
    "language_info": {
      "name": "python"
    }
  },
  "cells": [
    {
      "cell_type": "markdown",
      "source": [
        "## What is an Iteration\n",
        "teration is a general term for taking each item of something, one after another. Any time you use a loop, explicit or implicit, to go over a group of items, that is iteration."
      ],
      "metadata": {
        "id": "GcODazNAW_WX"
      }
    },
    {
      "cell_type": "code",
      "execution_count": 1,
      "metadata": {
        "colab": {
          "base_uri": "https://localhost:8080/"
        },
        "id": "Fqcq12TrWEUn",
        "outputId": "db4f80fd-9cdd-492d-ae60-bb100002a7e3"
      },
      "outputs": [
        {
          "output_type": "stream",
          "name": "stdout",
          "text": [
            "1\n",
            "2\n",
            "3\n"
          ]
        }
      ],
      "source": [
        "# Example\n",
        "num = [1,2,3]\n",
        "\n",
        "for i in num:\n",
        "    print(i)"
      ]
    },
    {
      "cell_type": "markdown",
      "source": [
        "## What is Iterator\n",
        "An Iterator is an object that allows the programmer to traverse through a sequence of data without having to store the entire data in the memory"
      ],
      "metadata": {
        "id": "mgtslOCSZ5JE"
      }
    },
    {
      "cell_type": "code",
      "source": [
        "# Example\n",
        "L = [x for x in range(1,10000)]\n",
        "\n",
        "#for i in L:\n",
        "    #print(i*2)\n",
        "\n",
        "import sys\n",
        "\n",
        "print(sys.getsizeof(L)/64)\n",
        "\n",
        "x = range(1,10000000000)\n",
        "\n",
        "#for i in x:\n",
        "    #print(i*2)\n",
        "\n",
        "print(sys.getsizeof(x)/64)"
      ],
      "metadata": {
        "colab": {
          "base_uri": "https://localhost:8080/"
        },
        "id": "_tmTCvwOZ4cP",
        "outputId": "9d29bdd4-3d25-4f26-8fd7-efc75e3b0d37"
      },
      "execution_count": 2,
      "outputs": [
        {
          "output_type": "stream",
          "name": "stdout",
          "text": [
            "1330.875\n",
            "0.75\n"
          ]
        }
      ]
    },
    {
      "cell_type": "markdown",
      "source": [
        "## What is Iterable\n",
        "Iterable is an object, which one can iterate over\n",
        "\n",
        "It generates an Iterator when passed to `iter()` method."
      ],
      "metadata": {
        "id": "o14dSuTbaBSi"
      }
    },
    {
      "cell_type": "code",
      "source": [
        "# Example\n",
        "\n",
        "L = [1,2,3]\n",
        "type(L)\n",
        "\n",
        "\n",
        "# L is an iterable\n",
        "type(iter(L))\n",
        "\n",
        "# iter(L) --> iterator"
      ],
      "metadata": {
        "colab": {
          "base_uri": "https://localhost:8080/"
        },
        "id": "KLfAzJOTZ-ge",
        "outputId": "25df5d30-3bc6-4997-fcf8-4ebdf0bd82a8"
      },
      "execution_count": 3,
      "outputs": [
        {
          "output_type": "execute_result",
          "data": {
            "text/plain": [
              "list_iterator"
            ]
          },
          "metadata": {},
          "execution_count": 3
        }
      ]
    },
    {
      "cell_type": "markdown",
      "source": [
        "## Point to remember\n",
        "- Every Iterator is also and Iterable\n",
        "- Not all Iterables are Iterators\n",
        "\n",
        "## Trick\n",
        "- Every Iterable has an iter function\n",
        "- Every Iterator has both iter function as well as a next function"
      ],
      "metadata": {
        "id": "Mz7yzGEKaF7j"
      }
    },
    {
      "cell_type": "code",
      "source": [
        "a = 2\n",
        "a\n",
        "\n",
        "#for i in a:\n",
        "    #print(i)\n",
        "\n",
        "dir(a)"
      ],
      "metadata": {
        "colab": {
          "base_uri": "https://localhost:8080/"
        },
        "id": "jz6zq_jUaEJg",
        "outputId": "fdd1c778-2516-4095-8af0-8e9688efc8c6"
      },
      "execution_count": 4,
      "outputs": [
        {
          "output_type": "execute_result",
          "data": {
            "text/plain": [
              "['__abs__',\n",
              " '__add__',\n",
              " '__and__',\n",
              " '__bool__',\n",
              " '__ceil__',\n",
              " '__class__',\n",
              " '__delattr__',\n",
              " '__dir__',\n",
              " '__divmod__',\n",
              " '__doc__',\n",
              " '__eq__',\n",
              " '__float__',\n",
              " '__floor__',\n",
              " '__floordiv__',\n",
              " '__format__',\n",
              " '__ge__',\n",
              " '__getattribute__',\n",
              " '__getnewargs__',\n",
              " '__gt__',\n",
              " '__hash__',\n",
              " '__index__',\n",
              " '__init__',\n",
              " '__init_subclass__',\n",
              " '__int__',\n",
              " '__invert__',\n",
              " '__le__',\n",
              " '__lshift__',\n",
              " '__lt__',\n",
              " '__mod__',\n",
              " '__mul__',\n",
              " '__ne__',\n",
              " '__neg__',\n",
              " '__new__',\n",
              " '__or__',\n",
              " '__pos__',\n",
              " '__pow__',\n",
              " '__radd__',\n",
              " '__rand__',\n",
              " '__rdivmod__',\n",
              " '__reduce__',\n",
              " '__reduce_ex__',\n",
              " '__repr__',\n",
              " '__rfloordiv__',\n",
              " '__rlshift__',\n",
              " '__rmod__',\n",
              " '__rmul__',\n",
              " '__ror__',\n",
              " '__round__',\n",
              " '__rpow__',\n",
              " '__rrshift__',\n",
              " '__rshift__',\n",
              " '__rsub__',\n",
              " '__rtruediv__',\n",
              " '__rxor__',\n",
              " '__setattr__',\n",
              " '__sizeof__',\n",
              " '__str__',\n",
              " '__sub__',\n",
              " '__subclasshook__',\n",
              " '__truediv__',\n",
              " '__trunc__',\n",
              " '__xor__',\n",
              " 'as_integer_ratio',\n",
              " 'bit_count',\n",
              " 'bit_length',\n",
              " 'conjugate',\n",
              " 'denominator',\n",
              " 'from_bytes',\n",
              " 'imag',\n",
              " 'numerator',\n",
              " 'real',\n",
              " 'to_bytes']"
            ]
          },
          "metadata": {},
          "execution_count": 4
        }
      ]
    },
    {
      "cell_type": "code",
      "source": [
        "T = {1:2,3:4}\n",
        "dir(T)"
      ],
      "metadata": {
        "colab": {
          "base_uri": "https://localhost:8080/"
        },
        "id": "gTvLORsBaZXi",
        "outputId": "fbd70656-a4e6-4175-ff5d-301960f0294c"
      },
      "execution_count": 5,
      "outputs": [
        {
          "output_type": "execute_result",
          "data": {
            "text/plain": [
              "['__class__',\n",
              " '__class_getitem__',\n",
              " '__contains__',\n",
              " '__delattr__',\n",
              " '__delitem__',\n",
              " '__dir__',\n",
              " '__doc__',\n",
              " '__eq__',\n",
              " '__format__',\n",
              " '__ge__',\n",
              " '__getattribute__',\n",
              " '__getitem__',\n",
              " '__gt__',\n",
              " '__hash__',\n",
              " '__init__',\n",
              " '__init_subclass__',\n",
              " '__ior__',\n",
              " '__iter__',\n",
              " '__le__',\n",
              " '__len__',\n",
              " '__lt__',\n",
              " '__ne__',\n",
              " '__new__',\n",
              " '__or__',\n",
              " '__reduce__',\n",
              " '__reduce_ex__',\n",
              " '__repr__',\n",
              " '__reversed__',\n",
              " '__ror__',\n",
              " '__setattr__',\n",
              " '__setitem__',\n",
              " '__sizeof__',\n",
              " '__str__',\n",
              " '__subclasshook__',\n",
              " 'clear',\n",
              " 'copy',\n",
              " 'fromkeys',\n",
              " 'get',\n",
              " 'items',\n",
              " 'keys',\n",
              " 'pop',\n",
              " 'popitem',\n",
              " 'setdefault',\n",
              " 'update',\n",
              " 'values']"
            ]
          },
          "metadata": {},
          "execution_count": 5
        }
      ]
    },
    {
      "cell_type": "code",
      "source": [
        "L = [1,2,3]\n",
        "\n",
        "# L is not an iterator\n",
        "iter_L = iter(L)\n",
        "\n",
        "# iter_L is an iterator"
      ],
      "metadata": {
        "id": "OSWezLrfab_X"
      },
      "execution_count": 6,
      "outputs": []
    },
    {
      "cell_type": "markdown",
      "source": [
        "**Every iterable is not an iterator, but every iterator is an iterable.**"
      ],
      "metadata": {
        "id": "TYYcRdxlajC3"
      }
    },
    {
      "cell_type": "markdown",
      "source": [
        "## Understanding the working of For Loop"
      ],
      "metadata": {
        "id": "GJogY5OcagMi"
      }
    },
    {
      "cell_type": "code",
      "source": [
        "mum = [1, 2, 3]\n",
        "for i in num:\n",
        "  print(i)"
      ],
      "metadata": {
        "colab": {
          "base_uri": "https://localhost:8080/"
        },
        "id": "McgWwHacaeFe",
        "outputId": "3d847a84-60cc-4afc-fc04-8786cd1fd105"
      },
      "execution_count": 7,
      "outputs": [
        {
          "output_type": "stream",
          "name": "stdout",
          "text": [
            "1\n",
            "2\n",
            "3\n"
          ]
        }
      ]
    },
    {
      "cell_type": "markdown",
      "source": [
        "```\n",
        "num = [1, 2, 3]\n",
        "```\n",
        "\n",
        "- **Step 1:** Fetch the iterator\n",
        "```\n",
        "iter_num = iter(num)\n",
        "```\n",
        "\n",
        "- **Step 2:** Next\n",
        "```\n",
        "next(iter_num) : what is your location\n",
        "```\n",
        "\n",
        "```\n",
        "next(iter_num) -> 1\n",
        "next(iter_num) -> 2\n",
        "next(iter_num) -> 3\n",
        "next(iter_num) -> Out of Range\n",
        "````"
      ],
      "metadata": {
        "id": "1FqZmmijbN-N"
      }
    },
    {
      "cell_type": "markdown",
      "source": [
        "## Making our own For Loop"
      ],
      "metadata": {
        "id": "_EvsQiTUbziH"
      }
    },
    {
      "cell_type": "code",
      "source": [
        "def for_loop(iterable):\n",
        "  iterator = iter(iterable)\n",
        "  while True:\n",
        "    try:\n",
        "      print(next(iterator))\n",
        "    except StopIteration:\n",
        "      break"
      ],
      "metadata": {
        "id": "BAjwjKXobEAf"
      },
      "execution_count": 8,
      "outputs": []
    },
    {
      "cell_type": "code",
      "source": [
        "a = [1, 2, 3, 4, 5, 6, 7, 8, 9, 10]\n",
        "b = range(1, 11)\n",
        "c = (1, 2, 3, 4, 5, 6, 7, 8, 9, 10)\n",
        "d = (1, 2, 3, 4, 5, 6, 7, 8, 9, 10)\n",
        "e = {0 : 1, 1 : 2, 2 : 3, 3 : 4, 4 : 5, 5 : 6, 6 : 7, 7 : 8, 8 : 9, 9 : 10}\n",
        "\n",
        "print(\"Printing: a\")\n",
        "for_loop(a)\n",
        "print(\"\\nPrinting: b\")\n",
        "for_loop(b)\n",
        "print(\"\\nPrinting: c\")\n",
        "for_loop(c)\n",
        "print(\"\\nPrinting: d\")\n",
        "for_loop(d)\n",
        "print(\"\\nPrinting: e\")\n",
        "for_loop(e)"
      ],
      "metadata": {
        "colab": {
          "base_uri": "https://localhost:8080/"
        },
        "id": "WSoyL9wHcCMy",
        "outputId": "d66c27d8-e379-4757-fc28-52f107740668"
      },
      "execution_count": 10,
      "outputs": [
        {
          "output_type": "stream",
          "name": "stdout",
          "text": [
            "Printing: a\n",
            "1\n",
            "2\n",
            "3\n",
            "4\n",
            "5\n",
            "6\n",
            "7\n",
            "8\n",
            "9\n",
            "10\n",
            "\n",
            "Printing: b\n",
            "1\n",
            "2\n",
            "3\n",
            "4\n",
            "5\n",
            "6\n",
            "7\n",
            "8\n",
            "9\n",
            "10\n",
            "\n",
            "Printing: c\n",
            "1\n",
            "2\n",
            "3\n",
            "4\n",
            "5\n",
            "6\n",
            "7\n",
            "8\n",
            "9\n",
            "10\n",
            "\n",
            "Printing: d\n",
            "1\n",
            "2\n",
            "3\n",
            "4\n",
            "5\n",
            "6\n",
            "7\n",
            "8\n",
            "9\n",
            "10\n",
            "\n",
            "Printing: e\n",
            "0\n",
            "1\n",
            "2\n",
            "3\n",
            "4\n",
            "5\n",
            "6\n",
            "7\n",
            "8\n",
            "9\n"
          ]
        }
      ]
    },
    {
      "cell_type": "markdown",
      "source": [
        "## Generators\n",
        "Generators in Python are special types of iterators that allow you to generate values lazily, meaning they produce items one at a time only when requested, instead of storing them all in memory at once.\n",
        "\n",
        "They are created using functions with the yield keyword instead of return. This makes them memory-efficient and useful for handling large datasets or infinite sequences.\n"
      ],
      "metadata": {
        "id": "nxTyypUWdOVj"
      }
    },
    {
      "cell_type": "code",
      "source": [
        "def my_generator():\n",
        "  for i in range(50000000000000000000000):\n",
        "    yield i\n",
        "\n",
        "gen = my_generator()\n",
        "print(next(gen))\n",
        "print(next(gen))\n",
        "print(next(gen))"
      ],
      "metadata": {
        "colab": {
          "base_uri": "https://localhost:8080/"
        },
        "id": "Nk8VFaGld6Et",
        "outputId": "93784f7a-bbe3-470a-e58b-a794186c5622"
      },
      "execution_count": 12,
      "outputs": [
        {
          "output_type": "stream",
          "name": "stdout",
          "text": [
            "0\n",
            "1\n",
            "2\n"
          ]
        }
      ]
    },
    {
      "cell_type": "markdown",
      "source": [
        "Why we aren't using list, the reason is: if we use the lists instead of the generator then it will store 50000000000000000000000 values this is beyond the memory some how. Where as the generator will not store, it always keep generating and removing from the memeory so there will be no memory issue.\n",
        "\n",
        "This is the biggest benefit for using the generator.\n",
        "\n",
        "- **Generator:** On fly execution (Mauke pe)\n",
        "- **Lists:** I will store and then I will do execution"
      ],
      "metadata": {
        "id": "NSr0couleO51"
      }
    },
    {
      "cell_type": "markdown",
      "source": [
        "Key Points:\n",
        "- yield Keyword - Suspends function execution, remembers its state, and resumes from where it left off.\n",
        "- Memory-Efficient - Stores only the current value instead of the entire sequence.\n",
        "- Iterators - Generators are iterators by default, so they can be used in loops like for.\n",
        "- Lazy Evaluation - Values are produced on-demand, making them ideal for large data processing.\n"
      ],
      "metadata": {
        "id": "x_G2VZ5ee7OT"
      }
    },
    {
      "cell_type": "markdown",
      "source": [
        "### Difference Between Generator and Function:\n",
        "- Function: Returns a single value using return.\n",
        "- Generator: Produces multiple values using yield, maintaining its state between calls."
      ],
      "metadata": {
        "id": "QLkjqjvpfGEp"
      }
    },
    {
      "cell_type": "markdown",
      "source": [
        "## Benefits:\n",
        "- Memory Efficiency\n",
        "- Faster Execution\n",
        "- Lazy Evaluation\n",
        "- Simplified Code\n",
        "- Pipelining Data Processing\n",
        "- Infinite Sequences\n",
        "- Iterator by Default\n",
        "- Improved Readability"
      ],
      "metadata": {
        "id": "K33QEIMNfUUy"
      }
    },
    {
      "cell_type": "markdown",
      "source": [
        "Generators are mostly used in Complex Computation."
      ],
      "metadata": {
        "id": "4fy2he3pfkF2"
      }
    }
  ]
}