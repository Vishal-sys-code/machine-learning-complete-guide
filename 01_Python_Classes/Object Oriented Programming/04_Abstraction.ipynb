{
  "nbformat": 4,
  "nbformat_minor": 0,
  "metadata": {
    "colab": {
      "provenance": []
    },
    "kernelspec": {
      "name": "python3",
      "display_name": "Python 3"
    },
    "language_info": {
      "name": "python"
    }
  },
  "cells": [
    {
      "cell_type": "markdown",
      "source": [
        "# Abstraction\n",
        "Abstraction is a fundamental concept in OOP that is used to **hide the implementation** details and show only the **essential features** of an object.\n",
        "\n",
        "It focuses on what an object does rather than how it does it.\n",
        "\n",
        "In python, Abstraction is implemented using abstract classes and abstract methods, which are provided by the Abstract Base Class(`abc`) module.\n",
        "\n",
        "### **Key Features**\n",
        "- It allows you to define a blueprint for other classes\n",
        "- Abstract methods in the parent class must be implemented in the child class.\n",
        "- Promotes code reusability and flexibility by defining common behavior.\n"
      ],
      "metadata": {
        "id": "7wh5kCIanSYY"
      }
    },
    {
      "cell_type": "markdown",
      "source": [
        "- **Abstract Class**: A class the cannot be instantiated directly. It provides a template for subclasses. This class must contain one Abstract Method.\n",
        "\n",
        "- **Abstract Method**: A method declared without implementation, which must be implemented in the derived class.\n",
        "\n",
        "**NOTE:** Till now you have made most of the functions that is called the concrete methods."
      ],
      "metadata": {
        "id": "JYTdmWv3pFDy"
      }
    },
    {
      "cell_type": "markdown",
      "source": [
        "To create a abstract class follow this rules:\n",
        "- Inherit from ABC class.\n",
        "- Atleast one abstract method."
      ],
      "metadata": {
        "id": "uHLNSDKBqOJE"
      }
    },
    {
      "cell_type": "code",
      "execution_count": 1,
      "metadata": {
        "colab": {
          "base_uri": "https://localhost:8080/"
        },
        "id": "cOxl1xL3lPyX",
        "outputId": "596564d4-a44c-4e48-b675-ff7f3b883e9b"
      },
      "outputs": [
        {
          "output_type": "stream",
          "name": "stdout",
          "text": [
            "MOBILE SECURITY CHECK .....\n",
            "WEB SECURITY CHECK .....\n"
          ]
        }
      ],
      "source": [
        "from abc import ABC, abstractmethod\n",
        "class BankApp(ABC):\n",
        "  def database(self):\n",
        "    print(\"CONNECTED TO DATABASE ......\")\n",
        "  @abstractmethod\n",
        "  def security(self):\n",
        "    pass\n",
        "\n",
        "# Making the Mobile Application\n",
        "\"\"\"\n",
        "To access the DB from the BankApp we need to add the code of the security\n",
        "method in our mobile application. Because if we dont put the method of the\n",
        "security in our mobile application after creating the object it will\n",
        "throw an error. So for this reason, we have added a security method in Mobile\n",
        "Application class.\n",
        "\"\"\"\n",
        "class MobileApplication(BankApp):\n",
        "  def mobile_login(self):\n",
        "    print(\"LOGIN INTO MOBILE ......\")\n",
        "  def security(self):\n",
        "    print(\"MOBILE SECURITY CHECK .....\")\n",
        "\n",
        "class WebApplication(BankApp):\n",
        "  def mobile_login(self):\n",
        "    print(\"LOGIN INTO WEBPAGE ......\")\n",
        "  def security(self):\n",
        "    print(\"WEB SECURITY CHECK .....\")\n",
        "\n",
        "android_app = MobileApplication()\n",
        "android_app.security()\n",
        "safari_app = WebApplication()\n",
        "safari_app.security()"
      ]
    },
    {
      "cell_type": "markdown",
      "source": [
        "**NOTE:** We cannot make an object of the Abstract Class."
      ],
      "metadata": {
        "id": "TkiHrc4NsFVY"
      }
    }
  ]
}