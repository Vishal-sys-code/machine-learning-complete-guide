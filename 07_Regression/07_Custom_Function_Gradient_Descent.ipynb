{
  "nbformat": 4,
  "nbformat_minor": 0,
  "metadata": {
    "colab": {
      "provenance": []
    },
    "kernelspec": {
      "name": "python3",
      "display_name": "Python 3"
    },
    "language_info": {
      "name": "python"
    }
  },
  "cells": [
    {
      "cell_type": "code",
      "execution_count": 1,
      "metadata": {
        "id": "IiDADv3jwiNZ"
      },
      "outputs": [],
      "source": [
        "from sklearn.datasets import make_regression\n",
        "import matplotlib.pyplot as plt\n",
        "import numpy as np\n",
        "from sklearn.linear_model import LinearRegression"
      ]
    },
    {
      "cell_type": "code",
      "source": [
        "X,y = make_regression(n_samples = 100, n_features = 1, n_informative = 1, n_targets = 1, noise = 20)"
      ],
      "metadata": {
        "id": "PE3KVcKFw468"
      },
      "execution_count": 2,
      "outputs": []
    },
    {
      "cell_type": "code",
      "source": [
        "plt.scatter(X,y)"
      ],
      "metadata": {
        "colab": {
          "base_uri": "https://localhost:8080/",
          "height": 447
        },
        "id": "gg1t6-WbxEw2",
        "outputId": "f75dfee2-32f6-4412-beec-5d4e018aadbb"
      },
      "execution_count": 3,
      "outputs": [
        {
          "output_type": "execute_result",
          "data": {
            "text/plain": [
              "<matplotlib.collections.PathCollection at 0x7ee147cf29b0>"
            ]
          },
          "metadata": {},
          "execution_count": 3
        },
        {
          "output_type": "display_data",
          "data": {
            "text/plain": [
              "<Figure size 640x480 with 1 Axes>"
            ],
            "image/png": "[encoded data removed]"
          },
          "metadata": {}
        }
      ]
    },
    {
      "cell_type": "markdown",
      "source": [
        "# Using scikit Linear Regression"
      ],
      "metadata": {
        "id": "VUJRhepExMOP"
      }
    },
    {
      "cell_type": "code",
      "source": [
        "linear_regression = LinearRegression()\n",
        "linear_regression.fit(X, y)\n",
        "print(\"Slope is: \", linear_regression.coef_)\n",
        "print(\"Intercept is: \", linear_regression.intercept_)"
      ],
      "metadata": {
        "colab": {
          "base_uri": "https://localhost:8080/"
        },
        "id": "EpeW9SHWxKPO",
        "outputId": "11eb3c2e-e5ae-4c6e-d782-cd55f7b9928b"
      },
      "execution_count": 4,
      "outputs": [
        {
          "output_type": "stream",
          "name": "stdout",
          "text": [
            "Slope is:  [75.35650132]\n",
            "Intercept is:  0.7400909368167649\n"
          ]
        }
      ]
    },
    {
      "cell_type": "markdown",
      "source": [
        "# Creating our own Gradient Descent Regressor"
      ],
      "metadata": {
        "id": "jlmrL6zrxpfs"
      }
    },
    {
      "cell_type": "code",
      "source": [
        "slope = 67.16168134"
      ],
      "metadata": {
        "id": "pDdBoFfUxg0Y"
      },
      "execution_count": 5,
      "outputs": []
    },
    {
      "cell_type": "code",
      "source": [
        "class GradientDescentRegressor:\n",
        "  def __init__(self, learning_rate, epochs):\n",
        "    self.slope = 67.16168134\n",
        "    self.intercept = -120\n",
        "    self.lr = learning_rate\n",
        "    self.epochs = epochs\n",
        "  def fit(self, X, y):\n",
        "    # Calculating the intercept using Gradient Descent\n",
        "    for i in range(self.epochs):\n",
        "      loss_slope = -2 * np.sum(y - self.slope * X.ravel() - self.intercept)\n",
        "      self.intercept = self.intercept - (self.lr * loss_slope)\n",
        "      print(f\"Loss in the slope: {loss_slope} and the intercept: {self.intercept}\")\n",
        "    print(\"Final Intercept: \", self.intercept)"
      ],
      "metadata": {
        "id": "5QQOrc7kxwxP"
      },
      "execution_count": 6,
      "outputs": []
    },
    {
      "cell_type": "code",
      "source": [
        "gradient_descent = GradientDescentRegressor(0.001, 100)\n",
        "gradient_descent.fit(X,y)"
      ],
      "metadata": {
        "colab": {
          "base_uri": "https://localhost:8080/"
        },
        "id": "eCXkocfIyLZr",
        "outputId": "a6c95a2f-b75a-4f17-dae8-18b43a8024d7"
      },
      "execution_count": 7,
      "outputs": [
        {
          "output_type": "stream",
          "name": "stdout",
          "text": [
            "Loss in the slope: -24168.67839787288 and the intercept: -95.83132160212712\n",
            "Loss in the slope: -19334.94271829831 and the intercept: -76.49637888382881\n",
            "Loss in the slope: -15467.95417463864 and the intercept: -61.02842470919017\n",
            "Loss in the slope: -12374.363339710917 and the intercept: -48.65406136947925\n",
            "Loss in the slope: -9899.490671768732 and the intercept: -38.75457069771052\n",
            "Loss in the slope: -7919.592537414986 and the intercept: -30.834978160295535\n",
            "Loss in the slope: -6335.674029931988 and the intercept: -24.499304130363548\n",
            "Loss in the slope: -5068.539223945591 and the intercept: -19.430764906417956\n",
            "Loss in the slope: -4054.8313791564724 and the intercept: -15.375933527261484\n",
            "Loss in the slope: -3243.8651033251786 and the intercept: -12.132068423936305\n",
            "Loss in the slope: -2595.092082660143 and the intercept: -9.536976341276162\n",
            "Loss in the slope: -2076.0736661281135 and the intercept: -7.4609026751480485\n",
            "Loss in the slope: -1660.8589329024912 and the intercept: -5.800043742245557\n",
            "Loss in the slope: -1328.6871463219927 and the intercept: -4.471356595923565\n",
            "Loss in the slope: -1062.9497170575949 and the intercept: -3.40840687886597\n",
            "Loss in the slope: -850.3597736460756 and the intercept: -2.5580471052198943\n",
            "Loss in the slope: -680.2878189168604 and the intercept: -1.877759286303034\n",
            "Loss in the slope: -544.2302551334882 and the intercept: -1.3335290311695456\n",
            "Loss in the slope: -435.38420410679095 and the intercept: -0.8981448270627546\n",
            "Loss in the slope: -348.3073632854323 and the intercept: -0.5498374637773222\n",
            "Loss in the slope: -278.6458906283461 and the intercept: -0.27119157314897613\n",
            "Loss in the slope: -222.91671250267672 and the intercept: -0.048274860646299406\n",
            "Loss in the slope: -178.33337000214158 and the intercept: 0.13005850935584218\n",
            "Loss in the slope: -142.6666960017133 and the intercept: 0.2727252053575555\n",
            "Loss in the slope: -114.13335680137041 and the intercept: 0.38685856215892594\n",
            "Loss in the slope: -91.30668544109622 and the intercept: 0.47816524760002216\n",
            "Loss in the slope: -73.04534835287704 and the intercept: 0.5512105959528992\n",
            "Loss in the slope: -58.43627868230176 and the intercept: 0.609646874635201\n",
            "Loss in the slope: -46.74902294584143 and the intercept: 0.6563958975810424\n",
            "Loss in the slope: -37.399218356673096 and the intercept: 0.6937951159377156\n",
            "Loss in the slope: -29.919374685338454 and the intercept: 0.723714490623054\n",
            "Loss in the slope: -23.935499748271035 and the intercept: 0.7476499903713251\n",
            "Loss in the slope: -19.14839979861653 and the intercept: 0.7667983901699416\n",
            "Loss in the slope: -15.31871983889345 and the intercept: 0.782117110008835\n",
            "Loss in the slope: -12.254975871114787 and the intercept: 0.7943720858799498\n",
            "Loss in the slope: -9.80398069689165 and the intercept: 0.8041760665768415\n",
            "Loss in the slope: -7.84318455751329 and the intercept: 0.8120192511343548\n",
            "Loss in the slope: -6.274547646010653 and the intercept: 0.8182937987803655\n",
            "Loss in the slope: -5.019638116808345 and the intercept: 0.8233134368971738\n",
            "Loss in the slope: -4.0157104934468535 and the intercept: 0.8273291473906207\n",
            "Loss in the slope: -3.212568394757433 and the intercept: 0.8305417157853782\n",
            "Loss in the slope: -2.5700547158058313 and the intercept: 0.833111770501184\n",
            "Loss in the slope: -2.05604377264482 and the intercept: 0.8351678142738288\n",
            "Loss in the slope: -1.6448350181158489 and the intercept: 0.8368126492919447\n",
            "Loss in the slope: -1.315868014492942 and the intercept: 0.8381285173064376\n",
            "Loss in the slope: -1.052694411594139 and the intercept: 0.8391812117180317\n",
            "Loss in the slope: -0.8421555292751961 and the intercept: 0.840023367247307\n",
            "Loss in the slope: -0.6737244234202464 and the intercept: 0.8406970916707273\n",
            "Loss in the slope: -0.5389795387362213 and the intercept: 0.8412360712094635\n",
            "Loss in the slope: -0.43118363098874113 and the intercept: 0.8416672548404522\n",
            "Loss in the slope: -0.34494690479113643 and the intercept: 0.8420122017452434\n",
            "Loss in the slope: -0.2759575238329077 and the intercept: 0.8422881592690763\n",
            "Loss in the slope: -0.22076601906635318 and the intercept: 0.8425089252881427\n",
            "Loss in the slope: -0.1766128152529589 and the intercept: 0.8426855381033956\n",
            "Loss in the slope: -0.14129025220243108 and the intercept: 0.8428268283555981\n",
            "Loss in the slope: -0.11303220176200313 and the intercept: 0.84293986055736\n",
            "Loss in the slope: -0.0904257614095556 and the intercept: 0.8430302863187696\n",
            "Loss in the slope: -0.07234060912761464 and the intercept: 0.8431026269278973\n",
            "Loss in the slope: -0.05787248730211303 and the intercept: 0.8431604994151994\n",
            "Loss in the slope: -0.04629798984185385 and the intercept: 0.8432067974050413\n",
            "Loss in the slope: -0.037038391873231546 and the intercept: 0.8432438357969145\n",
            "Loss in the slope: -0.02963071349881119 and the intercept: 0.8432734665104133\n",
            "Loss in the slope: -0.02370457079904753 and the intercept: 0.8432971710812124\n",
            "Loss in the slope: -0.018963656639265025 and the intercept: 0.8433161347378516\n",
            "Loss in the slope: -0.015170925311331018 and the intercept: 0.843331305663163\n",
            "Loss in the slope: -0.012136740248969602 and the intercept: 0.843343442403412\n",
            "Loss in the slope: -0.009709392199361844 and the intercept: 0.8433531517956113\n",
            "Loss in the slope: -0.007767513759382894 and the intercept: 0.8433609193093707\n",
            "Loss in the slope: -0.006214011007436682 and the intercept: 0.8433671333203782\n",
            "Loss in the slope: -0.0049712088060189785 and the intercept: 0.8433721045291842\n",
            "Loss in the slope: -0.003976967044700075 and the intercept: 0.8433760814962289\n",
            "Loss in the slope: -0.003181573635792745 and the intercept: 0.8433792630698647\n",
            "Loss in the slope: -0.0025452589088743593 and the intercept: 0.8433818083287735\n",
            "Loss in the slope: -0.002036207127140699 and the intercept: 0.8433838445359007\n",
            "Loss in the slope: -0.0016289657015207126 and the intercept: 0.8433854735016022\n",
            "Loss in the slope: -0.0013031725611014622 and the intercept: 0.8433867766741633\n",
            "Loss in the slope: -0.0010425380489138547 and the intercept: 0.8433878192122122\n",
            "Loss in the slope: -0.0008340304393712472 and the intercept: 0.8433886532426516\n",
            "Loss in the slope: -0.0006672243512113596 and the intercept: 0.8433893204670028\n",
            "Loss in the slope: -0.0005337794808824015 and the intercept: 0.8433898542464836\n",
            "Loss in the slope: -0.000427023584869346 and the intercept: 0.8433902812700684\n",
            "Loss in the slope: -0.0003416188679423726 and the intercept: 0.8433906228889364\n",
            "Loss in the slope: -0.00027329509423879017 and the intercept: 0.8433908961840306\n",
            "Loss in the slope: -0.0002186360754237171 and the intercept: 0.8433911148201061\n",
            "Loss in the slope: -0.00017490886026649832 and the intercept: 0.8433912897289664\n",
            "Loss in the slope: -0.0001399270884050452 and the intercept: 0.8433914296560547\n",
            "Loss in the slope: -0.00011194167085903928 and the intercept: 0.8433915415977256\n",
            "Loss in the slope: -8.955333655791264e-05 and the intercept: 0.8433916311510621\n",
            "Loss in the slope: -7.164266914827522e-05 and the intercept: 0.8433917027937312\n",
            "Loss in the slope: -5.73141353257256e-05 and the intercept: 0.8433917601078665\n",
            "Loss in the slope: -4.585130849221741e-05 and the intercept: 0.8433918059591751\n",
            "Loss in the slope: -3.668104681509021e-05 and the intercept: 0.8433918426402219\n",
            "Loss in the slope: -2.9344837095379717e-05 and the intercept: 0.843391871985059\n",
            "Loss in the slope: -2.347586961803927e-05 and the intercept: 0.8433918954609286\n",
            "Loss in the slope: -1.8780696102282946e-05 and the intercept: 0.8433919142416247\n",
            "Loss in the slope: -1.5024556880405271e-05 and the intercept: 0.8433919292661817\n",
            "Loss in the slope: -1.2019645147631763e-05 and the intercept: 0.8433919412858268\n",
            "Loss in the slope: -9.615716059840906e-06 and the intercept: 0.843391950901543\n",
            "Loss in the slope: -7.69257302835058e-06 and the intercept: 0.843391958594116\n",
            "Loss in the slope: -6.154058347362934e-06 and the intercept: 0.8433919647481743\n",
            "Final Intercept:  0.8433919647481743\n"
          ]
        }
      ]
    }
  ]
}