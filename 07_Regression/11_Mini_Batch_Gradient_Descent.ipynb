{
  "nbformat": 4,
  "nbformat_minor": 0,
  "metadata": {
    "colab": {
      "provenance": []
    },
    "kernelspec": {
      "name": "python3",
      "display_name": "Python 3"
    },
    "language_info": {
      "name": "python"
    }
  },
  "cells": [
    {
      "cell_type": "code",
      "execution_count": 1,
      "metadata": {
        "id": "FbyojW4_lCq7"
      },
      "outputs": [],
      "source": [
        "from sklearn.datasets import load_diabetes\n",
        "import numpy as np\n",
        "from sklearn.linear_model import LinearRegression\n",
        "from sklearn.metrics import r2_score\n",
        "from sklearn.model_selection import train_test_split"
      ]
    },
    {
      "cell_type": "code",
      "source": [
        "X,y = load_diabetes(return_X_y = True)"
      ],
      "metadata": {
        "id": "4x9b7sixlSE3"
      },
      "execution_count": 2,
      "outputs": []
    },
    {
      "cell_type": "code",
      "source": [
        "print(X.shape)\n",
        "print(y.shape)"
      ],
      "metadata": {
        "colab": {
          "base_uri": "https://localhost:8080/"
        },
        "id": "Mwzkxzf-lWOl",
        "outputId": "eef457a8-3c8e-4a56-f8ed-82f6330a593a"
      },
      "execution_count": 3,
      "outputs": [
        {
          "output_type": "stream",
          "name": "stdout",
          "text": [
            "(442, 10)\n",
            "(442,)\n"
          ]
        }
      ]
    },
    {
      "cell_type": "code",
      "source": [
        "X_train, X_test, y_train, y_test = train_test_split(X,y, test_size=0.2, random_state=2)\n",
        "print(X_train.shape[0])\n",
        "print(X_train.shape[1])"
      ],
      "metadata": {
        "colab": {
          "base_uri": "https://localhost:8080/"
        },
        "id": "AqATsfaPlZaB",
        "outputId": "67c0cc6c-44f5-4abd-9fab-80e0b03dca4b"
      },
      "execution_count": 4,
      "outputs": [
        {
          "output_type": "stream",
          "name": "stdout",
          "text": [
            "353\n",
            "10\n"
          ]
        }
      ]
    },
    {
      "cell_type": "code",
      "source": [
        "linreg = LinearRegression()\n",
        "linreg.fit(X_train, y_train)\n",
        "print(\"Coefficients: \", linreg.coef_)\n",
        "print()\n",
        "print(\"Intercept: \",linreg.intercept_)"
      ],
      "metadata": {
        "colab": {
          "base_uri": "https://localhost:8080/"
        },
        "id": "5TcmB92ylnzd",
        "outputId": "ae4f188f-8a45-4e22-cb47-0bb445bc93ff"
      },
      "execution_count": 5,
      "outputs": [
        {
          "output_type": "stream",
          "name": "stdout",
          "text": [
            "Coefficients:  [  -9.15865318 -205.45432163  516.69374454  340.61999905 -895.5520019\n",
            "  561.22067904  153.89310954  126.73139688  861.12700152   52.42112238]\n",
            "\n",
            "Intercept:  151.88331005254167\n"
          ]
        }
      ]
    },
    {
      "cell_type": "code",
      "source": [
        "y_pred = linreg.predict(X_test)\n",
        "print(\"R2 Score: \",r2_score(y_test,y_pred))"
      ],
      "metadata": {
        "colab": {
          "base_uri": "https://localhost:8080/"
        },
        "id": "zJIhh1UCl3Uq",
        "outputId": "49f04b50-22ba-4c29-f35b-2c39e40133e3"
      },
      "execution_count": 6,
      "outputs": [
        {
          "output_type": "stream",
          "name": "stdout",
          "text": [
            "R2 Score:  0.4399338661568968\n"
          ]
        }
      ]
    },
    {
      "cell_type": "markdown",
      "source": [
        "# Custom Mini Batch Gradient Regressor"
      ],
      "metadata": {
        "id": "GOk2ybBDm97t"
      }
    },
    {
      "cell_type": "code",
      "source": [
        "import random\n",
        "random.sample(range(1, 100), 10)"
      ],
      "metadata": {
        "colab": {
          "base_uri": "https://localhost:8080/"
        },
        "id": "whlJ7fVzofNc",
        "outputId": "050f94ba-6270-4976-fa88-75cd70dd22dd"
      },
      "execution_count": 7,
      "outputs": [
        {
          "output_type": "execute_result",
          "data": {
            "text/plain": [
              "[24, 50, 94, 33, 46, 81, 74, 72, 79, 97]"
            ]
          },
          "metadata": {},
          "execution_count": 7
        }
      ]
    },
    {
      "cell_type": "code",
      "source": [
        "# No of batches = Total Number of Rows / Batch Size = X_train.shape[0]/batch_size\n",
        "class MiniBatchGradientRegression:\n",
        "  def __init__(self, learning_rate, epochs, batch_size):\n",
        "    self.coefficient = None\n",
        "    self.intercept = None\n",
        "    self.learning_rate = learning_rate\n",
        "    self.epochs = epochs\n",
        "    self.batch_size = batch_size\n",
        "  def fit(self, X_train, y_train):\n",
        "    self.intercept = 0\n",
        "    self.coefficient = np.ones(X_train.shape[1])\n",
        "    for i in range(self.epochs):\n",
        "      for j in range(int(X_train.shape[0]/self.batch_size)):\n",
        "        idx = random.sample(range(X_train.shape[0]), self.batch_size)\n",
        "        y_hat = np.dot(X_train[idx], self.coefficient) + self.intercept\n",
        "        loss_slope_with_respect_to_intercept = -2 * np.mean(y_train[idx] - y_hat)\n",
        "        self.intercept = self.intercept - self.learning_rate * loss_slope_with_respect_to_intercept\n",
        "        loss_slope_with_respect_to_coefficient = -2 * np.dot((y_train[idx] - y_hat), X_train[idx])\n",
        "        self.coefficient = self.coefficient - self.learning_rate * loss_slope_with_respect_to_coefficient\n",
        "    print(\"Intercept: \", self.intercept)\n",
        "    print(\"Coefficients: \", self.coefficient)\n",
        "  def predict(self, X_test):\n",
        "    y_pred = np.dot(X_test, self.coefficient) + self.intercept\n",
        "    return y_pred"
      ],
      "metadata": {
        "id": "tFmwSdLjmPoG"
      },
      "execution_count": 8,
      "outputs": []
    },
    {
      "cell_type": "code",
      "source": [
        "mbgd = MiniBatchGradientRegression(learning_rate = 0.01, epochs = 50, batch_size = int(X_train.shape[0]/10))\n",
        "mbgd.fit(X_train, y_train)"
      ],
      "metadata": {
        "colab": {
          "base_uri": "https://localhost:8080/"
        },
        "id": "Uo-Kg78VpLAk",
        "outputId": "a080d8eb-fadf-4f72-d03d-6facdd65a85f"
      },
      "execution_count": 9,
      "outputs": [
        {
          "output_type": "stream",
          "name": "stdout",
          "text": [
            "Intercept:  149.30167300160383\n",
            "Coefficients:  [  59.65032189  -66.4497961   345.56217987  248.87462291   22.60648971\n",
            "  -25.65345849 -171.76767094  129.01618313  322.48717345  143.91119415]\n"
          ]
        }
      ]
    },
    {
      "cell_type": "code",
      "source": [
        "y_pred = mbgd.predict(X_test)\n",
        "print(\"R2 Score: \",r2_score(y_test,y_pred))"
      ],
      "metadata": {
        "colab": {
          "base_uri": "https://localhost:8080/"
        },
        "id": "ujCsEZIfpftj",
        "outputId": "1bd7d02a-c5a1-471c-bf8f-52c8cbcccbb2"
      },
      "execution_count": 10,
      "outputs": [
        {
          "output_type": "stream",
          "name": "stdout",
          "text": [
            "R2 Score:  0.43026342977225884\n"
          ]
        }
      ]
    },
    {
      "cell_type": "markdown",
      "source": [
        "# Sklearn Mini Batch Gradient Descent"
      ],
      "metadata": {
        "id": "6jdYf8llpzg4"
      }
    },
    {
      "cell_type": "code",
      "source": [
        "from sklearn.linear_model import SGDRegressor\n",
        "sgd = SGDRegressor(learning_rate = 'constant', eta0= 0.2)\n",
        "batch_size = 35\n",
        "for i in range(100):\n",
        "  idx = random.sample(range(X_train.shape[0]),batch_size)\n",
        "  sgd.partial_fit(X_train[idx], y_train[idx])"
      ],
      "metadata": {
        "id": "YWnxPMtAp63F"
      },
      "execution_count": 11,
      "outputs": []
    },
    {
      "cell_type": "code",
      "source": [
        "print(\"Coefficients: \", sgd.coef_)\n",
        "print()\n",
        "print(\"Intercept: \",sgd.intercept_)"
      ],
      "metadata": {
        "colab": {
          "base_uri": "https://localhost:8080/"
        },
        "id": "TVjYqGwuqVpU",
        "outputId": "406e946c-b750-41e5-a903-dd4a1b83d504"
      },
      "execution_count": 12,
      "outputs": [
        {
          "output_type": "stream",
          "name": "stdout",
          "text": [
            "Coefficients:  [  31.10190442 -135.28678907  462.30519223  298.88472825  -31.90616642\n",
            "  -94.25544288 -196.91246469  104.09202823  407.89661811  100.33325496]\n",
            "\n",
            "Intercept:  [130.26026968]\n"
          ]
        }
      ]
    },
    {
      "cell_type": "code",
      "source": [
        "y_pred = sgd.predict(X_test)\n",
        "print(\"R2 Score: \",r2_score(y_test,y_pred))"
      ],
      "metadata": {
        "id": "wvzk2PQkqe79",
        "outputId": "e16776e5-70b8-46c8-dd93-e2c7a63058eb",
        "colab": {
          "base_uri": "https://localhost:8080/"
        }
      },
      "execution_count": 13,
      "outputs": [
        {
          "output_type": "stream",
          "name": "stdout",
          "text": [
            "R2 Score:  0.36461282787041804\n"
          ]
        }
      ]
    }
  ]
}