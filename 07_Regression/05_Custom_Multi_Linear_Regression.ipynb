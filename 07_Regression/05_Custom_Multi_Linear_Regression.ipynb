{
  "nbformat": 4,
  "nbformat_minor": 0,
  "metadata": {
    "colab": {
      "provenance": []
    },
    "kernelspec": {
      "name": "python3",
      "display_name": "Python 3"
    },
    "language_info": {
      "name": "python"
    }
  },
  "cells": [
    {
      "cell_type": "code",
      "execution_count": 1,
      "metadata": {
        "id": "Z6HlLZYibx5x"
      },
      "outputs": [],
      "source": [
        "import numpy as np\n",
        "from sklearn.datasets import load_diabetes\n",
        "from sklearn.model_selection import train_test_split\n",
        "from sklearn.linear_model import LinearRegression\n",
        "from sklearn.metrics import r2_score"
      ]
    },
    {
      "cell_type": "code",
      "source": [
        "X,y = load_diabetes(return_X_y = True)"
      ],
      "metadata": {
        "id": "tIYkK412cPbG"
      },
      "execution_count": 2,
      "outputs": []
    },
    {
      "cell_type": "code",
      "source": [
        "print(\"Input Columns: \")\n",
        "print(X)\n",
        "print()\n",
        "print(\"Shape of the Input columns: \", X.shape)"
      ],
      "metadata": {
        "colab": {
          "base_uri": "https://localhost:8080/"
        },
        "id": "Oiv2fjvZcgDo",
        "outputId": "04bc75dd-01b2-4223-f535-e54e223ff8a3"
      },
      "execution_count": 3,
      "outputs": [
        {
          "output_type": "stream",
          "name": "stdout",
          "text": [
            "Input Columns: \n",
            "[[ 0.03807591  0.05068012  0.06169621 ... -0.00259226  0.01990749\n",
            "  -0.01764613]\n",
            " [-0.00188202 -0.04464164 -0.05147406 ... -0.03949338 -0.06833155\n",
            "  -0.09220405]\n",
            " [ 0.08529891  0.05068012  0.04445121 ... -0.00259226  0.00286131\n",
            "  -0.02593034]\n",
            " ...\n",
            " [ 0.04170844  0.05068012 -0.01590626 ... -0.01107952 -0.04688253\n",
            "   0.01549073]\n",
            " [-0.04547248 -0.04464164  0.03906215 ...  0.02655962  0.04452873\n",
            "  -0.02593034]\n",
            " [-0.04547248 -0.04464164 -0.0730303  ... -0.03949338 -0.00422151\n",
            "   0.00306441]]\n",
            "\n",
            "Shape of the Input columns:  (442, 10)\n"
          ]
        }
      ]
    },
    {
      "cell_type": "code",
      "source": [
        "print(\"Output Columns: \")\n",
        "print(y)\n",
        "print()\n",
        "print(\"Shape of the Input columns: \", y.shape)"
      ],
      "metadata": {
        "colab": {
          "base_uri": "https://localhost:8080/"
        },
        "id": "JH9wgG_pctrG",
        "outputId": "0dc37fd3-00a0-49b2-ff9c-7ed20cd4c04e"
      },
      "execution_count": 4,
      "outputs": [
        {
          "output_type": "stream",
          "name": "stdout",
          "text": [
            "Output Columns: \n",
            "[151.  75. 141. 206. 135.  97. 138.  63. 110. 310. 101.  69. 179. 185.\n",
            " 118. 171. 166. 144.  97. 168.  68.  49.  68. 245. 184. 202. 137.  85.\n",
            " 131. 283. 129.  59. 341.  87.  65. 102. 265. 276. 252.  90. 100.  55.\n",
            "  61.  92. 259.  53. 190. 142.  75. 142. 155. 225.  59. 104. 182. 128.\n",
            "  52.  37. 170. 170.  61. 144.  52. 128.  71. 163. 150.  97. 160. 178.\n",
            "  48. 270. 202. 111.  85.  42. 170. 200. 252. 113. 143.  51.  52. 210.\n",
            "  65. 141.  55. 134.  42. 111.  98. 164.  48.  96.  90. 162. 150. 279.\n",
            "  92.  83. 128. 102. 302. 198.  95.  53. 134. 144. 232.  81. 104.  59.\n",
            " 246. 297. 258. 229. 275. 281. 179. 200. 200. 173. 180.  84. 121. 161.\n",
            "  99. 109. 115. 268. 274. 158. 107.  83. 103. 272.  85. 280. 336. 281.\n",
            " 118. 317. 235.  60. 174. 259. 178. 128.  96. 126. 288.  88. 292.  71.\n",
            " 197. 186.  25.  84.  96. 195.  53. 217. 172. 131. 214.  59.  70. 220.\n",
            " 268. 152.  47.  74. 295. 101. 151. 127. 237. 225.  81. 151. 107.  64.\n",
            " 138. 185. 265. 101. 137. 143. 141.  79. 292. 178.  91. 116.  86. 122.\n",
            "  72. 129. 142.  90. 158.  39. 196. 222. 277.  99. 196. 202. 155.  77.\n",
            " 191.  70.  73.  49.  65. 263. 248. 296. 214. 185.  78.  93. 252. 150.\n",
            "  77. 208.  77. 108. 160.  53. 220. 154. 259.  90. 246. 124.  67.  72.\n",
            " 257. 262. 275. 177.  71.  47. 187. 125.  78.  51. 258. 215. 303. 243.\n",
            "  91. 150. 310. 153. 346.  63.  89.  50.  39. 103. 308. 116. 145.  74.\n",
            "  45. 115. 264.  87. 202. 127. 182. 241.  66.  94. 283.  64. 102. 200.\n",
            " 265.  94. 230. 181. 156. 233.  60. 219.  80.  68. 332. 248.  84. 200.\n",
            "  55.  85.  89.  31. 129.  83. 275.  65. 198. 236. 253. 124.  44. 172.\n",
            " 114. 142. 109. 180. 144. 163. 147.  97. 220. 190. 109. 191. 122. 230.\n",
            " 242. 248. 249. 192. 131. 237.  78. 135. 244. 199. 270. 164.  72.  96.\n",
            " 306.  91. 214.  95. 216. 263. 178. 113. 200. 139. 139.  88. 148.  88.\n",
            " 243.  71.  77. 109. 272.  60.  54. 221.  90. 311. 281. 182. 321.  58.\n",
            " 262. 206. 233. 242. 123. 167.  63. 197.  71. 168. 140. 217. 121. 235.\n",
            " 245.  40.  52. 104. 132.  88.  69. 219.  72. 201. 110.  51. 277.  63.\n",
            " 118.  69. 273. 258.  43. 198. 242. 232. 175.  93. 168. 275. 293. 281.\n",
            "  72. 140. 189. 181. 209. 136. 261. 113. 131. 174. 257.  55.  84.  42.\n",
            " 146. 212. 233.  91. 111. 152. 120.  67. 310.  94. 183.  66. 173.  72.\n",
            "  49.  64.  48. 178. 104. 132. 220.  57.]\n",
            "\n",
            "Shape of the Input columns:  (442,)\n"
          ]
        }
      ]
    },
    {
      "cell_type": "markdown",
      "source": [
        "# Using the Sklearn Multi Linear Regression"
      ],
      "metadata": {
        "id": "spsG-pO4c9Yk"
      }
    },
    {
      "cell_type": "code",
      "source": [
        "X_train,X_test,y_train,y_test=train_test_split(X,y,test_size=0.2,random_state=2)"
      ],
      "metadata": {
        "id": "o2xGwX-mc7TD"
      },
      "execution_count": 5,
      "outputs": []
    },
    {
      "cell_type": "code",
      "source": [
        "print(\"Shape of X train: \", X_train.shape)\n",
        "print(\"Shape of X test: \", X_test.shape)"
      ],
      "metadata": {
        "colab": {
          "base_uri": "https://localhost:8080/"
        },
        "id": "O5bsgmy5dJra",
        "outputId": "d51a4625-9420-44db-b9a4-919409524ea2"
      },
      "execution_count": 6,
      "outputs": [
        {
          "output_type": "stream",
          "name": "stdout",
          "text": [
            "Shape of X train:  (353, 10)\n",
            "Shape of X test:  (89, 10)\n"
          ]
        }
      ]
    },
    {
      "cell_type": "code",
      "source": [
        "mul_reg = LinearRegression()\n",
        "mul_reg.fit(X_train, y_train)\n",
        "y_pred = mul_reg.predict(X_test)\n",
        "R2Score = r2_score(y_test, y_pred)\n",
        "print(\"R2 Score: \", R2Score)"
      ],
      "metadata": {
        "colab": {
          "base_uri": "https://localhost:8080/"
        },
        "id": "vIdP27HBdQ-9",
        "outputId": "b7b1bf0e-9577-4839-aaef-f5f74b62980a"
      },
      "execution_count": 7,
      "outputs": [
        {
          "output_type": "stream",
          "name": "stdout",
          "text": [
            "R2 Score:  0.4399338661568968\n"
          ]
        }
      ]
    },
    {
      "cell_type": "code",
      "source": [
        "print(\"Coefficients: \", mul_reg.coef_)\n",
        "print()\n",
        "print(\"Intercept: \", mul_reg.intercept_)"
      ],
      "metadata": {
        "colab": {
          "base_uri": "https://localhost:8080/"
        },
        "id": "PbYXUX0cdirv",
        "outputId": "f2281552-947d-4a00-e664-6c6d6d0c3903"
      },
      "execution_count": 8,
      "outputs": [
        {
          "output_type": "stream",
          "name": "stdout",
          "text": [
            "Coefficients:  [  -9.15865318 -205.45432163  516.69374454  340.61999905 -895.5520019\n",
            "  561.22067904  153.89310954  126.73139688  861.12700152   52.42112238]\n",
            "\n",
            "Intercept:  151.88331005254167\n"
          ]
        }
      ]
    },
    {
      "cell_type": "markdown",
      "source": [
        "# Making our own custom Multi Linear Regression"
      ],
      "metadata": {
        "id": "DEpfF0Kkd0P3"
      }
    },
    {
      "cell_type": "code",
      "source": [
        "class customMultiLinearRegression:\n",
        "\n",
        "  def __init__(self):\n",
        "    self.coefficient = None\n",
        "    self.intercept = None\n",
        "\n",
        "  def fit(self, X_train, X_test):\n",
        "    X_train = np.insert(X_train, 0, 1, axis = 1) # np.insert (array_name, array_index, value, axis)\n",
        "    # Calculating the coefficients\n",
        "    beta = np.linalg.inv(np.dot(X_train.T, X_train)).dot(X_train.T).dot(y_train)\n",
        "    self.intercept = beta[0]\n",
        "    self.coefficient = beta[1:]\n",
        "\n",
        "  def predict(self, X_test):\n",
        "    y_pred = np.dot(X_test, self.coefficient) + (self.intercept)\n",
        "    return y_pred"
      ],
      "metadata": {
        "id": "R1FsfuqRdu5W"
      },
      "execution_count": 9,
      "outputs": []
    },
    {
      "cell_type": "code",
      "source": [
        "multi_linear_regression = customMultiLinearRegression()\n",
        "multi_linear_regression.fit(X_train, y_train)\n",
        "y_pred = multi_linear_regression.predict(X_test)\n",
        "print(\"Predicted Values: \", y_pred)"
      ],
      "metadata": {
        "colab": {
          "base_uri": "https://localhost:8080/"
        },
        "id": "6c09Uc8WeP2w",
        "outputId": "1c2135cd-df04-4ddd-9fed-31aa0ee9926c"
      },
      "execution_count": 10,
      "outputs": [
        {
          "output_type": "stream",
          "name": "stdout",
          "text": [
            "Predicted Values:  [154.1213881  204.81835118 124.93755353 106.08950893 258.5348576\n",
            " 256.3310074  118.75087616 119.52440696 101.50816735 190.54048661\n",
            " 141.70656811 172.51883961 174.33861649 134.80942706 294.13994537\n",
            "  94.11798038 211.97059795 156.49579378 134.21000428 119.62664644\n",
            " 148.87842251 165.00873409 151.10021038 176.04063756 133.27769647\n",
            " 221.29555392 197.17324941  96.1577688   50.26012711 230.48580317\n",
            " 242.06073866 114.11129218  67.07532417  94.52943825 201.21415375\n",
            " 167.05136201 159.881268   192.78746659 114.49551325 233.48234551\n",
            " 140.82563045 121.0680409  192.27480772 191.12738845 179.16865788\n",
            " 148.34935601 163.47414622 276.81647884 100.17926432 164.10555298\n",
            " 255.80762189 136.9466204  152.37503699 107.92237882 194.21924678\n",
            "  77.34670792 118.50482479  68.38335763 154.29258529 162.48840259\n",
            " 168.36788326 156.87790322  97.14191797 238.1671215  145.46179904\n",
            " 117.65702433 168.88784311 198.38683887 118.24053714 124.64552812\n",
            " 223.17700368 200.63012386 129.54414666 158.1584765  154.332565\n",
            " 114.47070769  70.44906407  76.3973879  172.41584591  80.56270077\n",
            "  80.2722834   89.46150248 186.21572052 275.46275403 208.26784222\n",
            " 143.79451509 291.28766846 206.32474844  94.22935404]\n"
          ]
        }
      ]
    },
    {
      "cell_type": "code",
      "source": [
        "r2_score(y_test, y_pred)"
      ],
      "metadata": {
        "colab": {
          "base_uri": "https://localhost:8080/"
        },
        "id": "Eh4DaHdBeY-R",
        "outputId": "58a6649b-a548-4c9b-b1b8-6f84a35ed165"
      },
      "execution_count": 11,
      "outputs": [
        {
          "output_type": "execute_result",
          "data": {
            "text/plain": [
              "0.43993386615689634"
            ]
          },
          "metadata": {},
          "execution_count": 11
        }
      ]
    },
    {
      "cell_type": "code",
      "source": [
        "print(\"Coefficient: \", multi_linear_regression.coefficient)\n",
        "print()\n",
        "print(\"Intercept: \", multi_linear_regression.intercept)"
      ],
      "metadata": {
        "colab": {
          "base_uri": "https://localhost:8080/"
        },
        "id": "cPApthzihrMm",
        "outputId": "d6b64e12-e878-4fda-a389-1154cd021300"
      },
      "execution_count": 12,
      "outputs": [
        {
          "output_type": "stream",
          "name": "stdout",
          "text": [
            "Coefficient:  [  -9.15865318 -205.45432163  516.69374454  340.61999905 -895.5520019\n",
            "  561.22067904  153.89310954  126.73139688  861.12700152   52.42112238]\n",
            "\n",
            "Intercept:  151.88331005254165\n"
          ]
        }
      ]
    }
  ]
}