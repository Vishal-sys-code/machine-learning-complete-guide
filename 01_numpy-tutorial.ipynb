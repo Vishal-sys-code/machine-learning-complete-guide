{
 "cells": [
  {
   "cell_type": "markdown",
   "id": "14069a00",
   "metadata": {
    "papermill": {
     "duration": 0.013008,
     "end_time": "2024-10-26T06:44:35.706369",
     "exception": false,
     "start_time": "2024-10-26T06:44:35.693361",
     "status": "completed"
    },
    "tags": []
   },
   "source": [
    "# Numpy Tutorial\n",
    "Numpy = Numerical Python\n",
    "Advantages of Numpy Arrays:\n",
    "* Allows several mathematical operations\n",
    "* Faster Operations"
   ]
  },
  {
   "cell_type": "markdown",
   "id": "29dcecdc",
   "metadata": {
    "papermill": {
     "duration": 0.011604,
     "end_time": "2024-10-26T06:44:35.730533",
     "exception": false,
     "start_time": "2024-10-26T06:44:35.718929",
     "status": "completed"
    },
    "tags": []
   },
   "source": [
    "# Chapter 1: Importing the Numpy module"
   ]
  },
  {
   "cell_type": "code",
   "execution_count": 1,
   "id": "6873ae41",
   "metadata": {
    "_cell_guid": "b1076dfc-b9ad-4769-8c92-a6c4dae69d19",
    "_uuid": "8f2839f25d086af736a60e9eeb907d3b93b6e0e5",
    "execution": {
     "iopub.execute_input": "2024-10-26T06:44:35.756514Z",
     "iopub.status.busy": "2024-10-26T06:44:35.756034Z",
     "iopub.status.idle": "2024-10-26T06:44:35.768354Z",
     "shell.execute_reply": "2024-10-26T06:44:35.767208Z"
    },
    "papermill": {
     "duration": 0.028215,
     "end_time": "2024-10-26T06:44:35.770907",
     "exception": false,
     "start_time": "2024-10-26T06:44:35.742692",
     "status": "completed"
    },
    "tags": []
   },
   "outputs": [],
   "source": [
    "import numpy as np"
   ]
  },
  {
   "cell_type": "markdown",
   "id": "5d454366",
   "metadata": {
    "papermill": {
     "duration": 0.01172,
     "end_time": "2024-10-26T06:44:35.795859",
     "exception": false,
     "start_time": "2024-10-26T06:44:35.784139",
     "status": "completed"
    },
    "tags": []
   },
   "source": [
    "# Chapter 2: Time Taken"
   ]
  },
  {
   "cell_type": "code",
   "execution_count": 2,
   "id": "4912f57e",
   "metadata": {
    "execution": {
     "iopub.execute_input": "2024-10-26T06:44:35.822087Z",
     "iopub.status.busy": "2024-10-26T06:44:35.821654Z",
     "iopub.status.idle": "2024-10-26T06:44:35.826651Z",
     "shell.execute_reply": "2024-10-26T06:44:35.825571Z"
    },
    "papermill": {
     "duration": 0.020961,
     "end_time": "2024-10-26T06:44:35.828987",
     "exception": false,
     "start_time": "2024-10-26T06:44:35.808026",
     "status": "completed"
    },
    "tags": []
   },
   "outputs": [],
   "source": [
    "from time import process_time"
   ]
  },
  {
   "cell_type": "markdown",
   "id": "aa8fe998",
   "metadata": {
    "papermill": {
     "duration": 0.011664,
     "end_time": "2024-10-26T06:44:35.852695",
     "exception": false,
     "start_time": "2024-10-26T06:44:35.841031",
     "status": "completed"
    },
    "tags": []
   },
   "source": [
    "## Time taken by the list"
   ]
  },
  {
   "cell_type": "code",
   "execution_count": 3,
   "id": "ad837391",
   "metadata": {
    "execution": {
     "iopub.execute_input": "2024-10-26T06:44:35.878864Z",
     "iopub.status.busy": "2024-10-26T06:44:35.878078Z",
     "iopub.status.idle": "2024-10-26T06:44:35.886879Z",
     "shell.execute_reply": "2024-10-26T06:44:35.885746Z"
    },
    "papermill": {
     "duration": 0.024687,
     "end_time": "2024-10-26T06:44:35.889486",
     "exception": false,
     "start_time": "2024-10-26T06:44:35.864799",
     "status": "completed"
    },
    "tags": []
   },
   "outputs": [
    {
     "name": "stdout",
     "output_type": "stream",
     "text": [
      "Time taken by the lists:  0.0009517509999996676\n"
     ]
    }
   ],
   "source": [
    "python_list = [i for i in range(10000)]\n",
    "start_time = process_time()\n",
    "python_list = [i+5 for i in python_list]\n",
    "end_time = process_time()\n",
    "print(\"Time taken by the lists: \", end_time - start_time)"
   ]
  },
  {
   "cell_type": "markdown",
   "id": "805e73a7",
   "metadata": {
    "papermill": {
     "duration": 0.011854,
     "end_time": "2024-10-26T06:44:35.913670",
     "exception": false,
     "start_time": "2024-10-26T06:44:35.901816",
     "status": "completed"
    },
    "tags": []
   },
   "source": [
    "## Time taken by the numpy array"
   ]
  },
  {
   "cell_type": "code",
   "execution_count": 4,
   "id": "b1a049ef",
   "metadata": {
    "execution": {
     "iopub.execute_input": "2024-10-26T06:44:35.939669Z",
     "iopub.status.busy": "2024-10-26T06:44:35.939231Z",
     "iopub.status.idle": "2024-10-26T06:44:35.948659Z",
     "shell.execute_reply": "2024-10-26T06:44:35.947468Z"
    },
    "papermill": {
     "duration": 0.025237,
     "end_time": "2024-10-26T06:44:35.951081",
     "exception": false,
     "start_time": "2024-10-26T06:44:35.925844",
     "status": "completed"
    },
    "tags": []
   },
   "outputs": [
    {
     "name": "stdout",
     "output_type": "stream",
     "text": [
      "Time taken by numpy arrays:  0.0014097780000001947\n"
     ]
    }
   ],
   "source": [
    "np_array = np.array([i for i in range(10000)])\n",
    "start_time = process_time()\n",
    "np_array = np_array + 5 # np_array += 5\n",
    "end_time = process_time()\n",
    "print(\"Time taken by numpy arrays: \", end_time - start_time)"
   ]
  },
  {
   "cell_type": "markdown",
   "id": "dde51df7",
   "metadata": {
    "papermill": {
     "duration": 0.011956,
     "end_time": "2024-10-26T06:44:35.975372",
     "exception": false,
     "start_time": "2024-10-26T06:44:35.963416",
     "status": "completed"
    },
    "tags": []
   },
   "source": [
    "# Chapter 3: Numpy Arrays"
   ]
  },
  {
   "cell_type": "code",
   "execution_count": 5,
   "id": "91c03b78",
   "metadata": {
    "execution": {
     "iopub.execute_input": "2024-10-26T06:44:36.002976Z",
     "iopub.status.busy": "2024-10-26T06:44:36.001853Z",
     "iopub.status.idle": "2024-10-26T06:44:36.011503Z",
     "shell.execute_reply": "2024-10-26T06:44:36.010328Z"
    },
    "papermill": {
     "duration": 0.025862,
     "end_time": "2024-10-26T06:44:36.014134",
     "exception": false,
     "start_time": "2024-10-26T06:44:35.988272",
     "status": "completed"
    },
    "tags": []
   },
   "outputs": [
    {
     "name": "stdout",
     "output_type": "stream",
     "text": [
      "[1, 2, 3, 4, 5]\n"
     ]
    },
    {
     "data": {
      "text/plain": [
       "type"
      ]
     },
     "execution_count": 5,
     "metadata": {},
     "output_type": "execute_result"
    }
   ],
   "source": [
    "# list\n",
    "list1 = [1,2,3,4,5]\n",
    "print(list1)\n",
    "type(list)"
   ]
  },
  {
   "cell_type": "code",
   "execution_count": 6,
   "id": "d99a0940",
   "metadata": {
    "execution": {
     "iopub.execute_input": "2024-10-26T06:44:36.041388Z",
     "iopub.status.busy": "2024-10-26T06:44:36.040645Z",
     "iopub.status.idle": "2024-10-26T06:44:36.051522Z",
     "shell.execute_reply": "2024-10-26T06:44:36.050301Z"
    },
    "papermill": {
     "duration": 0.027396,
     "end_time": "2024-10-26T06:44:36.054061",
     "exception": false,
     "start_time": "2024-10-26T06:44:36.026665",
     "status": "completed"
    },
    "tags": []
   },
   "outputs": [
    {
     "name": "stdout",
     "output_type": "stream",
     "text": [
      "[1 2 3 4 5]\n"
     ]
    },
    {
     "data": {
      "text/plain": [
       "numpy.ndarray"
      ]
     },
     "execution_count": 6,
     "metadata": {},
     "output_type": "execute_result"
    }
   ],
   "source": [
    "# numpy array\n",
    "np_array = np.array([1,2,3,4,5])\n",
    "print(np_array)\n",
    "type(np_array)"
   ]
  },
  {
   "cell_type": "markdown",
   "id": "ddb85040",
   "metadata": {
    "papermill": {
     "duration": 0.013192,
     "end_time": "2024-10-26T06:44:36.080205",
     "exception": false,
     "start_time": "2024-10-26T06:44:36.067013",
     "status": "completed"
    },
    "tags": []
   },
   "source": [
    "## Creating a One dimensional Array"
   ]
  },
  {
   "cell_type": "code",
   "execution_count": 7,
   "id": "0bee2266",
   "metadata": {
    "execution": {
     "iopub.execute_input": "2024-10-26T06:44:36.108121Z",
     "iopub.status.busy": "2024-10-26T06:44:36.107713Z",
     "iopub.status.idle": "2024-10-26T06:44:36.116112Z",
     "shell.execute_reply": "2024-10-26T06:44:36.114848Z"
    },
    "papermill": {
     "duration": 0.02556,
     "end_time": "2024-10-26T06:44:36.118771",
     "exception": false,
     "start_time": "2024-10-26T06:44:36.093211",
     "status": "completed"
    },
    "tags": []
   },
   "outputs": [
    {
     "name": "stdout",
     "output_type": "stream",
     "text": [
      "[1 2 3 4]\n"
     ]
    },
    {
     "data": {
      "text/plain": [
       "(4,)"
      ]
     },
     "execution_count": 7,
     "metadata": {},
     "output_type": "execute_result"
    }
   ],
   "source": [
    "a = np.array([1,2,3,4])\n",
    "print(a)\n",
    "a.shape"
   ]
  },
  {
   "cell_type": "markdown",
   "id": "931795ff",
   "metadata": {
    "papermill": {
     "duration": 0.012718,
     "end_time": "2024-10-26T06:44:36.144555",
     "exception": false,
     "start_time": "2024-10-26T06:44:36.131837",
     "status": "completed"
    },
    "tags": []
   },
   "source": [
    "## Creating a Two Dimensional Array"
   ]
  },
  {
   "cell_type": "code",
   "execution_count": 8,
   "id": "42dfd4ce",
   "metadata": {
    "execution": {
     "iopub.execute_input": "2024-10-26T06:44:36.173014Z",
     "iopub.status.busy": "2024-10-26T06:44:36.172032Z",
     "iopub.status.idle": "2024-10-26T06:44:36.181748Z",
     "shell.execute_reply": "2024-10-26T06:44:36.180156Z"
    },
    "papermill": {
     "duration": 0.026444,
     "end_time": "2024-10-26T06:44:36.184260",
     "exception": false,
     "start_time": "2024-10-26T06:44:36.157816",
     "status": "completed"
    },
    "tags": []
   },
   "outputs": [
    {
     "name": "stdout",
     "output_type": "stream",
     "text": [
      "[[1 2 3 4]\n",
      " [5 6 7 8]]\n"
     ]
    },
    {
     "data": {
      "text/plain": [
       "(2, 4)"
      ]
     },
     "execution_count": 8,
     "metadata": {},
     "output_type": "execute_result"
    }
   ],
   "source": [
    "b = np.array([(1,2,3,4), (5,6,7,8)])\n",
    "print(b)\n",
    "b.shape"
   ]
  },
  {
   "cell_type": "markdown",
   "id": "ec78ad48",
   "metadata": {
    "papermill": {
     "duration": 0.013036,
     "end_time": "2024-10-26T06:44:36.210631",
     "exception": false,
     "start_time": "2024-10-26T06:44:36.197595",
     "status": "completed"
    },
    "tags": []
   },
   "source": [
    "## Creating Float Array"
   ]
  },
  {
   "cell_type": "code",
   "execution_count": 9,
   "id": "8b50b3d9",
   "metadata": {
    "execution": {
     "iopub.execute_input": "2024-10-26T06:44:36.238960Z",
     "iopub.status.busy": "2024-10-26T06:44:36.238547Z",
     "iopub.status.idle": "2024-10-26T06:44:36.248048Z",
     "shell.execute_reply": "2024-10-26T06:44:36.246717Z"
    },
    "papermill": {
     "duration": 0.02705,
     "end_time": "2024-10-26T06:44:36.250947",
     "exception": false,
     "start_time": "2024-10-26T06:44:36.223897",
     "status": "completed"
    },
    "tags": []
   },
   "outputs": [
    {
     "name": "stdout",
     "output_type": "stream",
     "text": [
      "[[1. 2. 3. 4.]\n",
      " [5. 6. 7. 8.]]\n"
     ]
    },
    {
     "data": {
      "text/plain": [
       "(2, 4)"
      ]
     },
     "execution_count": 9,
     "metadata": {},
     "output_type": "execute_result"
    }
   ],
   "source": [
    "c = np.array([(1,2,3,4),(5,6,7,8)], dtype = float)\n",
    "print(c)\n",
    "c.shape"
   ]
  },
  {
   "cell_type": "markdown",
   "id": "43f8cbc5",
   "metadata": {
    "papermill": {
     "duration": 0.013383,
     "end_time": "2024-10-26T06:44:36.277973",
     "exception": false,
     "start_time": "2024-10-26T06:44:36.264590",
     "status": "completed"
    },
    "tags": []
   },
   "source": [
    "# Chapter 4: Initial Placeholders in Numpy Arrays\n",
    "In some cases, we need to initialise an array who have the intial values as 0 or 1 or any other values.\n",
    "\n",
    "`shape_of_the_array = (rows, columns)`\n",
    "\n",
    "**Syntax:** \n",
    "```\n",
    "variableName = np.zeros((shape_of_the_array))\n",
    "variableName = np.ones((shape_of_the_array))\n",
    "variableName = np.full((shape_of_the_array), value_you_need)\n",
    "```\n",
    "\n",
    "**Syntax of Identity Matrix :**\n",
    "As in identity matrix the `rows = columns`. So, `value = rows = colums`\n",
    "```\n",
    "variableName = np.eye(values)\n",
    "```\n",
    "\n",
    "**Creating an array with random values :**\n",
    "In this array will give the array of the numbers in between 0s and 1s\n",
    "```\n",
    "variableName = np.random.random((shape_of_an_array))\n",
    "```\n",
    "\n",
    "**Creating an array with random integers values :**\n",
    "```\n",
    "c = np.random.randint(lower_bound,upper_bound,(rows,columns))\n",
    "```"
   ]
  },
  {
   "cell_type": "code",
   "execution_count": 10,
   "id": "0062d407",
   "metadata": {
    "execution": {
     "iopub.execute_input": "2024-10-26T06:44:36.306846Z",
     "iopub.status.busy": "2024-10-26T06:44:36.305983Z",
     "iopub.status.idle": "2024-10-26T06:44:36.312849Z",
     "shell.execute_reply": "2024-10-26T06:44:36.311596Z"
    },
    "papermill": {
     "duration": 0.024085,
     "end_time": "2024-10-26T06:44:36.315375",
     "exception": false,
     "start_time": "2024-10-26T06:44:36.291290",
     "status": "completed"
    },
    "tags": []
   },
   "outputs": [
    {
     "name": "stdout",
     "output_type": "stream",
     "text": [
      "[[0. 0. 0. 0. 0.]\n",
      " [0. 0. 0. 0. 0.]\n",
      " [0. 0. 0. 0. 0.]\n",
      " [0. 0. 0. 0. 0.]]\n"
     ]
    }
   ],
   "source": [
    "# Create a numpy array of Zeros\n",
    "x = np.zeros((4,5))\n",
    "print(x)"
   ]
  },
  {
   "cell_type": "code",
   "execution_count": 11,
   "id": "a8e7596d",
   "metadata": {
    "execution": {
     "iopub.execute_input": "2024-10-26T06:44:36.344486Z",
     "iopub.status.busy": "2024-10-26T06:44:36.343641Z",
     "iopub.status.idle": "2024-10-26T06:44:36.350502Z",
     "shell.execute_reply": "2024-10-26T06:44:36.349392Z"
    },
    "papermill": {
     "duration": 0.024124,
     "end_time": "2024-10-26T06:44:36.353002",
     "exception": false,
     "start_time": "2024-10-26T06:44:36.328878",
     "status": "completed"
    },
    "tags": []
   },
   "outputs": [
    {
     "name": "stdout",
     "output_type": "stream",
     "text": [
      "[[1. 1. 1.]\n",
      " [1. 1. 1.]\n",
      " [1. 1. 1.]]\n"
     ]
    }
   ],
   "source": [
    "# Create a numpy array if Ones\n",
    "y = np.ones((3,3))\n",
    "print(y)"
   ]
  },
  {
   "cell_type": "code",
   "execution_count": 12,
   "id": "81f7c329",
   "metadata": {
    "execution": {
     "iopub.execute_input": "2024-10-26T06:44:36.382467Z",
     "iopub.status.busy": "2024-10-26T06:44:36.381989Z",
     "iopub.status.idle": "2024-10-26T06:44:36.388543Z",
     "shell.execute_reply": "2024-10-26T06:44:36.387409Z"
    },
    "papermill": {
     "duration": 0.024398,
     "end_time": "2024-10-26T06:44:36.391244",
     "exception": false,
     "start_time": "2024-10-26T06:44:36.366846",
     "status": "completed"
    },
    "tags": []
   },
   "outputs": [
    {
     "name": "stdout",
     "output_type": "stream",
     "text": [
      "[[5 5 5 5]\n",
      " [5 5 5 5]\n",
      " [5 5 5 5]\n",
      " [5 5 5 5]\n",
      " [5 5 5 5]]\n"
     ]
    }
   ],
   "source": [
    "# Create an array of particular value\n",
    "z = np.full((5,4), 5)\n",
    "print(z)"
   ]
  },
  {
   "cell_type": "code",
   "execution_count": 13,
   "id": "1027fb27",
   "metadata": {
    "execution": {
     "iopub.execute_input": "2024-10-26T06:44:36.421232Z",
     "iopub.status.busy": "2024-10-26T06:44:36.420219Z",
     "iopub.status.idle": "2024-10-26T06:44:36.426580Z",
     "shell.execute_reply": "2024-10-26T06:44:36.425458Z"
    },
    "papermill": {
     "duration": 0.024598,
     "end_time": "2024-10-26T06:44:36.429783",
     "exception": false,
     "start_time": "2024-10-26T06:44:36.405185",
     "status": "completed"
    },
    "tags": []
   },
   "outputs": [
    {
     "name": "stdout",
     "output_type": "stream",
     "text": [
      "[[1. 0. 0. 0. 0.]\n",
      " [0. 1. 0. 0. 0.]\n",
      " [0. 0. 1. 0. 0.]\n",
      " [0. 0. 0. 1. 0.]\n",
      " [0. 0. 0. 0. 1.]]\n"
     ]
    }
   ],
   "source": [
    "# Create an Identity matrix\n",
    "a = np.eye(5)\n",
    "print(a)"
   ]
  },
  {
   "cell_type": "code",
   "execution_count": 14,
   "id": "74224eeb",
   "metadata": {
    "execution": {
     "iopub.execute_input": "2024-10-26T06:44:36.459889Z",
     "iopub.status.busy": "2024-10-26T06:44:36.459480Z",
     "iopub.status.idle": "2024-10-26T06:44:36.466280Z",
     "shell.execute_reply": "2024-10-26T06:44:36.465112Z"
    },
    "papermill": {
     "duration": 0.024866,
     "end_time": "2024-10-26T06:44:36.468896",
     "exception": false,
     "start_time": "2024-10-26T06:44:36.444030",
     "status": "completed"
    },
    "tags": []
   },
   "outputs": [
    {
     "name": "stdout",
     "output_type": "stream",
     "text": [
      "[[0.39021591 0.01585506 0.42021056 0.02068124]\n",
      " [0.51855902 0.85983745 0.88595191 0.98138188]\n",
      " [0.52932012 0.68525815 0.66158852 0.15092422]]\n"
     ]
    }
   ],
   "source": [
    "# Create a numpy array with random values\n",
    "b = np.random.random((3,4))\n",
    "print(b)"
   ]
  },
  {
   "cell_type": "code",
   "execution_count": 15,
   "id": "710430ba",
   "metadata": {
    "execution": {
     "iopub.execute_input": "2024-10-26T06:44:36.498752Z",
     "iopub.status.busy": "2024-10-26T06:44:36.498313Z",
     "iopub.status.idle": "2024-10-26T06:44:36.505544Z",
     "shell.execute_reply": "2024-10-26T06:44:36.504206Z"
    },
    "papermill": {
     "duration": 0.024903,
     "end_time": "2024-10-26T06:44:36.507940",
     "exception": false,
     "start_time": "2024-10-26T06:44:36.483037",
     "status": "completed"
    },
    "tags": []
   },
   "outputs": [
    {
     "name": "stdout",
     "output_type": "stream",
     "text": [
      "[[15 94 95 14 97]\n",
      " [67 98 49 14 41]\n",
      " [85 63 16 36 25]]\n"
     ]
    }
   ],
   "source": [
    "# Create a numpy array with random values but in integers within a specific range\n",
    "c = np.random.randint(10,100,(3,5))\n",
    "print(c)"
   ]
  },
  {
   "cell_type": "code",
   "execution_count": 16,
   "id": "0b255e4c",
   "metadata": {
    "execution": {
     "iopub.execute_input": "2024-10-26T06:44:36.538302Z",
     "iopub.status.busy": "2024-10-26T06:44:36.537559Z",
     "iopub.status.idle": "2024-10-26T06:44:36.545103Z",
     "shell.execute_reply": "2024-10-26T06:44:36.543949Z"
    },
    "papermill": {
     "duration": 0.025406,
     "end_time": "2024-10-26T06:44:36.547619",
     "exception": false,
     "start_time": "2024-10-26T06:44:36.522213",
     "status": "completed"
    },
    "tags": []
   },
   "outputs": [
    {
     "name": "stdout",
     "output_type": "stream",
     "text": [
      "[10. 15. 20. 25. 30.]\n",
      "[10. 14. 18. 22. 26. 30.]\n"
     ]
    }
   ],
   "source": [
    "# Creating an array of evenly spaced values \n",
    "# Specifying the number of values required\n",
    "d = np.linspace(10,30,5)\n",
    "e = np.linspace(10,30,6)\n",
    "print(d)\n",
    "print(e)"
   ]
  },
  {
   "cell_type": "code",
   "execution_count": 17,
   "id": "4d7f532e",
   "metadata": {
    "execution": {
     "iopub.execute_input": "2024-10-26T06:44:36.578135Z",
     "iopub.status.busy": "2024-10-26T06:44:36.577091Z",
     "iopub.status.idle": "2024-10-26T06:44:36.583718Z",
     "shell.execute_reply": "2024-10-26T06:44:36.582523Z"
    },
    "papermill": {
     "duration": 0.024615,
     "end_time": "2024-10-26T06:44:36.586310",
     "exception": false,
     "start_time": "2024-10-26T06:44:36.561695",
     "status": "completed"
    },
    "tags": []
   },
   "outputs": [
    {
     "name": "stdout",
     "output_type": "stream",
     "text": [
      "[10 15 20 25]\n"
     ]
    }
   ],
   "source": [
    "# Creating an array of evenly spaced values \n",
    "# Specifying the step\n",
    "f = np.arange(10,30,5)\n",
    "print(f)"
   ]
  },
  {
   "cell_type": "markdown",
   "id": "74749470",
   "metadata": {
    "papermill": {
     "duration": 0.013863,
     "end_time": "2024-10-26T06:44:36.614329",
     "exception": false,
     "start_time": "2024-10-26T06:44:36.600466",
     "status": "completed"
    },
    "tags": []
   },
   "source": [
    "# Chapter 5: Converting List to Numpy Arrays"
   ]
  },
  {
   "cell_type": "code",
   "execution_count": 18,
   "id": "916cd7cf",
   "metadata": {
    "execution": {
     "iopub.execute_input": "2024-10-26T06:44:36.645049Z",
     "iopub.status.busy": "2024-10-26T06:44:36.643723Z",
     "iopub.status.idle": "2024-10-26T06:44:36.652993Z",
     "shell.execute_reply": "2024-10-26T06:44:36.651921Z"
    },
    "papermill": {
     "duration": 0.027111,
     "end_time": "2024-10-26T06:44:36.655495",
     "exception": false,
     "start_time": "2024-10-26T06:44:36.628384",
     "status": "completed"
    },
    "tags": []
   },
   "outputs": [
    {
     "name": "stdout",
     "output_type": "stream",
     "text": [
      "[10 20 30 40 50]\n"
     ]
    },
    {
     "data": {
      "text/plain": [
       "numpy.ndarray"
      ]
     },
     "execution_count": 18,
     "metadata": {},
     "output_type": "execute_result"
    }
   ],
   "source": [
    "list2 = [10,20,30,40,50]\n",
    "np_array = np.asarray(list2)\n",
    "print(np_array)\n",
    "type(np_array)"
   ]
  },
  {
   "cell_type": "markdown",
   "id": "54010805",
   "metadata": {
    "papermill": {
     "duration": 0.014224,
     "end_time": "2024-10-26T06:44:36.685454",
     "exception": false,
     "start_time": "2024-10-26T06:44:36.671230",
     "status": "completed"
    },
    "tags": []
   },
   "source": [
    "# Chapter 6: Analysing the Numpy Array"
   ]
  },
  {
   "cell_type": "code",
   "execution_count": 19,
   "id": "0a747681",
   "metadata": {
    "execution": {
     "iopub.execute_input": "2024-10-26T06:44:36.717035Z",
     "iopub.status.busy": "2024-10-26T06:44:36.716102Z",
     "iopub.status.idle": "2024-10-26T06:44:36.722338Z",
     "shell.execute_reply": "2024-10-26T06:44:36.721211Z"
    },
    "papermill": {
     "duration": 0.025273,
     "end_time": "2024-10-26T06:44:36.725637",
     "exception": false,
     "start_time": "2024-10-26T06:44:36.700364",
     "status": "completed"
    },
    "tags": []
   },
   "outputs": [
    {
     "name": "stdout",
     "output_type": "stream",
     "text": [
      "[[47 30 28 51 82]\n",
      " [34 61 36 21 70]\n",
      " [57 46 60 16 89]\n",
      " [10 25 64 86 23]\n",
      " [27 44 45 74 30]]\n"
     ]
    }
   ],
   "source": [
    "c = np.random.randint(10,90,(5,5))\n",
    "print(c)"
   ]
  },
  {
   "cell_type": "code",
   "execution_count": 20,
   "id": "6039144b",
   "metadata": {
    "execution": {
     "iopub.execute_input": "2024-10-26T06:44:36.756987Z",
     "iopub.status.busy": "2024-10-26T06:44:36.756517Z",
     "iopub.status.idle": "2024-10-26T06:44:36.763217Z",
     "shell.execute_reply": "2024-10-26T06:44:36.762073Z"
    },
    "papermill": {
     "duration": 0.025787,
     "end_time": "2024-10-26T06:44:36.766258",
     "exception": false,
     "start_time": "2024-10-26T06:44:36.740471",
     "status": "completed"
    },
    "tags": []
   },
   "outputs": [
    {
     "name": "stdout",
     "output_type": "stream",
     "text": [
      "Shape of the Array:  (5, 5)\n",
      "Dimension of the Array:  2\n",
      "Number of elements in array:  25\n",
      "Datatype of the values in array is:  int64\n"
     ]
    }
   ],
   "source": [
    "# Finding the Array Dimension\n",
    "print(\"Shape of the Array: \", c.shape)\n",
    "\n",
    "# Number of Dimensions\n",
    "print(\"Dimension of the Array: \", c.ndim)\n",
    "\n",
    "# Number of the elements in an array\n",
    "print(\"Number of elements in array: \", c.size)\n",
    "\n",
    "# Checking the datatype of the values in the array\n",
    "print(\"Datatype of the values in array is: \", c.dtype)"
   ]
  },
  {
   "cell_type": "markdown",
   "id": "06780a3d",
   "metadata": {
    "papermill": {
     "duration": 0.014294,
     "end_time": "2024-10-26T06:44:36.795319",
     "exception": false,
     "start_time": "2024-10-26T06:44:36.781025",
     "status": "completed"
    },
    "tags": []
   },
   "source": [
    "## Chapter 7: Mathematical Operations on Numpy Array"
   ]
  },
  {
   "cell_type": "code",
   "execution_count": 21,
   "id": "da67f01d",
   "metadata": {
    "execution": {
     "iopub.execute_input": "2024-10-26T06:44:36.826576Z",
     "iopub.status.busy": "2024-10-26T06:44:36.826099Z",
     "iopub.status.idle": "2024-10-26T06:44:36.832721Z",
     "shell.execute_reply": "2024-10-26T06:44:36.831464Z"
    },
    "papermill": {
     "duration": 0.02601,
     "end_time": "2024-10-26T06:44:36.836014",
     "exception": false,
     "start_time": "2024-10-26T06:44:36.810004",
     "status": "completed"
    },
    "tags": []
   },
   "outputs": [
    {
     "name": "stdout",
     "output_type": "stream",
     "text": [
      "[1, 2, 3, 4, 5, 6, 7, 8, 9, 10]\n"
     ]
    }
   ],
   "source": [
    "list1 = [1,2,3,4,5]\n",
    "list2 = [6,7,8,9,10]\n",
    "\n",
    "# concatenate or joins the two lists\n",
    "print(list1 + list2)"
   ]
  },
  {
   "cell_type": "code",
   "execution_count": 22,
   "id": "1338de97",
   "metadata": {
    "execution": {
     "iopub.execute_input": "2024-10-26T06:44:36.867723Z",
     "iopub.status.busy": "2024-10-26T06:44:36.867291Z",
     "iopub.status.idle": "2024-10-26T06:44:36.876892Z",
     "shell.execute_reply": "2024-10-26T06:44:36.875740Z"
    },
    "papermill": {
     "duration": 0.028727,
     "end_time": "2024-10-26T06:44:36.880019",
     "exception": false,
     "start_time": "2024-10-26T06:44:36.851292",
     "status": "completed"
    },
    "tags": []
   },
   "outputs": [
    {
     "name": "stdout",
     "output_type": "stream",
     "text": [
      "The first array is: \n",
      "[[6 2 9]\n",
      " [1 0 1]\n",
      " [1 5 8]]\n",
      "The second array is: \n",
      "[[10 12 17]\n",
      " [12 14 16]\n",
      " [10 12 19]]\n",
      "Addition of two arrays are: \n",
      "[[16 14 26]\n",
      " [13 14 17]\n",
      " [11 17 27]]\n",
      "Difference of two arrays are: \n",
      "[[ -4 -10  -8]\n",
      " [-11 -14 -15]\n",
      " [ -9  -7 -11]]\n",
      "Product of two arrays are: \n",
      "[[ 60  24 153]\n",
      " [ 12   0  16]\n",
      " [ 10  60 152]]\n",
      "Division of two arrays are: \n",
      "[[0.6        0.16666667 0.52941176]\n",
      " [0.08333333 0.         0.0625    ]\n",
      " [0.1        0.41666667 0.42105263]]\n"
     ]
    }
   ],
   "source": [
    "a = np.random.randint(0,10,(3,3))\n",
    "b = np.random.randint(10,20,(3,3))\n",
    "print(\"The first array is: \")\n",
    "print(a)\n",
    "print(\"The second array is: \")\n",
    "print(b)\n",
    "print(\"Addition of two arrays are: \")\n",
    "print(a+b)\n",
    "print(\"Difference of two arrays are: \")\n",
    "print(a-b)\n",
    "print(\"Product of two arrays are: \")\n",
    "print(a*b)\n",
    "print(\"Division of two arrays are: \")\n",
    "print(a/b)"
   ]
  },
  {
   "cell_type": "code",
   "execution_count": 23,
   "id": "27e31922",
   "metadata": {
    "execution": {
     "iopub.execute_input": "2024-10-26T06:44:36.911912Z",
     "iopub.status.busy": "2024-10-26T06:44:36.911464Z",
     "iopub.status.idle": "2024-10-26T06:44:36.921764Z",
     "shell.execute_reply": "2024-10-26T06:44:36.920614Z"
    },
    "papermill": {
     "duration": 0.02949,
     "end_time": "2024-10-26T06:44:36.924479",
     "exception": false,
     "start_time": "2024-10-26T06:44:36.894989",
     "status": "completed"
    },
    "tags": []
   },
   "outputs": [
    {
     "name": "stdout",
     "output_type": "stream",
     "text": [
      "The first array is: \n",
      "[[6 0 1]\n",
      " [6 9 8]\n",
      " [9 5 9]]\n",
      "The second array is: \n",
      "[[10 10 13]\n",
      " [11 15 16]\n",
      " [16 10 10]]\n",
      "Addition of two arrays are: \n",
      "[[16 10 14]\n",
      " [17 24 24]\n",
      " [25 15 19]]\n",
      "Difference of two arrays are: \n",
      "[[ -4 -10 -12]\n",
      " [ -5  -6  -8]\n",
      " [ -7  -5  -1]]\n",
      "Product of two arrays are: \n",
      "[[ 60   0  13]\n",
      " [ 66 135 128]\n",
      " [144  50  90]]\n",
      "Division of two arrays are: \n",
      "[[0.6        0.         0.07692308]\n",
      " [0.54545455 0.6        0.5       ]\n",
      " [0.5625     0.5        0.9       ]]\n"
     ]
    }
   ],
   "source": [
    "a = np.random.randint(0,10,(3,3))\n",
    "b = np.random.randint(10,20,(3,3))\n",
    "print(\"The first array is: \")\n",
    "print(a)\n",
    "print(\"The second array is: \")\n",
    "print(b)\n",
    "print(\"Addition of two arrays are: \")\n",
    "print(np.add(a,b))\n",
    "print(\"Difference of two arrays are: \")\n",
    "print(np.subtract(a,b))\n",
    "print(\"Product of two arrays are: \")\n",
    "print(np.multiply(a,b))\n",
    "print(\"Division of two arrays are: \")\n",
    "print(np.divide(a,b))"
   ]
  },
  {
   "cell_type": "markdown",
   "id": "f11a5d55",
   "metadata": {
    "papermill": {
     "duration": 0.014598,
     "end_time": "2024-10-26T06:44:36.953983",
     "exception": false,
     "start_time": "2024-10-26T06:44:36.939385",
     "status": "completed"
    },
    "tags": []
   },
   "source": [
    "# Chapter 8: Array Manipulation\n"
   ]
  },
  {
   "cell_type": "markdown",
   "id": "9665ff7f",
   "metadata": {
    "papermill": {
     "duration": 0.015289,
     "end_time": "2024-10-26T06:44:36.984570",
     "exception": false,
     "start_time": "2024-10-26T06:44:36.969281",
     "status": "completed"
    },
    "tags": []
   },
   "source": [
    "## Transpose of an Array"
   ]
  },
  {
   "cell_type": "code",
   "execution_count": 24,
   "id": "bec2a3a3",
   "metadata": {
    "execution": {
     "iopub.execute_input": "2024-10-26T06:44:37.018035Z",
     "iopub.status.busy": "2024-10-26T06:44:37.017012Z",
     "iopub.status.idle": "2024-10-26T06:44:37.025873Z",
     "shell.execute_reply": "2024-10-26T06:44:37.024646Z"
    },
    "papermill": {
     "duration": 0.028415,
     "end_time": "2024-10-26T06:44:37.028870",
     "exception": false,
     "start_time": "2024-10-26T06:44:37.000455",
     "status": "completed"
    },
    "tags": []
   },
   "outputs": [
    {
     "name": "stdout",
     "output_type": "stream",
     "text": [
      "Displaying the Array: \n",
      "[[5 1 0]\n",
      " [7 4 0]]\n",
      "Shape of the Array: \n",
      "(2, 3)\n",
      "Transpose of the Array: \n",
      "[[5 7]\n",
      " [1 4]\n",
      " [0 0]]\n",
      "Shape of the Transpose Array: \n",
      "(3, 2)\n",
      "Another method of Transpose of the array\n",
      "[[5 7]\n",
      " [1 4]\n",
      " [0 0]]\n",
      "Shape of the Transpose Array: \n",
      "(3, 2)\n"
     ]
    }
   ],
   "source": [
    "array = np.random.randint(0,10,(2,3))\n",
    "print(\"Displaying the Array: \")\n",
    "print(array)\n",
    "print(\"Shape of the Array: \")\n",
    "print(array.shape)\n",
    "print(\"Transpose of the Array: \")\n",
    "trans = np.transpose(array)\n",
    "print(trans)\n",
    "print(\"Shape of the Transpose Array: \")\n",
    "print(trans.shape)\n",
    "print(\"Another method of Transpose of the array\")\n",
    "trans2 = array.T\n",
    "print(trans2)\n",
    "print(\"Shape of the Transpose Array: \")\n",
    "print(trans2.shape)"
   ]
  },
  {
   "cell_type": "markdown",
   "id": "9eee725a",
   "metadata": {
    "papermill": {
     "duration": 0.01483,
     "end_time": "2024-10-26T06:44:37.058970",
     "exception": false,
     "start_time": "2024-10-26T06:44:37.044140",
     "status": "completed"
    },
    "tags": []
   },
   "source": [
    "## Reshaping of the Array"
   ]
  },
  {
   "cell_type": "code",
   "execution_count": 25,
   "id": "bab8f4f2",
   "metadata": {
    "execution": {
     "iopub.execute_input": "2024-10-26T06:44:37.091236Z",
     "iopub.status.busy": "2024-10-26T06:44:37.090464Z",
     "iopub.status.idle": "2024-10-26T06:44:37.097272Z",
     "shell.execute_reply": "2024-10-26T06:44:37.096191Z"
    },
    "papermill": {
     "duration": 0.02618,
     "end_time": "2024-10-26T06:44:37.100205",
     "exception": false,
     "start_time": "2024-10-26T06:44:37.074025",
     "status": "completed"
    },
    "tags": []
   },
   "outputs": [
    {
     "name": "stdout",
     "output_type": "stream",
     "text": [
      "[[9 9 5]\n",
      " [5 2 6]]\n",
      "(2, 3)\n"
     ]
    }
   ],
   "source": [
    "a = np.random.randint(0,10,(2,3))\n",
    "print(a)\n",
    "print(a.shape)"
   ]
  },
  {
   "cell_type": "code",
   "execution_count": 26,
   "id": "c2fbc82c",
   "metadata": {
    "execution": {
     "iopub.execute_input": "2024-10-26T06:44:37.132921Z",
     "iopub.status.busy": "2024-10-26T06:44:37.132115Z",
     "iopub.status.idle": "2024-10-26T06:44:37.138423Z",
     "shell.execute_reply": "2024-10-26T06:44:37.137242Z"
    },
    "papermill": {
     "duration": 0.026143,
     "end_time": "2024-10-26T06:44:37.141526",
     "exception": false,
     "start_time": "2024-10-26T06:44:37.115383",
     "status": "completed"
    },
    "tags": []
   },
   "outputs": [
    {
     "name": "stdout",
     "output_type": "stream",
     "text": [
      "[[9 9]\n",
      " [5 5]\n",
      " [2 6]]\n",
      "(3, 2)\n"
     ]
    }
   ],
   "source": [
    "b = a.reshape(3,2)\n",
    "print(b)\n",
    "print(b.shape)"
   ]
  }
 ],
 "metadata": {
  "kaggle": {
   "accelerator": "none",
   "dataSources": [],
   "dockerImageVersionId": 30786,
   "isGpuEnabled": false,
   "isInternetEnabled": true,
   "language": "python",
   "sourceType": "notebook"
  },
  "kernelspec": {
   "display_name": "Python 3",
   "language": "python",
   "name": "python3"
  },
  "language_info": {
   "codemirror_mode": {
    "name": "ipython",
    "version": 3
   },
   "file_extension": ".py",
   "mimetype": "text/x-python",
   "name": "python",
   "nbconvert_exporter": "python",
   "pygments_lexer": "ipython3",
   "version": "3.10.14"
  },
  "papermill": {
   "default_parameters": {},
   "duration": 5.123684,
   "end_time": "2024-10-26T06:44:37.577803",
   "environment_variables": {},
   "exception": null,
   "input_path": "__notebook__.ipynb",
   "output_path": "__notebook__.ipynb",
   "parameters": {},
   "start_time": "2024-10-26T06:44:32.454119",
   "version": "2.6.0"
  }
 },
 "nbformat": 4,
 "nbformat_minor": 5
}
