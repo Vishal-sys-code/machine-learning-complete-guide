{
  "nbformat": 4,
  "nbformat_minor": 0,
  "metadata": {
    "colab": {
      "provenance": []
    },
    "kernelspec": {
      "name": "python3",
      "display_name": "Python 3"
    },
    "language_info": {
      "name": "python"
    }
  },
  "cells": [
    {
      "cell_type": "markdown",
      "source": [
        "# **Table of Contents**\n",
        "- Fundamentals of Numpy\n",
        "- Creating Numpy Arrays\n",
        "- Array Attributes\n",
        "- Changing Datatype\n",
        "- Array Operations\n",
        "- Array Functions\n",
        "- Indexing and Slicing\n",
        "- Iterating\n",
        "- Reshaping [reshape, transpose, ravel]\n",
        "- Stacking [Horizontal and Vertical]\n",
        "- Splitting [Horizontal and Vertical]"
      ],
      "metadata": {
        "id": "NN5rdlNHq0c1"
      }
    },
    {
      "cell_type": "markdown",
      "source": [
        "# Fundamentals of Numpy\n",
        "\n",
        "## What is Numpy?\n",
        "Numpy is the fundamental package for scientific computing in Python. It is a Python library that provides a multidimensional array object, various derived objects (such as masked arrays and matrices), and an assortment of routines for fast operations on arrays, including mathematical, logical, shape manipulation, sorting, selecting, I/O, discrete Fourier transforms, basic linear algebra, basic statistical operations, random simulation and much more.\n",
        "\n",
        "\n",
        "At the core of the NumPy package, is the `ndarray` object. This encapsulates n-dimensional arrays of homogeneous data types.\n",
        "\n",
        "## Numpy Arrays Vs Python Sequences\n",
        "\n",
        "- NumPy arrays have a fixed size at creation, unlike Python lists (which can grow dynamically). Changing the size of an ndarray will create a new array and delete the original.\n",
        "\n",
        "- The elements in a NumPy array are all required to be of the same data type, and thus will be the same size in memory.\n",
        "\n",
        "- NumPy arrays facilitate advanced mathematical and other types of operations on large numbers of data. Typically, such operations are executed more efficiently and with less code than is possible using Python’s built-in sequences.\n",
        "\n",
        "- A growing plethora of scientific and mathematical Python-based packages are using NumPy arrays; though these typically support Python-sequence input, they convert such input to NumPy arrays prior to processing, and they often output NumPy arrays."
      ],
      "metadata": {
        "id": "rpZHcCNTQlAP"
      }
    },
    {
      "cell_type": "markdown",
      "source": [
        "<div align = \"center\">\n",
        "  <h1><b> Chapter 1:</b> Creating Numpy Arrays</h1>\n",
        "</div>"
      ],
      "metadata": {
        "id": "_YVcGVhvRQ9L"
      }
    },
    {
      "cell_type": "code",
      "execution_count": 1,
      "metadata": {
        "id": "dYpeZjWOwkO3"
      },
      "outputs": [],
      "source": [
        "import numpy as np"
      ]
    },
    {
      "cell_type": "code",
      "source": [
        "a = np.array([1,2,3])\n",
        "print(type(a))\n",
        "print(\"Array is (1D): \", a)"
      ],
      "metadata": {
        "colab": {
          "base_uri": "https://localhost:8080/"
        },
        "id": "fMnW8qEy5CbM",
        "outputId": "6c2b0c5d-5ada-4348-eed0-f271ecd36fa8"
      },
      "execution_count": 2,
      "outputs": [
        {
          "output_type": "stream",
          "name": "stdout",
          "text": [
            "<class 'numpy.ndarray'>\n",
            "Array is (1D):  [1 2 3]\n"
          ]
        }
      ]
    },
    {
      "cell_type": "code",
      "source": [
        "# 2D and 3D\n",
        "b = np.array([[1,2,3], [4,5,6]])\n",
        "print(\"Array is (2D): \")\n",
        "print(b)\n",
        "print()\n",
        "c = np.array([[[1,2], [3,4]], [[5,6], [7,8]]])\n",
        "print(\"Array is (3D): \")\n",
        "print(c)"
      ],
      "metadata": {
        "colab": {
          "base_uri": "https://localhost:8080/"
        },
        "id": "3aFLX_-J5Jfj",
        "outputId": "35a4446f-5e96-4e7f-9deb-75532587d80a"
      },
      "execution_count": 3,
      "outputs": [
        {
          "output_type": "stream",
          "name": "stdout",
          "text": [
            "Array is (2D): \n",
            "[[1 2 3]\n",
            " [4 5 6]]\n",
            "\n",
            "Array is (3D): \n",
            "[[[1 2]\n",
            "  [3 4]]\n",
            "\n",
            " [[5 6]\n",
            "  [7 8]]]\n"
          ]
        }
      ]
    },
    {
      "cell_type": "code",
      "source": [
        "# dtype\n",
        "print(\"DataType (float): \", np.array([1,2,3], dtype = float))\n",
        "print(\"DataType (complex): \", np.array([1,2,3], dtype = complex))\n",
        "print(\"DataType (integer): \", np.array([1,2,3], dtype = int))\n",
        "print(\"DataType (string): \", np.array([1,2,3], dtype = str))"
      ],
      "metadata": {
        "colab": {
          "base_uri": "https://localhost:8080/"
        },
        "id": "YAYGUbIY5dLl",
        "outputId": "740cb1c1-e7df-4478-8e15-74c94b62e940"
      },
      "execution_count": 4,
      "outputs": [
        {
          "output_type": "stream",
          "name": "stdout",
          "text": [
            "DataType (float):  [1. 2. 3.]\n",
            "DataType (complex):  [1.+0.j 2.+0.j 3.+0.j]\n",
            "DataType (integer):  [1 2 3]\n",
            "DataType (string):  ['1' '2' '3']\n"
          ]
        }
      ]
    },
    {
      "cell_type": "code",
      "source": [
        "# np.arange: It is same as the range.\n",
        "print(\"Array in range 1 to 11 is: \")\n",
        "print(np.arange(1,11))\n",
        "print()\n",
        "print(\"Array in range 1 to 11 with step = 2 is: \")\n",
        "print(np.arange(1,11,2))"
      ],
      "metadata": {
        "colab": {
          "base_uri": "https://localhost:8080/"
        },
        "id": "4WMkgZ-F6fN8",
        "outputId": "bb12c9ab-7b9b-433f-9883-ef1f24a77e2e"
      },
      "execution_count": 5,
      "outputs": [
        {
          "output_type": "stream",
          "name": "stdout",
          "text": [
            "Array in range 1 to 11 is: \n",
            "[ 1  2  3  4  5  6  7  8  9 10]\n",
            "\n",
            "Array in range 1 to 11 with step = 2 is: \n",
            "[1 3 5 7 9]\n"
          ]
        }
      ]
    },
    {
      "cell_type": "code",
      "source": [
        "# reshape: COnverting a given shape of numpy array to any other shape\n",
        "print(np.arange(1,11).reshape(2,5)) # Converting 1D to 2D [2 rows, 5 columns]\n",
        "print()\n",
        "print(np.arange(1,13).reshape(3,4)) # Converting 1D to 3D [3 rows, 4 columns]"
      ],
      "metadata": {
        "colab": {
          "base_uri": "https://localhost:8080/"
        },
        "id": "re8xrSMn6_jz",
        "outputId": "da643878-f019-429d-b10c-e4a377f9f496"
      },
      "execution_count": 6,
      "outputs": [
        {
          "output_type": "stream",
          "name": "stdout",
          "text": [
            "[[ 1  2  3  4  5]\n",
            " [ 6  7  8  9 10]]\n",
            "\n",
            "[[ 1  2  3  4]\n",
            " [ 5  6  7  8]\n",
            " [ 9 10 11 12]]\n"
          ]
        }
      ]
    },
    {
      "cell_type": "code",
      "source": [
        "# np.ones and np.zeros\n",
        "# np.ones: It is a numpy array that contains only one element : 1 -> np.ones((shape))\n",
        "# np.zeros: It is a numpy array that contains only one element : 0 -> np.ones((shape))\n",
        "# Mostly used in Neural Networks to initialise the weights of node.\n",
        "print(np.ones((3,4)))\n",
        "print()\n",
        "print(np.zeros((3,4)))"
      ],
      "metadata": {
        "colab": {
          "base_uri": "https://localhost:8080/"
        },
        "id": "q59nwIIC7h63",
        "outputId": "f1ebb9f9-3fc1-4116-83de-9fa6c3905f93"
      },
      "execution_count": 7,
      "outputs": [
        {
          "output_type": "stream",
          "name": "stdout",
          "text": [
            "[[1. 1. 1. 1.]\n",
            " [1. 1. 1. 1.]\n",
            " [1. 1. 1. 1.]]\n",
            "\n",
            "[[0. 0. 0. 0.]\n",
            " [0. 0. 0. 0.]\n",
            " [0. 0. 0. 0.]]\n"
          ]
        }
      ]
    },
    {
      "cell_type": "code",
      "source": [
        "# np.linspace -> Linearly Space\n",
        "# linspace(lower_range, upper_range, no_of_items)\n",
        "# Used in ML Algorithms to plot\n",
        "print(np.linspace(-10, 10, 10))"
      ],
      "metadata": {
        "colab": {
          "base_uri": "https://localhost:8080/"
        },
        "id": "kky4sRnq8rji",
        "outputId": "a90179bd-be89-419b-cbce-694b52d65a26"
      },
      "execution_count": 8,
      "outputs": [
        {
          "output_type": "stream",
          "name": "stdout",
          "text": [
            "[-10.          -7.77777778  -5.55555556  -3.33333333  -1.11111111\n",
            "   1.11111111   3.33333333   5.55555556   7.77777778  10.        ]\n"
          ]
        }
      ]
    },
    {
      "cell_type": "code",
      "source": [
        "# np.identity -> To create Identity Matrix\n",
        "print(np.identity(3))"
      ],
      "metadata": {
        "colab": {
          "base_uri": "https://localhost:8080/"
        },
        "id": "VtX8C09R8_qD",
        "outputId": "5241bee5-be19-4bff-ada1-f62b7fb4392d"
      },
      "execution_count": 9,
      "outputs": [
        {
          "output_type": "stream",
          "name": "stdout",
          "text": [
            "[[1. 0. 0.]\n",
            " [0. 1. 0.]\n",
            " [0. 0. 1.]]\n"
          ]
        }
      ]
    },
    {
      "cell_type": "markdown",
      "source": [
        "## **Summary of Chapter 1**\n",
        "* `np.array`\n",
        "* `dtype`\n",
        "* `np.arange((shape))`\n",
        "* `np.arange(shape).reshape(shape)`\n",
        "* `np.ones(shape)`\n",
        "* `np.zeros(shape)`\n",
        "* `np.linspace(lower_range, upper_range, no_of_items)`\n",
        "* `np.identity(no_of_rows)`"
      ],
      "metadata": {
        "id": "c4NXtprA9RkG"
      }
    },
    {
      "cell_type": "markdown",
      "source": [
        "<hr>"
      ],
      "metadata": {
        "id": "tU98zOVlAxaZ"
      }
    },
    {
      "cell_type": "markdown",
      "source": [
        "<div align = \"center\">\n",
        "  <h1><b> Chapter 2:</b> Array Attributes</h1>\n",
        "</div>"
      ],
      "metadata": {
        "id": "obiA3UIv9Phy"
      }
    },
    {
      "cell_type": "code",
      "source": [
        "a1 = np.arange(10) # 1 Dimensonal -> Vector\n",
        "a2 = np.arange(12, dtype = float).reshape(3,4) # 2 Dimensonal -> Matrix\n",
        "a3 = np.arange(8).reshape(2,2,2) # 3 Dimensonal -> Tensor\n",
        "\n",
        "print(\"Vector: \")\n",
        "print(a1)\n",
        "\n",
        "print()\n",
        "\n",
        "print(\"Matrix: \")\n",
        "print(a2)\n",
        "\n",
        "print()\n",
        "\n",
        "print(\"Tensor: \")\n",
        "print(a3)"
      ],
      "metadata": {
        "colab": {
          "base_uri": "https://localhost:8080/"
        },
        "id": "p4wswva19OoR",
        "outputId": "f062ef3a-5c88-438f-8817-cbbc5fefb46f"
      },
      "execution_count": 10,
      "outputs": [
        {
          "output_type": "stream",
          "name": "stdout",
          "text": [
            "Vector: \n",
            "[0 1 2 3 4 5 6 7 8 9]\n",
            "\n",
            "Matrix: \n",
            "[[ 0.  1.  2.  3.]\n",
            " [ 4.  5.  6.  7.]\n",
            " [ 8.  9. 10. 11.]]\n",
            "\n",
            "Tensor: \n",
            "[[[0 1]\n",
            "  [2 3]]\n",
            "\n",
            " [[4 5]\n",
            "  [6 7]]]\n"
          ]
        }
      ]
    },
    {
      "cell_type": "code",
      "source": [
        "# ndim => n - dimensional : To check what is the dimension of your array\n",
        "print(\"Dimension of a1: \", a1.ndim)\n",
        "print(\"Dimension of a2: \", a2.ndim)\n",
        "print(\"Dimension of a3: \", a3.ndim)"
      ],
      "metadata": {
        "colab": {
          "base_uri": "https://localhost:8080/"
        },
        "id": "dojwn7TR-Z8k",
        "outputId": "c997b656-d57d-4214-ad48-6aa5b0e7957d"
      },
      "execution_count": 11,
      "outputs": [
        {
          "output_type": "stream",
          "name": "stdout",
          "text": [
            "Dimension of a1:  1\n",
            "Dimension of a2:  2\n",
            "Dimension of a3:  3\n"
          ]
        }
      ]
    },
    {
      "cell_type": "code",
      "source": [
        "# shape => To check what is the shape of the array\n",
        "print(\"Shape of a1: \", a1.shape)\n",
        "print(\"Shape of a2: \", a2.shape)\n",
        "print(\"Shape of a3: \", a3.shape)"
      ],
      "metadata": {
        "colab": {
          "base_uri": "https://localhost:8080/"
        },
        "id": "ZRgPXCm4-ynm",
        "outputId": "cb34ad1a-633e-44cb-cbf0-a62d003f331b"
      },
      "execution_count": 12,
      "outputs": [
        {
          "output_type": "stream",
          "name": "stdout",
          "text": [
            "Shape of a1:  (10,)\n",
            "Shape of a2:  (3, 4)\n",
            "Shape of a3:  (2, 2, 2)\n"
          ]
        }
      ]
    },
    {
      "cell_type": "markdown",
      "source": [
        "3D says that how many 2D arrays are combined to make it.\n",
        "(2,2,2): Two 2D arrays, of shape (2,2)"
      ],
      "metadata": {
        "id": "ZRyJk2JE_IUn"
      }
    },
    {
      "cell_type": "code",
      "source": [
        "# size => Size of the array or number of elements in that numpy array\n",
        "print(\"Size of a1: \", a1.size)\n",
        "print(\"Size of a2: \", a2.size)\n",
        "print(\"Size of a3: \", a3.size)"
      ],
      "metadata": {
        "colab": {
          "base_uri": "https://localhost:8080/"
        },
        "id": "Y6ukRLEb-36L",
        "outputId": "2a86ddaa-5818-4e87-fa21-eb6dab97e9b6"
      },
      "execution_count": 13,
      "outputs": [
        {
          "output_type": "stream",
          "name": "stdout",
          "text": [
            "Size of a1:  10\n",
            "Size of a2:  12\n",
            "Size of a3:  8\n"
          ]
        }
      ]
    },
    {
      "cell_type": "code",
      "source": [
        "# itemsize => How much memory is been occupied by that item\n",
        "print(\"Itemsize of a1: \", a1.itemsize, \" bytes\")\n",
        "print(\"Itemsize of a2: \", a2.itemsize, \" bytes\")\n",
        "print(\"Itemsize of a3: \", a3.itemsize, \" bytes\")"
      ],
      "metadata": {
        "colab": {
          "base_uri": "https://localhost:8080/"
        },
        "id": "1Ls_naA_-8xX",
        "outputId": "3ed60a39-1dd2-4889-9ead-140f3b6e742b"
      },
      "execution_count": 14,
      "outputs": [
        {
          "output_type": "stream",
          "name": "stdout",
          "text": [
            "Itemsize of a1:  8  bytes\n",
            "Itemsize of a2:  8  bytes\n",
            "Itemsize of a3:  8  bytes\n"
          ]
        }
      ]
    },
    {
      "cell_type": "code",
      "source": [
        "# dtype => datatype\n",
        "print(\"Datatype of a1: \", a1.dtype)\n",
        "print(\"Datatype of a2: \", a2.dtype)\n",
        "print(\"Datatype of a3: \", a3.dtype)"
      ],
      "metadata": {
        "colab": {
          "base_uri": "https://localhost:8080/"
        },
        "id": "AU3iAX1M_bDU",
        "outputId": "30f7b8b3-d251-4964-c481-4973b7b36f0b"
      },
      "execution_count": 15,
      "outputs": [
        {
          "output_type": "stream",
          "name": "stdout",
          "text": [
            "Datatype of a1:  int64\n",
            "Datatype of a2:  float64\n",
            "Datatype of a3:  int64\n"
          ]
        }
      ]
    },
    {
      "cell_type": "markdown",
      "source": [
        "## Summary of Chapter 2\n",
        "- `ndim`\n",
        "- `shape`\n",
        "- `size`\n",
        "- `itemsize`\n",
        "- `dtype`"
      ],
      "metadata": {
        "id": "C50awW_ZAl5n"
      }
    },
    {
      "cell_type": "markdown",
      "source": [
        "****"
      ],
      "metadata": {
        "id": "xdnsaEeWAz2O"
      }
    },
    {
      "cell_type": "markdown",
      "source": [
        "<div align = \"center\">\n",
        "  <h1><b> Chapter 3:</b> Changing Datatype</h1>\n",
        "</div>"
      ],
      "metadata": {
        "id": "VD16IklhA1gF"
      }
    },
    {
      "cell_type": "code",
      "source": [
        "# astype\n",
        "print(\"Datatype of a3: \", a3.dtype)\n",
        "# Changing my int64 datatype to int32\n",
        "a3 = a3.astype(np.int32)\n",
        "print(\"Datatype of a3: \", a3.dtype)"
      ],
      "metadata": {
        "id": "RradqxtW_nWh",
        "colab": {
          "base_uri": "https://localhost:8080/"
        },
        "outputId": "48c62618-ebca-4585-8db0-8628208a36f9"
      },
      "execution_count": 16,
      "outputs": [
        {
          "output_type": "stream",
          "name": "stdout",
          "text": [
            "Datatype of a3:  int64\n",
            "Datatype of a3:  int32\n"
          ]
        }
      ]
    },
    {
      "cell_type": "markdown",
      "source": [
        "Use this when you are too confident that you need to change the datatype.\n",
        "\n",
        "```\n",
        "data_structure.astype(np.datatype_you_want_to_change)\n",
        "```"
      ],
      "metadata": {
        "id": "lGssPoaaQT-O"
      }
    },
    {
      "cell_type": "markdown",
      "source": [
        "<div align = \"center\">\n",
        "  <h1><b> Chapter 4:</b> Array Operations</h1>\n",
        "</div>"
      ],
      "metadata": {
        "id": "z9ACQVf3Qio8"
      }
    },
    {
      "cell_type": "code",
      "source": [
        "a1 = np.arange(12).reshape(3,4)\n",
        "a2 = np.arange(12,24).reshape(3,4)"
      ],
      "metadata": {
        "id": "e-zhVGU9P7bc"
      },
      "execution_count": 17,
      "outputs": []
    },
    {
      "cell_type": "markdown",
      "source": [
        "## **Scaler Operations**"
      ],
      "metadata": {
        "id": "KASkJjQwQ0ue"
      }
    },
    {
      "cell_type": "code",
      "source": [
        "# Airthmetic Operations\n",
        "print(\"Addition: \")\n",
        "print(a1 + 2)\n",
        "print()\n",
        "print(\"Substraction: \")\n",
        "print(a1 - 2)\n",
        "print()\n",
        "print(\"Multiplication: \")\n",
        "print(a1 * 2)\n",
        "print()\n",
        "print(\"Division: \")\n",
        "print(a1 / 2)\n",
        "print()\n",
        "print(\"Modulo Division: \")\n",
        "print(a1 % 2)\n",
        "print()\n",
        "print(\"Exponent: \")\n",
        "print(a1 ** 2)"
      ],
      "metadata": {
        "colab": {
          "base_uri": "https://localhost:8080/"
        },
        "id": "jJ-owuWmQvEx",
        "outputId": "6ca3b313-7324-48f2-e587-f7783ebf335d"
      },
      "execution_count": 18,
      "outputs": [
        {
          "output_type": "stream",
          "name": "stdout",
          "text": [
            "Addition: \n",
            "[[ 2  3  4  5]\n",
            " [ 6  7  8  9]\n",
            " [10 11 12 13]]\n",
            "\n",
            "Substraction: \n",
            "[[-2 -1  0  1]\n",
            " [ 2  3  4  5]\n",
            " [ 6  7  8  9]]\n",
            "\n",
            "Multiplication: \n",
            "[[ 0  2  4  6]\n",
            " [ 8 10 12 14]\n",
            " [16 18 20 22]]\n",
            "\n",
            "Division: \n",
            "[[0.  0.5 1.  1.5]\n",
            " [2.  2.5 3.  3.5]\n",
            " [4.  4.5 5.  5.5]]\n",
            "\n",
            "Modulo Division: \n",
            "[[0 1 0 1]\n",
            " [0 1 0 1]\n",
            " [0 1 0 1]]\n",
            "\n",
            "Exponent: \n",
            "[[  0   1   4   9]\n",
            " [ 16  25  36  49]\n",
            " [ 64  81 100 121]]\n"
          ]
        }
      ]
    },
    {
      "cell_type": "markdown",
      "source": [
        "## **Relational Operators**"
      ],
      "metadata": {
        "id": "EkXcQN90RjPg"
      }
    },
    {
      "cell_type": "code",
      "source": [
        "print(\"Relational Operator - I: (a1 > 10)\")\n",
        "print(a1 > 10)\n",
        "print()\n",
        "print(\"Relational Operator - II: (a1 == a2)\")\n",
        "print(a1 == a2)\n",
        "print()\n",
        "print(\"Relational Operator - III: (a1 <= a2)\")\n",
        "print(a1 <= a2)"
      ],
      "metadata": {
        "colab": {
          "base_uri": "https://localhost:8080/"
        },
        "id": "cd0GxY2aRCsE",
        "outputId": "509f62f2-c85b-4a27-b9d3-dbff0708f432"
      },
      "execution_count": 19,
      "outputs": [
        {
          "output_type": "stream",
          "name": "stdout",
          "text": [
            "Relational Operator - I: (a1 > 10)\n",
            "[[False False False False]\n",
            " [False False False False]\n",
            " [False False False  True]]\n",
            "\n",
            "Relational Operator - II: (a1 == a2)\n",
            "[[False False False False]\n",
            " [False False False False]\n",
            " [False False False False]]\n",
            "\n",
            "Relational Operator - III: (a1 <= a2)\n",
            "[[ True  True  True  True]\n",
            " [ True  True  True  True]\n",
            " [ True  True  True  True]]\n"
          ]
        }
      ]
    },
    {
      "cell_type": "markdown",
      "source": [
        "## **Vector Operators**"
      ],
      "metadata": {
        "id": "SWdex9UxR6Xn"
      }
    },
    {
      "cell_type": "code",
      "source": [
        "print(\"Addition of two matrices: \")\n",
        "print(a1 + a2)\n",
        "print()\n",
        "print(\"Substraction of two matrices: \")\n",
        "print(a1 - a2)\n",
        "print()\n",
        "print(\"Product of two matrices: \")\n",
        "print(a1 * a2)\n",
        "print()\n",
        "print(\"Division of two matrices: \")\n",
        "print(a1 / a2)"
      ],
      "metadata": {
        "colab": {
          "base_uri": "https://localhost:8080/"
        },
        "id": "frCVUHGLR1so",
        "outputId": "b877c736-28f5-4249-d6e9-b29d80a2731b"
      },
      "execution_count": 20,
      "outputs": [
        {
          "output_type": "stream",
          "name": "stdout",
          "text": [
            "Addition of two matrices: \n",
            "[[12 14 16 18]\n",
            " [20 22 24 26]\n",
            " [28 30 32 34]]\n",
            "\n",
            "Substraction of two matrices: \n",
            "[[-12 -12 -12 -12]\n",
            " [-12 -12 -12 -12]\n",
            " [-12 -12 -12 -12]]\n",
            "\n",
            "Product of two matrices: \n",
            "[[  0  13  28  45]\n",
            " [ 64  85 108 133]\n",
            " [160 189 220 253]]\n",
            "\n",
            "Division of two matrices: \n",
            "[[0.         0.07692308 0.14285714 0.2       ]\n",
            " [0.25       0.29411765 0.33333333 0.36842105]\n",
            " [0.4        0.42857143 0.45454545 0.47826087]]\n"
          ]
        }
      ]
    },
    {
      "cell_type": "markdown",
      "source": [
        "<div align = \"center\">\n",
        "  <h1><b> Chapter 5:</b> Array Functions</h1>\n",
        "</div>"
      ],
      "metadata": {
        "id": "j58muw0mSgHN"
      }
    },
    {
      "cell_type": "code",
      "source": [
        "a1 = np.random.random((3,3))\n",
        "a2 = np.round(a1 * 100)\n",
        "print(\"First Array: \")\n",
        "print(a1)\n",
        "print()\n",
        "print(\"Second Array: \")\n",
        "print(a2)"
      ],
      "metadata": {
        "colab": {
          "base_uri": "https://localhost:8080/"
        },
        "id": "burwEmz4STKZ",
        "outputId": "6b6dc6d5-7141-4bd1-8880-b0bc16f54742"
      },
      "execution_count": 21,
      "outputs": [
        {
          "output_type": "stream",
          "name": "stdout",
          "text": [
            "First Array: \n",
            "[[0.00354675 0.92302373 0.72010414]\n",
            " [0.34811145 0.71498647 0.28859861]\n",
            " [0.11511915 0.4546415  0.39713882]]\n",
            "\n",
            "Second Array: \n",
            "[[ 0. 92. 72.]\n",
            " [35. 71. 29.]\n",
            " [12. 45. 40.]]\n"
          ]
        }
      ]
    },
    {
      "cell_type": "markdown",
      "source": [
        "## `max()`, `min()`, `sum()`, `prod()`"
      ],
      "metadata": {
        "id": "E59NQvC2S8z1"
      }
    },
    {
      "cell_type": "code",
      "source": [
        "print(\"Maximum Element in first array: \", np.max(a1))\n",
        "print(\"Minimum Element in first array: \", np.min(a1))\n",
        "print(\"Sum of all elements in first array: \", np.sum(a1))\n",
        "print(\"Product of all elements in first array: \", np.prod(a1))\n",
        "print()\n",
        "\"\"\"\n",
        "AXIS CONCEPT:\n",
        "0: Column\n",
        "1: Row\n",
        "\"\"\"\n",
        "print(\"----------------- Applying all functions for each Row -----------------\")\n",
        "print(\"Maximum Element in first array: \", np.max(a1, axis = 1))\n",
        "print(\"Minimum Element in first array: \", np.min(a1))\n",
        "print(\"Sum of all elements in first array: \", np.sum(a1, axis = 1))\n",
        "print(\"Product of all elements in first array: \", np.prod(a1, axis = 1))\n",
        "print()\n",
        "print(\"----------------- Applying all functions for each Column -----------------\")\n",
        "print(\"Maximum Element in first array: \", np.max(a1, axis = 0))\n",
        "print(\"Minimum Element in first array: \", np.min(a1, axis = 0))\n",
        "print(\"Sum of all elements in first array: \", np.sum(a1, axis = 0))\n",
        "print(\"Product of all elements in first array: \", np.prod(a1, axis = 0))"
      ],
      "metadata": {
        "colab": {
          "base_uri": "https://localhost:8080/"
        },
        "id": "fuNOl_r-SuW_",
        "outputId": "08d28d8a-9454-43bd-f006-6a161fe71f4b"
      },
      "execution_count": 22,
      "outputs": [
        {
          "output_type": "stream",
          "name": "stdout",
          "text": [
            "Maximum Element in first array:  0.9230237307415929\n",
            "Minimum Element in first array:  0.0035467542135398933\n",
            "Sum of all elements in first array:  3.965270618948874\n",
            "Product of all elements in first array:  3.519724167982609e-06\n",
            "\n",
            "----------------- Applying all functions for each Row -----------------\n",
            "Maximum Element in first array:  [0.92302373 0.71498647 0.4546415 ]\n",
            "Minimum Element in first array:  0.0035467542135398933\n",
            "Sum of all elements in first array:  [1.64667462 1.35169652 0.96689947]\n",
            "Product of all elements in first array:  [0.00235743 0.07183074 0.02078543]\n",
            "\n",
            "----------------- Applying all functions for each Column -----------------\n",
            "Maximum Element in first array:  [0.34811145 0.92302373 0.72010414]\n",
            "Minimum Element in first array:  [0.00354675 0.4546415  0.28859861]\n",
            "Sum of all elements in first array:  [0.46677736 2.0926517  1.40584156]\n",
            "Product of all elements in first array:  [1.42133676e-04 3.00040419e-01 8.25338070e-02]\n"
          ]
        }
      ]
    },
    {
      "cell_type": "markdown",
      "source": [
        "## `mean()`, `median()`, `std()`, `var()`"
      ],
      "metadata": {
        "id": "kbvb12JTTimn"
      }
    },
    {
      "cell_type": "code",
      "source": [
        "print(\"Mean of whole array: \", np.mean(a1))\n",
        "print(\"Mediam of whole array: \", np.median(a1))\n",
        "print(\"Stadard Deviation of whole array: \", np.std(a1))\n",
        "print(\"Variance of whole array: \", np.var(a1))\n",
        "print()\n",
        "print(\"----------------- Applying all functions for each Row -----------------\")\n",
        "print(\"Mean of whole array: \", np.mean(a1, axis = 1))\n",
        "print(\"Mediam of whole array: \", np.median(a1, axis = 1))\n",
        "print(\"Stadard Deviation of whole array: \", np.std(a1, axis = 1))\n",
        "print(\"Variance of whole array: \", np.var(a1, axis = 1))\n",
        "print()\n",
        "print(\"----------------- Applying all functions for each Column -----------------\")\n",
        "print(\"Mean of whole array: \", np.mean(a1, axis = 0))\n",
        "print(\"Mediam of whole array: \", np.median(a1, axis = 0))\n",
        "print(\"Stadard Deviation of whole array: \", np.std(a1, axis = 0))\n",
        "print(\"Variance of whole array: \", np.var(a1, axis = 0))"
      ],
      "metadata": {
        "colab": {
          "base_uri": "https://localhost:8080/"
        },
        "id": "e1YIiJZKTa_y",
        "outputId": "f97a02cc-fb7c-4710-b36f-dd49712e43fc"
      },
      "execution_count": 23,
      "outputs": [
        {
          "output_type": "stream",
          "name": "stdout",
          "text": [
            "Mean of whole array:  0.44058562432765264\n",
            "Mediam of whole array:  0.397138823000579\n",
            "Stadard Deviation of whole array:  0.28222155690072637\n",
            "Variance of whole array:  0.07964900717946993\n",
            "\n",
            "----------------- Applying all functions for each Row -----------------\n",
            "Mean of whole array:  [0.54889154 0.45056551 0.32229982]\n",
            "Mediam of whole array:  [0.72010414 0.34811145 0.39713882]\n",
            "Stadard Deviation of whole array:  [0.394415   0.1885458  0.14836781]\n",
            "Variance of whole array:  [0.15556319 0.03554952 0.02201301]\n",
            "\n",
            "----------------- Applying all functions for each Column -----------------\n",
            "Mean of whole array:  [0.15559245 0.69755057 0.46861385]\n",
            "Mediam of whole array:  [0.11511915 0.71498647 0.39713882]\n",
            "Stadard Deviation of whole array:  [0.1435497  0.1916133  0.18326805]\n",
            "Variance of whole array:  [0.02060652 0.03671566 0.03358718]\n"
          ]
        }
      ]
    },
    {
      "cell_type": "markdown",
      "source": [
        "## Trignometric Functions"
      ],
      "metadata": {
        "id": "b39pd1KYV1wp"
      }
    },
    {
      "cell_type": "code",
      "source": [
        "print(\"Sin Values of whole array: \", np.sin(a1))\n",
        "print()\n",
        "print(\"Cos Values of whole array: \", np.cos(a1))\n",
        "print()\n",
        "print(\"Tan Values of whole array: \", np.tan(a1))"
      ],
      "metadata": {
        "colab": {
          "base_uri": "https://localhost:8080/"
        },
        "id": "CV93hNJuVOXC",
        "outputId": "018114fc-1cf8-42ca-df57-bfb8519c081f"
      },
      "execution_count": 24,
      "outputs": [
        {
          "output_type": "stream",
          "name": "stdout",
          "text": [
            "Sin Values of whole array:  [[0.00354675 0.79742982 0.65946296]\n",
            " [0.34112314 0.6556072  0.28460907]\n",
            " [0.11486505 0.43914026 0.38678143]]\n",
            "\n",
            "Cos Values of whole array:  [[0.99999371 0.60341171 0.75173706]\n",
            " [0.94001862 0.75510211 0.95864367]\n",
            " [0.9933811  0.89841852 0.92217142]]\n",
            "\n",
            "Tan Values of whole array:  [[0.00354677 1.32153521 0.87725216]\n",
            " [0.36288978 0.86823648 0.29688723]\n",
            " [0.1156304  0.48879253 0.41942466]]\n"
          ]
        }
      ]
    },
    {
      "cell_type": "markdown",
      "source": [
        "## Dot Product"
      ],
      "metadata": {
        "id": "9AKKMF5pWEjt"
      }
    },
    {
      "cell_type": "code",
      "source": [
        "a2 = np.arange(12).reshape(3,4)\n",
        "a3 = np.arange(12, 24).reshape(4,3)\n",
        "print(\"First Array: \")\n",
        "print(a2)\n",
        "print()\n",
        "print(\"Second Array: \")\n",
        "print(a3)\n",
        "print()\n",
        "print(\"Dot Product of two arrays: \")\n",
        "print(np.dot(a2, a3))"
      ],
      "metadata": {
        "colab": {
          "base_uri": "https://localhost:8080/"
        },
        "id": "xUbiljinWBDd",
        "outputId": "cae5cf56-8182-4f35-8d8f-0aeed82ceaca"
      },
      "execution_count": 25,
      "outputs": [
        {
          "output_type": "stream",
          "name": "stdout",
          "text": [
            "First Array: \n",
            "[[ 0  1  2  3]\n",
            " [ 4  5  6  7]\n",
            " [ 8  9 10 11]]\n",
            "\n",
            "Second Array: \n",
            "[[12 13 14]\n",
            " [15 16 17]\n",
            " [18 19 20]\n",
            " [21 22 23]]\n",
            "\n",
            "Dot Product of two arrays: \n",
            "[[114 120 126]\n",
            " [378 400 422]\n",
            " [642 680 718]]\n"
          ]
        }
      ]
    },
    {
      "cell_type": "markdown",
      "source": [
        "## Logarithmic and Exponents"
      ],
      "metadata": {
        "id": "atDmGKTMWnD7"
      }
    },
    {
      "cell_type": "code",
      "source": [
        "print(\"Log Values of Array: \", np.log(a1))\n",
        "print()\n",
        "print(\"Exponent values of Array: \", np.exp(a1))"
      ],
      "metadata": {
        "colab": {
          "base_uri": "https://localhost:8080/"
        },
        "id": "BC8rLbdpWZuY",
        "outputId": "0c7236fc-ae32-4c88-8f93-a7a9348ddff6"
      },
      "execution_count": 26,
      "outputs": [
        {
          "output_type": "stream",
          "name": "stdout",
          "text": [
            "Log Values of Array:  [[-5.6417224  -0.08010033 -0.32835944]\n",
            " [-1.05523259 -0.33549166 -1.24271846]\n",
            " [-2.16178757 -0.78824609 -0.92346938]]\n",
            "\n",
            "Exponent values of Array:  [[1.00355305 2.51688929 2.05464716]\n",
            " [1.4163901  2.04415902 1.33455594]\n",
            " [1.12200712 1.57560842 1.48756242]]\n"
          ]
        }
      ]
    },
    {
      "cell_type": "markdown",
      "source": [
        "## `round()`, `floor()`, `ceil()`"
      ],
      "metadata": {
        "id": "FYdKTwzPW51a"
      }
    },
    {
      "cell_type": "code",
      "source": [
        "print(\"Rounded Values: \")\n",
        "print(np.round(np.random.random((2,3))*100))\n",
        "print()\n",
        "print(\"Floor Values: \")\n",
        "print(np.floor(np.random.random((2,3))*100))\n",
        "print()\n",
        "print(\"Ceil Values: \")\n",
        "print(np.ceil(np.random.random((2,3))*100))"
      ],
      "metadata": {
        "colab": {
          "base_uri": "https://localhost:8080/"
        },
        "id": "76znVLu4W3--",
        "outputId": "0b77e946-9ed8-4921-dbc3-9fd03a5c9add"
      },
      "execution_count": 27,
      "outputs": [
        {
          "output_type": "stream",
          "name": "stdout",
          "text": [
            "Rounded Values: \n",
            "[[43. 33. 94.]\n",
            " [77. 78. 59.]]\n",
            "\n",
            "Floor Values: \n",
            "[[49. 38. 82.]\n",
            " [74. 74. 66.]]\n",
            "\n",
            "Ceil Values: \n",
            "[[30. 54. 56.]\n",
            " [87. 69. 89.]]\n"
          ]
        }
      ]
    },
    {
      "cell_type": "markdown",
      "source": [
        "<div align = \"center\">\n",
        "  <h1><b> Chapter 6:</b> Indexing and Slicing</h1>\n",
        "</div>"
      ],
      "metadata": {
        "id": "j8c0pFl0X0Vz"
      }
    },
    {
      "cell_type": "code",
      "source": [
        "a1 = np.arange(10)\n",
        "a2 = np.arange(12).reshape(3,4)\n",
        "a3 = np.arange(8).reshape(2,2,2)\n",
        "print(\"First Array: \")\n",
        "print(a1)\n",
        "print()\n",
        "print(\"Second Array: \")\n",
        "print(a2)\n",
        "print()\n",
        "print(\"Third Array: \")\n",
        "print(a3)"
      ],
      "metadata": {
        "colab": {
          "base_uri": "https://localhost:8080/"
        },
        "id": "iKf4QJijXSh2",
        "outputId": "acc771e3-6037-4284-f61a-b640e9bec848"
      },
      "execution_count": 28,
      "outputs": [
        {
          "output_type": "stream",
          "name": "stdout",
          "text": [
            "First Array: \n",
            "[0 1 2 3 4 5 6 7 8 9]\n",
            "\n",
            "Second Array: \n",
            "[[ 0  1  2  3]\n",
            " [ 4  5  6  7]\n",
            " [ 8  9 10 11]]\n",
            "\n",
            "Third Array: \n",
            "[[[0 1]\n",
            "  [2 3]]\n",
            "\n",
            " [[4 5]\n",
            "  [6 7]]]\n"
          ]
        }
      ]
    },
    {
      "cell_type": "markdown",
      "source": [
        "## **Indexing:** Use to extract one item at a time"
      ],
      "metadata": {
        "id": "heqY5LeYYByJ"
      }
    },
    {
      "cell_type": "code",
      "source": [
        "print(\"Indexing on First Dimensional Array: dim = 1 (Vector or 1D Tensor)\")\n",
        "print(\"First Element: \", a1[0])\n",
        "print(\"Last Element: \", a1[-1])"
      ],
      "metadata": {
        "id": "1Pwd1bQhYAYF",
        "colab": {
          "base_uri": "https://localhost:8080/"
        },
        "outputId": "5be5d0bc-bed5-4dd5-f6de-ac22e5d18597"
      },
      "execution_count": 29,
      "outputs": [
        {
          "output_type": "stream",
          "name": "stdout",
          "text": [
            "Indexing on First Dimensional Array: dim = 1 (Vector or 1D Tensor)\n",
            "First Element:  0\n",
            "Last Element:  9\n"
          ]
        }
      ]
    },
    {
      "cell_type": "code",
      "source": [
        "print(\"Indexing on Second Dimensional Array: dim = 2 (Matrix or 2D Tensor)\")\n",
        "print(\"Second Dimensional Array: \")\n",
        "print(a2)\n",
        "print()\n",
        "print(\"Extracting the element (element = 6): \", a2[1,2])\n",
        "print(\"Extracting the element (element = 11): \", a2[2, 3])\n",
        "print(\"Extracting the element (element = 4): \", a2[1,0])"
      ],
      "metadata": {
        "colab": {
          "base_uri": "https://localhost:8080/"
        },
        "id": "vW1bWsu6pUJb",
        "outputId": "669e1cfa-2106-4cee-d8f9-2f3cbea95fa0"
      },
      "execution_count": 30,
      "outputs": [
        {
          "output_type": "stream",
          "name": "stdout",
          "text": [
            "Indexing on Second Dimensional Array: dim = 2 (Matrix or 2D Tensor)\n",
            "Second Dimensional Array: \n",
            "[[ 0  1  2  3]\n",
            " [ 4  5  6  7]\n",
            " [ 8  9 10 11]]\n",
            "\n",
            "Extracting the element (element = 6):  6\n",
            "Extracting the element (element = 11):  11\n",
            "Extracting the element (element = 4):  4\n"
          ]
        }
      ]
    },
    {
      "cell_type": "code",
      "source": [
        "print(\"Indexing on Three Dimensional Array: dim = 3 (3D Tensor)\")\n",
        "print(\"Three Dimensional Array: \")\n",
        "print(a3)\n",
        "print()\n",
        "\"\"\"\n",
        "3D Tensor Consist of two 2D tensors.\n",
        "Algorithm:\n",
        "Step 1: Ask which 2D array the element is\n",
        "Repeat the process for that 2D array\n",
        "Step 2: Ask which row the element is\n",
        "Step 3: Ask which column the element is\n",
        "\"\"\"\n",
        "print(\"Extracting the element (element = 5): \", a3[1, 0, 1])\n",
        "print(\"Extracting the element (element = 2): \", a3[0, 1, 0])\n",
        "print(\"Extracting the element (element = 0): \", a3[0, 0, 0])\n",
        "print(\"Extracting the element (element = 6): \", a3[1, 1, 0])"
      ],
      "metadata": {
        "colab": {
          "base_uri": "https://localhost:8080/"
        },
        "id": "BFVRoEuJpi8Y",
        "outputId": "0f804f5e-e451-4fd5-9d42-f288d4f184d9"
      },
      "execution_count": 31,
      "outputs": [
        {
          "output_type": "stream",
          "name": "stdout",
          "text": [
            "Indexing on Three Dimensional Array: dim = 3 (3D Tensor)\n",
            "Three Dimensional Array: \n",
            "[[[0 1]\n",
            "  [2 3]]\n",
            "\n",
            " [[4 5]\n",
            "  [6 7]]]\n",
            "\n",
            "Extracting the element (element = 5):  5\n",
            "Extracting the element (element = 2):  2\n",
            "Extracting the element (element = 0):  0\n",
            "Extracting the element (element = 6):  6\n"
          ]
        }
      ]
    },
    {
      "cell_type": "markdown",
      "source": [
        "## **Slicing:** Use to extract multiple item at one time\n",
        "\n",
        "- **Generalized 2D Slicing**:\n",
        "```\n",
        "array[row_start:row_end:row_step, col_start:col_end:col_step]\n",
        "```\n",
        "- **Generalized 3D Slicing**:\n",
        "```\n",
        "array[\n",
        "    depth_start:depth_end:depth_step,\n",
        "    row_start:row_end:row_step,\n",
        "    col_start:col_end:col_step\n",
        "]\n",
        "```\n",
        "\n",
        "**NOTE:**\n",
        "- `depth` used for extracting 2D arrays in 3D array.\n",
        "- 3D arrays is the combinations of 2D arrays\n",
        "- `:` indicates all\n",
        "- `0::n` = `::n`\n",
        "- `:` = `::` it means all select"
      ],
      "metadata": {
        "id": "1VFlpXaWr1zd"
      }
    },
    {
      "cell_type": "code",
      "source": [
        "print(\"Slicing on First Dimensional Array: dim = 1 (Vector or 1D Tensor)\")\n",
        "print(\"First Dimensional Array: \", a1)\n",
        "print()\n",
        "print(\"Extracting (elements = 2,3,4): \", a1[2:5])\n",
        "print(\"Extracting (elements = 2,3,4) adding stride = 2: \", a1[2 : 5: 2])"
      ],
      "metadata": {
        "colab": {
          "base_uri": "https://localhost:8080/"
        },
        "id": "3q62QRlNqhch",
        "outputId": "4c1a824d-4a61-4e35-8afc-3506cf3a8139"
      },
      "execution_count": 32,
      "outputs": [
        {
          "output_type": "stream",
          "name": "stdout",
          "text": [
            "Slicing on First Dimensional Array: dim = 1 (Vector or 1D Tensor)\n",
            "First Dimensional Array:  [0 1 2 3 4 5 6 7 8 9]\n",
            "\n",
            "Extracting (elements = 2,3,4):  [2 3 4]\n",
            "Extracting (elements = 2,3,4) adding stride = 2:  [2 4]\n"
          ]
        }
      ]
    },
    {
      "cell_type": "code",
      "source": [
        "print(\"Slicing on Second Dimensional Array: dim = 2 (Matrix or 2D Tensor)\")\n",
        "print(\"Second Dimensional Array: \")\n",
        "print(a2)\n",
        "print()\n",
        "\n",
        "# array[row_start:row_end:row_step, col_start:col_end:col_step]\n",
        "\n",
        "print(\"Extracting First Row: \")\n",
        "print(a2[0,:])\n",
        "print()\n",
        "print(\"Extracting third Column: \")\n",
        "print(a2[:, 2])\n",
        "print()\n",
        "print(\"Extracting [5, 6, 9, 10]: \")\n",
        "print(a2[1:, 1:3])\n",
        "print()\n",
        "print(\"Extracting [0, 3, 8, 11]: \")\n",
        "print(a2[0::2, 0::3])\n",
        "print()\n",
        "print(\"Extracting [0, 3, 8, 11]: {Another Method}\")\n",
        "print(a2[::2, ::3])\n",
        "print()\n",
        "print(\"Extracting [1, 3, 9, 11]: \")\n",
        "print(a2[0::2, 1::2])\n",
        "print()\n",
        "print(\"Extracting [1, 3, 9, 11]: {Another Method}\")\n",
        "print(a2[::2, 1::2])\n",
        "print()\n",
        "print(\"Extracting [4, 7]: \")\n",
        "print(a2[1, 0::3])\n",
        "print()\n",
        "print(\"Extracting [4, 7]: {Another Method}\")\n",
        "print(a2[1, ::3])\n",
        "print()\n",
        "print(\"Extracting [[1, 2, 3][5, 6, 7]]: \")\n",
        "print(a2[0:2, 1::])\n",
        "print()\n",
        "print(\"Extracting [[1, 2, 3][5, 6, 7]]: {Another Method}\")\n",
        "print(a2[:2, 1::])"
      ],
      "metadata": {
        "colab": {
          "base_uri": "https://localhost:8080/"
        },
        "id": "LBEbABFEsWLr",
        "outputId": "65dd09db-d33f-4ff8-cc47-f63117521f35"
      },
      "execution_count": 37,
      "outputs": [
        {
          "output_type": "stream",
          "name": "stdout",
          "text": [
            "Slicing on Second Dimensional Array: dim = 2 (Matrix or 2D Tensor)\n",
            "Second Dimensional Array: \n",
            "[[ 0  1  2  3]\n",
            " [ 4  5  6  7]\n",
            " [ 8  9 10 11]]\n",
            "\n",
            "Extracting First Row: \n",
            "[0 1 2 3]\n",
            "\n",
            "Extracting third Column: \n",
            "[ 2  6 10]\n",
            "\n",
            "Extracting [5, 6, 9, 10]: \n",
            "[[ 5  6]\n",
            " [ 9 10]]\n",
            "\n",
            "Extracting [0, 3, 8, 11]: \n",
            "[[ 0  3]\n",
            " [ 8 11]]\n",
            "\n",
            "Extracting [0, 3, 8, 11]: {Another Method}\n",
            "[[ 0  3]\n",
            " [ 8 11]]\n",
            "\n",
            "Extracting [1, 3, 9, 11]: \n",
            "[[ 1  3]\n",
            " [ 9 11]]\n",
            "\n",
            "Extracting [1, 3, 9, 11]: {Another Method}\n",
            "[[ 1  3]\n",
            " [ 9 11]]\n",
            "\n",
            "Extracting [4, 7]: \n",
            "[4 7]\n",
            "\n",
            "Extracting [4, 7]: {Another Method}\n",
            "[4 7]\n",
            "\n",
            "Extracting [[1, 2, 3][5, 6, 7]]: \n",
            "[[1 2 3]\n",
            " [5 6 7]]\n",
            "\n",
            "Extracting [[1, 2, 3][5, 6, 7]]: {Another Method}\n",
            "[[1 2 3]\n",
            " [5 6 7]]\n"
          ]
        }
      ]
    },
    {
      "cell_type": "code",
      "source": [
        "print(\"Slicing on Three Dimensional Array: dim = 2 (3D Tensor)\")\n",
        "print(\"Three Dimensional Array: \")\n",
        "print(a3)\n",
        "print()\n",
        "\n",
        "\"\"\"\n",
        "array[\n",
        "    depth_start:depth_end:depth_step,\n",
        "    row_start:row_end:row_step,\n",
        "    col_start:col_end:col_step\n",
        "]\n",
        "\"\"\"\n",
        "print(\"Making a new 3D Array: \")\n",
        "a3 = np.arange(27).reshape(3, 3, 3)\n",
        "print(a3)\n",
        "print()\n",
        "# a3 contains of three 2D numpy arrays"
      ],
      "metadata": {
        "id": "s2RwldRQswLy",
        "colab": {
          "base_uri": "https://localhost:8080/"
        },
        "outputId": "753f14aa-edb3-4449-f2da-de5e44966d6c"
      },
      "execution_count": 42,
      "outputs": [
        {
          "output_type": "stream",
          "name": "stdout",
          "text": [
            "Slicing on Three Dimensional Array: dim = 2 (3D Tensor)\n",
            "Three Dimensional Array: \n",
            "[[[ 0  1  2]\n",
            "  [ 3  4  5]\n",
            "  [ 6  7  8]]\n",
            "\n",
            " [[ 9 10 11]\n",
            "  [12 13 14]\n",
            "  [15 16 17]]\n",
            "\n",
            " [[18 19 20]\n",
            "  [21 22 23]\n",
            "  [24 25 26]]]\n",
            "\n",
            "Making a new 3D Array: \n",
            "[[[ 0  1  2]\n",
            "  [ 3  4  5]\n",
            "  [ 6  7  8]]\n",
            "\n",
            " [[ 9 10 11]\n",
            "  [12 13 14]\n",
            "  [15 16 17]]\n",
            "\n",
            " [[18 19 20]\n",
            "  [21 22 23]\n",
            "  [24 25 26]]]\n",
            "\n"
          ]
        }
      ]
    },
    {
      "cell_type": "code",
      "source": [
        "print(\"Extract [[ 9 10 11][12 13 14][15 16 17]]:\")\n",
        "print(a3[1])\n",
        "print()\n",
        "print(\"Extracting - II\")\n",
        "print(a3[0::2])\n",
        "print()\n",
        "print(\"Extracting - [3, 4, 5] {As a 2D array}\")\n",
        "print(a3[0, 1::2])\n",
        "print()\n",
        "print(\"Extracting - [3, 4, 5] {Another Method as a 1D array}: \")\n",
        "print(a3[0, 1, :])\n",
        "print()\n",
        "print(\"Extracting the middle column of second's array: [10 13 16]: \")\n",
        "print(a3[1, :, 1])\n",
        "print()\n",
        "print(\"Extracting [22, 23, 25, 26]: \")\n",
        "print(a3[2, 1::, 1::])\n",
        "print()\n",
        "print(\"Extracting [22, 23, 25, 26] {Another Method}: \")\n",
        "print(a3[2, 1:, 1:])\n",
        "print()\n",
        "print(\"Extracting [0, 2, 18, 20]: \")\n",
        "print(a3[0::2, 0, 0::2])"
      ],
      "metadata": {
        "colab": {
          "base_uri": "https://localhost:8080/"
        },
        "id": "kc6VfIymeeLS",
        "outputId": "debf00c2-7dc4-463a-dc34-5a8a171f18b7"
      },
      "execution_count": 57,
      "outputs": [
        {
          "output_type": "stream",
          "name": "stdout",
          "text": [
            "Extract [[ 9 10 11][12 13 14][15 16 17]]:\n",
            "[[ 9 10 11]\n",
            " [12 13 14]\n",
            " [15 16 17]]\n",
            "\n",
            "Extracting - II\n",
            "[[[ 0  1  2]\n",
            "  [ 3  4  5]\n",
            "  [ 6  7  8]]\n",
            "\n",
            " [[18 19 20]\n",
            "  [21 22 23]\n",
            "  [24 25 26]]]\n",
            "\n",
            "Extracting - [3, 4, 5] {As a 2D array}\n",
            "[[3 4 5]]\n",
            "\n",
            "Extracting - [3, 4, 5] {Another Method as a 1D array}: \n",
            "[3 4 5]\n",
            "\n",
            "Extracting the middle column of second's array: [10 13 16]: \n",
            "[10 13 16]\n",
            "\n",
            "Extracting [22, 23, 25, 26]: \n",
            "[[22 23]\n",
            " [25 26]]\n",
            "\n",
            "Extracting [22, 23, 25, 26] {Another Method}: \n",
            "[[22 23]\n",
            " [25 26]]\n",
            "\n",
            "Extracting [0, 2, 18, 20]: \n",
            "[[ 0  2]\n",
            " [18 20]]\n"
          ]
        }
      ]
    },
    {
      "cell_type": "markdown",
      "source": [
        "<div align = \"center\">\n",
        "  <h1><b> Chapter 7:</b> Iterating</h1>\n",
        "</div>\n",
        "\n",
        "NOTE:\n",
        "- When you iterate 1D array: it will print each element\n",
        "- When you iterate 2D array: it will print each row\n",
        "- When you iterate 3D array: it will print each 2D array"
      ],
      "metadata": {
        "id": "gleVmaD8kNt7"
      }
    },
    {
      "cell_type": "code",
      "source": [
        "print(\"Iterating First Dimensional Array: \")\n",
        "for i in a1:\n",
        "  print(i)"
      ],
      "metadata": {
        "colab": {
          "base_uri": "https://localhost:8080/"
        },
        "id": "Jr-4vl1sgf20",
        "outputId": "0f28c52a-2d1f-4359-c7d8-536d4fdfce4b"
      },
      "execution_count": 62,
      "outputs": [
        {
          "output_type": "stream",
          "name": "stdout",
          "text": [
            "Iterating First Dimensional Array: \n",
            "0\n",
            "1\n",
            "2\n",
            "3\n",
            "4\n",
            "5\n",
            "6\n",
            "7\n",
            "8\n",
            "9\n"
          ]
        }
      ]
    },
    {
      "cell_type": "code",
      "source": [
        "print(\"Iterating Second Dimensional Array: \")\n",
        "for i in a2:\n",
        "  print(i)"
      ],
      "metadata": {
        "colab": {
          "base_uri": "https://localhost:8080/"
        },
        "id": "zNX-LjBOkhd5",
        "outputId": "3c610a0b-f023-4ddb-885b-74d65940537d"
      },
      "execution_count": 64,
      "outputs": [
        {
          "output_type": "stream",
          "name": "stdout",
          "text": [
            "Iterating Second Dimensional Array: \n",
            "[0 1 2 3]\n",
            "[4 5 6 7]\n",
            "[ 8  9 10 11]\n"
          ]
        }
      ]
    },
    {
      "cell_type": "code",
      "source": [
        "print(\"Iterating Three Dimensional Array: \")\n",
        "for i in a3:\n",
        "  print(i)"
      ],
      "metadata": {
        "colab": {
          "base_uri": "https://localhost:8080/"
        },
        "id": "zaqfA7qekt4m",
        "outputId": "a16d0669-c122-4687-804c-9ee62e40488c"
      },
      "execution_count": 65,
      "outputs": [
        {
          "output_type": "stream",
          "name": "stdout",
          "text": [
            "Iterating Three Dimensional Array: \n",
            "[[0 1 2]\n",
            " [3 4 5]\n",
            " [6 7 8]]\n",
            "[[ 9 10 11]\n",
            " [12 13 14]\n",
            " [15 16 17]]\n",
            "[[18 19 20]\n",
            " [21 22 23]\n",
            " [24 25 26]]\n"
          ]
        }
      ]
    },
    {
      "cell_type": "code",
      "source": [
        "print(\"Iterating to each element or item of Three Dimensional Array: \")\n",
        "for i in np.nditer(a3):\n",
        "  print(i)"
      ],
      "metadata": {
        "colab": {
          "base_uri": "https://localhost:8080/"
        },
        "id": "QNTuD2glk2k2",
        "outputId": "523aab1b-1c6f-4b50-b4ae-95debda3d75a"
      },
      "execution_count": 67,
      "outputs": [
        {
          "output_type": "stream",
          "name": "stdout",
          "text": [
            "Iterating to each element or item of Three Dimensional Array: \n",
            "0\n",
            "1\n",
            "2\n",
            "3\n",
            "4\n",
            "5\n",
            "6\n",
            "7\n",
            "8\n",
            "9\n",
            "10\n",
            "11\n",
            "12\n",
            "13\n",
            "14\n",
            "15\n",
            "16\n",
            "17\n",
            "18\n",
            "19\n",
            "20\n",
            "21\n",
            "22\n",
            "23\n",
            "24\n",
            "25\n",
            "26\n"
          ]
        }
      ]
    },
    {
      "cell_type": "markdown",
      "source": [
        "<div align = \"center\">\n",
        "  <h1><b> Chapter 8:</b> Reshaping</h1>\n",
        "</div>"
      ],
      "metadata": {
        "id": "ooktRxWXlcM7"
      }
    },
    {
      "cell_type": "code",
      "source": [
        "# reshape function\n",
        "\"\"\"\n",
        "We have learned this above refer to that\n",
        "\"\"\""
      ],
      "metadata": {
        "colab": {
          "base_uri": "https://localhost:8080/",
          "height": 36
        },
        "id": "PzJYYa36lBok",
        "outputId": "a580974b-e9c7-4995-bbe4-00a077a4cb2d"
      },
      "execution_count": 68,
      "outputs": [
        {
          "output_type": "execute_result",
          "data": {
            "text/plain": [
              "'\\nWe have learned this above refer to that\\n'"
            ],
            "application/vnd.google.colaboratory.intrinsic+json": {
              "type": "string"
            }
          },
          "metadata": {},
          "execution_count": 68
        }
      ]
    },
    {
      "cell_type": "code",
      "source": [
        "# Transpose: It transforms the matrix\n",
        "print(\"Original Matrix: \")\n",
        "print(a2)\n",
        "print()\n",
        "print(\"Transposed Matrix: \")\n",
        "print(np.transpose(a2))\n",
        "print()\n",
        "print(\"Transposed Matrix: {Another Method}\")\n",
        "print(a2.T)"
      ],
      "metadata": {
        "colab": {
          "base_uri": "https://localhost:8080/"
        },
        "id": "5QkNMgecl3yQ",
        "outputId": "8cbffe53-447d-44e4-93f9-79a32ec29f28"
      },
      "execution_count": 71,
      "outputs": [
        {
          "output_type": "stream",
          "name": "stdout",
          "text": [
            "Original Matrix: \n",
            "[[ 0  1  2  3]\n",
            " [ 4  5  6  7]\n",
            " [ 8  9 10 11]]\n",
            "\n",
            "Transposed Matrix: \n",
            "[[ 0  4  8]\n",
            " [ 1  5  9]\n",
            " [ 2  6 10]\n",
            " [ 3  7 11]]\n",
            "\n",
            "Transposed Matrix: {Another Method}\n",
            "[[ 0  4  8]\n",
            " [ 1  5  9]\n",
            " [ 2  6 10]\n",
            " [ 3  7 11]]\n"
          ]
        }
      ]
    },
    {
      "cell_type": "code",
      "source": [
        "# Ravel: It convert an array of any dimensional to 1 dimensional array\n",
        "print(\"Original Matrix: \")\n",
        "print(a3)\n",
        "print()\n",
        "print(\"Ravelled Matrix: \")\n",
        "print(a3.ravel())"
      ],
      "metadata": {
        "colab": {
          "base_uri": "https://localhost:8080/"
        },
        "id": "Y2kkmFz4mSG8",
        "outputId": "f9cb822d-a606-4de6-aa97-fc6e4698e578"
      },
      "execution_count": 72,
      "outputs": [
        {
          "output_type": "stream",
          "name": "stdout",
          "text": [
            "Original Matrix: \n",
            "[[[ 0  1  2]\n",
            "  [ 3  4  5]\n",
            "  [ 6  7  8]]\n",
            "\n",
            " [[ 9 10 11]\n",
            "  [12 13 14]\n",
            "  [15 16 17]]\n",
            "\n",
            " [[18 19 20]\n",
            "  [21 22 23]\n",
            "  [24 25 26]]]\n",
            "\n",
            "Ravelled Matrix: \n",
            "[ 0  1  2  3  4  5  6  7  8  9 10 11 12 13 14 15 16 17 18 19 20 21 22 23\n",
            " 24 25 26]\n"
          ]
        }
      ]
    },
    {
      "cell_type": "markdown",
      "source": [
        "<div align = \"center\">\n",
        "  <h1><b> Chapter 9:</b> Stacking</h1>\n",
        "</div>"
      ],
      "metadata": {
        "id": "Ub3Zm9l7lizw"
      }
    },
    {
      "cell_type": "markdown",
      "source": [
        "![Screenshot (98).png](data:image/png;base64,iVBORw0KGgoAAAANSUhEUgAAApUAAAEjCAYAAABjKvpSAAAAAXNSR0IArs4c6QAAAARnQU1BAACxjwv8YQUAAAAJcEhZcwAADsMAAA7DAcdvqGQAAP+lSURBVHhe7N1nXJPX28DxH0lIAmEHCLIRFBUVJypqnbVVK47WWbVVq9ZRu3drd/t0126rtnbZbbez7r1FRUVRkSEBAgQIkJAAzwtQIQnI0tq/5+uHN4mMO/e5z7nOuo6Dh4dnBYIgCIIgCILQBBLrFwRBEARBEAShoURQKQiCIAiCIDSZCCoFQRAEQRCEJhNBpSAIgiAIgtBkIqgUBEEQBEEQmkwElYIgCIIgCEKTiaBSEARBEARBaDIRVAqCIAiCIAhNJoJKQRAEQRAEoclEUCkIgiAIgiA0mQgqBUEQBEEQhCYTQaUgCIIgCILQZCKoFARBEARBEJpMBJWCIAiCIAhCk4mgUhAEQRAEQWgyEVQKgiAIgiAITSaCSkEQBEEQBKHJRFApCIIgCIIgNJkIKgVBEARBEIQmE0GlIAiCIAiC0GQiqBQEQRAEQRCaTASVgiAIgiAIQpOJoFIQBEEQBEFoMhFUCoIgCIIgCE0mgkpBEARBEAShyRw8PDwrrF8UhP8qTXgUgepgWrYLxMdNicpdg9pViaMUMOZz5tBaVm44gjbPaP2tQoOpiYrtS/f2/rgppVWvGdEnnyM1twh91nFOp+RjMALqECKDffFUQnHmSc6kF1JksvpxgiDYV/X8tAgNJ9zPC5WTO2pvd1QKGQ5YMGQeY8/aNew4qSNfPFdNp+nCkEGdifB2RnbxNUMmJ89rKSzQk3nyDOmFRZgutTluyM05HD+dQr7hxm5bRFAp/AepiY6bwJgB0QR7KpDKZcgkEiSA0sUdJ4UzLm7OKB2lSB2VKBylSByAslIMeakcWvUx//f5ZpIyiqx/sNAAMZOe5t5xNxMV4IKj1KHq1TJKiwwUm8owm/IpLDJjKQfkKlxVCuRSsJRkkbT9J979ahNnMwqtfqog3MAiBzJp5M30ba1BJZcik8mQSCSXnh8nlSsuSjkyqSMKhSNSqQQHyrEY88k5t41vnvqQn4+nkGv9c4X6CxnGnPlTGBXbEm8nGRdrNixGCoqMWMyllBQYKLFYKL/U5jgiLTehSz3I6qVL+PNQKrk3aHAvgkrhPyd63OMsuGs0PSJ8UMklOEgccHBwuPzw16kc06mVTH7wPfYcTbV+U6i3GB748AXuuqUtakX9PvnLyjDmHmPli4/z4doTpInYXhBAPYSZT81k0sAogtyVyC7Waw71fL7Kstn+1iyeW3GQ03nWbwr1NvFFvpo/hpsCXSsHIxqgvLSAtO1LmffSt8Sf0Vm/fUMQayqF/5hYBvXvT5dIP9ycZEilEiT1DigBJFRUWKCi3PoNu9QhkfQaMZ4Zc+ayYMF9l76mjxtC7yh3XJTW33GjcMfZSYn00ghlQ0hReoUR1UaFm8r6PUG4MYUM6ceQnu0I9VIhl0mRSCT1DygBpOU4FFaAxfoNO9QhRPa6jfEz7mVetXptwfRxDOkdhfuNW7GBiwqFXNbggBJAIncjMKI9zi6u1m/dMMRIpfDfEjKLdz+4h2HRGpwa8dCDkTMrH+D+dzZwJKXU+k0A1FGxDBkwkG7tIwhq4Y2npyfuzgpk1WoZi7GAgvwcsjNSObb+J75cc5C0/8I6TXUIMbEDiO3UjrBgNWqVEpnkct/SbDZQmK3l/KFdrFm9g5O6fOzP4ngSt3ARj47rTYjbpVVHDVBEwvK7eOSTfSRkWL8nXP/UhMT0YkBsJ9qFBeOtVqGUVS5BAcBsobAwm8zzB9m5Rqz1q48RCz/nsbH9CXG/uD65gXR7WTTvGb7ck4jOXp9ZHUXskAEM6taeiCA/vD098XR3RiGT1JziLcgnJzuD1GP/8OOXaziYlsd/oGZDEz2Q3r2706lVMP4e7jgrpFyq2swWSkpyybpwkn2rfmXDES21Vtcd5rLo1ekM7eCDsjHDbulbGD/nRXYdTrJ+54Yggkrhv2XAkyxZOIGB4R44Wr93RRYMiWv54OU3+GFXMrlWMaU6agijRw+jf/d2tAz0Q+3hilImoa7BgnKLkYLMFI7u+4vv3/2OzeeyuB5XCaqjYhk6dBixXdoRHuiPr6c7KpUchVRaYzSkvNyCxVRCUV4OGWePsu23r1i+Lp50vW1E4BEcx/0vPMDtfcLwUDS09s1k58LZLPzlEKeuxw9MsE8dRezQWxke25W24QEE+HrirlIhV0iRVp8xKC/HYjFRUpRHTsY5jm77jS+XryM+XV9LJ+VGp2bmm58xa0RXNM51VDi1MWo58P1LvPzpBuIvlNQcrFRHMWT0KIb3707bloG0UHvgqpQhqbtiw1iQScrRffz1/Xt8t/kcmdflc6qhS1wctw7oQXTrlgRovPB0VeEkd0Qqcbhcd5eXU1ZWirGkkNwL50iM38zKj35iS7Kd+lrhR487H+WJ2bcS3cLl8kadejIm/sCUB99nz7E067duCCKovO5oiB7Ym66RfriUGUjau4adJ7PQ19arutFMe50Vc0bQ209lNeVtwWIppiCvGFNBLhm5hRjzLpB4XkuB3Jc2QU4UJR5m3aat7D1yhtziUi515tVRDBl9B6Nv7UOXyGB8XGuOStaHpVhH0j9LePWtH9mVnHv9NJyaLowZdztxA7rSpmUQ3u4qHKX1XC5QZkSfcZJNy9/i3Z/3kmyz8tyVgFbd6TV0MIM6B+HpVFn9Kj00eLkqcZQr8XB1xkmpqNxsUEM6G6bO5aWthzlrb1RFuM5o6DJmHHfEDaBrmzCCvN1ROUrr7HBdVoZRn8HJTV/y5rs/s/d6ej6uG315cvHzTBwcgYdVb9lisVBanEdhcTH5WTr0RfnkJJ8jJacMj6AwPKRaTuzbyJYtezmeaqDEfPE71UQNGc0do2+hb5dIgn1ca45K1oelGF3SPyx59e3Kjvh1c+Mqr2308P707NSaYD81bsr6TlmXU1qUQ8ruv/j4lc9Ym3TBJrBUqEMIj7mZ0YN60KaFS2X2EJkLah93VHIZTi4eOLs4oZBWG52vUhS/jLse/4y9x7VW79wYRFB5HVFHDWPihDsY3KsV/h5OyCrMGHKS2P3zJ3y08gDnr58n+l/T5dHF/N+dg2jjVbPmNSb9xauLf+dYko4yswljqYWy0pLK3XoSBa7OUsoK9WTmFmKylF36PnV0HFMmT2Bo3w6E+bqikNUz4LKjrCiVrYvn8eI38fz7a7Qrd8iPG3MzfTq2ItCzMphsuDKKUvfywxsLWfzPKWw3zCtQqb3x8XBGXvXzpXLlpTVhjo5juO/54fSM8kRR/duMiXw35SHe33OM9OqvC9cddXQcE8eN5uY+HWkV6FkZTFr/p3ooK0plzw9vsHDxBk7ZFqQb3GTeWDGPEb39UdX4cHXsf+FdvjpygpQyC2ajCXOZGZPBQHEpODqrkDsYKcjLRl9YlWkBQB1N3JTJTBjah45hvrgqZPXsANhRVkTq1sXMffE62XwSOZCpt1d2lCNDfHBV1DeYrKncpOf0qsU8+M73HDtvZ7+80gONj1fVqC4gkVXuuJdIkMkciZ3+BHf270QLVc3lCpk75jJ74XoOnra/vOp/nVSpdHre+kXhWlMTHTeduXOnMnJAJ1q28MLNRYWziysePgGE+juRtfMIZ7Py/xNrW66m6EGj6d8hDE+rxS45J95j2YqNHDiWhjYzG50uh5y8fAxFRRQbCtDn6ckvMlJWXq0PFTORhxbMYPyADgR7Odd/BK8WErkrGrcK9u88QWp2IZdD12stkrg59zN32ij6dwzD11WJtDG1LgAS5K6+BLjls/lAEhm5xVbvl2EuKUSfl0tOTg45OTnosjLJ1GrRZmSQHhDDrTd3INxbSY2q15TO3l/XsS9dh6H668J1JTJuDg/MvZtR/TsS5uuKUtrAka5qJHJXfAPcyN98kKSMXKxL0o2tF0PHdSMySFVzWY8xlS2Lv+TXvfGcysgkK1uHLicPfWERRcVFFOTnkacvpNhUzuWqLYZJD93HjPH96RjshXO9R5RrIZHjqnGD/Ts4mZpN4b9XsaGOmciC+2cy6ZbutPb3aNK1OciUeAapcTy1kxPnsym4NMJbxWKkqCCP3NzKei1Hl01WZiZarZYLF9Jp1y+O7pEhuMhr/gH5p7/mr83n0d6gO/CtR26Fa0pNSMwEHnjp/3jhwbsZHtMajaucmgNKMlzCouimcsej+ss3qBauSpxktgvZjYZcyiwN6xkOGTiQQZ0j8XGR19rTtRj0pJ48xPa137F08Ucs/uF3th1LIc9YmaOsJgnOET0Y4KLGx/qtayh63HgmjbuZbhE+uMjrHlWyWCyUlpZSWlpKebntFQEgUeAd3ZehHt5orN+7ErUjMrmdYN1gYL/FIvLpXc+ixzJ+0lhu7haBj4t1vWTFYsFSVY5Ky8vtPBsAEhTe0dw01B3vBhek/3Exnqi85Lbr90xF5JZZaFDNNmQgAwd1JtLHBXntFRv61JMc2r6W75Z+xoeLf+D3bcdIyTNeHu2sRuIcQY8Brnj9mxWbeggTJ09iTO8ogjycrrBEyYLFcqXyCFKXcHoNjELt0/A0FEqZFInN32DEkFWG5QaeVBRB5bWmiWbgmDk88eKbvL/0I959aQF3jelHdMs6AgCZAoWD7dqNG1FtD3JJThllDap5IdTbtXJayPoNwKhNZN23r7NgwVzmPfwkz732AZ8t/YKli97m+Ufv4/EP15KgLbIdjVT4ENlLgauX9RvXTnTn1oRp3GttUCz6NI5u/p4375/DjDvvZPLkKUyePIVJD77OF1vPkFNsc1VIXMKIjlHh7mn9TiNZLOSWVzSssRSurejOtA7T4C6vZXTSoift6Ga+f/N+7p1xJ3dWlaPJkx7i/77YypmcYtvnQ+JCWHQPVM1WkP5H1Nb5KikivsyC3vr1uoR64+qqQGbzwyo39CSuW8HrC+5nzryHeeK513j/s6V8sfR93nr+MeY//iFrErQU2dw4BT6RPVH8mxVbu2jatwtCXT0heQ1GtEk7+f3jl5k3Yzp33nmxPC7gyXf+5nBqIaU20aWcFm17omy26yrDYqqob8a6/0kiTrmWosfy4MKnefKh6Uy8/TZuHdiDrm0CULsqkNY1hq/P5KjZSL716zecEGQyZzujimWUlTb8QU7ONVBUapXUzaIj8a8PefrJp3j1w+9Yv2UXh4+e4PTZdLSZ2WSmned0wmE2ffs5mw+kkm+zHsEFr3Yy5O7Wr187UqnMbn47iz6Z3d+/xcMPPsRjL37At6vXs3XXbnbvrvzaufp7PnnhczYezsBgnetO4o5fO0eUblavC/+7pFIc7eWAtehJ3v0Dbz78EA8+9hLvf7uG9Vt3s6uqHO3euZrvP3mBzzceJsO2IOHu1xZHUZBqcpEhc7QTvJeVk18B1jOzdUrOpbCo1CpdpQVd4l988PRTPPnqh6xYv4Vdh49x4vQ50rWZZGemcf50Aoc3reDzzQdIta3YcPFqh+zfrNgAB4fKr5qMaBP+5P1H7ueBB57jrWU/snbTNnZdrNt2ruOPr9/gzb93kmxnx6vcO5juCmdEN6d5iKDyGorp15chvaJpHeyLp6vzFdPVXGRIjedgsf5fCCrVhER2pnvPXvTq1YtevYYy9u6ZzK2eLHfBNMYNGchNnVtfg4S5LXF1csF29ttA/lkL5gYuztvzzR+s33OGPGMZYEGfvJvv31nI8+99wd/bDnE2PQ+T2X6kaso5yumsTAyl1l16KTInBxxs/sZrZ/WhJM7pDdVGiSor3Q+fe45X3v+W1Vv3kZCURq7RXHMkyahHe/ovdp9JRm+0vS5HFwckNvNzV+DngpOTrOZ6SsBo0FJusa3ghevI6sMkndNjqFYUjNoE/vjwORa+8j7frt7KvoQk0nKNmGsWJPTaJP7cfYZkvdFmtFLq6IJDgwtS89KER9E15mK9NoDRE2cwZ171em0mU+MGM6BnR1q6qmpuMrsaPJyQO0ptGuRGPSd7vuGP9Xs4k1f52Vd2Jt/h2ecXsfzvbRw6m06eyWx/StiUw9HTWWQaSm3vm8wJh3+zYjuym5NntBSYLv/llde2iOdfep/lf21kz5FTnM/Op7TGHL6Jopxk9i4/zunzled11yBzwkcibeA9jsFD5YXcphg3ri36X3KD7/7WEB4ViNpNgjHzJGfSCymyKXENpSYkMhhfTyUyByM5x0+Tkm/ACAxduIwnxvYnzN2mJNbBQvKaOdz32ibizzWov1ov6pBIWnfsRLvwcFr6eeDh6YWzwrHyRAGJE86uzijlVWdn44iTa+WZ2pdjYQvGgiJKTMXoC/PJTUtg449fseZgWu3JZRttKAuXPcHYAaHU/AjT2TJ1Li9sPUyS3ZqyNq74h4fi7+2CXFqBuSiXjNQUMvVGaokla6jtfqZvmcCcF3ZhN/etOoTIYF88ZSayTp4hvdBOJVeni+VLhimrljKrDqHPsNFMGjGEcFUOCet/5u9th4k/kUFesW1jYa1R11WbOW/zw4zh9PJ1qvFyUcKX3PXIJ+wVmc8bRB0SSbCvJ0pLLsdPp5BvaIaHTBNOVKAaN7kUS1EmJ8+kU1hkqixrfYYyetIIbglXkZOwnp/+3s7h+BNk5BVj05+yNvRZlj0xlgFh7jXXCl6L5NCacKKiouneJpywQDVu7t64OzuiVFSepX3pvGYHAAlKlQvKGqeoVJ1hbzRRlG8gT5vI/nUr+XFLAtqrkcW9mZ8TV/9wQv29cZFLwVxEbkYq5zP1GOtVsTXuvmnCowhUu1GuP87plHwaXDQvlsNyfS1lW4V/q1hGTJvIsG4tKD9zgLW/r2PHsWOcrte13cs7P8xgeC9fanzKRQksv+tRPtmbQP0/5eZui/53/EtBpZqQyI506RlBWHAIvnITuWnH2PD7ZhK0Vz97vyZ6CMOHDSG2TSh+Pi4o5A5YClPY89MbLF11mjR9VUqGsSO4qUsYKksO6Xs28uXfO0jVWWe0qqLpwphxo+jXtQ0hPm44y6VIHMowaY/x6ycfsnJ/Mg6jXuDD+2+nZ6CrzcgNFiNGiSOOEqnVe9lsWzCL59cc5HQzfjCVaUKGEhsVhI+XJ+6uLrgo5TjK5cgkEiRV5842TDkWYwGZCWv49KkP+f1EasPWAl1RHQ/y+Lm8sOsw9qu7q2Piq9+yYFRvAlyqf04Wzvx9J/e/vpsjydVeBoiMY86sO7i5nQZXaTnGrCS2r/yarzbEk3GlhkodxZARt3FLn06Et/DEWe5AmeECB/58jcW/nSLVaseLwt2bFn4aXGSl5GtTydQbrxwEVBn74pc8eHtfAl1rlsTzaycw/9VdxJ+r8XLdmrmx/NdowunStQudW4YR7O9GhUHLqYObWbfrNLor3bumUocQM2QUI/p0IjLQB3cnOdKKUrQn1vPJou/Yfy4LExA5cCLDh8TSVu1IYdZJtq38gU3HMrCTt57KPH8jGDEohrbhAfi4OiGXOlBuLuTsjm9464v1JKUXgsId7xZ+aFyklOZnkpqpx1jvgvQCXz54OzdZ13fn1zJ+/mvsalBBqqfIgUy9/Tb6dQqnhY8XalcXXJwVODoqkMkkVQmxG1qvQZnJQF7qPn566RW+2Hkard3PtAmup+dk4iusWDCK3gEuNabjLWf+ZtL9b7DbpmJTEzP1XqYP70mYlxJKc0g9sp7ln/7O/vO6K7bnmi6jGTdqEF3bBeHr6oScUrSnN/H1O9+y/ayWmsmnlHgGBODnqaTCkIc2I5uC2kZdrYXM5/0Pp3FrtDc15tTyD/LRtCf5fP9Jsqu/Xqfrqy26nlzblELqKGJvn8r8+TOYPHYYg/v1olunjrRv15aojl3o2tEPS8JpUnMLrlgQG0UdTdyM+1gwYzxDb+pGVGQwLTQ+eKu98fULoqVnGRv2nOKCzkDsXQ9y76SR9IluTavwCCLbt6e1p56EpFRyC6tvL9DQZdxMHpw/jbG3xNKpTRiBfj74eKtRq33QBIbir0xnZ/w5kk+ewKL0JzDADy+VHKmkDKMhk5SjG/n+y7NI/DX4qJ1q9g4NZ1j/1Wp2puisHq4mCBnG7Pn3MOHWnrQN8cfH0w0XZyVyuSMyaWMDSgAHJDIlbr6+SDM2si8pg9xmvZGt6DeyD1FhHlbHZxVy/ue/2ZKmvYa7iQcSN3E4XVp5Wf0tes78+Rvr9mWQU1L9dYidPJ97RvYnOsQPHx8f/AJDiGjfmjCnIk6cvYC+yP62FU2XscxacC9TRw0gpn0EQS188fGuLLNhHhY27K4ss9WVmYrR52STlZ1LQYmFsnp3HWMYPi6Orq19cKqx3ddA8saVrN1zAV1DCmL3WxjbpTVBqpp5Rc3Z8fy2bj/p2df3PJGmSxxTZ85j7t3jGX3rQPrEdKVThyjatWtPp25daO2cysmzmehtdzY0i8iBU5g9fw5T4gbRq2MbWgb44ePjjdpHQ2CIH8r0bcSfyyTfbzSz75/OHYO7075VOOGt2hDdIQjL+ZOcy9RTUu3PU0cN4a6593PPpOH0696eyFB/ND7eqNVqvH39CA5XU75xH6cu5GAoM1GszyE7K5vcghIs9S9IxAwfR1zX1vg41dyAaEjexMq1e7jQoIJUHzFMun8ud4++iS4RgfipPXBVOaGQy5HJmlKvgUQmx9mjBW6lq9l2LJ2sAuv/0UTX0XMyMG4iw7u0wssqbZv+zF/8um4fGdYVW8hIZs6dxK0xrQj09cZHE0BQyza0j/ChVHuaVF0BNqtpqOoo3zWX+2eMZ2ifzrQJC8CvWtmWp27l0LlMq06RBWNhHrqsbHT6Qoxl5dS3RKqHjWTCgPYEu8lrrl3VHWPpn5s5oc2rX3AK11lbdH2xXsJxlaiJGnIPz7z8PM/MnUzcoJ507hBBcAsNancXVK7uePoGE9VnFHdM9MPPz/r76xLJwKlP8eanX/Ltiq9Z8uGL3BfXBT/3misk1FHDmP/449w3dTR9oiPws05JIJHj7tcSR2VlaoE24cEE+7rj7ChDLnfGvUUEfePGMzHKH7+LP1odzZgHnuTJOVOI692BYG9XlNa5DqUqAiNa4uTiDDnn2fj12zw+dwaTJ01iwoQ7mXL3HBY8+TbLTl+goALbEUx9JnvNpuYtoDE96dI5An+b9EXNxYzlXDkVzd1moMHFSWlnTSVYoAEVQtOph8XSPsIbq8E8MKRzNL6EfDuNTptANT6qaumLpEq8gjsxaPICFs65hYgAV6vv0BA76RGefXouU27tRmQLT5yqn4ghkeHm0xKZouHpMGoVexMRLX1xdbQqGEYtp/cYMTS0IBotUFuqouuZpgtj7nuFN557kBljb2VATDRtQwPx8/HE1cUFNw8fAsI6cfPI8fTX+NGQ7Qvq6Djmv/A+y7/5lq+/WMI7T00kNtCz5ugJGmInPcHDD85i/KAYogLVuCpq5uSTOnsTGqRA5QS0bENYqD9qlQKZzBEnFzXBHYcwfsJgAvwuJyOLHDiNh554gLvH9qNLqxZ4quRWx/VJUHgEExnqjEvNQbMGiuWmiHA0ro5Wm0+MaE/vwdjgglQPXWKI7R5JiNeV0s00ksSCyVBBefOvQiLGwwUv2wV6YLFARX3DpmagHkZs+wi8bSs20o/GU2KvYmsZRoDGDadL280lyF38aNN3JPOfeJBx3YPxslqwWNkeP8lD0+7gpugwvK02q0qVXgQGyXFqUhmsLoQh0a0J8nC2CXp06XvILslp2GYoDBgtlmq5QYWLrD/fqyCSgdMe5IkHpzF+UBfaBXjVeiKDRO5O+9Ev8tanX7PkvaeYGBuI55X2fsTeQtztcdx280306d2HQbeMYdoDDzHzphBaXGxrI+OYMncWk4Z1J0LjcunkDxsOFVDV78krKaW0rHpjKEGh7khsf3fUaioTTE+ZxfQJN9MlTI2zvZ17VczGYirKK/fiFWYmc/zwPnbv2sXOnbvZs/cQR06eJyvYHSdXhU2eMn3mMXTG/AYW+CsoMVNeXk5FbX9wE1gMOk6s/45vE9NItz/w1gTKypFU67/baCCr3NLAtYlNEc2wAV1p6ediE5Qb0uLZrtOTY73pFSg0l2GxqYVkOHu3pM+YuTwzu1pgqYll0qPP8tjsSQzuHIra2dH2ugFDbhqW0uZKIx3JmFt60C7Q3SYdiSXzOBuzCshsaEHMLaHEVHbFdZzXE3X0aB546gnm3TWKPh3D8HVX1JI8XopzUD/uee19Pv/iE/5vwSi6+rlfYcF/CEPi7mBM3K3069ubvv0HMnzCfTz50DhahlxMa6ImZup85k4fx01RQXg41XZiiITyi6+nF1FSYqn5OUtVhHXtTYyXGndAHTOF6TOncFvPNrRwU9iU3cvMGPPKKW/C8xs55hZ6tgvA3bYgcXxjFgUNLkj1cK6McuPVqdcwGkjb+we/rM0g4yrEw2pHGXI7o6gGwwEs5qvwC2sRPaw/3Vr64WJdOAxpxG/XobdXseWbMJvLbDr1EoU7gdG3MuPxRxgbE1oVWKqJGjaPx59awNThPYj0c0Nh/bsALAVkJ5sxNdPAhHrgCAZ1aYm3k3XIoydldwJFObUsa6vVEYpL9FQ7nE2oYv0JN7NI4ubM577pI+jZJgD3epzNqVRH0bFLHwYNG8+CJx9l3KXCWIswPzS+bpVBnYMEmcIV75YxDL/jFjR+XhAyjDlzpzO2f9QVRuYsaM/swmjIAWBreg7ZJVa1qkSJf9teOLm1JmbqNKaM7ksbPxWOdV2UMZltq3eQra17dWFMC098nKyG5bGQl3mEUmMz7/ve8TebDpwjy+6UnQWLpYDcbC0ZZ45zcN8edm5cXZkgd9H7LFr0Dq8+NYsZd01kwgTbrzvvnsXDr3/HzvSrvzb2kjILpooKm0rtaokeN4a4Hq3wcbLuzetJ2rCJ9Mxsu52ATduOkZCRT7XNi1UkKDzC6D2qMrDscfN45j/yADMnDqZjiBfOtZzXa9ElsOa3NWgzmufotMi4kYzt2wp/lXWnz8C5XatI0WkbnleytIyy8gqbKSqZzAUHB+su1L9PHTOReQ/OYtKQLoT7uFz5aEuZG0EdOtG9/2BG3r2Ah+cMIcRmxLk6X1r4++FZNTIjkcpw8gig/a1xTG7nR4ACYibdy/yptxHT0gvnuo4NNZzn2O5i9LnA+ZNoMwswWrX5Mt9Quvqr8OwQx5QZkxjUOQQPhfX9rc6CLn4Dv17I4oK96qE+IuMYNbYPrfxVNvWt4dwu/k7RoW1wQaqHvN9Zu/cIaXqTnbrAgsVSTEF2JtrzpzhyYC+7dq5j5RdL+GTR+yxa9D5vLJzNPXfb1mkTJkxkwpRpzHvmI34/kkm+vYf7KrFYcimvuBoflh3RYxkT14MIHyebGTN90kY2pmeSbe/aEzey89BZcmzSR1Wel92i/WCmP7yAsd1jGHH3fB6YN4VhPewd9HGRgbTda/n+YCbpzRFUqmMYPepmOgR7IreOeLQnWLtHh1ZvW2Lqlk9ZudnOILIMaYgDDs04efRfcxXXVFYGlDMnDyAqsJbeSBWLwYBRIkEiuZjgu2ptnk8QPtJEdh05T1ZtT7Jvd4bGtiPUS3k5QnaQ4ewmQbtOT9vhdzBhRBdC3RW1B7QWPcl7f+eLT39h94lMSiwVlJjacVPvdoT6OtcYPZSb89llacuoEf3pFaFGWet1GdEl7eX3ZR+w/M89nNUZ61zXNiRuIn3ahlod+WQgeeOPrNuT1rB1bFdizCUt8RCnzyaTkafn/MEdbN32D38sW86X337HD7/8xm+//cmff69m7foNbNy0he2793Lg0CEOx8dz5Fgip5LOcz4lldTUml9p6Rlk5RVjrutiG60bt4ztQmvro8zM2Rz+bT3707Ov+pF/6pgpzJt9B71t1hyCJW03y5f9zu4kHUY7dVRxZjIn9U4EtQwjwMMJWY0KzgGZ0gP/0FZ06BRL784R+Hsoa5nGM6JNWM3nb3/CinWHKhvRJn7c6pgpzJ8zgb5tNNWmsSpZtPtY9slKdp7IsntddWrVj5F9ogjzrPZ8ApLiC6xcvYO0zOvnLDN1zETmzZ/GyF6t8K1lZBgAixGDoQxJ1fpjACRS5M4eaAJdyd+4n6SMnFqOISwiauBQukT441KtEEvk7jibdnPMqR+3TxxHv7a+OFuP8lVj1Cawavn7fL0unuRCM+VlOjQxN9GlVQDu1VtOiYTi5NN43TSaoX07EOBa+3VZDFoSVn/BO5/+xKYTGRTbO1rlStQxTJ1/L+P7tkFjnaTaomXfsk/5ZecJshpckOqjEO2545w5e44UXQHaEzvYtm0za3/9guVfreD7H3/j19/+4M+/V7N67Xo2btzCth272VdVr8UfPUFiLfVaano6Wl0BJZb6r+FriFb9RtInKtTm+NnC8z/z95Y0tFd7sFIdw9R59zK2d2VnueZ9S2P38qX8tvsMOnv3zZxH+uk0zF4tCQ32wVVh1QmWyHH1CSasXSd69u1Ou1AfVLXM7Fn0yez97XMWLf2F7Se1FF9xR/eVRBI3ey53De9KsLv16LyBxL8X8eXaQ5zXWxp8X7vfcgddWgdRcxlsOXln/mDjsQtkN2eb/R9y1YLKyDGzmTdtGJ1C3Go52cOINnEnf3/5Dh/9mo9HqxACrDepSOS4y0vYtekwKVn59qfQcsPpPbATEQGuVI/HJIoySh2C6d2vPaH+rnYbZ4s+jfh/vuOLRZ/x5S9r2ZFwAb2xrLJw5bvRqX932gR71liIK3EAr+C2RAf74Gb98FC59ixx5yq+fOcjln33K2t3HiFZV3KFFDVduPmOODq38qHm4Fc2xz77i03HteTV+f0NVUaJPpu05DMkxB9i35497DtwmCPHE0k6n0JK2gUuZGRUO0NbT6GhiOLiYoqLSzCWVj9n9lr6d4NKdVQcM+ZOZ3j3UDyU1hWvjoPfvc/X/xwhtbCWCqq0kNzU0yQkm9CEhRPo7WLVc64MLL293FEp7I/qW3SJrFr2Jh8s+4l1exK5UGDEYveXNUBkHLPnTWdUTBie1teFjvhf3ufr1YdJya/luupSS1DpYEjl57+3knbVW8t6Ug/krgUzGXtTpG0wVOVyfbGYY7JgQoNb4FrjBjogc1IhubCW3adtN2pVMuEYPZDYdiF413jYZUjLLbh3HED3yCC8bO4DNevMz7/nj03xnMsrxlwBYCKzVW8GdQzHv0Yr50iZkxdtoyJp4eli1ZEBsKBPi+efFctZtHg5P/29iQOJGRSZ7Iw6XVFlAz59VAwtPZU2o1C6+JUs+no1h1Pym15ma1FamMuF82c5caSyXtu7/xDxRxM5lZRCSmo6FzIyyNBmka3LIScnj3xDEUXFxRQXF/+L9dq/HFSqo4ibMYfpw7sR6mF93yzoDn7H+19v4EhqYS33rYyS/EzOnUwhTxVARIgv7kqrZ0gix9XbG8+qLAO2ZdtA2p7fWPLup3z1+yYOnMmkuL5ZBmqlJmbqPOZMGkiUv4vNjKIxeT2fL17J9pM6ShrRvtoPKi3kHPuN9QcucA33Vl1XbKqYZhE9lvHjbyY6xP5RcUbtAX5653Eee+JFFn29hsPSMpRKGXLr/wjIA9vQ29kVtfUbF+Wv4dwFrW2uPqkfXYZ2JSzE0/ZvqDoR4p2nn+K5N5by/fod7E+sTAZ9qWyZ9pCbn4v1gSu4BNEp2Bsv694cRnQJf/LBk0/x5AuL+Hr1RnYfOUV6Xn1yHrZF7eqGwno20GggO8+CqZZB2qYyGvLJTD1PyoVMMrPzKDRbrcm63kQpUbjZJgi+FtRRccyYdw9jekfgbRN0WNAdXcXn6+M5nWu0M/VWTeEFzmxfwZtvfs7fR9IotBkNurhL1eplLOgSfuP9F17kveWr2Hb4PLp65Jy8osg45sy/h7F9armu+FUs++sQiborXNd/mpohE+9gZGxr+wGlRU/S+o948rGHeeKNpXy/Xo+l3Am5bYQGEndCu3bC2av2rTvHjqSSnl9ideIJuLQcwE3twvB1tv0bjNoE/nj/KZ58srLO3LgngfO6mrkic9LyyLcpE1J8WrfHV+2Oo9WfazEks/uHd3j6yed5Y+n3rN+2l4TzukY25lUzU2P7EOHtZLsmVxfP38v+4lCi/VH85mQqKkSXnkJKWiaZWbnoDWa751lfTzyUSuRS60nna0AdRdyMucwc07uW+3aUvz9fz+HTuVe4byZyUvby1yfP8dEvW0mqSrxenUQisb/73pDGjm9f5IXXF/Ht+l0kpOXWI+fklaiJmTSP+VOHEB1kZ2DLmMzG739i09EL13Q5w43ATq3YVJGMiRvDwHZBuFrXYljQJ/zGxy+/wcdfr2XHodOk5aroGdWaQA+V/T9GoaFtLyVutR7Nmcn2lDSyi62jSgVu7k44Wv0NFn0Cv33wHM++9D4r1u/kSHIW+lKLnQYzH21BIcaaR0WAVIFCZrVZxKIn4bePeeHl91m+ehuHTts5raQuIR44u15MxFtNfi7bzaYG5M66BjThRHWNqTqJ4uJXdzq2dEVV19rX5uCvQuFknccTwEIZV2daCkAdM5Z598/ijn5t8XOptnu7ikW7n6+W/MauhGxKrCMFe4w6kvf+xPtvf8afB1PItz2QtiaLgaT1i3n5/z7i6/V7SMquR+LpelBHj+aR+2cydWBbAuxclzH5H5Z/8hM7jmRT0tiKN7MIk+n67qyoB45lzPBuhKutR2kAYxo7fniZ1z74gr827eNEchb6tj0IC9fgorD+zwBS1MFd8Hf2qHXDTtHuRNLTbNOsSJ3dcZE7WjXsRtJ2fMdzz73Im8tXs+3QaTsn2FTZqacgx2yznleuUCCR1KwHjWk7+OGFl3lj0Xes33mE5Cy91SkkDaCOZswjC5g1dQBtA1zsNuDrl3/CTzuOkN3ognSVqUOI7NydnjXqtV50bu3OVT8oDHCVS+3Opl3VtBbqGMbNW8DsO/rR1s/OfbNo2f/VUn7fdZzselVsJvLTE1m95DU+XbGJJJ2ds9+tGLUH+Onjl3n7s7/YEm81sNNokQyc9igPzhhFz5ZeKG0jZeJ/eZ9v1uzlnL600b+vyGjGUmMzr8DVCCrVQ4Yz7KY2BNikkrCgi/+Vz95dyo//HOBcTtWUsLovHdsE4aGyDRUqueHXMQKlR+0rX0/n5Nd+7FQ1Fl08Kz97lyU/rGNnwpULcJGxrB552Ywkr/+cD7/4ifV7k8i2GSmoh5ZuOLk42gRLRn0q2aUlDd8c0RSacKJi45g4436efuU13vjoU5Z+sZyvVnzLiu+/4/vF7/Hmqy/z0ksvVvt6mdcXfcHSD15j/m2haOrap9AUstp6ugb2WyzNm3apSuTAaTz24CxG3dQGjZ3Ay2JIZN1XS1i9K4G8hjSYphxS9v7Oh99t46jWYDNqdZmehN8W89aHK1i7+ww5xXWX2fqKHDiNxx6dw8QBbWlh77p08fyy6Gv+2nKyYddlLdGIqaC8Wf7mqyOaYUOGEB3qbbvu25jMhqVv8sHSVWxLyKbIVPlkR/duTUQLV+zGlIBME0pPhYpa+8H5Z8nJL+LKM8xGkjcs440PlvDnpgM2I5M28kxYSquW79TBoovnl3c+48u/txHf1FGhyIFMe+wR5kwcQNsW9gKTquUTf23lZF6JTcB7zahDiOx8M7ffPYdHX3iV19/9kKWff365XlvyAe/8n3W99iL/9+4yln/2Lk+OiyHAo7ZuQtNJJfbPtDZklWGxHi9pDpEDmfbYA8wadRNtNPbum4HEdV/x2eqdHGvgfSu8cIa1y5exZt9Z8uoY3jSm7WDp64v49LvNxJ8vwtiQX1Kbqg7OghnD6GYvoMRI8vov+eS7zRxILeJK/fm65JnMmP+t9RLXsWYOKkMY0q8nbQPcbXZZWXRH+XvJT/y17STaag1j5JAYokO9qDWmRIpPWCwBKnWtPX9TXikm8xVGqqp6y9+s3M5JbXE9pqRhf6GBPEvdNb8+4Vfe//ZPNic0YVFxqAcqlaNNOqEyo+FSKqKrQh1C5IBR3HXfk7zy7kcs/eYbVix+jzdffIQFs+9i/OiRxA0ZzMD+N3FT7970jo0ltktH2reNpHXr1tW+2hAV3Z1eA0cybepdRPu3qPVeNYmHEie5nZFKi4Xc8opmDr4v5gmcwbBu4aidHW0rfWMy65e8z9Jfd3IurxHTwy6tGdijLcGetrstL3PG20+O2WDCUhXUNE0kA6cu5LGHZjCsRwTeKtuNGxZDIuu++IjvNh8gtajxPXkAisqpsNcxc1HRVSbF0/r1ay12IL06heLjbLucJXnjD3zzx1YOJFdr8NQDGdQtigB3hc0U9SVO/kTFOuFea1SZiMlUeIX0nZbKNYhf/ML6A8kY6tXiZmMoMdWd5sSSxu6vFvPTpj2cMRgbFCxYixw4hYWPPcg9w3oQ4W0nC4bFQOK65XzYDA14w2gI7zKMcbMf5rk33mPJ51+z4rMPeOf/nuKhOdO5846RxA0fwsD+/S/Xa92i6dC2DZE16rXWtO3QnZi+w5g4425uCfTncsbP5hSFUuGG1KY1LsNiqqCimT83TexEnnz4Ae4Z1o1wtTOOthUbyeuXsmjpb+w8p7/CtLd9/j1iiWqpwcU63201jm5qWih1GEuvtOegftTRcTzwxBPMmziADnY3BxvRHviZ9776iy0n8xo/+1LFUlFBuc32byUu3lJkV6UB/G+wKcZNEtKXzm2D8LKpoPWcWP0Ff+8/QnpJtZEW9UBuHdSVUG/nOhrVynWV/YJc8antRiXmUVhYWkcFWdlAfL92D8e19S/AeRYLpXX1RAxJ/LPkT/bsT6WoCTVmiIsSV5n1Z3YVc5Spo4mb/zwffPAubz/7MHOnTWD0sCEM7NuH3l060r51CAF+ajxcVDgrHJFJpUgc7C2urkkiV+ET2ZlOru64Wb/ZHFwVSO2k17E0d/CtiWXSk8/y2Jzx3BQViJu9FCyGJNZ+8hZLftzEkYziRjSYIQybchcTB7bD38V6VL86Od6dRzHjrgFXSFVTD5EDmbrwUR6adTt92tm/Los+gT8Wv8Pilduu7siSTImPRHp1Oh8NMLBPW9q0cMO67bOk7eXHn7Zw6Kye6rF85JABxEb642H9DdVJ3Anq0Q0ndW0hSBEXCg2U1BX96Y6yesmv7NqXcmmE9MpMWMrq3myiPfwDX23cxfEm3duLHZNZ3NGnHYH2cl5a9CT8sZi3F69kWzM04PUTycBJj/Hm0kW889rjPHDPZMbGDWVQ/7707hZNh7YtCWrhi5erCyqlApmsfvUaUiUeraKIcXG9SkGlP84KJ2yXVBopyizH0my52So7ys8+NofxN0XZv28YSFr7KW8t+ZFNRzIobnjFBjETuXPKKLqHqe0EdpdJXcIYdPccRnS9QtrAK1ITHXc/Tzx5H5OHdyPcXgcHI2k7fub1975m3cGmtdd1kyJTOeBgcy9vHM0aVKpj2xLawg3r/KKWtMN8seYYR7KrV2RqYkaPYmCHYDythzWtKULp2D8E99qiyvOlWIrqGKnUHuGnn7cTf07fiMa/dtqElfyZcBxtcdNqzJauTrjYHBNjwaDPwWJu3vG3i0nbZ04aw629utAhIpgW3h64OMmR1aeCvQJLcR4JFjPNnFkTgBi1K16KmseYAZSW6ikva47PqfLkp+defIw54wfTMdjTbp5Aiz6B3xa/xcc/buRIRuNGYCLj7mDcbb0It7M43ppUFUDXuHu4f2QXQhtV+6qJGjKb555+iFlj+9AuyB0nO9dl1B7gh1feYem3WznWqEDZniKMZgu2S48cqv79m2LoGhaCl8p6Y4yeE399z46jZ9BX/xAi4xg1NJZWvrb5F2uSog7vTXcX71qDEKOlMn+nfQaSNi5n1cGjzbsG0ZDEli93cux040afoPKIx3ufe5qHZ42lT7sg3J1kdkbwtRz44VXeXrqCrccaGZg0mJqYqdOYOX08Iwb2oFPbUAI1Xrg5K5HJ7G18ayBjARll5quUezcAd2dnHK2bAEwYE8soa2hebjvUUUO457kXeHzOeAZ3DMbT2c59s1Qttfn4RzYcyWhc4KWOYeqEsQxuH4yb3HYAoAaJAo+Igdx57wwGh/jTqC6zpgvjHnyWpxdMYXi3CHzsLOXBYiBxzaf836JlrN1zBkMzPVOZBiMmex1DCdR94f/brhDNNUy7UG/UKoXVD7WQcXIlp9PTqR57RcZNZsYdvYj0capZQVssWMqt12ApaRlzC1FeGuyurDTVtZjZQtqBFexNOl2zgWgqSxoJ3+0jJaXpp934uahQyqwnv0sp1ZfTLLFSdVF9uKl/V1r5V04PNK7sW7BYSiktrfZVXEDGqR18v2w5R1LTm3kqulKIkxKV7RwRhXk7sZibmABc04Ux9z3Jsw/NYOyADgR7OiGzqXXBkLaD719+k8++3cKxRgaURMYxavytRId6orCpAe2RoPCIYOCdc7hncAgNGrDUdGHMg0/y7MPTGNurHUHu9q6rcmf5Ry+/wZK/d5Coq9/ykPrRYzKb6xw9+9eo2+Hj44HCetRRf47NO86SWn0nvzqGqdMnM6xzcM08kFiwWMptprJlPh25eYA7Gu+ar9eLPom1axI5ldmU0URb+qR1rD11nszG5E9BQ5cxD/DUsw8xbWxP2gVVHstnU5J0Cfz20cu8vuRvdiTqGr8kqMF6MbB/D9q1VNd6WMCV2anXSgvITY3nt08/4rfk81QejdHMQlxQuspsOyrGQjIKLTYJ7RtGQ5cx9/HUsw9yz9gBdKilo4whjR3fv8ybn61g87FGBpSoiRk9gTGxbfCzk8HALqmKgK5xzLx/FF1DvRowc3FxAOAZ5k25ha4R3rjYC2INaez4/kX+78Ov+edgfZeR1E+iyUSB9YMvNG9QGeHpgqujdXCUR9rOVEp0F/t4laMmc6ffTmyEt1WiZQtpu4+QnmMbqCkDu3NrTy80tXX9a2NMZd9fZ8jIKKk97mwES8ZJfjujI71RFXRN9nf+lVCYVobFbq67JnDzwMVFYef32bIY9GQnn+Dgvg2s/GIJ7146ceJO7rxzCpMnV/u6azr3Pvg8H/2yB23e1enPezg54mgTVFow5OmwlDY2jK06l/7FZ7jvrqF0j2yBm9JOLx4DaXt+5KOX3mHJql1NCLwiiRs1npvbh+JpUwla0MX/wNdbDnHW5lQQKaqALgydOJWbAurTq68anXz1WRZMHUr3SD+7091YdCT+9TEvvvIR3/xzgGRD8wYyYKGivML25AmlEg+JpGa+0eoihzFt4dt8/s03fP/1Fyx558n6HdvaEO38cPdU1shvC2DMTmJ/biH6i425pgvj5sxiyuAOBLlZjYToT7D7TBY5JVYjFjJ3OgwYSUufhq8v1p1ew87UDPKa9UboObdtF+nZeQ2+v5Wjk6+wcMFUhnaPxM/utKkFXeJffPziq3z4zQYOJBuu0ZT3RV54qpyQX2nYn8rlMtnpSRw5sJU13y3j4/97mpkz7rZfr02ezj3znuCtFVs5kVvc4M+uXlq64uQis10CVpRPssVMY3Noq6OGcM8zL/DMfZX3rYWb0k6HEgxpe/jho5d4e8kqdjahI6COGc2E23oR6etsO/tiTGbtJ7+yO0GL9UFuEoUHEQPHMeW2aALqMxNTNTq58OF7GDsgmlC1s53p7urX9Rc7TuiafcS8qLzC7oEmSkUUUkntKcX+11m30E2ilEkvnzBxiQQn3yg6du1Fr6GTmf/si7zw8DQGRwXaDo/rjvLXN3+y96iOYusYQa6h54ixdGnhb3+0shbG9MOsSc1D28w76LLP/EmK4UIzTIeEoJA721mk3XxTHzUc30viqUwK7c1/GQ1ozx5jyx+LeW3+TGbcPYNZ9z3Ck0+/wjufLOGrXzawcctOdu7cza5du9m9u9rXnn0cOlrfvJyN0QUPNzWO1qNKFFOQZsFs//iSukUOZOpTL/LCo/cwfkA0YbUcy2cxJLP92+d54fVFfLcpnvNN2OAQMmwkowZHEeIut3n4KlP4fMOSF97i280nybStfVG3H8H0OaMIuXROtK3KxuRlXnh0OmNviiZMbZv4F8CojWfloud54b0vWbe3+XaW14tUgZtDbUFlNOPGT+bO0cMZ0LcPsX37MWj4hPod29oQLo6VU6NWLzvIXWnTPpqevQYw+p7H+L/XFjLv9t60VFsvVTCSvO0Llu/ay7lC606ABOfImxk7WENA7bfKDh1n1x8mK7OgjowAjWBI5dA+HXmXIuV6UEcx5J6nefmFR5g+9iaiw9S42DsJxaglfuUinn9hEV+u28uZnMZ2uJpiHYeTktDbOyrQYkCfepLd/6zgvRfnMPOeacya+yCPPfkir72/mGXf/cbGTVvs12u797H/8HFSrrTzvikCPVA52W7UpFhPoqWUhjcBkQyc+hQvvfAIM8cPoFOYDy6O9jqUBpK3r+D5F95gUZN3YMcwYsxwekXaOwlKR/yv7/Plj+/w7JJV7EnXY90cS1XBxE6czdS+IbSotYGvHHV99Y2F3Df1FrpF+tkfALDoSd7+bTNdV8PJVf5IZM3Z+/1vadYTdYJ630ZMm2DcFdWbSzmuQa3p0KMv/W7qQ69u7Wjp74GTdeVk0RH/y7t8/tcGzgV0pXtkEOoaJ05IkHu2wM18hP2n0skxVHvCQ3oyfGQXWvnVPFIRIPPwh3z/zxHS8xpRI3S/hbFdWhNUM2U+oOP419+wdl8qOdZPR4N1YfCYm+kY7oWyRle1gOQVf7MlRdu8qXJMOaScTCa7sBRzSR5ZGemcPradtX/+xOJlX/HjL3+ybuN29sYf53RKGumZWeh0lSdPlPyLJ05ANING96dDWM0TjiCPpM/+ZONxLbkNaMgih83k/vkzGDuoK639PXB2lNpWThePQ3zrY778dQsHz+ZQWFrH2t0rimXKfVO4pVsQbo5WwYwxmXVLP+SbNYc4l36B5GxHwjq0JcTHtUYmBQeZEs+gAFzzd3D8TCb5ViPZkcNmMn/edMYM6kJEC3fb54yqSnfnL7y+aAk/rd7FyQsFmCwVlemk2rQiIjSYoKCgml8+zhQaijDZnAZwJa3oN7IPUWEeVvetkJSfV7ElzU757jKGe6fcTNcQd+QODuAgQeJYeWyra8k6dh+7gK7hLa0tSScGD+pAS6ujWCVO3oS37Uzvm/pyU+8edG4TjI+LAqlVYG5MXs/Sj39i3T8q2vfqQHgLl5obfmTOaHzlaHee4GxWQY0OaOdBt9M7KgS3GnVl5brHNcv+ZEdSNoYGF7TaPmswpmzj05VbOaEtqF/HIXIYM+fPZcaYQXSNaIG7k22WALCgT97Jz68vYslPa9h18gL5JgsVaAiPakOriFCCrctRkA/OhQaKTKXNGzRjIONMAkm5FiqMBnIy00k9sZ9/Vv3Cp0u/5PuffmfNP1vZvf8oiUmppGdkkq3LRV9YRLGxlPJ/r2KD2KGM6xZp084YM/by/ZpdpGY1oLBHDmPm/fO4Z+wgurb2x8PZEaltxVZ5zOfnb/HRl7+y+eBZcgpLm1S3h4y5h3vH9rFdzlaVxeCdxb+y/WQa2pQkzL6RRLUMwKPGqTsS5K6+BPjCuX2JpOYYanbc1TGMW3Af904eTt8OYZXPo93riuePJe/w8Ve/seXQxetSExLZhtatwgixKY8t8JIXYigutZ/7tS61xAcW3VF+W3+A9Bv0SB0HDw/PJhSlmtSz32bpzOF09XWyfusKjCSv/oj/++hbNp3IQRLzMG+/OJlBrazXWJRjzNzDT28v5OO/T5F+8Vkb8CRLFk5gYLiH1ciHjj0vzeSZHw+S2IidIzFPLuaViYOI9LAKKo3H+XbGI3ywI4EL9aqh6zKUhcueYOyAUNyrt2zGRH6Y8hCL9hwjrdrLzUOBu7cPXu5OOEodKDMXUVhQQF5+EebGJkC+6u7mjRVzGNHbD1X1uqQxn1P0WBY+cS+3dw/DQ26nBw+VAWXSCZLOJpF0Oo9yNxeclY6oXDxwVjgilciQySRY5ZQGs5HC7BQOrl/Gyu0pZFZrD0LGvMCbD95O92BX2zNoVz7Pyx+uYtfZqnWaCjWhw+fz/H1j6B3mQc3YowzDiZ959eH3+f1Y2uWRjJA4Hn9xPuN7R6Cu47r02brKE0dyTVTggFQuQyaRIFG64OakQG5ntJYyE/m5Fzi65nOW/XmI1Nz69qZqKd+ks2X8XF7YdZik6i8DTP4/VsyPo7e/yuYa8g68w4wnv2b/SZtQtOEUQ3jq0yeZ0K8lHta90Suw6OL54ZU3WLJmL8lFnox77T3uH9WDAOvcaJYCklZ/yktvfsfO5NxLIzQz31zBrBGxaJytAtWkn5l3/3tsPpraiNHwWp4RIHPrPGY/v46DSdZTQPaEEPf4i9w3PpYItdzOVHcloz4bnS6d8yl5lFaAg9Sx6plQ4uLmhMJuGSzDlJ9H+tE1fL7sTw6lXv5MmoPS0w+NpysKmQNYjBQU5JOjN2C2t6HiOlFbO5O5cx6zF67j4Kn63DMqR/gXPs7s27vT0qOO+6ZN4kTSWZKSksgtd8XVWYmjygV3ZyVyqQMymcwmWT5YKCnMJuXgej5fuZ3z1Ss2Ypn/0TNMG9IWH6tOkkW7m/dffIOvNxwhp2o9hGtATyY8/hT33NyeFlbPS7kpix2fP8Xzn2/ldOblkhFzz2s8Pn0EnQJc7KRAqmQx6NDpMjmfkkGJxQEk0qprccLZ1RmlXGqnY1SOuaQQ3bnd/Pzet2w8m1H/keE5b/PDjOH0sop3ihK+5K5HPmFvQkaN128UzTpSWZKuol3XTkQEuFs1gnWpzB311ic/sOGIlmJzBebcFNzbdqN9aAvcrM/WdfbF38PCxn2nyMip6gm0HcCovrbnC2NMZcfnq9iWlEVBI0LnjgNH0y8qzOY8VnKO88nKjRy7kNvwROc2wug9sg/trUfgTOns+XUd+9J1V+E86zJMxQXo83LJyckhT19IUcm/3Fu/op4MHdeVSOtzvxvxOcWMv5cpg7sQ5Cq30+hd5IBM7oyHbwitoqJo3yGKdm0iaRURTsuwUEJDgwkODiY42KrnGxxMaMtWtG3TAuOZE5zN0FO53C6asfdMYnDnQFytpvD1CT/z1qc/s/V47uVTVspK0KclYdZEEhUegEeN4wMlyN1b4Fq6gX2JGVx8DELi7mba0BjCPaw3y1XngESmxEXtR0hYWOW1hFRdSwsNvj7eqNVq2y8fDQGBwYS38kd68jCnL+RSfbKgdrWNnhVy/ue/7Y9U1jJyA1Ccto0/NhwlI6fpC08o02EI6Ui3NsH41HdjAVV5PJcs4os/d3Mm30QZRWSUhdOxa2uCvJxqzpZIFLgH+uKYvpP4c1nkV7WTPYaOtXNuMOSc/J4f/zlEek59A4nqanlGMJKy7RtW7Ughuz4tZsgIpk0bSky4dWemJgeJDKWLmhYhoYS1DCU0NKTqmWiBxtcHb+sypFajVvugCQggOLwV/tKTHD59gdz6FaR6sRgN5FfVazl5+RiKTdd5vVZ7O5N/6mv+2nwebV6Nl2sXM457pwymS5CrzTrh6hxkcpw9fAlpFUX79h2IateGyFYRRLQMJTQ0tOoe2s5WhIS2pFXbNrQwnuHEWS36qnXE6mGTmT06ltbeTlYnzaWx87NFfLlqH6kFpZdmeEoLszlf60yMEz7eUlK3xnMuM7+qwzGQibPH079jC1xqi5QBJFIcnT3QBIQSFtay2rX446fxwdvbuiyqUau98fULICi0FaFuuew5cY7sgnrWLbWMVJqz4/lt3f4bdqSyjiqjEbSbWPbDOvae12Oqz4CXRUfiX4t55c3Pa+aOKkpnzXc7OHwuzzb1hUSBumUUHVWulzcr1HYUXH4mW4qMZFn/jHqqLWWAIfM0WcbCZtrhvJ/T6RcwWC30t+iS2Wsqsm1wb1RqsHs4fCNO04kKVKN2qiN5NQBSlC4eeKm98fb2wt1FhbOTEwpHGVJpbedzV1ZsMidXfFsP5rahPvj5VL0eO5BuUYE2DQf6BP5a/Du7D2XXyI4AQGE6Wz9fwfoDyeitHyi5Jx173YaH2u/SSy2D1Kidbddq1iRFrlDiVP1a6ptKSiLHLTCG/rd44n3xuq6CKCclbraLjAEo1idiMdcnMqqPfI7/+CW/bEog095aPDsMaXv4+aM3+NQqj2fOvm9ZsyuBrELbnyNVBRIZ7YRbteSt9o94M5Jz7iwmQ2O3ZtSWvimHjB2lGOubIKFlEGq1s80BFtakcgVKJyecLuayre2ZsCFB7hZATP8heHk3Znv8jaARp+lEBaJWO9V60tNFUqULHl5qvL298XJ3QeVc/R7WcmoZEqQyJ1x9WzP4tmH4+l28byEM6duZMF/r2RcLabu/58uNe0myORjCRM7RP1j06zaOZRms2m0JzkFd6NvdE/WlvS4t0bi52zkdpyaJTIFS6YTTxRyktV6LLanSi8j+/enn4/3vH8jwH3eFaqOh9KRsWsarr33Mr7vOkm99uO1FRgPaI3/z2RtP8sx7X7F+f7JN7qicoz/y0+ZDnLfZBQsSYxEZ5WWX1ygl7iElJddmc48+/RDa4rxGB3+JiVlcKDRZrf0xkHZkFyX6hoQxdclj47IfWbkpgbSiyiMejfpE1q5YycnUzEb/7f9z2nmgcpPbrJlt3Gk60qufSEyqwstPhrxq/UaXbq0I9XW1SrJtIPGfJfx54AjZNhFlpcL03Xz5yxYOpOZbddQkKN3DkDheXtVusVQ0aV1UvUiUKN2lSG0HEZuNv7McJ9tM0ICerAQ9pnzbwK2xTNp4fn//XT5csYljmbWliLJg0J1mx0/v8MRTr/D+d9tJsM7jWZTOhsVr2JmQbWcE10xxTjmWaoV07XEtaQVWja0lk9NbCyjU2f0j6uEAF7LzKLEORLTJ7LxQhK6+D4nFcg1G9yQole5IrmZB+o/wc1HiZJOnuHGn6Vz9mk2KykuDVH5xI0p3OgQG4O5c8++3aPfz3Veb2ZdUS05UUw7Jf3zHXzuTyLLekChzRRPgiPLSrHIZFZIKKq7uhSFTqFBJ7OzCFxqkmYPKytGV01t/5P3n7mf6g0/x3KJv+W39Frbt3MnG1d/x6TsLmXnvbO597A2WfL+ZA0k6iu1tqzNp2fPNd2ywGaUxknTgTy7kXri85qjoMN/8vpkDKdVGSC1ajq3ZS762EYspqxTt+JMNB87WKPQWXQL/bEghM9t+ENAYOec38vVbjzP3rilMmjCRKTMe4o2f9pKut24dbmC17NRtjOPZevJN9W1hG8mi43y8ieKq4uelUqC0yp9nSFzHpyv3E6+tK1VJERe2LmfJd1s4mVlUo1dvyE3DUnp52/uR46mkFRQ38waImiz6BHb9mU/OVVwuFOjujLNtJmgwZnPmsBFD4x9pO0zknN/LH0tf49HZd/PIsy/z2Y9r2bh1Jzt3rmPlFx/y0uzZ3DvzQZ577xvW7ThGWq79DAf6lFV8+Pc2EqxGXyy6E2zbUYCuWj80c82P/LX7dI0d/obTu1iVoiOz0UXzDCvX7+BwWvWZIiNJe37kUE61tbdXcuQEaWkFFF/dgkTCrr8oyNFav3PDsZ81pRGOZ5OXb2pgB7uhLOjOx1N6sWLDHaXcsWb2EouW/d8sZ/O+0+jtRpRVchL4a9FyVu+xauMtBWQnmzFdGrDfR7I2k+K6flaTGUk7vI69+syrcnDHjaRZ11ReYjFSkJPJhZRznDlxlEN7d7J9yxa2bN3O7n2HOXHqLOmZeRQZy+ocWTEXZnE2S4JPeAghPm4oKgpI3rmSd5b+wcHTedV2a5kpyDjD8fP5lCuVyAzn2LvuOz5fuYOTmUVY6vgddTLmkp6Ygr5YikJeiu7UVlZ88Dm/7ThFptFiM4LaeKUU6bPRpqeRlppK+oUs9MVmuzmwblit+jGyj511s4Xn+fnvLaRp6z9yrE8B/zbtCA/wuOKUSm0sFgsWi4WysjKrLxNFWefY/+eXLP55N8cvlGAphzznNnTtFEmQpxMyBwv6xHUseXcZf+46S7711La10kKyz5/kfF4RMoUzjhUG0g6u49vFP7Dz2PlLeeVMWcmUe7WkVXggnk6yK/cYq67BUlZGUX4ueXo9+QWFFBbafuVpkzkTv4kVHy7jpy0nSKt3+qHu3DKhF+1C3KzWedW2pnIgIyYMp1OEl80OZkv6Dj7+ZTNHM/Jtl7o0SRkmQx7ZGekknz1DQvwBdu/YypbNW9m2Yw8HE05yJk2LrqAES10VFiXkp52i1C2M0KAAvJxklGbG8+eyj/huYwLphmp1RnEOqSdTyKtWt3z3yQr+OZpMgb2ItV7KKNSe5UT1enDttyz+dh2HzxXUPyWOKYvkck/CW4UT6OmE7MoFqep5KKOsKJ/cPD36/AKbMlRYWEhhnpbkM/FsWvEhS3/awom0fyP90PWl+y132Flfayb78G+s23+Bei/N06fg4N+GduHWO6sboFqdYF23mYqyOLf/T5Yv/pldxzMosZQDFrw7d6JDuKZy/4NRy4Gf3uTD7zdyRFuMua7HhTJK9OmcTjhPfrkSJ5WM0txTbP3xO75ctY9TupKqtjuf1Dw5fuERhPi61nn040WX6mdTEbm5eejz823LYmEhhYXZpCUdZ+eab/n0q1XsS9JhrGfAENV3JCM6R+DrXHP+7EZfU9msu7+vCoWa4LBA/DyckTmYKdJdICk1myJ7iaeUnvj5a/BSllGcl0WGrhBTk2ssBe7efmh8VEjNBWSmZZFvrJymFq6hoc+y7ImxDAhzrzkFnr6F8XNeZNdhmz3EdXAloFUvbh07mqH929LCtfo6RAtFOTr0RSYM+vOcTcmlyFiGKSeBUykFGKrWXFRUlNsm9AaggjJTMflZaaRk5WO8WP5cA2jVsjMx3YNwNp7h1InTJJxIJ7e4tJ7BGSjcvfHT+OLuLMNiyEWblkm+0VyjLLr6hxPauQf9YrvTOdgHlaMUMJJ//hwpOUUYS4vIPHGG9MIiTFXXUAGUWcyUldWeLqnCYsJYXEBWekPL/yze+uEebuulwbn6y7Xt2o95hE9eupOb23hZBaFGzv36IPe9vYEjKdf3CL6rfzghLbxxVUgpN+rJOH+OjLwSO8HTVapbmqMedPUnPLQzPfr1IqZzMD4qR6SAMf/iM2GiKPMkZ9ILKTJVlaPKgoS5rI7BggoLJmMxBVnpZOUb6x/o/g+b8873zBjei5qbiItIWH4Xj3yyj4ZsInYNiKDXrWMZPbQ/7VrU3ARjKcpBpy/CZNBz/mwqOUVGykw5HD+VQv6liu1ynWCtosxEcX4WaSlZ5BsvdioVqENa0iUmhtbqCs6eTiL55BGSsxqS/F6Jp58/Gh9XFBjRZ2aSkVtAafVMJAo1wWGd6NGjBzGxrWjhrqxsBwyZJJ7XUlBsrlFHX6qfK8owm8sot19ZA2WYjSUU5mWhzWnYc3Lz00t4evxAWlqljsjcuZDZC1dy8FS95wb+p1z/QaUg0NxBJYASD40fGh83nGokBi7HYjJhLivHXFpEUXEplrIKykz5FBabsbNvqwGUuLgrkZYVUVRs5qplb1K64OnlhafzxZOTyjAXGSguLaOszIKx0ECxuTlH2usQ9QAfvTWVIVHqmunBihJYftejfLI3geptZuwjn/Lc5MG08XKsOdJiOM6Khx7hg40JpF/d+T3hEiUunl54eTqjqFq6UWa++EyUYTEWYria5fgG0ZxBJYDSQ0MLjQ9uVrlFKywmjGYL5eZSiopKKLWUUVFmIr+wuMkplxQqV5wdwWBo+s+qnQKVqzue3q6X62yLkYIiI5ay8maqo+tv4qvfsmBUbwJcao6cpm+5izkvbOVw0o35YFxxYkMQrgt78ynKNduuF5RJCZE4NOiUpUpG9JnJJB47wuFDhzh06Sueo8dPcjLxFGfOpaPNzEan05FX2ByVlRFDvp58w1VuiI0G8i6kcDbpNKdOneLUqTOcS88kM1uHLleP4VoFlAD+KhROUtvF74Z8zlpKa6aBColjUExb/N2tp+4saOP/YO2ZC2SJgPIaMmLIu0DK2SROnzrFqVPVn4lc9Fe7HN8gtAYjRpvKRYbMVYKDzc7EKzPqMzmXeIz4w9XrtUMcPnqckydPcepMMunaTLJ1OnR5hc0SBJqKCsnTN8/Pqp2JosIs0s6duVQeT51NQZuZ1Yx1dH2pcZU72Tnu2IhBW4zlqq7/vL6JoFL4b8gpxWLvNBtXT6Jlcm7ck1avY5pwoqKC8XNR2AaVxkKSyyw1zjUOuakX0cE+uFqvmdIdZe03OzmZml/HhiZB+G8yWsoos1kv4IirOgxHRcO7y8LVpiYksj9hAd4obZIXmCjSlTcsFdT/GDH9LfxHjObF5Q9xe79gXKtHKOUFnPzjT7afzUBfo3OoxF3jhavSESlGcuK38/WqHaQ2y/l+AuoQIoN98fQIIKylH14qJ9zUPnio3PDwcEbhrEDu7IaHXzAtfdxwdqzZfzUe+5opj3zEnuOX5/YmvvoVC0b1JcCl+kIwHfHfPs/Ln/zDwQuX80IKwv8K9f2LWHrXrXT1rnledGn6dn5ZH0+6ruZZrDKVGm8PFQqZAxbDeXb/8TObjmUgkoU0D014FIFqN3xDIgnycUWp8kCjdsXF1QtXZyeUCidc3NUEhLbAy0VhlZ9Ty6ZZ9/LihkOcuUErKxFUCv8Rrbn//Xe569b21Kx7yzEZCig2Wax2y0twVCpwlEpwoAxT3gW2f/MQb35/lHP1TQIt2KWOGcs9k0cS28oHZ4UzLi5K5DIpjgoFjlJH5HIZkiskVc/cMpfZL6yvcWzgzHe+Z9bwXmguri0zajnw+3I+/OJHdp7OacDCf0H4Dxn9Assfvp1+wa41R/QtxeQXGjFbZbN3kClQOEqRShwotxSRc2w1by78lH8S02qM/AsNFcmwmZO445YuBLgrUTq74qx0RCp1RKlwRCaTI5NVfu615lQ3HuebKY/w4Z4ELli/d4O4OimFBKHZGfDvNZjukUG41zg7zgGZXImTszPONb6cUMrlODo64ugoR+nqibcsk/W7T5ORU7PnLzREFHfMmcOkoTFEBmrwVrvj5qJC5eyMUiFH7ihDKqk7oAQDZ//5ltU7U8mu1gpqZZ74+ahRORSSEb+Rr9/7lC9/28DhlDxK6s5NIgj/XeUdGTigPS19na2O+HRE6eRkVa8546xUIJc74ujoiFzhjLvGhdJVmzmcniVyLDbFkLt4aMbtDOwQhp+PN57urrionHF2UiKXXzzXvo6AEiDzCJ/8vpFj2rymZ3H4jxJrKoX/CBNbEzPIKLA9Yal+JJjL9FRUiOGupvEn2M8XN2fHuivXuhiSObKzCOtDqS5s/ZUPn3uUBfMe4JEX3uPrtds4mppDSQPSfAjCf875/aSl51HS2E1o5RZMVDSyXhQuCfXHS61Cbr2mu94saJN2cMGQc5UT0F/fRFAp/GfkrN1FYpKOIpst4PVg0ZK4MZGCLDFB1DQ5lJSWUtbYbrhRy4FfP+OPE8nYHEpVqCPlVALxh49w7HQqOc2Rs1EQrnemeNYlnERbeOng4QYxnD3IBkMeWdZvCA2TZ8JsLm9kcG5Bn7ie5V9uJyXtxl63L6a/hf+OYi36oPZ0aROMj7N12pk6GLXE//k5n/y0jQRtceNPWBKAAlIlGlq1rt9pKxaLAX3OBZLj97Px9x/4aMlX/Lx6N4lZRVZnmQvCjcpMXoqCiM7RtAxwp8bqnjpZ0CfvZOW7X7Dq0Bn0YkS/abIKcQtoS6tQX1wVNY/UtWXBaMghM+UMh7b/xa8rFvP5t3+w+VAKeSUW2ywlNxCxUUf4T1H4hXPbuDmMHdqNIA855VWnROTnJF86/aY6U04Cp85lkXbuPOcy8sRUanNw9Se8ay+GDxlO/+7haFwckQDG/ExyC/Xozp4jJT2FgydT0BcaMJeaMBYWos/LJSuvkNJrl0xOEP4jPAjuPZLp00fSt7UGZ5mJ/MxcCo15pCeeJ7OgpOaUalkRmSdOc06bwrmkVLKLjCIzQpMpUAe3pPuQ0dw2uDdRF4/xtRSRo9NTlJPOyfNpZJw7ypn0fAqKzJQaSyjMzyUvL+fq5x/+jxBBpfCf4+odTAuNB85yKVSdEmE2XT79prprfcrCDUOhQu3th4+XC8pLp60YKTWXYjIYKC4pJrfgap6uIQj/YxQe+Af6oXZVInMox2wsxVxWSklBEUZLWc1p2fJrfDLWDUTpoUHj6427syNSB4eqo0VLKSstIb+oGGNRvjhJqg4iqBQEQRAEQRCarN6rNwRBEARBEAShNiKoFARBEARBEJpMBJWCIAiCIAhCk4mgUhAEQRAEQWgyEVQKgiAIgiAITSaCSkEQBEEQBKHJRFApCIIgCIIgNJkIKgVBEARBEIQmE0GlIAiCIAiC0GQiqBQEQRAEQRCaTASVgiAIgiAIQpOJoFIQBEEQBEFoMhFUCoIgCIIgCE0mgkpBEARBEAShyURQKQiCIAiCIDSZCCoFQRAEQRCEJhNBpSAIgiAIgtBkIqgUBEEQBEEQmkwElYIgCIIgCEKTiaBSEARBEARBaDIRVAqCIAiCIAhNJoJKQRAEQRAEoclEUCkIgiAIgiA0mQgqBUEQBEEQhCYTQaUgCIIgCILQZCKoFARBEARBEJpMBJWCIAiCIAhCk4mgUhAEQRAEQWgyEVQKgiAIgiAITSaCSkEQBEEQBKHJRFApCIIgCIIgNJkIKgVBEARBEIQmE0GlIAiCIAiC0GQiqBQEQRAEQRCaTASVgiAIgiAIQpOJoFIQBEEQBEFoMhFUCoIgCIIgCE0mgkpBEARBEAShyURQKQiCIAiCIDSZCCoFQRAEQRCEJhNBpSAIgiAIgtBkIqgUBEEQBEEQmkwElYIgCIIgCEKTiaBSEARBEARBaDIRVAqCIAiCIAhNJoJKQRAEQRAEoclEUCkIgiAIgiA0mQgqBUEQBEEQhCYTQaUgCIIgCILQZCKoFARBEARBEJpMBJWCIAiCIAhCk4mgUhAEQRAEQWgyEVQKgiAIgiAITSaCSkEQBEEQBKHJRFApCIIgCIIgNJkIKgVBEARBEIQmE0GlIAiCIAiC0GQiqBQEQRAEQRCaTASVgiAIgiAIQpOJoFIQBEEQBEFoMhFUCoIgCIIgCE0mgkpBEARBEAShyURQKQiCIAiCIDSZCCoFQRAEQRCEJhNBpSAIgiAIgtBkIqgUBEEQBEEQmszBw8OzwvpFQRAEQRCEhlETEhmMb4tQIiI0qJ2dcPP2wcNZgUwCFkMmR/esZfX2k+jyTdbfLDSJhq63DKJzuDfOsouvGdAmniezoJC8zBOcSS+kyARowokK9MZNbibn+ClS8g0Ya/6wRhNBpSAIgiAIDRDJoEkjufmmSPxUjkhlMmQSCRLkOLuqUCqdcXFVIpdKcVQocZRKkDhAucVIfk4y2795ig9+Oc75HOufKzROCMPnzmfKqFjC1UqkDhdft2AsLMZoNlNqLMBQYqGsHFC44OYsx1FSgSknlUOrl7H4z4Ok5jQ90BdBpSAIgiAI9aTmlllPMWviQNoFuaGUSXBwcKj8sv6vdpWh2/429zy3goOn86zfFBplIi99NY8xNwXiKqnfXbikvJSC9O0smfcy3x4+g876/QYSQeV1SBMeRUT7jgRJskk9tY/4M/kYmmtsWrBDTUiPWG7qGIRz6Xn2rtnBiUx9s00HXCuRw2cy+bbehHspkZp1HPvra75Yc5g0fdN7n/86TTSDeneltT9kHdrD5sNJ5BT9D1xXc1D3YNy0O7g5OgA3uYQS7QH+/PYb/onPoHlnGCunNlt3iMApL4v0cwc5eXE6TbhxhEzg1bfmM6pbIC6Xh8QaJHPHs8xeuJKDpw3Wb1nREB4VRaeYCDSuSi7N6pr0nE88yfEDCaQUFvG/VwQ1dI2LY/BNnWjl54GKcorykon/51d+2pyA1ubBnsk7P8xkeC8NTlbv1Et5CusmzueVXfGcs36vga5uUKmOJm7iGIZ0C0ctM5Ofuo+/Fv/CluRMCq3/rwCRA5l6xwhu7dYaX29PVA4migszOXdgDcsW/8nB1Jz/wYfn3xc97gnmTBhCpyA3ZOVF5Jzew08ff8ivB1JohtmAayMkjsdfms/42AjUcikO5SbyT63lvYfe4pdj59Fb////EvUQZj16F6N7R+DjDCZ9Jsc3L+f1z9eTlC5qkqgpL/PcrJF0DXLFUeJAmTGXxLUf8MjbKzmW3Dx3Xh0dx8Rxo+jXMQAfLxekpUZKijI4tf0n3v1yI2cyxH24YYx4li8eG0v/EHek1u/Vi469i+bz9Jd7SNSVW79ZtTZwOIMHdaatvz/eak881S4oZdLLI6HlZooKCijIyyTl5D7W/PIjmxO0zdyJ+jeoibplNKOHDaBn51YE+Xrg6iRHWlFBmbkIfVo8v73zAks2niKjqPr3dWDeoleZPrQ9PsrG7L9OZ8v4ubyw6zBJ1m81kFSpdHre+sXmoeaWGQuYNXEYvTq0IjQkhNCINrT2MbLnxDmy8kusv+EG14NJD8zl7lH96BDWAh9PN9zcPVH7BhAU1gp/6UkOn75ArqHM+huFJunK7ffezW29I/FzV6Fy9cAnIBR/12x2xJ8lS//fGK9UD5vCjGExtPJUVqZ0cJCh9HCi9MhG9iVnojdbf8e/SB1CZJvWdO87hIH9b6JTmAtyiw69oRSzveJ961TuGz+AbsFqXFUuuKt9CQpXI43fx8m0HG70R+LWidO5uUsrPBSVTa5E5oSnl5ysf/aSlJFLk2ta9RBm3D+LicO6ERmsQe3uhoeXF96aQELCI1AX7+HE2SxElX5jUPe7jbE92hLg4ljP6e7qjGgPrGTRV/9w+HwhlhoxpYauY6az4MFZTBo9mNgu7YmMCKKFrxfuLi6onJ1xvvilcsXDyxtNQCAh4ZF07NyOFpZMTqfqKDD+RysEdTRjZi9g7l0jGdA9kiC1G85yGZKqpQUSmQJnDw2B7vlsPpBERm5xtW/OJzXXkYDINoT4uiJvaFxpzGDPytXsSM+iwPq9BrqKQWV/xs+6nb4d/XCROeDgIEEqV+EZ5ELp+l0kXtBxpYFvqnrIM+bey6y7JzGiXxQuhedIzy7AaLH+n/9xt0zh/okD6RLggqzGmggHpApXNK5G1mw7SnqWGBFoXtHcesdAOrb05FIHTyLH3dOBC+v3kZSR+5+YBu8/+k6GdY7As3ovVeKA4eyfbD52gewavdprTB1CdP8RjJ94F1OnTmXy+NGMGnYLA/v1oWf3LnTt3oPevTvim3eSMxfyMFgHwP1HMLFHG4JdHKtecECmVONcsoptR9PJamot+B/Xe/g4ukUGobr48QASZTkFv/3DvrTMpo9SD57E3Nv70EGjqrYBAECCzMmTIBcT63clckFXnxpd+K/rdssd3NopArXSapzSbMZsKiInNw9d+lmSzp7lZPx2Nmzcwr4zGeSln2bHXz/y2de/s/O4luLSyxGlpusYZi+4j2njhtArOoIAtRtOVQFV3STI5M54+AQS1ioEl5xDnErJobDU+v9d39RRccx+YC5T4nrTLsgTZ0cpdi/dQYaTq4QLa3eTlJFTrcNYhkGXQuLB02QZSzAZcsm8kE5qaga5xSZMxmKKzBVIHRyRSSW2P9uUzp5f17EvvX5xWV0aGs82QACeKhVyqzUXUpcQOvV2xkNd4+VaxDJu0lQmjBnGwH59GThsPAsemsstoYG4Wv/X/7pQb1zd5MisbzYAEpQuGiQypfUbQpM5YG95ucwzmI5yZzys37guRRHh64eLdSWPFJnSAQfrl68JNSE9xjLnmXf5/KNFvP7kPO4eN5whA/vQu2s07dtGEhboh8bHG7/AlkRG38zIccPxa2GnYrC9PYASTetYFK52/r8AUg+8uzmi8LR+oxH83XFSOVoFlBdJcfEOQ6ZQWb8h/I8K9XRB5XhpdeMlusOv8tzj05g1+17mP/gYTz29kJf+7wMWL/mCJYve4pVX3+SjL1eyPf48hpKLPcdIBk1dyAvP3Mfkkb3pEOKNi2O1ae76kihwD+7KyKkz6BkUyH+pNGpip3Lfo3O589autPRW4XiFjTYSdw1RLZS4KazeMOVw/sRmfl66iFdefJ6FCxeycOEzPP7g/cyfO5c590znrg/XcDCzCJuxXIOB/RYLudavN8JVDCplSCUOthExcpReEqRy69ft6NGDjp1b4uemRCaV4ujkTkCnWxk9TEMLb+v//B+XVUSJscz2ZlcxG3OpKP+Pdb/+y6SOODtIGrlm6FrriL+nJ05ym4cNSxlUXL1V03aoiYqdzCOvv8NbLzzAjPHD6N+zE+1C/fF2d0Ihs1cnABIlmpYdUKjcrN+plUzuhURSn4rkf5kasPcZyFD6OCCxbnga41wOhYZSapscMpvyRN10A1HJpFazaQBGcpKOcXj/fg4ePET8sROcTDzFmeR0MrN0ZKWlcPbceTJyCjBfmvMOYfjcucy753YGRoehdnHE5sc2hESBR5sBjBzsg72+6fUoctA0HllwNyNjW+Grktfv+qUe+LVzRGm3qjSiz0zjXFISp06d5tSpRI4fO0L84cMcPrCfvYZCjA52Aj+LkdzyMprjKbb52c0mSonCTdq0X9DaD3c3JY7VP2i5JyEdW6Fy/y/1Reph6x/sO3SG3GI7YaVZy+G1q8nTZlm/IwjQ1R8vXydsY0oDhv0WzM3R/awHddQQZj7zMi88O5fJcb3p1jYQX3elnQbIvnKLASpqC10E+9rhoXJHbjtwVJmPrjnsWcOWnae5UGDB5keadRzbsob8bFE33Rh64KnyslPeTBTllmNpSFQSNYD+Q2JoF+yOUmZvvgjAiEF7hmP7N/Lr50v4eNGX/PLPXhKzijDZaSqRe9OhZyzuXs0xRH91RQ6axpx7p3JL11C8lDKb6zcbdOSWmKi2SqCKDEcXByQ296AelDKkEonN7zIasim3NM8upybFfHXyV6FwkjVtpEclQyqz/gAkuKhb/u9Nt+Qc4+d33ubDHzZyICWHwhITpaUF5KYe5tcPXuatH3aRkts8N134H9PBB1d3xeV0GxcZ9aTpzJQ0pKJvFDVRw+fzxNMPMWP8QLq09cer1unSWhiS2b36L3JEx6mBXHCUyeyM/jZjhyL/OKs+eZaXPviBTQfTyCkswVRaTEFGIju+/4T3fjxAcraom24MXjjKFHbKWwlF8WWUNWQBr38Anh4q5PY6nWY9aYd+472HFjB79v088tTLvP3pEpZ9+QnvvPwMD856lZ+2nUVvso64pHgEdqCFkzvNMUh/tah7TGX6PVMY2CkEd4X1dL8ZQ9I/LF74G3uO5mCymWkykL/XgrkZE8eXWUxUVFh/lo1z9YJKmZ3FoNCgDyTEUYaznQInlSlx+HcWil1FJjLP7eHXT1/lyXkzuXvKFO68cxoz5j7B21//w4EUAyViEOcq8EDp5IjUpjhZMFJR63KE60mPFp74OMltep/k57DFbOLqhmlqekyaxyPzJjMspjUt6jkyaTYayDp/koPb1rLi03d4Zv4TvPbVHlLtdJyilErcpLZVlcVkoLzsRn8oNLg4KZHZKb+W3AoqmqVDYSIn9QRbfvyIl5+cyz13T2XynXcx7d6HWPjRL+w6nSfqphuGCzKZzM40bRnl+RVUWG+yq8vBbAqyTJitYhlD2h5+eO8pnlj4Nl/+vYmdh45y/OQZUrSZZOsySD2byLGDv/PR77s5mlVksyxD6tmCdnIn7M4OXw8i45gyfRKDOtsLKI1oD/zIi6+/zxersigslSCxqfosmHMquF5XnNj8uVdf/T+Qlq5OuNjWlmCxXOuFYteICX3GWU7GH2Df3j3s2bOfA/EnSMkpofS/EN38F6ldkTvZWctjyOO8pZTqSRuuV609XXC1s3DeqE8lu7SkWdbJ1CYybgrTp9xGrzZ+uMqtK8hqzAb0qSfZ9udnvDbvHmZMuZtZ8x/miedf44OlX7Ny6z6Oa4vsZnXwd5bjZKceKMw5gqW0IUMj/4OiPFB5Otpu8DMa0JZbmjVzgTEvnTMn4jmwby979uxl36FjnL6Qh9E6KriOqEN6MHbOE7z10RK+WbGCH374/vLXN1+w9N2nmBgbiOf1ugdSE05U1x706tWLXr16MWD0RO6ZM48FCxZc+pp910gGD+xJx5auqK768Jw7TnJHbPp4jSlvOX/w/aoNHEkvqJziNWo59sf7PP30yyz6dgO7jqaQU1JaS8e+kPQN6WRnmmyCSmSOuEgktjM31wN1D6ZOn8yY2HC8naynvI0kb1jKa28v46+tx8l2ckDiVHm8Zc3/1ojPukoPDxe8bNcuYMg/g8Xc1H3fla5e8vOhz7LsibEMCHO3urn1T7I58dVvWTCqNwEuNT/VzB1zmL3wHw6evprN5dVQeSKFr6cSmYOpeQ9yV4cQGexLWEQUwT4++AWqcVU6Vi4/kClxdyyn2GTGXF6CXpvC6T27WX8gEV0Tj+rRhEcR6K3CnF3tsPprSR1Cj9ib6ds9Ao2HE9IyE4aMo+xZt5rtJ3RXTobb9wkWPz+Rwa08qJaRBdLWM2vuq2w4fJaGdL4bovKzc0NeUUTmiTOkN+pkiK48vPhVpgxug1eNC4DMnfOYvXAdB09dpeekxyReemQmozqH4ia3XqZSyahL5vjO1axZtZsj6Tqy9Vlka3MpNFlqaSxsTXvjW+aM6I2fqvpvMHD4s7t5fMk+TmRWe7lZaQiPCsTbTU5FUSYnzqRTeM0L+BXc/DRLnx7PwJZW9WzmTp6dvZCVB0//Nw6aaOpzbEUdNYS4EbcwsFsU4aEt8HJ3wUkuxaH69Fl5GRZTIZnnDvPP15+y+O+D/8LpUxdPjGlDeFgg3m7uqN2dkSsVlWdpXzqjufLvlipVuCjlSKtFGuXmYgzFRoxF+RhytSQeWM8vP2wmQZvfiPrkSu7lnR9mMLyXb82TW4oSWH7Xo3yyN4GM6q9fgUIdRFiQH+5OMiTlRgq0qZzLyKO4XqMozfu3XH2RxD3wEHMn30RrH2erjmBlQPn2J9/zT/wFikxltbdN+Qf5aNqTfL7/JNnVX6+HoQuX8cTY/oS5W0VlW+5izgtbOZzU9A7itQ8qzWf4+877eX33UZKrv27H7Le+Z+ZtvfB1rvl6+pYJzHlhF4evFJVeLepo4sbFcVOXMFwsOaTv2cDyv3aQqqul+tZ0Zcz4kfTr0oYQX3dUcgkOlGPKPMqvH3/Ir/uTG3Fyi5qo2KHcPLgLkSG+uHu64aFSonJ1x1mhQOkkx1Fa1dA7SHCUQFl5OeUVZZQaizHk5KC9cJqDq7/ji1UHScurf3CpDunBkNEj6NkplCBvL1wUMspN1Q6rx4y5pIS8rAucPLiRLesPcDqnMQFTXapOHhg9mNi2LfH3dkHpKMWhohyLUU9O6jE2r1jKZ6vqPqZQPe11Fs8ZQXc/VY2gSH/4C97+4ywSuYawIG/c3LxxVzlenma0GNGlHmXTbz+xpQEnOWi6xjHy1pvoGumHr5cXKoUjEiwYc5PZ9+tyljX4WMXxvLLifkb3DqBm38tI4g9TeHDRXo6lVX+9uYQw5vnXeOCOHoS4Wfe4wWxIZv/fP7Fi1R4SzyajzcijoNTORo8r6sGTi19i4uBIPKrXrOZk1r+3nN16CS7BLdF4eODp5YxSfnlzoNGQydktK/l67aEGlO/K49FuvakbkX4+eKlVKBwllbsjk/fz6xfLWHM4jQbdoitQh0TSsUtPOrRtjb+nErkUjPozHNm8hfUHrnAc5bTXWTFnBL2tyq/5zN9Mu/8Nth9Jrv0zr+qIeipllOYc51TKFY6D1XQlbuQgYiJ8cbbkcHjnGlZtO46uvoXfruZ5ji9TEx03hSkTh9K7XQia+izHKC8l/+wxjmaWUE5lXVmiPcCv73/DxjMZVykoj2TQ1NsZ0b8T4S288VK74aJyRu4oQ+EoQyKpOk/b+tuupMyEIS+N/T+/zEuf7+C0tj6fWUNcR4Fc1AN89NZUhkSpa66fzNnL6/c8w4oDiVxPJ4v3mPQij8waTedQV6t1pGZ08T/yyhvLWLM3uTKgpPZnG+0mZs1+iQ2HzjR4wKP2oLL5YqqrF1TW9oEUn+DbqQ/zwd4ELlR/3UYUD370JlOHRKGuUWLMnPl7Mve/vpsjV4pKoXJ0sMfNxA3tTsdwDS5yGRLAbDZTUVGBxainsCAPbVIiO3euY3+iru6KFYid8zoPTbqV9v6uyCpMlOSks3/1Yl5Zssbq2DgNXcdNYsKIAfSMaonG0wWFtFpFUVbE6VVv8MCbv3I0Ob/a912Z+pb5PDPjdm5q2wJ3lRJHaS2pWupSZiRfe5Z9a5by6tJ19TjyTkPspKlMGtGfzm1C8fFQ1byeS8opLyvDbCyhIC+LrPPH2f3XdyyrV/AawqCpUxjdvw0+KlktlXskg6ZP5e6xA+gUrsFVYWeNT7mJ/JQdfPP8yyzfcYbMWurWoc8u48lx/Qm1eshKC9LRFlQgV6hQOctxlClwrL5OuKIMU3E+WUnb+Prt9/hlzxU6BheP4OzVhVbBvni5OSGTVPvsyk3kn9rAew+9wS/HzjUgYfUs3vphJrf18qVm3yuTnXNns3DdIa7KQGXIZN54dx4juvijspoKM6bt4JdFX/Dzjv0kZOY3bXo05B7eWTSL4Z01OFW/x+XF5KTlYJLIUbioUModkctlSKp9pmUWI0XZyeyvZ/mOHDSVO0bcQq8urQj29cLNqWby5XJTPqc2LOKh13/h2Ln63yH7qoLXgT3pEOqHxluNu5srTnIpEgcoKzWgz75AwrbveX3JKpLS7P++ro8u5rU7B9HGapg6d987zHjqaw4kWu/UqeyMDh0eS/vWAfi6OSGXOlBmyiRp20+8U9uRi5FxzL33Tsb0jsTfVYG0ohS99ih/vvsiy2yOjOOaP8eVNMROnc+9k26lW4R3Vee9nsosWJBeSoNXZszl5J8f8Mh7K0lItf/ZN0WPSS/ywPQRdG3pgcJmM2pTlWNM/JEpD77PnmPp1m820fUTVIZMe4P35oygi59zzQ7VuVXMvO91th5Jtp0a/5eoe0zlmSdmc2t0ACqrtSrG5DV8+NpHfLv5BDmX8ndCjycX8/LEQUTW6E2D4chS7nrsM/Ydb/gUzbUIKq1XRjSfWrauU1GOGbhyJOuPs8LJzgJ0M6X6csrq01BqYpn02PP833PzmXbHcAb27UNs1dqUPn360LdvX/oPvJVbh9/OhBn3sfCNj3nv5fsZ1dUP9zrWprRpGUSwjzvOjlLkcmfcW4TTZ8Q4JkX543fx+9TRjHngKZ6YM5kRsR0I9nZFaR2ASVUERrTESWU1FFsP7aKj6BAZiLe7E/Lacv9diVSJe0Ab+t4+mek9Awioa0N91fU8MmsiN/doR6DaxfZ6LpEgkTqiULnhExhBVM8h3DH/Wd54bBKxQVa9SmuxIxhxx20M6d+HXr160W/oJO6dO5TgoItpyCOJmzuf+dNuo2cbf9yVdhoiLibD7cnwO25C08Ld+t0qtSUNB7lbAMGBgfj5eOKqUqFUyJBKJUgkVV9SR5xcvQnpOITx4/vjX+vvqEwd8dzTDzNr/DB6tg9B4+GMY/WAkqq/N6IjvaLc8KzrPljr4YWrl7zm9AiVO79Ts80U1+c5aYyOYfj4qC6fQnSROY293y3np/XbiE9rhvV2XYLw8Xam6gTCyyTOqIOD8A/UoPZwQeWswFEmRXrx/kgkOMqd8QhoQ9/bJzCphT9+Vj/iskgGTV/I0w/PZPywnrQP0eDh7GhzmodE4U5Ex55EuXs2KbmypusYFrz2Bs89NJPxw/rTs3N7woNb4O3hgsrZCScnJ1zcfQiM6ED/MROY3r4FAbU8NGEuSlQym5tAfvZRzKaaRw1V/t63efn5eUwefTP9YiqT0Ldu3Zq2HWK5+Y4JxLVogW0K4BDiRt3BmP5diNB44qJyxsnFgxYtY7h1RB98fe2U/Wv6HAOo6TF1PnPvvo2erX1waUhACSCVIavWMZcqvYjsN4D+Pt40f3KarsTEdiMyxBNlsweUAJLKTWzlVyGk6uGByktuZ72ihTLK69GuN5dohnRoQ6C70ubz0yWvJa9Ie90ElKh7MGbCGHq18cPZevGz4SSrPviWVVtPklctoIQQOvpo8FBYf9JmdOl7MJVYdxbrx2C0YCm/unfJujb6d6lDiOzcnZ69etGrVzuC/JztBpUl+nLKrjDuq+4xjieefYQ5E2+mR7tAvN2cajTkFxseqaMCpbMrHr7+RLTtTv/hd/HIc88zb1hLWtRybE9eiYnSGkngJCjUHenV3x21msoKc8pspk8YTJcwNc6OtVccZmMxFdUe/shBk3j8/z5h2fKv+HrJOzwxNoYAD9sWRSmTI3Oo/efWnwSFRxR9BnVE7VNLU6nuwbj585l552CiQ71wamhFWBW89hwxnQWzBhESUMsHC9AmGI2fO4qqh0+q9CKyd196eqtxR02PqdOZMqE/HYLcUVwpZ43EmcCOPWnr7lVLEFB70vB6k6oIa9MRlau9vYZqouIeYMH8adzeqy1BHleYipP50mPWC7z9wfu8NGc4IZo6PqeLgp1QquzkgzUVoSuzNPOSg2r8XFEqHW1/r7mQ1MPpaPXGZqnUu4b5olEpbH9PvUlQeLSkXScVbvZiEnUUcQ8sYP602+nVNgiP2oKbKjLfHsx64S0++OAl5gwPpj636DI10WMe4Kkn5jF1ZG86hGmu8PskKNxDad9RhZu94oUaT2cX5DZBZSG6E/mYCqrugDqauPmv8Ppz93P3yD50ivTHy0WOtEbQLEXpHUiUwsn2tDJ1LDGdI/D3tErOLFHgGRCI3MnOLpdr+hyDetBY7hx3M91CPVFaN9wXmQ3os5I5cXAfuw8kcF5XXOcGSJn6ap2qdRZLuZHyilr+ziYxYkjby++/rCUjo3GBR528HJHJ7QwmNOOJLPWhvmUIsR2Dax5LC4CWs9vPY9BdaUbs2ukRN4rhPVvj62y9TEhH/O8f88OO/ZwvKrVaptKRFp5eKG3apkKyj+dgyr9CAFSLI8Ul5FvqKPTNwPqOXH1KP/o98TzvfvkVX3+3gu+q78Zb+gHv/t8rvPzSi7z00gR6RXjVnPICQEXEkEd5eO5EYgM9sVOdoe4xifnzZzB2cEeCvSqnGetHglylJrjDAMYteIpp3VpeHnmsZmt6LtnWyf8kSvzbxuLk1rqywhzTlzZ+VzhyyZjM1lU7yNZWTq+EDJ/D3HkzmTByMAP69aXvwGFMnP8AM24KoYVVbbr/tJYLBmO9NzvUTYF/2544uXlZvwGouWXinUwZ1pvWvle4njpJkLkF0HXkFGb0DyLQpuWq1FXtjlruWOPhk7n6ECBTEB03hemTBtIh0HpNSu1k3kF0UjhjL56gRzBeGmc7ScMbwkBywhGK8m0PoI6Mm8LcmePp3yHITuoIe+S4h0fTpd+tjJnxEM/PvZWIugJwAA8n5I52gsqSIuLLLA2YRm8gbSEmo9l2vZ4imNgpo+l3hdH++lHTwdcHd6XNOGyDmHXnOXammHybrfyRxE2Zy8wJ/eoX3ADI3QmP7kK/W0cz4+HnmXtrBFe6RZXURI+Zzdx7JnBzl5b4uNQ3j2ddiY7b4e3mgaLG6RCAMYdzR0wUFYA6egwPPPsUC+4eRZ8OIXjX9XvLzBRWlNt2BtqF4OOjQmFTyEAikeHgYPvGNX2O6cGYoUPpEeGLk72A0qwnedf3vPnw/dw76z4eeuJpnnnyUeY/8QY/7j1nJ9dhlat2qlYev63dS3yaHnu/2mw2U1yQRab2PIlH9rN3107WrfyCzz5exKJFi1j0+kJmzbib8eMn2Pmawl1zn+Gj34+S2cjAo1EsFnLLK65qpolL1EOYOHoQHYLdah6MApjTDvDjkTzS7Kzg+FdEjmHo0FgiNNYbc0B/bDVLf9/L4axi27WRUSH4aOzMBFV7thsjv6wMs53MOTJpCBKH2rpsDSNVKp2et36x8TREDxrJ+MkTmDS4D138PW2HeyUK3DT+BIaEEBIcTHBQEEEXv/z98PXxRq1Wo1a74mT3DFAJCg8/AsOj6BjpTnZCEhdyDZdvSsgwZs+bwR19WuPj7Ni4aWGJDCePAIJ8Kjh26BTpuYYawVuJqR19e7cj1Ne5xjSA3FzArrK2jL6tH73C1Shrrb2N6JL28tuy9/nyz72c1Rkpq4hl6oJ7GBHbCm/nqiMupY44uWtwMa9m2+F0sqotuzRm5uMS0pZ2ob64yiWAGYM+hwvnEjm0Yw3rV/3K4qVf8s2K7/n5558rvzbv40SFD+F+XrgpalaV0pJMflm1gzRtzaXN6ltmMO+u2+ge4oGirgbAbEB34Swnz2opKKlA4aysXINY4z85IFN64u9uJn7vKdJyan6uANGDRtO/Q1jNHqhFy6ETTnQePZTeHQJxqzHya0Z3cjXLXl9Hjrs/Gj+3mo2f1Ej2yjXsTMu0WbStHhLHuD7tCHKxk+OxOrMZY1EOOXlazp86w9lz5zm+7x82bNrKP398ybe/b+VEaj7msssPq7rHVObPmcTgDgG41jIVZ9ancXzXKr7aWYCHrxdqFzkSBwccpDIUKg8CwjyRxu/jZFoOBusP6qIetzKuS2uCVDUDL2P6blas2kFKViNrnyvJDiC2f2fC/d1qBuUSOW7+obTt1Jn2oSpK8tPJyivBXNvfX6duDB07lM6t1NhZoVCNGbO5iPycPHRpZzl99izJiUfZtmEjmzet4/evfmT1/tNojdU3ClVOl865czAdAmoLbszo046z6++v2Fngga9aXTmt6uCAVKZA5RFAmJeE+H2JdstydepbZnD/rDsY2NYPVR0zFzbM2Rxb8icbE7Tk2fyCgcRN6k3bUJea9yAngY9+3oCpzUjmzJvGqL5RBHpcqXNtIGndlyxZu4uT+pKa1xI1gNE3RRHmqbTpvJiz4/lt3X7Ss2umI7mWz3HImJnMur03rb2dbAJmo/YAK5e8w8df/caGvcdJSs0gS5dDji6bzLRznEwpwOjsTUiLyg2HNb+9kPOb/2bLeS25Np990xi05ziedIZzKTryM06wY9s2Nq35lS+Wf8WK739k5a+/88cff7NqzTrWb9jIlq072b3vEIcOxxN/5BgnEpM4n5JCWlqa1Vc6F7Q5FJRYuCqznK36MbKPnbJQeJ6f/95CmvZqj1VGEjf7XqYO7Uigm/WxhnqOr/yQ7zYcI6OwmW9Yo0QSd89cxg9oi0ZlFcsYTvLnm0v4dWcSOfZ6Fv1v484BHWjprqj5fVXP9pH03Drrm1p1v4WxdtqL8ryz/LHxGBeybRZHN5h1HdEEagZNf4BHH57H3eNGMTTSHy+5vR8vRSqVVq5Pa8zuNirXvyg9AmjTdwS3D9GgubToRc0to0cyrEcEPjY5oKozY9Bnob2QTk6+CbujwRIlPt2HMLa/Bn/r+Y/TCVzQ5tsk/JV6hHNn3EBia+sxG7Wc3PoDby24j/n3L+SD77eSkFFUmaOrRw/aRbbAQ2HV4EgUaAK7o3C2WtmTc4y/PnyGZxa+yAtPzmTGXZO5a/ps5j/0JC++9SlLvl7Jhk1b2bVr1+WvdacoK5Egk9kOexhyzmIptS5QPRhzyxA6h6nrHMUx647x6/vP8MiDD/PEE4/y4ILZ3P3wR6yOz6TIZthDjmeHvtwa7o2vzUiWmhau7rY5CQ0l+N42kC5RwXjWCNDM6OJ/5vW3P+GLP7/gRLoWk/Xvk1RgqWUNbzs/DzyVdgLKSzkVP+ed52YyfdpkpkybXXmywxNP88zChbz69qcsWfYVK1ZuYd8pHcXVz9IKGcaUuyYwqEOg/VQ7Rh3H/viAxx9+mEdffJ/tF7KxOEisHkYJCo+O9Ojvjlcd59jWlneszGKkosJewW4meetZtTeBVL3JZrRS6qwmqF0vBo+dy7Ovf8JHbz3HnNHd0XjYm1eogzocT7ULdlJwYjRoOXN4Az9+/CpzZtxTeVDArHuZ++BjPPX0Qha+9DofLF7KF1//wB/bD5NsKKkxAhcyfAp3Tax9tMyoO8YfHzzOww89xovv7+CCzoKDdRZiiQKPjj3o7+FFHbeoamTlNvq00dQSUBrRJR9h449fsPiDRfyw+SQZBgvlmNEdW89P5zJJtzcE1MMPdx+lzUi7UZeC5y13MXv+tMq6UGUnD+tFRj1pxzfx3VuP8dx7P7InXW+7ZMJFhszu3w2G/L1YbE6yuJbPcQg39exAqI+LzUiQWRfPL29+yLJv/mF3Qjq51iPrpnzSD6xix9kL5Jsr7FyfC+5tZTjaXXrQRIXpJO1cw69ffsjbb7/P4iXL+PqH39mweSu7d+9m776DHDwUz7HjJ0k8dZqzqVoys3XodDp0eYWY7TZa/+s0xE6dwdQx3QlTK2w7EEnb+XzNyevmdCf1oFsZMaANQe7Wy4SMJG/+jN8PxaMtthmjBKBrkA++TlYBZdWznW0qbvYR4eY8UMZe1NdI7ejSvRvtWwfg7e5SuQDZ+hNpZhKFO34aR5QXg5PoEQzq35EgL0WtlahZd5I/P3iSB+bOZvacudwzbQovLF3LKV2xTeQvUQbQqXc3PNRWky6mveTm51JqXfG5BNEp2BsvJ+sRViO6Y3/wwZNP8tTz7/PNmk3sOXqa9Dzj5dMEWnrj7qqwGc4HMJrOUl5mHfCZyDl/gq2rV/LT75vYtHU3+/Yf5EjCSc6kaMnMsa14Im8ZzJDOQahtxtQNpMXvpERfs3FQDx9Av84h+Citr+cyo/YAP772Lp99s4Zt+49x8sRxjh05xL51X/H6R3+zO8W2kZIoQ2nfV4W7TUvcDj93T5t1JAaLD13bBtDCXV6jwBqTN7D84xX8szURXbGO0nKzbU58Ywk55WV2H8IIu0nDjST/83+8+OzDPP/GYr7+eRObt+9mz76DHPx/9s47rqmz/cMXSSBhBgh7haUoCKioKO5dtWrVqrVWbWtbq23t/PXt3nvb3WqrttbRoa21at1a90ZRUQFBQAIECBAgIYzfH6CFc04QHB3vm+vzOf8khOScZ93P/dz39z5ynBOppznTZJIvKbcINiUXNzZS4rZgMaSw6pMXeWXeItZuP8DJdBMd/H3xchZPIKDCr0MSjm6iB3UJT3sFDhID7fpXm9Fz4LsFrNiSQr5R4ntkClTqACI6dqff8JuZ+eirfPLh27wwexzdfd0lw1ZERPuh9hAbTeiTef3ll3jwP6/wwVcr2Lj1D/buPcihw0dITjlF6ukznEnPJDe/AH2xAWONQMpIM4xxY0aQGOElsfmzYEj5mU9efJV5C9ey/cBJ0k0d8Pf1wlmULdQQztOhl4oWmojE8cMZ3iUUjUQIhEl3iO/fe5xHH32clz/4nPkLv2HeS4/w/Euv8crTc3johS/ZnqmX1rKN9sBVbS9KmiiyRDBpxBD6xwbjJvGdACZ9Gru/f48H77+POY++zIdLNrNXuDm6iLUQC6DGUkSdqJLFXzmOe9DR3w83R+Gv03H02y9YuWUPZ4urRFVbLmEOpWtQEBonic0lLrgGK7BvluZ8DTFXUF50gfPnc8jPL6TYYKSmxtoP/YfgrsLRQX4dQgIuhy9J0+dy/+1DiZPaCJoy2fLDjxw6lUelxHT016Nl2MAkokPcEfrWLLrDrFh5jJQLEsfejXT0ccNNIuzHThPHnIee5L333m28XuWp6TfSxeufU5ZSOBKvggpq6+uovy7Bx1Yw5nBmTxXljR73pMGJxGm9cBJuYRppMIDe4fOFv7Ftz2GOHDnKoYP7WLngdT77da+EDpoCr9AElM5CV2UpurIyTMIzPbkSpUKggG8xkLLqU1585UMWrtvJkbQcik0WkQGLmxK5FW9ATU0JdVbqrZkryikzCg0bMb5J07lr+ijiQtTYC1tdf5rNm3PIL2zexZO6dUDr7SryAFzEmLmZL19/jwXrdnG6SDBxm/Rk/rGArUfPUlwpnCiVeIXF4uAiMNa1UXj7uiJMeJO7B+Ht4tz8+F2fzMp53/KrKGtOQG0t1fX1Im8aJOCl9sJBZLGUcuHXFI7tTOFslo6icgttmucTxzF8cDxaiY2NRZ/MD699wJdLNnIgXd8o8JtEhyB/XJ2EjdKAm18skSq11QQFa1RVHKO2TYV4205F3lF+nvcen63cQ7rBWnyvDIXKDZ+QKLr1GcbNMx/h1U/e5ZWHbiLB7zITYagHrs5io8lUlMrJ48kcO5VBTqGB6st1fgGJ44czuLMWT+GpQKPH7LX3v2TJxgOk6xsrWSVFEeTvinQTueEXF4lKbaWFNCMZ2L8LId4qkWflkiftmw3sPHSK9BwdBXo9OWkn2LbmR35YtZXdx3IxWunfCV7ueDmIjSFNZBwdg3xa9JI/+fgTPPfBt6zbuoejJ9LJLTZZD1FQyK2cKpkw6mqpEVq8f+U4TgxH4ycR76k7zdI9p0kpae6hFqIdNZJ+nbUSCR8Acpw9QpE7WGnbvwUN2qgudO/ZoGJy6eraHrVLq7ZqV4fVdaoGxK1zjYhi1D2P8vCdI60kYhlJXfsxSzfu50Kp9Dr5l6PtS5foEDydhJs6I2nbl7InNRtDk5/qGxFDwrCJ3DHn/3jp9XeZ2K8DHuKEEuy9okjqP5RRo0Y1Xjdxy32P88Izk0kMvYyyCoDRhKWm9rq1FNfWqDzN92u3cuBcMSZrk5MICxZLNdWVZRTk68jNzSU3tzE4+VQupVJbDkMqPy1fxLx5b/Hs3Of5YlcG+dUAMXQOC8HbpXlweAMWDGmb+OK191iwbienBFl/5fnn2PDlEU5mlou8agpNID0dnETHWxWmOmqaxNBJYyJz09d8svAHNh5IR19preQUNFgg4l9udeJuA1GD7+CxubczNC4IF9G2SU/ybwvZfCqLkmZzegLt/P0l5HaMZG5ewTfvPcfcJ95h8YYDoqPFS1TksjbzAhckFgulawByhWAStCIfo3RUorgo5A4NWXNr57Nq9yGyRVlzrcUblUJ8hAImyovqsFzR3KRl/IghdAvzFsfTmjLZtOgzlm7c2dwAH94ZrdZdpPV4Ebl3GEmBzgKt1stTW1dKfZsK8V4JZoqyDvDzZy/y0rufs/ZgFmUtDH6ZQoWbTwgduvVj1IxHefnN55h1Y6j1DGpnBXJRXC6YK/TU1ghHaivRjmfE4G6ESRh5Fz1mG3eeoajyz6PS4V1C0bo7W5ks5XiH9SbQxcqEntSNDlpv3IQLoSWHvYs/5wcrnjSTsZTSy2wWO2pccBNaboDKxRkHhdhLbtId4vuPnuPleYtYt+MwZ3KKxRvjNlFLTVU9oiiLv3IcezqgkDCeTYYL5BirqGrpn0aNYeLEwXQKEid8XMRNE4e9Ujo96PrQYDQOvfl25jz+Iq+/9T6ffPU1i75dyrJly1mxYj4fv/8Gr73yEi+/3OR6/X0WLv6SeU9Opkegu3RfvBZYWadMxkLqrnRMtoQmnvGPPci9t4+gi1bKoDShO7SKT5bv4mBWYyjZP4EeHfH3c0PkQLdYULa/iXv+8yoffPIVCxd9w7JlS/li3tu8/vRDzJ45lQk3jSImwFOcpAPIFEqUqgbZsYbLBXd/LXHDJzN5YAAtqm4BGKqxWK6v9JPEz75SKsjZvpg3H3mCZ95YzKYTeRglWtiUs4/vF73Pk3fPZPrk25g69TamTr+De2bdy+zZc5g9+wEefvxplu47S7FUAGt5Nr+vWcXixUtZuf0AZ8ovxhdE4+/hLjpywZTD5o+e5fHHX+WbFgyg8tzz5BdLSEwo7PGUyXAQvHyw3EhxjdR/+hNDyio+XLKabSd1VApXjVZTi8lYz5VJjvmSdOuTPPrQXdyQEIqHSrjQWNCn/MaXvx7kRKHwuXTAx80NkQfeoufMT7/y47cr2b7/NIUVZuuGMqDPKqG0QmxMS2WNWpOPkcloFkphTN3KV78d4ZjoN7cFO6R8L9aP2VpB/FD6JITj6yJ8ziYyt3zC8t93kNrMc6JhVGJHwj1drB8nOQTRoY9Ti8erfy9mDLln2f3zt7z91AM88fYifk/OxXixKoQUMgecNSFE9x7BjEdeZu5NvQiSkM2Sah6u0gsbP6w3CRG+uAgXJ1MmWz5Zzu9Cj5lmJIkdw/B0sdpCOARF0cfRVbTxBEjs6E+gm0rUvsbMnSzbmczJy3jSrJOAr4eXeL6zgilzMwtef4/Pv9vCwUte8qvFSGl6DcKSwX/tOJbG3tWfDgqVWB6pEd+kW3ny0Xu5ubsWD5HH+k9UHoGEOzi1+aSgtfhGJDBq0iz+7/m3mLfga5Ys+5KP33+Dpx+ezcypE7hp9EiGDRxA/75JJCX1olevBOI7dSCqfXvaN706dqJb9z6MmHInd9wQJM4DuEbEqFS4iQp/Q22Nmfr6K13jpNHEjOT+J/7DnCkDiA5wxUG4C8SCPvkn3v54CZuTC7ESnvi3kBjuhZ/EGEDuSmB0HwYOG8UNwwYwoH9fkpKS6BoXQ4ewi7rIjjhIaXy3gNw5lJjuzrhdTlS1po66unqRUaly8UKmEFo5V4bonq+K8jzSU7bx24rPOJ5+AVOt+LHUlmewft1v/LJ5Gzv27GXv3n3s23+Qw4ePcPToUY4ebQhOLjdXUy8MjAdMFXpKigvR60sotzStH+yBo72DyPtAaTY7/jjErsMZFFa2ZADZg4Q0hjVKamqwtJReZ0xj4/zV7DuUQ4WEcd16jBgP1mBpY1KdJmYYd7/wEk/MnkT/mECJ2KrG4PiPlrL1uF6UdAQuOMglNPQsVRQWFFMgEbMpibsKBwdhEkqDBIUwcCrWx+3y8jGWHA6tWkNKar7Eb24Lvrg4qsQ6qNaO2VpBYv94Oga6i3eYumP88GMyyecEO+moofTpHIpXCwYLKAnsNARHd1/hG/8ozKV6MlOT2fTDl7z2+BxmPPomX/+eTK7R+piTOTjjHd6TMXfPZdYwrUiax2oS0hV7YRPpH9+RQHdxFrPu2A/8ePQo5wQes6hhfegc6kXLTRRIp6FOSDVRtJcbagdhnzahO7aZrIICTFfS0QCIxNPVFYnHI8aSw/4VS1m7/QDnJLyiV04Nlqx66gTh3n/pOM6vwGwS15GXe3dl2sMzuXV4Al4Xj4V9I0gYNZ1HX/mED569jyn9o/B3EWYQN0fm7k28vdKKlNGVEzX4Vv7zzgI+ev81/vPQXUydOJoRgwbQN6nBaAwP9sPbwxVnZxVKxZ+VflpGjso9kpjuLrheJ6MywMlBnIAFmCryqb2a47RmaIgZdT9PPP0gM0Z2J8JLSsqucf2a9w3rdqdbDRH5u/BUKsRxnzTEmiuVKhwdHS8V1GhWj/6KqafeDKKB0ErkCifs7FozmVwe4dx6DTBTYcjDVF1NnYStbSzZSXFRljh4XkDzY5I/qa2ttrIjslAnpejv4kp4nQIXqY80JT4QDx9HUVAtxlLSa6oRbMYvi+7EStacPGU1u6v1mDAW11HTSteZRpvIlIde591X/sM9Nw+gU4gHjgqhT86E7tD3vP7BIn7bZW1AVlNDnbiN5DJUdnYiz4s1Ev3c8ZbIsDYaD1LTzFJOxN/D+7JC5PqUNSzdfZKcq9ZgK23oo8IbVKnwkMnEFWouSwxdI8LwFskTmcjcu4S9Z843i6EBDcNvHEy3cC+cLvMwncN6MNzZEwmb5R+HyaDj3KmjHNiwgs9f+w+zZzzGG1+u5VBOmXRYjMwBdUgCIydNJibAr9mxXVqlCaPExkWljEEuu4JlPqYLEaHeuAj7mCmTvUv2ceZ8aXMPtWYYNw7uRriX02X6uzNhPYbh7CluIZVCjky0uJRSsLkQc/5V9OEYX9Qe0ol9IuROODnLqZFf2ZpjzbjHZERXVSMwjP/icXw6k6JCiRMmBzcikm5k5lOvMX/xtw06yF/M4/X/zGHa+KH07BiIu6Pi8oaayhttnBLnK+hu1tAkTufOu+5k8o0D6RHfgdAgHzzdnFAp5NfAwDBRlnd14VItEaR2wknCqDSbTlNXew3EIX0TGP/IUzz70HRG9miHj6uEowgTObu+57V3W1q//l7SS40YLVezW2obFn0K29cZKCwQviPAyiaswRQUPegrQmhCXXekswWvBecpKa9E1I6OISSMDMFDSsX8EhqGD4+jY4CrKNPUpD9HhrkCYe51i1hyOLH0AOfPl1rN7hJifeJuzXGsBm3iRGY/8z7z3n2RuTPG0rdzBL5uKhTCScqkJ3nlJ7z05vzL7PAKKK8yiWO67L3R9lTiLHXWJyKeHn5BaFTC+zKSn1qIqbzpXbXHw9VVUj7mEqZMdi/axskzxa338CgUuNrZiZI9wERNbZ1Yy02uxruTPao2LyJxhGg8xRnCplwOr8tAp6tqZqBrEscxekAsIYJMWIvFQp3A0pW5tCdpTCga/5b68D8MkwHduVMcPbCBFfPf5Mk5/8fri7ZxqqhSfNQpU6KJ68UAd02zI+Si6hqqRQ0Eak009sor0HmJC0GjcRbF+plyD7MuQ4euWQCehsTxoxkQG4K62U7TgsVSJ9iMyHBpn8SYMA2tayIVDqFyZJc5U9VoExk97S5mThpOrDC7s70HLq5S5fIkkKnpePMDPDprDD38L5McJYE1hQFqa6iqrxcsUH/xOK7Yzs6TZ9A3m0sakCvV+IV1IKF7j8Zkllg6hPrj6aJELjT09XoMZrN4npV54hvjgOoKups1kgb2JzE6DI2TxElQK7FYLFRXVze7yoqzObrqcz5elUmmUOXpmqDFReWKQmTlmSjPK8NiEo3sNqAhZvhdPPPS0zxw2w10b+eDq4PwdK0h/Cpl1Se89t581u1taf36e8n6cR/HzhZb1xe+AgyZKRzZspKvv/ysQQS/8Xr31ae498EXmL87i8uqKZ02YS6XcBZdQ66TUZmIu7Nn645mrhkHOZufS7nQHSJzIXLUvcy6uRdaL6nsOF+Spj/AzJFdCHUTJvmYyE3dTmmZvk2NYNGd4ucMPbktRok3x+rEXVFGdo0FUTGQi4vO3U/w1ucf8cHLDzFz8kiSunUgUOOMvWjgWzBk7mH5B8/y6sffsflQ1mUG5G5yCnRUCWd9mZp2w8cS4+t/2TijqDEj6RsXhLtoFddxereJ8mYTnxMKqeP2JhjOrGP16TTyrJyX1Ujp2Nk74i6TS3ge0ymtMIo3IbgTlBSLo8ZaNJYVEgLw9HEUbUooymJTXmVjMlkjUWOYdufN9GwnTOjRcfRoNgahCoHMiciBN9HbJ0BUMm5/qZFi8U3g4pyAQnG5AJu/AhOG/ExSj25l5Rcv8dr8TZzUVYh2yjKVmgAfBY5NLR6dkSqJXbXCL5IhQS74ttE6SgjQ4OMo9CRDUdZm8irymxkUUWOmceeEnrQTJvTojnI024C4iSIZeFNvfATBbEaThZpmJV0BXAjt25sQbyvJPY1qDQ88+ySP3HcPsx56jEfv0hLSpHi5xssZN6WilRO4HGe/aPrf/CAvvPMa/5k2iM4aZ6vf3WokT3H+6nFcxO5vtrA3VX/lC7hJx6Fff+XYWamjeAUe/p2wd2zzLtMqnh7OODoI464lsJgwFuSSduwgO9YtY8EnbzbmItzSkIsguO6YeR//eXcpO1KLr1N8YTiuji7ikCEqKM2sxdImz0sTfBMYP/cpnn14JpMHxhOmcZE47m6UA/z0JV775Du2HM2iwnQlN6khcdJDvPLZYpYs+5YlCz7k5QfG0vVyShRtxJz7O59/uoTfj+RK5pZcwmLBUlZMge4cJw4fYPvaZexJy6NMtLsxUXj4Kz7/5D0+n/8Vixd/c+n6dsUvbN1zjFwr+SLNqKijXirBWKUkRi67JmEerZuT2own9grl5Y8WrimlbN1/mowio+DBylB5xzJ0xrN88P7bvP7sYzzy0Fzmzp3LI0+9yPtfzOO52ePoHOIhDgQ2nGH7uvMUNLMILo8+bQ3njRekteXaitnE6bpahAcLUWNm89Qrz/LYPVMYPaQnXaOC8FFL15Y26dPYvfQ9nnr6FeYt38KhjCKqLhtYVcLaY+c5X2oSGNRyXNuN5s77JpIY6mVVb7BBwugGYoLdRJJExqwDbMwrptnpX6IHzp4teV50nPptJ5kXSsTehEYKjVWYha5VmRpNoj1KkWc1i/OGIipF2a8K/LrezNQBnaWTR6zh7YhCFLcKpvJ8CmtMl36zJmYk98+Zyc1JYh1LU+Y+vl15lEO6SpEKgSqgD+On9iZQUN+y6LyB0kqxRJWLX2ciVR6XNfyvDl8iEkYy4eYRDE7q2KKkiUYbSteBNzC0VzR+rhIB7NghL7fDrmmfOFFEWalZ7O13bsfIW8YyINjXaiKGFN5OCgkRfxPlugJqTJdaiJhR9zPnrgkkRQp1LE1k7v2WlUcOoasUtRABfcYxtXdgsxKkhwpKKDEL70COR9xEZt4zgX5dNDg36WYabSITH3iBV5+8i5v6xRIe4ItfUCRduvVFrf5zkxDtpUatFG6CQZ+aTG6xVPk/OSrPYKJ7DWHifc/w5mcf88HrTzBrbG+i3a/QwKyxkFVX3/wU5y8fx1Ces45Pv/uR7an6tmsUGnPY9f2bfLDsS/adLeBSN2iCs0d7FPYuwpevmN+PppFmEK5T0FCUI5vUPRv57oOXmHX3Xcy4Zw4PPv40L7zxEV98vbQxF2EPe/fuZd++fc2uA4eSOXW+6BolYUkRhLuzo4QXuhLD6RoswkXqsmiIH3M/r775HA/dfgPdo/xRq6Q2JCb0yav48PmXmbd4I/vTi6448VUzfApTp03ipqH96JvUhz6DbmD8HQ/y2OxhaIVB3VdFEVn7VvDBU3OY8eizvPTW+028i+/x6pN3c+f0W5g89Tam3nEX98yay2NPPM2Lb+ziVE4V4nSUCkrOZpGRlo0uv7BBBL/xuib6pg7OBMgUXAtJ1mtcpvEi3Rl+Sy+itYISbpjI2/cT63blcrnqce36j6VPTKhIP0xensXK3/eRk9+kZmEjVfnl+HVMoGOIN85Ng43sZDi4eOIXpCWyfUdi4uLp3Lkz8XGxRHcIxV/tJOHZM5G28R3mrz7I2WKJ+E8r5Y5Az8klS/j9QDZFwnWnBazdr+nCXpav3UV20wcWP4n758zgxsT2+KkdcZBLCc1bMOrOsOWXr/ngs8X8tG4HR07nUFJhER/5WqHigjPR3TsTGaRupgNnp3BEExRBXOcOtAvwRIaZAoORaosXEQn9GTf9HmbdNo4+0QG4Cg0ti44DX3/Byt2nKGzqBY0byLj+EuW/GrHkbOe9Res4fK6YGiu/36nLMPp1CsPbqemsZ4+jfQFr957lgr6pv7eWwvZ9GBIXQYCgDeVKD4LbxxAfE010dBxdu3WnR/9hTJhyO9Nvm8Itk26gi2sq6dlFlFY1fshK+bLailJw8iU6LoH+oyYxdcp4hnePxFcYK2TJYfeCz/j+t4OoY3rQMdSbZrchc8A92Btlzn5OZRb+uZOti2PQgE6E+zYvGSpTueOtqqDSI5LEQTdxx913Mn3qLYzrG0bl2XPklTQpbXpFaBk15yHuv3sSIwf1pXffgQwfMZzRwwYzcNBghg4bxvBRY5k0aSITb5nMhJvGcsPAPnRt54+Ho8TCYSnk0Pdr2ZldwKWebnSjy8AedAjxaJ78ZGePs28YHeJi6dipA506J9CtRxKDR03ithnTmDplkuR9thsgNcZqaWiiaOIS+jFq8q1MGT+M7pG+ouM3S85uFnz6A78ddCMmsSOh3oJn7uBOsLcDOftTySwsoxook8XSp2cHQjSOzeIyZQ6u+AS3Jz5xIIOH3cjYm8YxftJEJtx0I0P79SBa643Lpe+3oyxzCb9uOU1eY73AmEHj6BcjKIMIlJx6m8V/lOPkpcXHTSybZCdToHL1xDsgGG1kFDGde9Bn6BAG9O1Ge1cjWReKKBccY3YfPpmkaC1uAje8KW8f36/bRU7TuekvH8cAVZReyOBkeiF2ah+C/Nxxkjo6bYrFiO7kOr5651MW/byDY9nF1MYMIilai5djc1ecvCqflet3k5MvLBB5ZRjz0jhxtoTaehPGonxys09xYONafvxsAYuW/cAv6zezfc9BUs6kk52bR0GhnmJDORWVJqrrJPIG/jJ6MWJSN6KCnZt7jE157Fu+nt3ZBSLnh1U0iUy67wFmT7uRfrGheLuqxCEJgMWQyf6fv+KDL5exds8JLpSZrfab1nDDjDmM7x2Dj1ND/KqdTIHSyR1fbxnntx0mQ1ci2tBfMTWVlOp1XMjKIP3UCY4fO0ZycjLJyckcP3GaM2lZnM/OIedCHnm6fAr1RRQbwul7Y186hQnmPAykf/0rW8/oKBYZI22hG8MndqW9sA1r9Bz7eSMHcwvbnD8i5DoZlT0YMak7UcEuguMKM/kHV7Fh/wUEpWJFuCUMZ0CscGIBWeUFfpSoUQ2AqYRsvT2hnToQ4u0qSrqxkylwUDni5OTUcKmU2FsxyPTJP/L256vYdboYKXWUxKETGNU5Ei+hjqPpHNu/XscfaYWUt6Hz9x01mV4dtaIkAnP+IVZt2N+stm7M2JlMH9IVrVp8lGcx6jh/fDPLFn3EFwu/Z83GPRxLzaTAUEVNXX1D/GVUB9q3C0PbWHPdx6mc8gqzuEJQpY5Sl3bEx2jxcW0e+ydzcMHTP5iwqE507dWP4SNuZMKEmxhz4xD69+pCVLCnxMRuQX9sFfO+Wc/R86XNJwe3btwwoBNhgoW6ASMZv33M0o3HyS2TaIxGygJ6Mahbe4LUTT1hMhzc3bHPSuXkOR1lTRqzyhxFUu8YwgQ13LGTo3LTEBASTvuO0cTFx9M5PpaYju2JCAshJFhLoH0+m/alkVfc6I8u6cSQoXGEBzg3NzQcPdFGdCAuPp742Bgig31wFe3GLeTsXsCH327keFYOGZp4kmJD8Xdt7omSqzwIDlFj3HuSjIJSqmjB8JKr8AyKpFPnbvTs1oXYju0I04YQEuZO9e87SM5tYrxdEcOY/sAEBvXQ4u3ugafGh4DAIIK1YYRHRNKuXXvat4skIiKc0JAQAvx88XRztlppy5ixgc9+3UZKQfmfXtfaItRdk0hoF4S7QN1aZu+Eu18g2nZRRHeKI75zPHGx0XRoF442JFjyPks6DWZoXDgBzs1aCEdPLREdY4nvHE9sTCTBPq4Nv7PJXzUY/R/y7cbjZOVkoOnci9hQf1ybZcrIUXkEE6I2svdkBgWlVdQWGwmM7Ua0VrDRxQ6F0hVP7wACg4LRarVoQ0II8PNC7aREIWuaXGckY+NS1u3OvjRvWtuElmcuZNGSzaw7W49vcDiBHk7iYgc0bLQVDiqc3TX4BAQSEhpBVGxnOnoZOZGWQ3GTGMXeIybRPSoY4f5Zam76O8YxANUVGHRZnDm6l22HUsgsLqcOBVSDncIOu5oqiotL0GUd49DGn/ju069Y/ONvbD10iuzihspmhna9Gdq1HYGuzedVO8rI/nUbZy/oG8bc1VJVSlFOOqeTD7L7j+1s27qdHbv2c/hEKuk5eeQXlVBeZaautbv/v4rEoYwf1ZlIL4FEVtEZPvtlE8fzWluPWsPwmQ9w9y1DiAt2x1E41hqxGDI5c+YcF0qqcQrpysBhNzBydONG9eYJjJ80kUmTJjJp4s1MbHLddMMQekWpMGRdoKi8aVGGBEbdchPd2/sIkiPtUDjZYfxlC4dz8rkysbIWqKnGbKqisrKy8arCVC0Rzw9AOwaM7UtMmFBFpIzMpb+x/byONgrBCLBiVFoKOXqNjEqp6eYaUEBZldl6hYZWcLrCTLkoFglwdSNBoUA6WsxM/rFfeP+Db9l8XKrudGuwYEzdyMKPl7PjUAGVEschtBQDWapnZ4UZvcRPbwnpLFHp2rrRwT5onFSSA1FeX0NZuQy1TzRdew1m4l2P8eJrjQK6y5ayTEI89/X3v+bzt59gco9Amp/4Gji59kMWrd9HpkSNZ+QqXLwCCI/qRPceifTq1YW4DqH4eUh5fhvFpT//ib1n9OIA/dNGzOVWlP6NOezflE1RQct7yIpt2RQUVImO1WROYQy9/S6mJ4TQLF/r7I9sO3iKgjKpjiJDoXJG7alB4+WFl4caZ6W80RhU4Ojui8K+yT8r+oP084UYBTEPMqULag8NXl5eeLg64iAXZuKDMW0zSxZu5EC6AVOdmbx1qzlwPI9S0e06oI7oQ//BXmguHgOa93M44zwlos4uw8HNl5CgQPy81A2ZpYBM5YxGphDprrYdB+QyhUDrU4ZM4fCnOK9KiUJurRpLE0yZbPvxN07lFAi8BKXs/OUgKVkGcX8BkDvg5OqBp8YLLy8N7q6O2Dc+X6n7LNqRzvlCoyAsRYbSRY2HxgsvLw9cHR2Qi8a1kbRN37Fww0HSDSbqzHms++UAx/NKxV4NBzURffoxWNOYdFSRyqrvVrHrTD4VVuZDmUzWcFl5TpacQ/y2tYS8ViZfmA05pK5bzBuvf8B3W1PJr5A4aWmGDIXSGc+gjvQdcwu3+gbQJHwTmUw6MVRSRubvGMcXMZeiyzjJkS2/sfzT93nxPw9z/313c8eM6dzWqIX84GPP8epH3/D95p3sP3m+WUGKigM6CotNYg++Fa3iq8JUgi4rg7QzZzlz5hzZOj2lzSTy/oF42qNwkOijNa1JJm2CZhC9e3ch3NdJMnbyInInb4LbxdFryBgmThjHTaNHMeqGoQwc0J++ffvSNymJpKZVhRqvPoMGM3rq/Twya6jgSNsbJ8mCF0B9PXZ/ow/4v4nrZFTu4tSFbMqrhENEWixXiorcEoxSFWgUKrxlcusxQOYiMnev4J23P+S7rSnkt6VSg8VA5h/Lef7Nz1j2R8tlw/KNJkzCuB/AmH+WAlN56wdYI5LB6Vay5R1k9cjspP4aZE7eRHTuww03TeG2aTOYOvEmxo6+oUFANymJJAnx3I6x3eg9fAr3PTCDriHNZV3MRZlsmv85X685xPlSCcOylZh0h/jh/cXWy7FVHCNPb5CMaTJm7mNLbhGCKpJiinZx7ryeClEwqwNu2h70GeLxpzEGYM5j68rf2Z9eYHXBl8aCPmMf5oqme8YzfL/tIKcKyiRipaxhwZi6ni/enc/Pu89huGg56Q/w7c87SM4TSNwAyB1x1cixv7TClbJnzUFOnLdieAkx5HPMYkIcPNJWNrE/LY1iqbrfbcBiSGPjF++w8NdDXJCQlzGc+IE1u46Q3da+J3WfZ35g2wFrmwgrWIykrvuSd+f/zO5zfz5j/YEl/LwjmTyJsnByR1c0CvtGI6Rxo7vwV3amtaXaWAMWfTKrFn/NhpQcmj4ea5IlNSYaKtyU53Nu72rmv/oIz837iT1nijBdNu5KhlLTji59XXBvMk6szU2SMjJ/xzgWYq7AkJdN2qkUjiUf4uD+/Ze0kI+dOEvGhSLKLBKGdnox5SVmsY6nygUvmcL6mvM/Tpur6URH4OvjJq46JkDm4IybR8OmXuPuirOz058b1RY2YTKFA06eWrrdMJIhPj5NHFAeODo6IBclGgFVZeTUSifE/mPwgn9DJ7xORmUJW376ne2puZQ1mchMmfvYfLKYgtZkie3KoUBXJbFQNlRCkepMlzDpydz/Kwte/T/uefx9lm0+Qk5RuUQWZgMmo470Qz/x/uOP8X8vfMraXafQV7ZsjJ4+XUBeuVlgQBjJSd5DlaHtDuq9WTqKRLOodInGsyXllIvOqhuRK3Fx92jwrnl54aF2wdmpUUDXyiAEkKvcCUkcwA2eXngL3ivPPcqvnz7PKx+vYk9GaRsXRhO65FV89NJbLNh4pIVybMfZlZmJvkK4GhlI27aNnEK92IMgIo0frRl2MhXOnnLkAneD4eRaPly0pk0LvkWfwubVGRTomv5WM3lbv2TFuj2kF1urg90UIzn7fuLjtz7lh63H0DXrbxXk7ljA6p3HyRcaQBY96XurMTbxWpWebK3hZSLzj3XsLtRdgyOefLZ99T2rtp4m77KeMDEmo46T67/jncef551vNnMsz0qJNbOOPxbPZ9nvKeSWtfZ7rNynOY+tX65g3Z50ilvT2MYc9v34CW99+gNbj+mobPoDK3LZMf9Xdh7PR9xE6ew1G7nUROYiMjd9zRuvvs+3W1q70TWhS1nNJy++wRc/7uO8oXnCXNaBXC4UC715JqqKaqm9+KK5FF3GCbau+JDnHnqCZ+atZu/ZyxiXsjpqa6CpFHCKzkCpyEq0UFVopNYsHGl/zzi+JpgNmM0SMedyBc5t0Ob9r8XPBUdHheg5tL2aTq2Vbcq1RIbS1Qdfe2UTO8wVB7m9OJ4bsBTrOGA2IRFU9xeTj9EsIeWHC+qOCuyvobTV9eI6xVRCVXEOZ46kkqY3Yqk0kHlwNcu+XMH6o1kUVddevkuZ8vDt0Zv4CEHckiWPQz9v5GCuvuWz/1ozxpJCdOfTSD26l20b1vHLqh0cPH6CY0cPcmD/Pvbt2sIvCxfx7bIf+HntFnYePEFGvgFzS5NuI5bCclzbxRGj9cG1MXjToj/CD1+sYuepQiov/y+aUXrejqDoGCKDmtQ3NaWz47M1bE0poGkIkqEylC7dOqL1dhZlVl8NdgozhT+tY1eOTjC4ajGVFZGbkcrh3SlcqLDDxUuNp4sKhUTVI2jw8OjPH2f9ovf4ZOFPbDxwlvwWKxpZKDaqaRfbiTDfP+NhjWmbePfrNRzKKBZ7EETUYtQZcA6NJibU91K7AA0VPFb8wubDOkqabqprqzDkpnEyrYB6t8sH+Zt0h/j5q4/4blMK2eUCI8dUxoW0E6QV1OPmE4Sfu5NYUcBiRJ9xgDWLPuCzb35h85FM9FV/1pm+RHUZF85Y8I7qSHige2OfMJG54Ws++3kXp4qqmsQeGtFlnMRg509IeCAeTvbi3aJJR/Lq+by/cDX7M4owS8lKtBFTWR4Zp/aTcqEY7B1xVDrjILdHLm9S/cNiwVJbS0VpEYU56Rw/tJXVyz/hy4XLWbl2K3uOnyH3MsH31eV6slKPcLZEiVdQMD5uKhSiG2zEYiBty9e8u+Bn9qbpRfdpKssj7WQ6BfWu+AT54e4kFle2GPVkHPiNRe9/zje/bOZIpl5SLaG67AJnLF5EdQwn0F3VMBZNmWz46nN+3nWKoqYnNdVGSvIyG2L+klMpLK3DTmaHncwBhR3U19diriiiOC+TYwc28t28z1i4/Fe2HjpDnsTzqS3Ooj4giuiIQNwvll81pbPjc/F8UWMqo7ggh8y0YxzctZnD58uokTvjonbFyaF5fK8pcwvffruR/edKL23oSyrcaS8Ylxb9MVZ/voYdJ4VSPn/TOL4mRNB/TB+iQ4XxbOWc//E3tudcbTzbv5xeI5iUECVKTrUUJvPzhoPNY2tbojSEvoO7EhkoTOS9tpjO7WTBmu2cLChrmCsThzJhVGfaCWNCgaJTy1ix8RC5bcmuvS6UEdBzIN3aB6FuFkdeS9HJn9l4+PL5KC1z/WMq7dzdPVqYzq8WJc4aDd5qJ2TVBooKDJRXt9bbAF7db+eZZ+9leKw/zo29wHT6J+Y+/D5bUrLFR4OXRYmzqxNKh8bYuLoaTGVGKi9T3UcaJZrQREbcNIGR/cNwKjvD5u9/Ys32o2S3Ri9KhCuBkd3oOXIIgzuH4FmXz8Hda1i/ej9n9Bfrmzei9KPH1Md4ctYI4v1dJALirxDjMRbPeJxPD5wiT/jeJVS4+/rh5+uJ2imYdp2CiYyJJdTbDZUCTIYsMs6eYX/yWQoLCinIzSLfUCWueCGFUoO2e19GjxhKV60ndTm7+GXtZrYdTKfcWnCrCCUabXdGTLuNScN70s7HmdryLI6s+5AvFm7mYGaFhPcbUKrxCwzEP6oT8V260at9GCFaH1xV9shNBvIv5JByaB879h/g5Mmz5Busl7tTqv0IDPTHKyyK6FBfPFRyZECNMZ/Us1noC/PJz80mv9R0mbhjVwIje3LDpGH06uCK4dh+flv/O/vP5EmW/nT1DSMksBOdByXRt1MQ7ioFYER39BCb9yeTlnaazDyDpIF0NSjVXvj6eOPh4oLSXtH8eKm+nvr6emprLFiqq6ioKMNQXEhJebXEbrxlVB5BBAf70TG2Jz26dyY8LIQAT2eUilqMRYXkph9g38a9HDx5ghO5xVQKkzkuoUTtF0igv4awqBhCfS9u5Gox6k5xNktPYX4Budn5lJrEck3NcA0ksudwJg3rRQe3Uo7t+431v+/njDXPK43HqRpvNO6uOCqVODQmL9XXWagxmzEaSyi8UEjZZb7bNTCSbj1HMHRwZ0Kcqsnc8xM/rdrNiQLBfCFA5e6Lr3fDKYYqqB2dgrwaFjBTEceO7OdIcjrFTb2pSg3a8O4MHT+YnlH+KCoz2ffLb2z44yhZUnPd3zmOaSjHGBPkhZu8ivxT6eSWV4hjXyUZwXNfPcHEgaGom02quWyfPIcX9xwlrenL/2vMfpcVM0fRy6e58EzFicXMeOwz9p+wvmo0x4vutz/Ns7OHE+vvLDLwWoXFgqVeXMMaAJOR/IwdfP/ZYpZtT6Ggsc9p736XefeMoouvo8BpYODwvNk8sXgvqW1NhrgOaCa/yMcPTqBnkOufz8aSy5YX5/DyqqOktzrFXoKYh/jknekMixFo5FacYNGM/+Oz/SdaWPtbx3U2Kq8SpYbQxBHcNGEEg+P8URYdZc2CJSzf8WdH+XtRovbyxcfLGbmlnILcAkpNEnGgreZPI9wBE8VFBRjKq5FynCo1IXQfMY4p48eS2EmLRiU+lhBisVior6+HGhOG8spmtbtNhnQOr1nMt9/v5kRhZSuOqABUuKgdcXFzx1mpQC6D2upKjMZyig0VrasNLkTpjEbjhdrJAar0XCgsw9Qqi7QpStR+AQT4euKqVFBfU0FJXgY5hZVctuiD0hlXtTteri44OStRyGTY1VkwVVVSWlyEvtSIRapBpFA64+qkbJB8AupqTJQZK9uoKabC3dcLD1cFFkMJBYZyqlv8vAoXLw1e6oakIKihqqSEgpJysfbfvxSViwceHh64uDjh2LhBrKk2U2Usoii/hHJz6xMelM6uOCkdGuVM6qgxlWOstEiOOauo3PH18sDV3oKh2PqYvR4onTVovNU4yeuoKNahL7vcRkWAygW1o7Ihsa7WTKlgXmjyh439UIWspoJinb5lo/dvGcca4sdP49ab+hLr54qDnZnMjU/x5jfHOasT/q0UVoxK02lWTHuEeftSyGny8v8c18yoBKUmlMS+N3LT+KF0DhPowZoM5BeXY7KUoUvNQldeiaWmAl1qOrlljRuExs2qpPFSV4PJWEhOlg7DpbwMDVNe+5S5N/Ug0EVwzKE/wOsPPs2yPacxSParvxhNCGPveIy7xg+gnbcjVORydP0SPpu/kn3n2lCFSoqhT7Pg6ckMClc3d0bl7+bZWc+x8vDZ1stCWeGfbVQCKNV4+frg7a5CbjaQdz4fQ9XVGG7/PSjVXvj7++OpdiYgvANanyZH53DJ85KeW06FmYZBWF8P9bVYamqbSVbUWYyU5OWQX2pqnVfRhg0bNv5JJN7Fq/83g7FdgnC1l2FHHbodTzLrhV85ktaKQH7N7bz1xWxGd/fDuek0eg29OP9qrqFRSeOGyMffB3dngeJCnQWT2UJdvYWqskpMNbXUX9WpIqC9hTfencvYboE4N7MpLeh2vMXcF75nf5rhyv73dcDVN5Rgfy9clHKoqcKgy+Z8QSmmqz1lmvIqS+feRO9Al+be2tztTJ/9EjuOpl31M/jnG5U2WkVzj8tFrtDzYsOGDRv/MhIf/oQXpw+lo0Z5acGszlrDS/e/xarkrMt6YLRT3uDduWPoFujcPCb5Gnpx/tWMe5FFj06gf0iTY1nAfPonbnv4ffalZDd59Z9F4ux5PD/zBqJ9BKL8xlOs+M9TzNt4lJyrcgH+O9DMeocFd48iwcep2eum0yuY9vCH7Eu5el+8tXB3G/8yzBXllBQXNSvfpNcXYzDaDEobNmz899Pe3x13VXPhcgf/vtz5yH1MHtwFTdN6mAI0MWO4bVR3Ir0cRYuiSX+ODHNF83KU/4uYaqitFVf0sXfVEGavvM4lYa+GQfTtHEOAh7A8rInMbav49fg58v8XDEptFANDA/BSCqsAgrlCT21bZKFawOaptGHDhg0b/3pufG4hj0/sT6i6eXR5nbmM/JxcsrLOk5+fS3ZhKaZLWVRK3P0CiIiOp1NUMBonB4HkjIn0n+by4HtbOZb9T4jj/xvRzOXDBTO4IcELVdPXq3PZuXITyTmCikMKZ7y83XFSKpDVGMnas5rvt6aQZ7g2xkurSXyMz16eytAoz2bZ5qbMtXzw/Acs33WWYqtZdf8SLian+YTQIdgbV5Uz7n4aXF1c8XRtqB6oclHjFajF38NFpEqi2zqLWS9t5kh667IpWsJmVNqwYcOGjX89HqNfZN7jE+ijdZVUxKirqcZiNlFptlB7KZ5cjr3KESdRacxGDMf4+rHH+XzbKZrJ0v5PMo6XFj3ChP4huDaz22uoLDViEgrK2ylQquyRy2TY1dVQUXSC9W8/x6ebTpPzV7p9hz7JV0/fwsBw98Z+YcGQtp3F73/Oii3JXGiVbuw/l6hRd3PbzcPpEuiGSumMm5MShVyBvcoBe4UCB3tFQxuIKoVdxMSJb6fx2Cf7OXFB+F7buW46lTZs2LBhw8ZfhamgjKDYLnQM8cZJQsDXTiZH4aDE0dEJJ6eLlyMqB4WVwhAm0ja+w/zVBzlbfIUJIv9V1BE3aCCdwn1wama1y7BXqXC89EwvXiqUDg7Y29tj76DESe2Dc/Vath/NJf/qS3q1npJKHDV+eLnZU63PYOfab/h4/lLW7z5N4WWKnPzzGcbtj8xk/MBOhPl64+XhhouLc2O/bjAqZS0alAD5HP98NZtTdJRcgyRdYfiIDRs2bNiw8e/DcIIfFi1lXfJ5Sq/6ONOCPvknPlq2j6N5Elqc/5NkcSAnl+KqK3XZ1lFjrqfuapumrZSc4Pev3+Sphx/g/oef5K1PVrB13xkKWyzG8W8hFH9PDc4tFOy4HBZdGjsvGCm60mYVYDMqbdiwYcPGfwFmdMlr+ezZV/l45R4ySltTLlUCi4HMP5bz6rvfsPFQAf8ISeR/BGaSN5wgVVeOsKBwqzBmcGhzBSUFwjeuN2YMeRmkHk/mWEoqmXkGzFcrzfOPoYRqS/UVG+oWQyobF33Dzqyca6ZsYDv+tmHDhg0b/x3UmijT55Jx6jC7k0+SXybDwdkJFxcV9o1FCKxhMRq4cGYbvy76kC+W/MYfx3OoMF194sJ/E5aS8ygjuhAfHigoI9gyFkMmu396n4Vrj5BukChLa+MKKaDMLZCO7bT4uCol65o3xWIyUpR/nvQjO/l15VI+/2opv249wnlDlagU7JViS9SxYcOGDRv/fSid0Wh88daocXVSovAJJSqkoWyqk18o4b5OWC5kkV1Uhv7CKc5mFVNUXERh3gUKS81Wy7D+r+MenMTYO+/kpr7t8XVWYDbkU1xuouTCaTJ1ZVQ1s8MbS5+e05GdmU52QYWVakg2rhSlJpjwbsMYf+MQencKxF2lwI4ajEWFlFYUk3Mqi5y8cxxPz6W0vIJqswmTsYyikmKKSivaWOHt8tiMShs2bNiw8d9Pk7KpcpUTLioFdVUVVJotVNuKRLQBJe7+gfh5uaKS21FnMWG21GKpKqfCVENtM4vCVoDjL0Hljq+vNxq1Ew4yO6CemmozlhozlWWVVJkqMLS5RPCVYTMqbdiwYcOGDRs2bFw1rQ+KsGHDhg0bNmzYsGHDCjaj0oYNGzZs2LBhw8ZVYzMqbdiwYcOGDRs2bFw1NqPShg0bNmzYsGHDxlVjMypt2LBhw4YNGzZsXDU2o9KGDRs2bNiwYcPGVWMzKm3YsGHDhg0bNmxcNTaj0oYNGzZs2LBhw8ZVYxM/t2HDhg0bNq4XvhHEBHkREt6RYG83VC5q/DxdUTnIAROG9COs/2kzx3QlmISftdFmNDFJ9OvRiUBX1SWvmbk0i/TsIioMBZw8c55SownQoI0KwcdDhV1lPqfScymvMAv+m422YjMqbdiwYcOGjatEEz+GKeMH0lnriVJuj0IhQyYDlC64OTng5KLGSalArrBH5WCPXGYH1FJtLCH76Fo+eX0h29LyqBD+YxutJ/FWnrl3EkNjAnBRyLFrfLnOUomx0kxNtZkyYyWWmlrAASdXZ1QOMqgxUZC2k+/f/4Yt6XmUC/6tjdZjMypt2LBhw4aNqyF+Ek88OINxiZF4O9kjs5NhZ2eH3UWr5jLUmc+w8raHeX9fCtnCN63iS/zg4Qwf2o32fmqU8lpM+lQ2LPuOjcm5GP4HnW6JD3/Ei9OH01GjvGRQtpZaUzEpq17mPx/9zskcm2l/pchVKscXhC/asPHvJ4pR9zzIIw/cxfQpk7ixbxj1Z89xocRItfBP/5Vo0CYOYczIIfSK9aFOV4ihwkSN8M/+R4kadTcPPTKXu6ffwqSbhtDF00D6+QJKK6/xE/KNIKZzXwYkhuPvbk9xiRFz9TX+Dhv/eJKm3seM4T0Ic1cil7XNoASwq9GTvOp39uYWtMpL5pswnplzH+DOySPo1z2WDpFhhGpDCQ1vT2wnP2oOpZJZWEqV8IP/5UQPuplBceF4qtqeLiJTOOJUl8XaP1K4UGgzKq8Um6fyH0LD0clQukVoUNSUkX1gDV/8uJ3M/NZMMdbwJSImkk5xQcgKczhzIJn0UuP/RNyOdvxTvDxnIkkRHjjI7f7rdqHxk55g9i3D6BzshqKugqKz+/jh049Zdeg8Rf+DHormDOPRzx7h1qHt8XKQY1dXjfHCPpY+9yIL/jiL7po8nygGT5/A6Bu60d7HC3fHesxVFRRkHmLdV1/y6+FsWzv8z6Dlnvc/5O6R8fg6tsGSbIIpfSUPPvgem49lX2bTG8Xg6ZOZOG4g3aKC0TjbIxd+Za2R1B+f55F560j5V8x1GrSJSQxK6kx0aAheGmdU9rI/s4gtFsrLC8nPOsLu9evYeUpPqZWx5TH6WeY9PpE+WjUK4ZutoOLEYmY89hn7T+QJ37LRSv5dnsqoQdx61yzuu3MqY4d2I0iWTraulIqWR+G/AC03zbqfaTcNoHOHULRaLZEd2uNdtY9T5woobfN2U0PMqJk8+MgsZkwaxeD+fUnq3YcBg7oRpigkLUdPmalW+KH/IrSMueMORnQLw13ZMDXJFI54OpnZu/0o5/NL+afdvW9EDB3i+jBg6AAGdI/G37GeguJSTJJerwQm3Hs7N/aOwk/tjLOrO96BoQS4FrIrOYMCw//CtqEFEscz4+Ykon2dGhYWOzkOLr641Bzgj+PnKSi7+taPn3Qf990xjgFx4fh7e6BWu+Op8SEwOIx2IUqyj5whp8iIRfhBG/+FdGX4zUPpHOGJSi587/JYjKlsXPglv+w5TVFVC33TN4lb587h7ilD6d7ODzeVHJnQoASQOeDmauH4tiNk5pf+c/ugJoakm2dw7+yZTJswgkFJCcRFRxEZriUkOJjgJpc2LJx2UbF07dWLuEAFhRm56MtNonncVHCOWp8oOoYH4q5StPkIvCRtJas3J5NX9K83Kv42roNRqUEbP4Bho/rSNUBFTWEJZSaLqPHbTNQY5jxwD9NH9qZzh0jCIyLpGOhE1oEznNeX/3MHTqvox/jbR9G9gwZHmR12MjkOzh4Eu5rZuOc0F/RG4QdaRDN8Jg/dcwujenUgxN8Ldzc31B4afAJDCA/XYNydTEZByX/x0cggbp4+hM4R7iibzCpyuYnMNTs4dUFPZdM//xvwjUhiyMRbmDHtdm6/bQoTxo1hxNAB9EvqQbeEbnTv1Yee7ew5eTaLItGuIp4bbh5EXLgHl055ZA6oPey4sPEAaXnF/xPeaKvEDWZc/06Ee/yZ/YmdAvvqLH7bcYoL+qtt/RjG3jWdYY2blqYLl51ciauPBvn57RzJyP+fjGv732MAo6ck0THUBQeBFWOxWKgoLaKkREfW2XQyzp1g/8YtbN2RwnlDMZnH1vPTp4v4YeMRzpeYqLV2bhg1knvuv5cZo3vQzs8FB7ldiwaT3KmektXbSM4toEz45t+OLwnj72Tu3Du5dWQ/EmMj0fp44Oqkwl4hQ2YnuDc7O2RyexwcXXH3DiQkMoaYoFqyTmWiM1Q1ty1MZVxIO8HZ9GIqayox6HXkZmeTXVBGdbWJqgoTFrkMO4UcufB7gNIzi1izLQ1dibWGsHE5rrFRqWXUPQ/zwD2TGDWwF4k9e9OrSzD1hWlkF5Zxxc4xTSLT77+X6UPj0bo7opDLkCuUOGucMa3dztHcAkqFn/lX0Y8bb0mkY4gL9pd6uQwHZT2563Zx9oK+DQaglptm3s24PlF4O/6Z/QYNC6tK7Y4ifyN70/Ioav0//XeRMILJY7vR3tuJZo6D2iJO/rKJw7mFtM1Mv0b4xjN4wnRm3XsP0yaNZVj/nnSNbdiZB/j54OWpxs3FGWdnV9w13gSFaVAc2U1qdiHlzcZOOwaM7UtMmPufRiUgU9ZT/vMmDubkY2j65/9rtOvP2D4xhDU1KgF7cyGrft9PTv7VzhaduWHiEDpHejZ7/hexU8ioSlvD1mMXKPxbOpqNv5SEIdw8pgvtvB2bzzemNNa++hYfzv+GFWt+Y936jWzaso0du/Zx4MghDuzfw+5dezmUkkFeuZkaa3ZM1BjmPHA3tw2JI8RdhaI1wZpyEwU/rWNXTj4lwvf+RjTxY5g5dy4zJw8nqVMY/u7OKOWyNsSfylCo3PAODiXQPofDp3MoMjZ3KVWXF5N3Pp2Uo/vZtWM727ZuZeuWLWz6fT1r1/7Gml9XU+/XCa2/D47NzshN5O37nnW7cyi4mqiz/3EkpsSroMcIhoweQGJ8GEF+fgSEtidu4HhmPXQn/bT+OAv/vlVoGDxpKpMGxBLk5tDc3a90xEMmx6HJS/9OFMhlEoHdbu5EKOzb+NzCCfP2wlUpMCgvIlfhqpFh/+9/aFbRxPripVZhL3zDVEF+bc1f78XzTWDMnOf4+IOXefq+qYwd2o/uce3Q+nrgorJHJmr4BhQuwXSKdcLNTfiOFeT2ONnJmi9sNi4hVzhhZ3clkVZCDqMvK8RsqRO+0Ug1VUV11Nq8lP8beKtQSM23pfmsPXaEbYcOc+TIcU6knubMmXNk6/Ip1OeRfS6dzOxCDOYa6yd5UWOY88Bd3DYwmiA3B3H8pNGIqUbq83bIEXvi/k6ixszmqSfncvu43sRqvXCxl3hmrUTuHEjXGycxyj8AL+GbgLmiiAuZGaSdOcuZM2c5k3qCY8eSOXr0CIf222GsVGAnsn5qMVXWUyd+mDbagOixXhXRofj6uqBq0vNlSjUhCaOZeksnAv2Uzf68NWgGT+Tm0T1p7+OIQtgDLSaM9bX/BRmv+RirTNQIO7NciaudTGwctUgpJouFWmvrHQaK0i2Y/4s9KNH+Hng4OognLLOR03U1rcquvDb4kjD+AV5/+zkemTmR4T1jifD3wNlBLt5ASFJDdUU9df/+Dv7X4ueCo6NCwriuA6y5g9pCEb9s2sehTIPk6Yspcw8bDuu5qhw7G/8e/F2l+5vJSHFtzWUSb1ogahB3zr6dKf07EuAicKgAppx9fP/xbk5klP3zw7/iJ3HLrRMZ2i0CbxcJ47gpFguW6mqqq6uprqtDeimTofSKo99INV6+wvcuhyf2CqXEHGzEeLAGS7HwdRtt4doalUUVVJtrRJ1ApvSiy+jbGOUfJLmrsIomkfE3jaBruBdKiV5o0Z9nvbkSnfCNfx1qVA4ODUK5TbGYqaqvk9iFtsRptuw+TlZRhcTnLOiTN7I8OZ/cf0NS4BWhIdJDg6u92CNlKrlAeXXVX7MJ8U3i1ief4+m5MxjbO5Ywb7eGYx7h31nFgj5lM9/uLyDbZpy0DZWiQdZF8LLJWEhdzbVxH+r+WMpbr7/PZ2v3cvpCGZVV1VSXFZN99Gc+efMr1h7Lo+wv6Wg2/nas9beqYupqr9Ck1CQy/c67mDaok/iEDguGlJ/55LV3+Gz5CXJKasRbpX+awyW+M+3C/FA7iJ8TABYDOce3suztB5k18zamTm28pjzMG19vJ72oUryeyVwIi0vEWe0hfOcKqaGmuJ76K2wyGw0IzZirY+dezpwtolzUKDJU3j0YeWtX/IJae5irIXH8ZEZ1byeODQTASNqOn0grzP3rjzOvOSoUcploJ4qlGkNdXRt3uhWcWvcx7328lA0Hs9CXV2GurqasOJujqz7mxde/YdtpPVVCy/+/hmj81B6ohBHzQJFuF+YqvfDla0/UGOY88Qj3TB5M57BWHvNYLBiL80g7fpAtqxby4ctzeOjZj9h8QodYWtEdlaM9cpFrpAYT9eLJ93+MRHcXPB3Em4raGjP19deo45fnkb7nF759+1kenn0H06fdxtQ77mLOf95lydYU8iqqRZtrG/+daBUKnESTN9TWVl9hf4tizLQ7uXVwF7RqpcCrZ0Gf/COvvf8lS7Yc4Vw7FQ7uDmL5nCtaO64jcjn2dojnQYuBzD3LefvRh3n4/17mwyXr2fTHXvbu28e+ffvYt2c9yz9/ia+2HCXPKJwIZaj9OmKvam18kI2/gmtrVJbs5Zsth0nVS3jJZE6E9bmBJC9f3IXvSZE4mnGjehLl4yQ+9gZMmduZ/+txzuW3bFJqtPGMmPYAz772Jh9/8RWLFn/Dwvkf8uG7L/LU7En07aTBue2n8teWBBecPRTiiaG8hNSa6jYf15qLMtn36wLeeOoB7rp9OrdNvY07Zt7Hf979lo0HMzFW/eMPS64cTQQeGhfEjkojhemFmK+3/pQmkel33sYtQ+IJ9XBsMajeZNSRfnQzSz98iVl338mMmffy4P89zcvvfs6i77ey++h5jJUSbaVxxcHRXrwJMZaQVVP9t2e2/92Eu7rgohB1AIyl+6mxFAlfvnLMpegzz5By5CD79+9j34FDJJ86T1FltXj++8fgS/zg6TzyynvMX7iEZcuWs2LFn9eSBR/z8gNj6eqn5u+eFqXRoI3qQveevejVqxe9eo1g4h33MGfuXOZeuu5k0vDB9O/aHrWLSvgPrjnhro64KEQ7PIyl6dRY2h5nFDVmLLfc2INIL2HIV4NB+ea8RazZeYaiSgt14a64uly7teO6se4oaRkGjE0GhkmXwupPnuO5Vz/ku/V/cOBkOrklJizN07kx6NJYszedTINYQkhu74KdTHT3l8EXF0cVoiYzGdHV/Q0x9/9lXHvxc00CD77yEjMGR+MlTI2s0bNr3t08t+QwZ1uc26MY/8JLPHRzN7RuElpTpkzWfvACbyzfRWaxtJHgmzCGCTcOpU98BEEBvni4OaJSKlHIZFBnwWKpxmQspbAwi7MHN/Htl6s5lK2/Dh3qz6L1CjszRSfPcF4oQH7LKyx9cBy9A12a3avp9ApmPvwhu1Jy/jFeD402ihAfD1QKOzAXcfLMeUqN1/6pXTF9n+CLF6YwpJ27IBY1h4333Merm4+SIWGnXRu0jHroP9x/20CivKU3Q1iM6NIOsf23lWw8koVOX0pRoZ4CgxFLTStb2do95mzknjmvsfloxnWLsfKNiCHIyw2H+gryT6WTW17BtTlQvnbMemc5d9/YCx+npq+aOL1iGg/P209KTtPX/7n4xg9icP8kOgVpcFHVU1tRQtqh3/lp8zF0JW0dc74kjJ/ETYN706VjKIF+7rg5qlAIEgTrasxUGPJJ27OKRe98x6Zz+X+5YaLRRtE+rjMxkZGE+6pRe2hwVtmjdFAgk6ku1Wtu+NkOOLk5omxS5xlqMJVXYjJVYjCWUpxzgs0rFrP+cA5tfmytYMRzX/HExAGEqZsbN7nbZzD7xR0cTWvluAY0idN5/LGZ3NglBFeH5uunKXM9H7/+Cd9tO0VRo2NAO+d9Pp45knjv5sazJf037njwLXYey/yHrB0atL1HMO7W0QyPdKYoZSM//PYHR4+dIq+kimqhtShkxLN89cREBoYJRM1ztzN59kvsOZrW9NXLcC/vrZjJqF4+ODZ9ueIEi2b8H5/tP4FN+vzKufZGJUr8Bj3Om89OpHeEWpCZXUvpwU+446nFHEy1fgypHfM4rz50K73CPbAX+VIt5Ox4n2deX8rOUyVUi0bMxYoDA0hoF4SXiwNykUunKbWYywpJP7CWhZ8vYP3RXGm1fk08YyaNoV/XMFxqisjdt5lFa3aRrbcy5fomMH7yWPp37YDWR42zgww76jDnH2fVpx+z6mDmpYob1iaGouRfWHmoAJnSA28fD1ycVChlTSsNGCk8d4h1C1ayI+s6Tf6+8Qwe3I+kbh3Q+rjjqXbHWdUYaF1bTVlJLmd3ruazH668+o9vRALdEjoTHhZCgLqe8rwzHN62gT1nrFdOsModb7J09mh6+zk334wYj/LljCeYf+AU+U1fv5Yk3c9Hz8xgeLQ3KlGfM6FP2cCyr39l56kMsvNyyC8V7spbh+aON/li9mi6C+7RcHQh767OQObgS1iwF25uXqid7f/ckdeY0GcfZ+vPP7D9hK7Vz9Y3YQxjb+hHQpQfPp6eOCvtkVGDqTiTA6sW8dX6o+RcS0FGjZaouK70iu1A+wAPVA5yMBlIP7ad7RsPcbaoJUM2kSe/eJkpQ6Jwb2ZxF7H/zbt5eukhTregsdI2o1lDTNIIhg6JJtBdTlXOQX5bsYnk3JKr25z6JjB+8gRuGtSDdiE+qB2VKOT11NdWYyzWkXr4N1a8t5ytrTX4ogYx/ZaJjBvYnfaBnri0IlGstjKP1KMZlNXUg70cLAZSNy1mwa+Hyb5OpYI08WOYMmkkvWOC8dZ4oHZxxlnlgL2DAwqZDJnMDrvL/XARddSYysk/uZ7Pn/yIX05lX3O5LetG5S3MfnEPrbZ3NInc/cyTzLwhFn/n5s4Uiz6Z7199iy/X7yerSWjF6Oe+5vGJA9Cqm7vdyo58wR1PLODAqYJmr/+tKNV4+fvi66zAXKYjJ78U02WtyUYmvsjihyfQL8i1eUJU1u9Mvv919iSfa/rqZbAZldeTa6xTCVCLsSAD95gexGj9cP1TeLFBe9FFQf66PZy1JkCtGcT0+25jWHyg4LMNWHT7WTDvWzYeycFoEdjDmkQmPTiHe6YMo3s7f9SOCqtyLX8iQ6F0QRMYRrjGyJnkDPJKBIKqQNLtj3DvrWPoExdFZHgEUTGxRHmWcuJsNsXNgkh9SZh0D488cDsThyXRuUMYQX7eeGk0aDRe+AaFEqDKZdexcxQ0LsSDRk9lUFw46qZK3YDCxZuIdjHEdoomKjKCcG2IoNKAltDIDkQFy0k/mU6eQSLs4ErxTWD8zNncf89tjB/Wlx7xHYmKCCPQzxdvLw0ajQaNtw8BgSGER11J9R9fEsZM554H5nD7LeMYPqgPiQnxxMZ0JDq2C926tscpO5UMnYGKNtxUzMBxjO3aDh8nwZFIwXG++HUbJ3Ul123nPnjKXUzoHY23kyCG0mIgZfWXvPvZElb/kUz6hUJKq2qou8Lt3IDRU7ihcyQegpMAmZMPUdEJ9OyeQHxsNB3aRRIR3lChSavVog0NJbxdRzrHhVB7PpVMnYGWCngQNYjp987l/mkTGNq7CzHtIwj082lofy9vfANDiAhRo99zjHMFhqszpBqN16l33st9d0zh5lGD6dczgfhO0URFtad9VAdi4ruTGB9E7ak0sovLrHzfIMbc2oeOoa7Nhagt+SR//Rvbz+ZjEHYA3wTGTL2D2ffdxdSbb2LksCEMHjyYgb0iUBae5XxhmcRz0pA4/UHm3jORG3p3IaZjFB2iOxPrX8Ph1EwKpQZC/HjmPPIQD8y8jVvGDSHWrYj07ELKmvxzTfx4Zs29l2mj+xIb5oe7iwoHBwUKhT32Diqc1V4EhrQj2DWP/alZFJZJn9RcRBMzhln338PUGxJp7+eGo6J1moAye2c8/YMICdVemmsi2vkjP3WUsxeKmx1jXhO0I5n1wN1MuSGRDlp/vN3dcHFS4eBg3xBvfkUGJYAdMoUKN28f5LotHEjLo1i641wx7fqPpU9MqGg8lmf9yG/bc9C1KptYw+DbH+D20T0I9RDEUVpy2P3l+yxYvZuzpeYmc7yWwTdNoEcHf5ybrZUW8o7O59dtp8gXdfa/kVozlYYiCgsLKS6rosaq0ruYxFGTGJPQXpRfYczcysrf93FB35bM024Mn9iV9sHOzU96LIUc/XkjB/8uHeP/EkR+wGtCRQ5r9p4ho1hsnMlcwuiZ5IxGI3ijkfiRwxjUKQQPgesfAIuOg0sWs21/GgaTYLBoErn1/vu4a2I/YoLVqBRt0+iSKd0J7z2WcQl++ErkEnUIDybEW42TvRwHByfU/hH0GT2JW2MCuKSUpIln/ENP8cTs2xidFEuIlysqYeUDuTNBkeE4Ol88m0sgzMcX58Zygk1xcNGg8fTAzbnheEdUAUCmQOnqQ7uBQxnp7YV30/euGA0xw+/lhdefZe7t4xmW2ImIQK8Gb4nw+wFkDjh7t6Nf3/5oPFuXheebMJ65r7/F84/MZOLwAXSP60BokC9eHq44u7jh7hVAWOch3DR5AL7+auHHWyTAyQFHUbAMmIx6SmrM1+1YGLS09/fFTaI0mCFtDV9+v5qNB9LRX3W8XQyRPn64SNSDc3ALJCQoCD9vD1ydnVEpFcjlMmSyxktuj6OrF9q4YUyePICAFp5t1OA7eP7pR7ln8kh6dtLi6+6EvUzY/5SoI+PoFeOGh8SYaTW+CYyf+xpvP/8wd08eyYCenekUEYK/lzsuzk44Ojri6KLGOyiS2AHjueXOTvgHWon407qhcpWoh1yu51SpuXlGtiaG4Xc/w7z3X+SxuyczckA/EuJi6BDVnvZR0XTuP5bJkxPxl5oQEscxbvxQenYKQqN2xsnRGVdNEJ1uGMnNPj74Cf8eLePHjufmEYPpl9SLXn0GM+HuOUzvHHJp/tAkTuehh2dx27CuhHu7YC+6iQYUTl50HDmBm/0CJL6nCVFjmDbnLm4ZEEuIupWi2ZeQoVDI/zTkZA64BfZgwHAPvK7NRNOcHj3p2jkCf9fLyM1cKfUWajLqqGuL7dFK/FxUknMONY0qVq3AunSeicxNS1m0fi8nS4TKFXF4u3ugFCUlllN4sghz6fWb7f5akugbGYGPq71gbjWhO7sPk7FVVnsTzNRgTarIxtUitmSuEfqNRziXVSLe4cvURPbug4uUVakdw6gRPYjwcZKYWCzoj/7MN9sOcdZgEnSIhmy5aTd2J9LLCXurk2dDLGVdnXR3kjuH03VgDB7e4kWkpMpMdTPxRxlKTRy9BqgbDeQoxkybxZ23DKFrmAYneyvSCYDFVEn9JfHBTvi4qVG1TYyyGXInVzRy+2sgAu9L0vQH+L8HZ3BzvzjCvFxRCo1iSeQ4uvugsLey0F9CQ/z4h3jqifuYPrY3sWHeuCmt1K+VOxHU/y7e+PBrFn3+Bg/elICf+nL/H/zUTqgkJvjS4p1YqguFL19DwvFwccVBIpCyUn+CrIICKq2KZbeFOAI8PHAULSRtQO5MWIc4nF2lsiY1xIx5iLn338GEXh0Jdm+Iu7OKwofEe17k3Y8+5OXZo9D6ugr/okU08eN56Kn/cP/0sfSODcP3Mt8nU6oJ6xSHszVF+HA3HF3sRZqBltJCjlvMl0rWRQ2eztOvvMhjd01iRM8YtL7uqBTNx6zMwY3AiPY4uojng8SkLnTWanAStLfcxYswhYNEwYJwOgQH4OXcmGDVaKT1GezRMH9EjWHanbcyomck3hf/pgUc1B3ofoMbnlY1+qIYf/NkxvTpiJ+ExuFFTEY9uWnHOLj/AMmnL1BqEkvCXUKmwi8qCZWrxNx9tVRZqKuro97K77waLEY9pzYt5bvTOVxo2bF7RagUcmSiB2zCWFBLqxSsWpDOM2VuYfnyTRw6Z0DoRyFGi7evs7iqk6mIc8fMVPzz6jNeEVHjh9MzOhC1cG615HNycwFl+W01nouoqqqmVmib2LgmCLvjtaNoM8nnsjCIrEo57mFd6ezsjtBPkjhyIEntA3GTOPZGn8LahRs4fLZYNLiixoxlwo09iPQW7vIALBhyjvDr568x5847mTr1Nqbc/wrf7DxHsfAf4YBHcCQOTuIlYUduMYVVghlJpiKgYxKObu1JnH4n08b3pYOfM/aiCaYJpkx2rN1Foa4xsifRHw9vR1HN2LZgTDvELmMJ4twnXyJiEkjsEUe4q/Nlsjk1JE6/nzm3jyGpgz9uDq2QwWmCsSyDmpqW3AAaEm+9j4fvuZVhXcPxdpHwJglQuAXRqXM3+g8Zw4wHH2H2MC2Bl7FZnBVySaPEVF5EreU6rCiXOEZplUEyRlLTYQK3DehGsMc1yERNDMHT1+mq+gsYyTxxjIpS8aoTNWYac+6ezIDYYNRSVUJEOKCOiKdr/xsYP/MRXphzA5GXa6RGNPHjuXfOTKYMbdkzJ0Rh74LMSsanJtQdD2d7UTZsie4gBlMxNUQx+M7nePrRu5k8uAvt/NQiY7IpFnMpdbXiRSva3x1PlYTAvtVKJkG4Ozs2VyWQqVAHyLEPalAMGJ8UgZej2NMtjTPe7SNQuornKgDtmLGMHxyDVi1tUJp0Kaye9xhzZ93N7Acf56mnn+Y/D8/myc/WczLfehiNwsETmezqt68idv3G1kMZFEjGuliwWMooLtBxIf0Ehw/sZfeWtSxd8AUfzZvHvHnv8eqTd3Pn9FuYPFl8TZ1xN4+8sZzdVxvr2iZqqTHX0xpFocQxNzGqm4R0niWH/St+YHvyOQzi5AGI9sHDXSmeC0oLOV5qplSowPNvJGoMN03sQ7sAZ9F6Yczcw2/ZenRtntYt1NbWUS88fVcocLWzE80dNtrG9TMqKWJTejY5RqFXEeSacBLbu+DZdD7UjmFo/85oPZUSP8pI6paF/Hb0JIVVgpGiGcaNowcTq3XHQTR7Gsnc/AUvPfcCby1YwYZtO9m7dx97Nv7IJ19vIzm3XKTj5eweitxePFEX7comt7BSFLTv5hVN0MiZTJvUn9ggV4nfcBET+rTdLH3/Vb5cc5gLjUcT2jhvfN2VLXdkiwVjcQG6cw0T6oaVC/ny03m8+ewsZs64hRkPvsfq9LxmQfu+Sbfy+Lvv8s7br/HKq2/y4edv8PDYcPytrPdRY6Zx56030C3UsyGzWwqLCWNBPrrcXHLzSzFfDLK26Di95TRlBdaMygaD8v47xpDU3gfnFr24RsrMNTRNhJY7OOMV1p0bJ4zC178l+fwYHJVuyEUdyERVUS1XqkPcOoo4nFNAiXDjASg1cQyf+Szvvvk8D07ogZ/7lRuXmmhPNGoJXTohFgumsgLydemcOHyAvbt3N+k3D/L0Z2tI1zVP89AkTufOaePo19EPFysixRZDDse3Luft73ZzQtdofMhkyOyVuPqE02fcJKZ3CsC/5R0MaIYx5Y4ZjO4bhW8rPHN/YsGQv5dqk3gLBRDt546HyNgzUZhxBrMqgvGPPcgDd06gV8dg3FWKFr/Xok/mt2/3kSehPi/tnWoBjRMKR/H32dV7kThuMuP7S4hcG3PYt+JdHvxpJyeKhOaQDBePcBQO4rkKkhgzrD/RwWpxoqPFSNrGT3n66Wd5e/Eatuw+zNHjp0g9fZqTKUfZ9O3bvPPFUv44UyShj3odKTnBmnlP8fxLr/Ll97+w8psFfPHRWzx7z13MmHwbU6fewcx77mX2g//HE089y3Mvv8lHXyxg4eJvWLz4W1b8spVtO/awZ4/42nvgMCfO6ak0SxmsfzPxkxg9qjftfIVqERZ0B5exZMdR0g3SmqcJwd74OCpF49SkP0eGuQJrs/G/hkZ5tlFxIaiFHdmiI/mn9aTlFIjW5CvG3hF3mbyNFexsCBFOOdeUojUZ5F6QyJ5U+NGxfxRuTY6Z44f1o0eEH64SBo0pcztfrk4mOV8YUwLxYwbTNzYYD9EiaCLz9/m8++ky1v1xnKwCA9UXLRVzKXl7CiguEse3yZEQaAU4e4ILulKENq3cPYKpYwaRFOmDo8Rvx6QjdccK3pn7APc/+BwfLd/BibyKS1nrcf4eaESLIFiMOs410zCcxawHGibU1979nPlffcPSlZvZumMPB46fQ1/ZZOKJGs+Mu6cz8cZedInpQFRUNHFJw7h52q34B0hEYUWN4aZbbqRHpJfVe0hZ+yWvP3Av99wzi1mz5zB71v/x9tIt7Duyn1+Xfsanm8+QUyY19TXEC02dMoLuEV5WDNY/vckPzPqKrckFmIS7SJkSTYck+rpqsH74FoCT0lGsP0YttdWt8xpcDceW7uTQab04iUHmgFtAO7oPHMOMR17hi0/f483Hb6V/XNs1UqWNpgZjwZCdyh+/fs17z9/NnXfcxrQ7ZjFr1oM89sTTPPPcc036zXYOnNFT2dT7oR3JtBm3MDg2CDfRWAJMelJWf8R/Hn2U/3vpQ3ZeKKTGrokSATSEhLjHkThAjaf1RgI0DJ8yjhv7dLBqUJr0mRzb8gNff/Ex81Zs41SekZo6sOhT2PBDBvm5YuMdINLDRaKaUin6UzFMmPwg99wygNggteiY8U8sGHXnOPTzZ7z5n5f4evMJCkTWlRaFwknyd1vVuov2wNlNuBkwYagbwY29JPR4TZn8Pv8t3vtsCet2pZNvFM9V9bU11Etlew3uTVx0IGpRXLqJzE3zef+z7/htRzJZerGUi0mfye6fMsgpMFMrcX8qFz9kiivfFFnHTFHmSbb9+iPzP3iHdz/5kvkLl7Jy81Z27NnL3r0HOXT4CEeOnSD19BnOpGeSm1+AXq9Hry/GYLQ024j+O9AwavgoktoF4CKcFw2p/P7tTpLPShx7N9LRxw03ibipUv1OKsx6SUP038NFAfhYglwcRIaKPmUDS3alkn0t40ZlchTYib7LRtu4vs8vfyfnc/RUiqxKB/xj+9NB7dUQe6QZxOCkOII9HMU/yKLj8IqVHEu5gEgHWjOS4YO6ESYRg2lMXcdH365hU/IFKiR2qJoBPvj7KEVHwsaS89RUS+Slm/dTXFpMtXB9cQmmc4gXnsKjC0zoU1bz0ZNP8tQLH7Jk/Vb2HT/bIO7aZLT7uapQCXdhmMjc/AHvvPEKHy36gU07dnLg0OFLE2pGto78Qj0l5RZxvXBg+I3DGdolEu+mnhG5Cq92Xenr6i4wyjQMvuFGBnZoSI4SriOmnF0sfe45XnpjPss2/cHuw0c4cvQoRw9v4/vPXuOZJ57hrU9/5tB5K5OfZhhTbh5DUpSvpMFqMaSx8eOnePyRJ3hrwQo2ldZQ5+SAQvhIAJlaS0JnJzyEcROXUCC3k/ggRkr313Atda+lqMhZx6ffrWdfpgGzxLOQK13wCo6iS68hjJn6AM+/9RHvvvI4U/vHoWmldSltNJnI3PQGLz37KC+89QXf/riVbTv3su/AYQ4fOc6J1NOcOXO2hX6jYfi4sYxMlD5+tRhSWPXJi7wybxFrtx/gZLqJDv6+eDmLvSSgwq9DEo5uLViVieMYPrwLYRphtZCGDcyh79/j8Ucf4/GXP+Dz+QtZPO8lHn3+ZV595WlmP/QiX27PolBktQEk4qf2FldTMhpwuGEsQ4Yl0t7bSniKxYju+G988fpc5sydy5PvfMX324+SaRRvZCEcV0cXic0LUFtDVb24qpEm0gONq/BYvhTniETCfHybx2Za9CT/NI/FP2/iUGYxpgoLtXX1olJ8VRXHqK0VC+QkxIUR7OEsCgUypq3jo2Vr2HLsQoteO+ekcEIDnHGSGEpyFzWdFPai0KVrhclYSn7OebLz8inQl1BuqRE9y38WMagkT0daQfxoBiR1IMBNnICS+cfX/H78NIWSkypAAr4eXuK+DqiCb+H+x17nvffebbze5KVHJpIY6MH12A5ce6IYM+d+7p7UW0IAvvEEYcGvHD6jl15zbPytXMlQaANpbM44R75RZFXi4B9L/w7ueDuDdthAerYPxF0iltKQuoElu09w3iD2TGj6daNLmA9uwl5nymTblys5cDCLColYFE38eO69pQ8d/JwFD6ClbLJSdGVlmIRBc3IlSoWgxKLFQMqqT3nxlQ9ZuG4nR9JyKDZZJCbHBNzdNNiL7ruUgvWppB7MIFdf1npRbAASiGkXipeLvahxZQ4qNDJ584Qe7VAG9o4mxEO8G7Tok/npvS9Z9Ot2DmYWYKhuGsRvxpCXwelTp8nKM2CWTELRMHjSOEZ1i0AjEZ9nytnF9y+/zocL17D1QCpZBQY69gwjwtcFgbpSA3INIQkBOHm0zgD7kxosRfXUibvQNaaIrC0LePXT79iQkifZ96Chzzh7BBAZ3ZPBN97K/c+/ycdvPsHUpCBaDrtMwEvthYNoISnlwq8pHNuZwtksHUXlbfTaJI5j+OD4htATiQn8h9c+4MslGzmQrqeyuhZIokOQP65SVgfg5hdLpEotkaxCg3dm4AC6hHijElqUFj3JP73Dx199y+87D3EyPQddgR59Tjop29bw4w8/s3X3MXIlDT2A9ni4uoqrKamCiOnWjkArMdfGzD2seO8JHn/mLeYv28TO/cdIPV8o6O9NUaGQWdF6NJaSXlMtkiTpEeQlPqq0uOAd6I6TU1ND3kTmpsV8umw7h7L/PNGQoraulPp64U4bYn3VeKiEhoqRzF2/ceK09Jz4J4mMGdKDSH8XscEP4KQmSm6PlSiavwffCGISEhsr7Fy8ehAX7trmk4C2Y+10BGpqEcftNSG+dzwdg91xFH5Wf5K1P5/kdF7Tft4QHz9s4u3MefxFXn/rEUZ0CcRF2NcBl6Ce9Bk4ilGjLl6jmTDtIV54+QFGRQb+s9pOiCae8Y89yD3TBtIxwEUcTmbKZNOiz/hh93EKr7gyXD5Gs0nSIWPj6pFeFa4ZZk7vzeR8UaUodhEHf2L7R6H27sXQbvGEeYm9jZgy+ePr3zl+WnpHkhQXTpC7syjT03BmHT+fPMUFgWvTNyKJSXNf5I0X7ufmbqG4KwWfNJxhx+85FFrJJqsw1bVCW8tE5qav+WThD62QkPFGpZDw1lxVYXtvnO2Vkp4+qQVPkxRL+2APnIQ/wqLj4OIv+HHrPtIqTFYW8csQP4Khw+IJ9RLfoylzMwve+ogFa3dyorCSBsdJPL3bt8PfVcoDBqDANzQRlZOn8I1GvHBxdJCc4P8yynNJW7+Ytx9/gXnf/8HJwsoWDAM5SmcPAiOj6TlsAve/9C6vPjaZHoHuIg96A9b6i4nyojquLA9Jy/gRQ+gWJmHkNU7gSzfu5HRR1Z8e9uGd0WrdcZbqY4DcO4ykQGc0kjeRRLcOIXiLKmVZyNn7DZ//sIXdZ4upEm5STEZKS41YWloJEnxQe6nEiQsKZ9xU9mIPpcVI2sYveO6F15i3bCO7kjMpMFS3zSAXUmMhq65eEM9mRQZK7oijg7yZl6sh2/d39qWWiEJtWkvD/xQ+BCMlu/RY9NJzWwMaEqdPZkxiJF7C33oRpRrfcHtU0juG64NvBDG9xzDlrod4+rU3ePuTL/hq0WK+XbaUZSuWs+KLebzz+su8/PJLTa5XeOvDhXz18Rvcf2MobRQlaAPWT0eMB2uwSPknANCSEK7FR8Lbb7Fzo9stc3nmjU/44quFLP52KcuWfcG8d17j6YdnM3PqBG4a3Z1wHxdE/ghA7qBE5ejYIMXl6Ihjo9xVx75jmDjalxbD0v9OogZx5+P/x+wpA+joL2FQNnrwv/11B6kieaW2cBqzuQwrIjA2rhKp0XBNMSfvIv1cIeKSyw74dxlOYv8J9InyRy3SRQD9yXX8fOI0eaJzb4BEOvoH4CYx+TlpR/DgKx/y9bff8O2laymff/ASD90+gQGdw/AUxnJZ9CSvns+6lEz0ot/awMFyI8U1LXdlQ8oqPlyymm0nda2QkLGTzBO1GpfVKqz8T6QXvKQOQfi7Ook6gjFzO0t2JnPiKgZv0uAkOod6iw1WUyZbli9h9Y7DZDYxWDWDB9E9JkAkAt8Ux4AYejm6WYmrdEIhFydD/OWU55N5chsrPnmJR598jg9X7+VskalFY0WuUhPYvjtDJs3l2afvZGSYr4RHwUrbmqooqqsVb9xaQ/xQ+iSE4+siNPJMZG75hOW/CydwDaMSOxLu6SLazF3CIYgOfZyQPAFP7IB/oBuiYWvM5I9lOzl68sqNKTp64+p2maS3i1j0JK/6jLc+WsbaXSfIKW4elnKlmIw6qmqEyYlWZKBkMmRNtV8tOg6v+Ikd1rJ9rwpXPLr5Ye8paemDJoZR9/+HR+8cSIyfMGmkCTJ3vOMdUF6v82+NlqiB47h97pO89sGnfLXkO5Z9MY93XnyMubOmM/mmMYweNpiB/fvSNymJpF696NU1lpgOUbRv377JFUV0XHd6DhzDHTNmEB/gb2WjdrW4o3K0Ry7sz5d1DITjp3ZHJWEVytXBxPcdxA2jhjJkYH/69U0iKakLcTEdCAvyw9vDFWdnZUOJTeGHW0Cm1BCZ0AUX9+vVeFdO1ODpPP/4I9w1sgeRXhIhKhYjqRsX8nErPPiXp4K6+lpROAm44JygQNE6uWUbVhDaEteeiqPsTMtEL7YqcfBNYNyk/sRr3cXHnaZMdi/ezpmsEiuLZUe83NQ4iOOUcVCHEtu1J3369qXvpSuJrnHtCPJyRSkXxA5e7LDf7+JYgXUjqqSmBotUYPxFjGlsnL+afYdyLnPEdBmsxGVdLeIFT0uw2gMniYB+3bFNZBbkS3qIW8cg+nSMwl8UL2QhZ//3fL/9CBmGptUhohg2sDftA90ld98XkamDSezmhKe78B2A6n+QqK2Jktw0Tmxfy3fvPMtDdz3Mk+//zN6zRZisWpdyVO5BdBo0lTmPjichVCNYCH1xcVSJPbG1tVTX11/RfSf2j6djoLtY6053jB9+TCb5nGACjxpKn86heLkIf0RTlAR2GoKju4SIYrQXbmoHUYalSXeMzVkFFFx5hyPGyxUPpdA4lsaQto4FK9ew/UTL8YVtpbbGRH294P+1UgbqYqhPmpVs39ZiNFmoaaapC+BI+OhZzLnjJvp3cm88FtagjRrIuFlP8t4HL/PYnaPoqvWwkkx3ERUegeGSsmtXhSaeMfe/yMcfv8+7zz3C7Ntv4aaRQxnYtzdJXWOJaa8l0FeDu4szTkp7FHJ5c4PcCjIHZ7zbd6GzqxoryqZXiSsOcolkM4sJY32t1bVEUmKqEZlCiVLliKOjEntFg9dZMtSizcioq82lvl4iZ+BvI4rB05/j8YfvZkLfjgS6SZzEWAyk/PoF732+kj+uwoN/eRSovO2QXZ/dx/8MwqXkOlDB0Z1nOaevEBuHCjXtorzwECnlNxxhrz6dRp61HpTghdrLwfpEfbGKyKVLemCadCms/uQZXp63/Ko7rO7EStacPIVO0rPaBlQu+MkU1zyoWrzghePu7IK9yD4opWBzIWYrYQCtIrErYVpPnIULlCGVNct2kZJe2sxYiRozlpFJkfgISxwKkWuI7NMdFy8pq/IfKGprrqDo/BmOH9rMmiXv8sxDd/PQkx/w485UCptm7DdB7uRF5OCbmTgkAP9mt1mKqbpafGyjUuEhk4kMtcsTQ9eIMLxdhNnkJjL3LmHvmfM0D2XWMPzGwXQL98JJ1Gea4xzWg+HOnojMSpUCuUycEFZasAW9Of+qKh5Fa9SoHVqnoeigdMfNWI/iityTVox7wFi6nxphRli0J66Xk4G6TKhPWzhUUEKJWfgkZTj5xjJ48lyef/srFi9ZzooV8/n4/Wd59O5bGNW7M+FeLjiIVnQhMrz8u+Kgkhp/V0pD4Yi7p45jeM+uxF6spqRykK7i1UYslSWk1FgoFb5xLUj0xNVTvEnCUo2hrk685l3iLPoyI9XCZrqOWAyp7N2WQ3GLIRB/HZqYYcx+4WkevWcifaODUasU4jXapOPQ96/y3vzv2HFC11yx4iqQ3niBnV3DZePK+QuMSqg4+jspp3SUi85zZTg4NBh8zdFx6redZF6w5qUEvFUoJJI/LAY9xZXmlt3jFiP6c0dZ+83rPPT4M7z9zXr2CSVW2oolhxNLD3D+fOlVLYwAyN3x6maP8orc8G1Z8KwnHNS5Qr1oppRAoyWifQgugoh4TbQ33u5KkdfRcG4bOzNymgnPN+gjjqJziJpmTlOLBUud0POowCtuCAPdfRGHBlkRtf1HYKai6Dxnjh9i85olvP/8I9z9+Pus2neeMolUcblzKAl9euChaXpUZaKmtk5cM1yuxruTPao2n2rFEaLxxFl4TGDK5fC6DHS6qmbPXpM4jtEDYglRN0/qslgaqqE0RebSnqQxoWguK1jZgMohFJnsMt4vjZbE0bdx98xJDI/1onmBJS3erm4ohR3OCqrAvtz59Fym9gvBq827N1VDPWqJr6qxFFEnyAhL8HLHy0FouDen5VAfaRRyLTI78TNL35JCam4plcJuJVPgrAkiMqYbPRJ70atXAvGdIgjxccdRIZxLTej1FZglvLgOmmBiHZyuXQZ4TB/6DehKO3+3VlbwkqKhWlp1dZOrsoy807tYvmAhx8/nWl9LroYQR1TOcvFCWl7Crppq9MLXL3GcDTuTOae3LjTfdizo045zePNKvv7yM+bNm/fn9eZzzJ77NO+vziBPLLv6F+NLwviHeerZR7n95l50DHaTLKts0aew6uNXePPLtew6XdSKcLLWYzBbWj51tHHFiMbCdaEilc3JJ8kprZT0zAix5Bxi+eEcspsV6hVQK51aV19yjHeff5RHn3mZL79fz5Ydu9m9e/elCgzvPDuLmTNv5+4HnuCNT5azeZe0XltbsehO8XOGntyq1tzhRfZTWlGERXSbLgT1SsBR0ht3OVpY8KqKqKtpOrVay4LzwLtHAEpr8VfAxXJ+b7zzLh+8/zGfP3cbHbR/BtFJ6ymaKDx7iJJyw6VjId+EScy+5zaGSOgjGlL3klFQJCr1qVDHMnBsON4igyWd0gqj5PP8J8XKmCuKyD57gsMblvHeMx+xancOBpFAggJX70AUyqYWj7X7cycoKRZHjTgKs0USAvD0kajmVJTFprxK8pt2lagxTLvzZnq2Eyb06Dh6NBuD8AZkTkQOvInePgE068VGE5aaWtE84BLah94h3laSewDfJKY/8CxPPnIf98x6kP97dCbakKaaq9a87tLIlO6Edb+BmS+8w+svzGVCDz+uQpO+ERNGXS01gs2zt0rRgi5mw4Z0/7c7OGst1KemRnKuc3QNlyzUYD79C7/sOMp5g1n0nFuHBWPqZhbuO0VmmcQvcvcmxkF57Y6T3dxxcWmIEbwcFqOBgsxTHD6wmZVfz+e9xgIQkyffxtSpgmv6Hdz78PN8snI/OoPIo3FtcHfEwV5sVFqMJehrLNLtCUAFp9Z9zOIfN5PSRLdYCovFQllxAbrs0xw7uIN1S9dxNKOIStG8Xc753+fz8Xvv8fn8r1i8+Js/r6Ur2brzCOeKGhMHo0Zy5/PvsXDJd6xYspAF7z/FlMuqT1w9Dd7J13h27jRGdG+Pn5tUrXcL+tQ1fPrS63zy3SYOZRmv6gRRipr6eupEY0qFykOOvDXOFBtWkatUji8IX7z21FKa60jHhM6EB6pRCkdgM4xk/PYxSzceJ7dMNGr+pKQzQ4bFEx7g1OxYya4qiw3f/MS23Qc4evQQe3duZ/u2rWzdtoOde/Zx+NhJTqdnk6vTYzCaqK2rbzCQRs3gvrlzuGv6FMb3C6Py7DnySozNvY7dhzOxa3uCncW9ruDwh3y38Qg5JW3p/VX4dL+BHlEhuDcLapOh0niizDvLyQwdZaYWnoOIbgyf2JX2wc6CIxkTeft+Yt3uXAou7VTLaN9nKF3bB+LazLKQ4+LuTOWFI5zNKpFIsvIl6db7mDNzPIO7RBIc4E+wvxL9pr2k5RVRBcQMGke/mDA8mt1XLcbsNM6XOuASmMCIybdzx7TxDOqixdNREJdkymTjOx9xxj6CkBB/XJr+Pjt73H1U6LcfJV1XQtWlN4y073sDCe2DBPdjT13lYX4/kImupLFFfeMZPHwUA2J8qC3QU1rZNL7zytFoo+g5aABxgT642BVTVlktWboRfImI78GgkUPp3zOKAA+lKDmiRn+cnzceIrfwYr6+kYBeQ+geFYy62SCS4eiuwT4/nVPn8lvfX+IHM25ALGEeqmaLounCXpas2835xo6iiRnJzHvvZlK/KPxcmreTKXMz7y7JwzUikCDv5mNR4eyHlyKLvafOUXjROKmJZWC/ToT7NP9bmdKTYF9Xqov0ZOaXUHXxoWm0JN44jbvvmcHNg7rSLsADN1c3PNzryf19N2cvFDUmtA1g9JQkOoa6NDeSTZkkZ9WiUipRCWKH7WQOuHj6ExwWRVz3fvTp15P4EG/szBcoLK0Ua9JewtoYM5N/cBUb9l/gUpMBfW+cTK+O2uZ9uAnGjLV8+N0GjueWSvdBK3OdwlzEjt/3kZVvaP652goKMwqo9tQSqfXBTdW6ONMGLOhTfmX+B1/zU4Y73bu2J8Szef9AZkF/cB07z+kobr1j1Trlctp1SaBjiLiWOiYjuqwzHNq5kmUffs5XS1bw46+/sW7DFrbv2suhYydJTcvi/PkccnJyyc1tel1AV1BMualG7N2/RiQMvpnRnSPxFugCVWRtZdWGfVzQW69rU1tlIDf9FPu3HyYl9STHjx7kwP597Nu3j327tvDLwkV8890yvv9pJatW/cLqX9eyfsNmtv1hJqRHF9oFC9fSEs5+/h0/HzzD+fJKKiubXKZq6i49hHgm3T+H22/qR9cO4YSEaNGGt6NTTBCWzFNk6gyijfxVo4lh+G2zuO+uKYzq15lwX1dUUl5pk47k1Qt497PvWLPzBBfKzNRch7Zr138sfWJCBeuTjMoLP7F2Zw66kiYv22gTf5FRCbUVOiwRnekeFYynYwvRRYaTLP/sR/44qRMf3zTF5Ev3Ed2JCmmeZGCntMOcuomDqVnk6g2UFBdTVFRMUYmB8ooKqqqbHx9qYoZx26z7uGvKKPolRNMuLISQMHeqf99Bcm4BzaojWzUq9ZxcsoTfD2RTJPI4tUxheBIDOkcQIIhrkzm4ExQZQ1xMe0IC1Li4R5Iw4AZunn4bd0y7jSmTR9Mr2MTZTB0GY9OZ3dqCV0rG2l/YeDiPPyu+WdC1682A2HD8BfekcPIhrEMccR070aFTZ7p260FiYiK9B49k0m23cfPovsSHanBqLLkoqy/lzOrNHMktxAjIOg9mUGw4vk7NTAccvSLo2KU3/fr3pXePLkSFeOOilAs8qyYyN3zFpz9sYJNzLL3iwvF3aR53q3DyxUepY9fJDArKLt5QLTWx/enXKRwfwfeq3P3ReATRoVMCA8bcyh23TWTs8H4k9UogjH0cz8in+Grj1xNv5dGHZjN9zDD69elD/yHDGTZiBMMHDGLw0KEMGz6cMeMnM2nizUyePJ6xo4fSv1cMWu+GWDbhBFueuYFfNh0h71KD1VLYvg9D4iIIELSXXOlBcPsY4mOiiY6Oo2u37vToP4wJU25n+m1TuGXSDXRxTSU9u4jSi1Z4u/6M7RMjMiprK0rByZfouAT6j5rE1CnjGd49El9XgVfBksPuBZ/x/W8HUcf0oGOoN80fuwPuwd4oc/ZzKrOQsmqgTE5sn0Q6hmia6/PJHHD1CaZ9fA8GDh7O6LFjGTd+IpMm3MSNQ/uRGK3F2+XP77cry2TJr1tJzStuNKh6MmJSAlHCfm/OZfvb6zgrU+Mf6IGTqNCADIWDE2ovfwJDwmjXsRPdeg/ihsFD6R2rwaEsB13JRcmrRmL6MGZ0FyIFhjGUkPbTajYn6yhqshHrNWISCVHBiKYNAAycXP4ZP/5xEp21Cc8URd/RXWkf7NrMYJY5KrAkb+ZYZj7CwiIWo57zp4+QbnDEKygYHzeVtMxYE0z6NPb//DUffLmCdfvPos8JodegzkQGNv9eqMOQvpqtKRcotG4ztR5zEVmp5ygor6a6qoSCvFzOHt/J76u/54uvvmXFytVs2LKL/cmnOHs+hwv5heiLSigziufzv5r4weMYECvcPENJ2nxWbzmJrthKmzZSXWGgUJdNZnoqJ1KOcyw5meTkZJKTj3Mi9Qxp58+TnZPDhbw8dPkFFOqLMZR3Z/jEnnTQCjdQF9i7fB27sgXrlpCECdw7bQjdtGrs7ezATobMXoWbVzBupg3sSbmA/loekUeN5J777+POcYPoGumPWqJcKVgwZO7mxzfnMf+H9exJvUCZuYZ6fImI6UD7yFBCgoMJbnb54FReToW5uoWEKGmkjUooP/8jv23PQWdVCsrG5fjLjEowoc9S0q5zHGGBgti5JhhO/cCXq3ZzNv9yR+WFhCcNoHNEQHMPgNwJXz8XKjNPkp5XaqV+rQZt4o3cesfd3DNtAsP7xhPhr8bRXtYQqKswkvXTenbn5NO0XkXi0AmM6iyh4WY6x/av1/FHWiHlbZzgTHl+9OgTR4S/qyD+UI7STUNASDgdOnUhsVdv+iR1p0tsNO0jwggJ1hLmWc+GP46SW9AkBF3bk1Fju9LOT7jgGUj/+le2ntHRdJ6ryPGkS484wgPcmreJzB4ndz8Cte2Iiu5EfHw8nTt3Jj4ulugOofi7O2Hf1BAqSeOn1ZtIziumGjCquzCwRwdCmhksdihUrrh7aNB4qnFxdGjIbLz0Pg2ekuQfefuzFWxPzUd/3pMuifFEin6fA+qgIDzKz3AiIw9D49a6zK0zA0TfC3KVJ4Gh7YiOjSW2UzTtQ/3xcnfFRe2BB7n8vjeNvOKrOyJLGH8Pt4/sQwd/T9w9PfHyDSQwKITQ8HAi27WjXfv2REZGEB4aSkhIAH7eHlaeAYCO5G++Yf3eDIqaxJ9WmaNI6h1DmNCgsZOjauwv7TtGExcfT+f4WGI6ticiLISQYC2B9vls2tfkPks6MWRoHOEBzs29ho6eaCM6EBcfT3xsDJHBPriK6mRbyNm9gA+/3cjxrBwyNPEkxYbiL0i6k6s8CA5RY9x7koyCUqpqi6kIjKVbtBZv5+Z/a6dQ4urpTUBgEMFaLVptCCEBfnipnVAqGsbmRYwZG/lu3R6yL7kErWymLIUcXLSYHzbs4byrP+Eh1j13MpkCpZMrnt7+BAZrCWsXTXx8GLXnTzf33nQezPhBcUQI+hiUkrHoN7al6ShuMg907D+WblHBAu95I7ojLFzwM3vSCltI0KkhdmA/OoX7NDfaFU54O1WQcugs2cUVgoW1FlNZEbkZqRzevZkjJ/Ix1Nkhs6uhrq7B21xVXkSJPoeMo7tZtewjPl+4nF827Obo2TzKzbXUm5V0HtybmDAvgUC3ArN+Fb/vyyFfXNDnCrBgLMkjM+04h/btYsf2bWzbvou9B45y8mwGF/IKKC6twFRbJyED8/ci7YU2kbt3KWt3ZlPQonV3kVos1Saqqpp4FqtMVNdZu19rG6h8Dq7awP7Gjb1VBk9gWv9OhLkJwpNkDigtuazbeZYL+j/Pf64OLWPueoA7xvSkvY+z5OYZwGQowmCsRuYTScLAGxgzbiKTJk1k0qRxjBl9A8OGDJ+H0JoAABg3SURBVGLQoIGCazBDRgylb7Qr+vRsCsuqpD39Elg1KrNsRuXVYsW0uz5U5G5mxd5kzhmEOm4XMXDuj/0UFv4Zc2edEtYeO8/5UuH/ckDdfgi3PfMB77//Hq8+9RiPPDSXuXP/j+cuCucu+YKPXnmImZNHktQ5Al+1qlk8j0WXyX5TBcJ+5WmvwEEqq6VUz84KM3rpm2qZ/PVsPnqK/HLRGXODF0XlisY3hPAILUF+Xqgdlcjt7AA5Ti4eyBWCbNdwVxxdFGINQVM5eeU1mIQPVreB7/84yLliKSNejoOTKx6eGry8vPDy8kLj7oqjvTC5x4Lu9FZOlxVe0sA071vP4ZPZGKyvlBJYMKZuZOHHy9l2UZYpfyPrD6eQVyZ2ASvcQhk4fgIDA/wuJQ2Y9x0hI6uECuF9yhQ4ubnjqdHg3ix+S0a9vB7spKfvtlDbWFmp6aORyeTYK1WXxIiV9grkchl2Uv3oEhb0yev5dk+6OK747I9sO3iKAuHr0NhfnFF7atB4eeHlocb5khdYgaO7Lwr7JkGLRX+Qfr4Qo8CWlildUHs0tLmHq6PkQmBM28yShRs5kG7AVGcmb91qDhzPo1TUTA6oI/rQf7AXGg0NsWSrvmPlrjPkV1hZAi6j2IAlh0O/baMkr7V1N8vJP7eHVR89x8sfr+JARmlzz6MUcgUqtR/auOFMnjyAAP8maSkCA/cSFhNGU61Ij1RfYaHaStEEXfoWjuTnI9mcl0jnZJ6OUlFgmQMeXW/m3lkjCQuWjr82leRw9thBNvyymI9efYbH5j7ArLtmMH3abdwxcxaz5jzC4y++w4JlG9ix7zhnckswXUqIOME5fb5EmVs5Ckc77ESTzNVgplSfy7n0NM6cOUt6Zi4FxUZqhA/zH4ZKIZdINK3FZKynTthc/xRc7JErxAoMAHW1Furrr+Ez1/YlqXt7gjylYif/xN5JjVdgFF1696FP/wYJwKSkXvTq1aDPGdVMg/Ti1YHYbj0ZOOEu7pvemRA/awHZNv5K/lKjEgyc+GENu45kUyqR8YruFOv36sgztG405q//jYNSC5nCBd/ILvQeMpJxt0xl2owZ3H77VCZeFM7t2434qCB8BMYkABY9R39ezoHcHIQnAPlGEyZxVgvG/LMUmMpbCMpuCT27Fq1k+5E8Stv4D4yGTGosgvOnUjOWanEihHXtyyJSfvyWJeuPc75UWuLmcph0B1n53W4ycsr+/HzpSX5YtJKtJ/Ixtqo5jeTs+4mP3/qcn/5IpeRSCa4iDn73O3tSCiQWXjnOQR2Ic3T9M2mgdA9rDp7gvNWNixAD5/enUFnc4t6+VZzdepKzuWUteJxagwndoZXM/2AFe07rEeV9mfPYuvJ39qcXYM0mk8aCPmMf5oqmW6UzfL/tIKcKylqxibuIBWPqer54dz4/7z7356ZBf4Bvf95Bcl6peBzIHXHVyLFv3P+Y84/xy/uL+HVnGsWtjf+8iEVP8qpv+GpDCjnNznzzMVZJJJ3VmKmoq6UGM4acM+z4/iOeefFdvt1wlFxjK+Jo5c6ExfTA2a2J0WYlccaajMzeC4XoqqT6o47TPx5Dn1Mu8V5TzOw7dp4sQ6WonWROXnTq048kL02L2dgmo57cc6c5cSyZI4cOsH//Pg4cOsyR5BROpmVRYDCLnx0VnCspwygRXOrinIDin5L59rehgeZFbxu5XDWdv5cYRxVuVoqVVxpOU2MRrnxXQXgwGo2T1ZPJi1yqAnRRg9TahlKEDAe3QHoMGIanl1gPxMZfz2Wa+tpj1u1k8ZfL2ZwiMDYsepLXfcue9GwJ48EK+gN8+/MWDmUbENuoMhRKR1zcPdFovPDy8kB9UTjXmvaZSceh79/g4x93cLZYvAicPl1AXrlZMLEbyUneQ5XhymeQ8pztfPnZEjal6FppgAEWHcm/bsVwQSBacXof57OLqRSubBIlGi9izj/G2s/m8fnynZwuEi9c1rFgSNvEF699yPI/0prJBIEZXfIvfPjuxyzdmkJ+hRWD1WJEf3YX37/7BE+98hHLd55EJ9BvrMjdzOfrd3OywCg2AiwVFNU3rSZTyskfFvP7ntMUidMjBVjQJ//K19vSyGrlRqYlKk79xDdLf+NQhuHynjAhFiP6c4dY+f4TPPHih6zYfbaJYd0cw8m1fLhoDTvTimmtTWbRp7B5dQYFuqYdw0ze1i9ZsW4P6cUm8bMVcdHw/5Qfth4TtFMFuTsWsHrncfKFA9iiJ31vNcZLjkUzRZmb+OqN13jv2y2k5Lec/XqRBk3ZF3n9ix/Zd94gMN53kFqQR5nQoq+qILm25lIYi6kkh9O7f+bLN55g9n/eYdHvyZc1LhvsxyYzxsFMigoqxHNOVTk5tTVNEscaKFl7nKzzpaLNhiXnED+l68gR7RzElO5czcGULEnPv8LRFXe5QqyVeA04bTZTLhJGBYXKG9n/vEp0NO7OahxEKQKXq6ZznWilXm2AkwOOUppzGMhPMWAuvfq58BI1NU0ShK4XMlQqNTJb2vY/gr8wpvIi1ZTrs0g9fJbimnqQw/+3d+/RUdZ3HsffucwlMxkyyUxu5MY9FJQWlXKxLUetrpduV7fV6vbiOe5hXW3VdWt3t+d0u7banrNWWy+raK1FVBTqBVDRIqKCCAgGkpAACQEScpskM8kkM0lm8uSyfyRgMrkATpBKPq9z5p8ncJJ5nieZz/O7fL+B+lI+ePExnn5lKyV1HafRLs0g4DmMJ5hI7swp/dPYI6bFkwt5inj96d/z1EujlzAwmgI4Zs5jbl4ajoFHL8O7l5efWsu2A01jbywaUxdtTZUc3NNIb5KLzOwU7Ob4URO/4a9k+6sPsvzlDznQEBq6O85oprI3k9lzppPlPH4+DLzF63h+48cc9XWMsE6nh1BbI8cOFbJzXw2+2ERSnSlMssYTO+IPESLoKee99St49I8v8tdt+2loH+GDuaeT1oYqygt38sE7BZQcrMbX2YqvsZ7aA7vZtOEVlv9pJatffZPN2/ZyoLqZdmOkdUQh2mrLsOXOZ86UzBPnHgy8ha/xp7d3UOb7dPq+J+il8kA7cRlZ5GanYDdH1uDrf4AoeWsFDy1fw+bi+ug6IB3XE8RbfYi920tpDJuw2O0kJMQRGz+4+4eBYfTQE27H11xPZfletr+xjpee+jPPvbyejdsKOHCsmWDXSOdhQE8n/toK9lc00jcpjewMJ7aR3uOAkKeAdc88xqp3S6gOdA8N96E26ipKqWjsY1JaNhlO2/AC2EYQ75HdvPnswyx/bj2b91bi7TSGPyR0tVFXbpCa/yWmZTkHOrOEqHznzyxf9xEHfIPXPHX1r6MrL2LnB0UcbPLTGxNLTEws5vgY6Ov79BwV72bTqkd5YsVqXn+/gPL6NsLDtoR2Uu+3M/28L5Gb6hgYGTHwFq9n9Tu7qPEN2oXVEybo9+I5dpiywp1s2VOKpy0WW9KkgaURg256w0vx60+yYWsJ3uNPfCEPcdPnMW9mNskJx9dnhqjc/ALPb9rF0cglOe11xE2bx/mD/73hYc9LT7Bma+noywAGCzVzrC+bOXNnkJ2cMOTvnL/sbZ596yPKve3Dr0mUjIuu4Dvzh29ONJqKWLfpk0GVCSaiuVx63TeYOzWyI1WAqlc2sKXGM2wJ1fjI4eJvLWB2bsTu79gO6l55i201DYy1eXnp39/IkmHrQIFQNdv+9CZbyxtpG68bqTWF+RdfxKycyHM0jgw/JRuX8+YH+2iKfKAdhdZUnjkxTmdy5F/nz4mV5Ix03CkOTH0h2hpqaGwNfaZ6kZakLPIu/Dt+cPN3uXrhTNy2ocWZR2cQ9FSwbfPrrNu4nZLiMur9nWOEWguuKQu56trvcPXSqdjaytn8l1d5c0sh1cHR2zueOgfpeVlkps1i7sIFLJg/jam5k0mxW4jvCeJrquXwro/ZtHMPZeWlVDe2D18jCeDIYsZFi7j68kv5Sm4KvTXbWLv+LbYUVhMcKS0PZknCnZlBZkoS9snTmJ2XTrJ1UB22kI/S8qP4vD68DXXUNbUSHv2EDWIlMSkJZ0oiVlMssd0h2tra8PmDGMPn3UbkyvsHbvvFrVy7NB+3tZvGog2sePiP/GV7Bb5h78tB+pQcJp//FS69+Oucn+3EGg+E/FTuL+TDT4qpPHyIo/UtdHyWm25MVpIzMklzO0m0DUznnPhaH319ffT19mB0dxHuaCfQ4qfF10p7d0TgOxlLEhlZWWTmn8eX51/E4llTyc1Lw2E1ERfy01BXQ0nBx2zdtZv9+w/RMMa9bUnKICsrE/fUfOZM+fSadwcbOHioCm9TAw211TS0hkYpkXScg6wZi7jyhitYPNuBv3gXG/66kV3lYwV3K4luF6kuJ44EC1ZzfP+a076BcxQM0tJUR1PbSb63xcWU6Qv45nWXsSg/Exr3svW1dWzYWzXC/TGIxY7LlU5aqpNJCZOZNjuPtGQL8bE9BOuLKNj5CaXHhj5oOrJmcNGiq7j8sq+Qm9KL55MdY75PR9YMFl15PVcsns3k+GYOffQWb7+zg+LakR9gR+TIYsaia1h2y/VcOi8HZ5xB88FNrHz8z6z5qAzfqIXTXeTl55KWbKWneT/lx1qHraMd1W0Pseafr2FxWsKQw+2lK7n5nuXsKq0fcnxiuYpfPvNfXH/JFJKGjFbWsuV7t/OrHYVUDD48blzc+vunWXbNhQy9LLVs/t7t3LejkCODDw9xKf/9zC+44ZLpET8zGFWvc8dPHuTdoqphSzg+Oyc5376dX95xPUtnpBC5x3U4A8Po658dCAXxd4QwRlmPTHf/Z2Lp5ld4Y9NW9hwNMOqvQISbfruKO6+9mKzEocG6dsuN3ParHRSemQs3IZzFUDnOLE4yc7LInPNlLllyOV+7cBo5Gan9H7CD7ptQ0E+bz8PhA9vZvnE3JTX11JxWOLKQ5E4nzW0nzgjQWNtIa6hr+ChdVKwkJieTnJxIoi0Bc3wsMX3ddIU7Cfp8NLQECJ8siFnsuFxukmxm6PRS19RG6HTDk8WOw2bBPLhXek+Y1kDHKQfB8eUgc3oumW4HltheQv56qio9+EcaNTvOmojb5SYpwURcLNBj0N7mp6klQNdZeQ9ngMWOI8mJ25GIzd4/0hbTaxDq7KC12Ye3NYhxqhseIq55b3eItmDHaW6YsOJMd5PsiMfwt9DoD9B1Wv8/Gse/t5WYkB9fo59A1+mEdQt2hw2LOY7YmF66QwGCHcawzTcAFrsLV2oSNnMfoebmk75PqzMdd7KDhNgwAW8jvkB41JA/Kmsy2TlZpDptmGN66WproKpqjN+B/Eu55cYbufLCPJJtsfT6drHy3ifZcKD61NoWjhIqG7b/mFt/+Q57yscvfnzxnK1QCRk33c/Dd17HwqzEE5syQ5Wv8793PMgrRVWjX9uF97D8vu9zeX5KRJmoEEfX3s0dD22m+FjkJoUoOTKZnncBC5cu4qsX5JJqNxMHhPxVHKn20R7qIug5wOHaAO3hgYfuPqC3u79RwmgJZeAzsbWhlqa20xuQuvXB1Sz71mLSbIOPhihb80PufmQXJTWDj8vpOHdC5XHWRNyudNzJdmxWC/GDAxHQ221gdHUSbPPh9TQTCHePcyAUEflbkMe3//N/+MkNX2Om29L/cN15gDU//CmP7CrlVD43F/78Ke6/6TLynUOnvzWiw1kNlbhyWXrdMm7+1hJmpsXQWr6bt1etZv32UupGW78OLLnnKe79wWXkpwwt50VwPy/++z089l4ptWfkOeH4QIn9REvGnq4Ogh1henrHfngbf3O5+/Hf8aMr5kZ08Gqn9NmbuWf5bib0AHyUTm2W+IskFMRbe5iDJcXs+WQ3uz4e6FAw8NpdsIfCfQeoqGrEr0ApIucq1xK+On822a6BQAlgySL/ihwc6aeyyWYJX58yhVR75E6UkdtRTjyjtdmNJ25KDCO0ZR8/vmN8/OqT/Obn/8ZPbr+L/7jvUV76sIT6MQIled/mm1+dTWZSZJ1WA0/RejYerqPxjARK+u+Zlnqqj1RwqPzQibJRDY1evN5m/MHPK1ACTMZmSWD4XqUgrYe7MSbyMuFxcO6FShERgVlZpLoTIjZzJDLrH/+Vu265lsUZTkZv9ZzOkh99j6XzckgatvuxlYYtBqHGiMMTjo+u7q4RpmcdJM8zYR6rxtM4CLXUcvjAPooK97H/cC3NIWPMQZK8byxhXm4qjsiNeN4SNr6wg4PVrUPbEp+T0pk+dy55GYmYh4XKEIGqXiKr9MnpOfemv0VEBJJv49FnbuHKi9IiwmM3HT4PNccqqa72UFdXj6+j68RIUXyii8ysfM6bP4fpGZMGdvEP4t3F/ct+wZqCstHX7k0Q1/16BT/9zlJyHYMTSi9tB9/gjW1HqPcPHX6zOtNJcVgxx0HIW8TW59/io2rvsJrIZ8JNv32OO6/9OlmJQ6sbFL14L/c/8S4F9eOx2fRsOr4hzUn21GlkuOwkTHKR6rQzKSkZuzUBi9mGw5lB7lQ3k2ymoaNqoRKe++HPePzj/Wj2+7NTqBQROSedz12PPMDNV83BPeKQZA/d4S5CnZ2Ee3pP1HOPibeQkGDDaj7ejWkwg5r3HuDu+/7C7sP+0adaJ4hZdz3CH26+kvMjTnBvOEigIzxs53KcyYrZ1H9ee8J+6j96gbsfWE3x0Yh6w2fAst+v5l+uWUz68T1XIQ8F61fwfyteZnu579SrEPwtci3khmXf59olM0m1WUiwJ2I1xxFnsmA1xRFvNhMfe5Ki6g1buO3WX7NpT8U47n6feM5CnUoRETnzWjmWMIMLvjyVrCTLCGudYomNN2G2JmCz2T59WS2YRmlFaXj38NKjq3i/uJrgsFqhE09w8mK+uSCfnIjzGxNvxpow6JwOvBKsZswmEyaTCbPVQbLbhGfTTirqfcOK5o+3+vhkMtwubASoK3qP5x9ezsq1myk85qfzC34t5373Nm7/pytZMCuLNHcKSZMSsdv772Wz2UR83BhtXwcEj7zLqrd3UN2k+e9oDP87IyIi54CBjklrP+Swt2PM9XanJFjBuyv+yBu7DkV0z5q4wlvL8NQFhnVLOlWxRjf+vuGtPc+E+q1reezen3Hnj+/innsf5vmN29hX00znade1+tszOTedtCQbprFS45iCVBbtoD2KznjST6FSRORc5a/m/Rd+x2/+sIr3ShpGLMx+KkKeIl57/AGefHUbh1q+6GvvxpHvHbaXHcLX/lnOiIGn7H3K2pr4XMbGAl6qy0spLtpHaUU1zeNeX/ns8XV2nbx286hCeArW8tQb+6lsOve3Kp1pmv4WETmHdbX7qa8qp3DnBxRVB+iJs5BoT8BmMRE7fNHkICGCnir2bVzJQ088y2vvFnDEO3pXpompA09rNuddMJvcVNtptAkO4Sl6k2eeeJkP93vo+IJPP59tbdWxpM+cxfTsZBLiTzJWZhgEW33UVRax+731rH78aVa+/Fd2ljXRHtbNHS1t1BERmSCsznTSU10kT7JjNcWTOWMuWe5JWOKcZOfnkBrrp6KygUBL/UA71hYC3jqqGvx0nk7LkonEksH0a67n9huu4sJsJ5a+IL6mVtrbvBw9Uo2vPaIX/ECr24aaoyfvCCanyEHm9AtZcvXlXHPJAmakJWLqb9tDQ3MAf9NRjlTXUlVwkGP+AEGji3AoQLC1heaBrlu6u8eHQqWIyARlTUwiwWIiLsZEgsOGJaaLYHuI7q7QWWzH+gXkcJOTmU5ygolYuukKG3QbYdqDHYR7IiLjWW11ey6zYHe5SE9NIdES31+5oNcgFDYwwu0EOzrpaGmjw1CAPJMUKkVEREQkaidZfCAiIiIicnIKlSIiIiISNYVKEREREYmaQqWIiIiIRE2hUkRERESiplApIiIiIlFTqBQRERGRqClUioiIiEjUFCpFREREJGoKlSIiIiISNYVKEREREYmaQqWIiIiIRE2hUkRERESiplApIiIiIlFTqBQRERGRqClUioiIiEjUFCpFREREJGoKlSIiIiISNYVKEREREYmaQqWIiIiIRE2hUkRERESiplApIiIiIlFTqBQRERGRqClUioiIiEjUFCpFREREJGoKlSIiIiISNYVKEREREYmaQqWIiIiIRE2hUkRERESiplApIiIiIlFTqBQRERGRqClUioiIiEjUFCpFREREJGoKlSIiIiISNYVKEREREYmaQqWIiIiIRE2hUkRERESiplApIiIiIlFTqBQRERGRqClUioiIiEjUFCpFREREJGr/D6l51E17SNEzAAAAAElFTkSuQmCC)"
      ],
      "metadata": {
        "id": "s99ExhgDnuU9"
      }
    },
    {
      "cell_type": "markdown",
      "source": [
        "Sometimes we will get the data from the Databses, API and web scraping or some where other else. We need to make them one dataset, so we need to merge it. Then the best approach is: Horizontal and Vertical Stacking.\n",
        "\n",
        "\n",
        "Now it depends on your data which will fruitful to it.\n",
        "\n",
        "\n",
        "**NOTE:**\n",
        "- Shape of all arrays should be same"
      ],
      "metadata": {
        "id": "kimxDREQo0la"
      }
    },
    {
      "cell_type": "code",
      "source": [
        "a4 = np.arange(12).reshape(3,4)\n",
        "a5 = np.arange(12, 24).reshape(3,4)\n",
        "print(\"First Array: \")\n",
        "print(a4)\n",
        "print()\n",
        "print(\"Second Array: \")\n",
        "print(a5)"
      ],
      "metadata": {
        "colab": {
          "base_uri": "https://localhost:8080/"
        },
        "id": "cBR_FgFZoIT7",
        "outputId": "58103ea2-63dd-4340-bc61-6288a87055fd"
      },
      "execution_count": 75,
      "outputs": [
        {
          "output_type": "stream",
          "name": "stdout",
          "text": [
            "First Array: \n",
            "[[ 0  1  2  3]\n",
            " [ 4  5  6  7]\n",
            " [ 8  9 10 11]]\n",
            "\n",
            "Second Array: \n",
            "[[12 13 14 15]\n",
            " [16 17 18 19]\n",
            " [20 21 22 23]]\n"
          ]
        }
      ]
    },
    {
      "cell_type": "code",
      "source": [
        "# Horizontal Stacking\n",
        "print(\"Horizontal Stacking: \")\n",
        "horizontal_stack = np.hstack((a4, a5))\n",
        "print(horizontal_stack)\n",
        "print(\"Shape of the Horizontal Stack Array: \", horizontal_stack.shape)"
      ],
      "metadata": {
        "colab": {
          "base_uri": "https://localhost:8080/"
        },
        "id": "5K79q00uln75",
        "outputId": "f9ab9ccc-ca8a-42cc-9cff-592cb00a00e3"
      },
      "execution_count": 78,
      "outputs": [
        {
          "output_type": "stream",
          "name": "stdout",
          "text": [
            "Horizontal Stacking: \n",
            "[[ 0  1  2  3 12 13 14 15]\n",
            " [ 4  5  6  7 16 17 18 19]\n",
            " [ 8  9 10 11 20 21 22 23]]\n",
            "Shape of the Horizontal Stack Array:  (3, 8)\n"
          ]
        }
      ]
    },
    {
      "cell_type": "code",
      "source": [
        "# Vertical Stacking\n",
        "print(\"Vertical Stacking: \")\n",
        "vertical_stack = np.vstack((a4, a5))\n",
        "print(vertical_stack)\n",
        "print(\"Shape of the Vertical Stack Array: \", vertical_stack.shape)"
      ],
      "metadata": {
        "colab": {
          "base_uri": "https://localhost:8080/"
        },
        "id": "rOQOVqz-msPx",
        "outputId": "48ff7205-a957-47a0-c6bd-c7e3cd256a5c"
      },
      "execution_count": 79,
      "outputs": [
        {
          "output_type": "stream",
          "name": "stdout",
          "text": [
            "Vertical Stacking: \n",
            "[[ 0  1  2  3]\n",
            " [ 4  5  6  7]\n",
            " [ 8  9 10 11]\n",
            " [12 13 14 15]\n",
            " [16 17 18 19]\n",
            " [20 21 22 23]]\n",
            "Shape of the Vertical Stack Array:  (6, 4)\n"
          ]
        }
      ]
    },
    {
      "cell_type": "markdown",
      "source": [
        "<div align = \"center\">\n",
        "  <h1><b> Chapter 10:</b> Splitting</h1>\n",
        "</div>"
      ],
      "metadata": {
        "id": "juAbcwp9lorj"
      }
    },
    {
      "cell_type": "markdown",
      "source": [
        "![Screenshot (99).png](data:image/png;base64,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)"
      ],
      "metadata": {
        "id": "vyjrPfGBqP1v"
      }
    },
    {
      "cell_type": "markdown",
      "source": [
        "**Uses:** From one dataset you need to make other things"
      ],
      "metadata": {
        "id": "exgRPM6pqoce"
      }
    },
    {
      "cell_type": "code",
      "source": [
        "# Horizontal Splitting\n",
        "print(\"Horizontal Splitting\")\n",
        "print(np.hsplit(a4,2))"
      ],
      "metadata": {
        "colab": {
          "base_uri": "https://localhost:8080/"
        },
        "id": "4Y7g1unMlqwi",
        "outputId": "a0e02de1-3a51-4e2d-8eb0-67a027f696e6"
      },
      "execution_count": 80,
      "outputs": [
        {
          "output_type": "stream",
          "name": "stdout",
          "text": [
            "Horizontal Splitting\n",
            "[array([[0, 1],\n",
            "       [4, 5],\n",
            "       [8, 9]]), array([[ 2,  3],\n",
            "       [ 6,  7],\n",
            "       [10, 11]])]\n"
          ]
        }
      ]
    },
    {
      "cell_type": "code",
      "source": [
        "# Vertical Splitting\n",
        "print(\"Vertical Splitting\")\n",
        "print(np.vsplit(a5,3))"
      ],
      "metadata": {
        "colab": {
          "base_uri": "https://localhost:8080/"
        },
        "id": "s4-ZpNZdpX9w",
        "outputId": "97fd7b21-8eb7-4ab4-d3a0-3774c77b4de4"
      },
      "execution_count": 81,
      "outputs": [
        {
          "output_type": "stream",
          "name": "stdout",
          "text": [
            "Vertical Splitting\n",
            "[array([[12, 13, 14, 15]]), array([[16, 17, 18, 19]]), array([[20, 21, 22, 23]])]\n"
          ]
        }
      ]
    }
  ]
}