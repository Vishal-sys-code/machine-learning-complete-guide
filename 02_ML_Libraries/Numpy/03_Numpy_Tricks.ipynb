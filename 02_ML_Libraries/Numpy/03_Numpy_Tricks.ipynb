{
  "nbformat": 4,
  "nbformat_minor": 0,
  "metadata": {
    "colab": {
      "provenance": []
    },
    "kernelspec": {
      "name": "python3",
      "display_name": "Python 3"
    },
    "language_info": {
      "name": "python"
    }
  },
  "cells": [
    {
      "cell_type": "markdown",
      "source": [
        "## **Numpy Tricks**"
      ],
      "metadata": {
        "id": "2ciYeKyhlyuj"
      }
    },
    {
      "cell_type": "code",
      "source": [
        "import numpy as np\n",
        "import random"
      ],
      "metadata": {
        "id": "QLT6tTkOmM5Z"
      },
      "execution_count": 17,
      "outputs": []
    },
    {
      "cell_type": "markdown",
      "source": [
        "## **Chapter 1:** `np.sort`\n",
        "\n",
        "Return a sorted copy of an array.\n",
        "\n",
        "[Documentation](https://numpy.org/doc/stable/reference/generated/numpy.sort.html)"
      ],
      "metadata": {
        "id": "g_3YB3qdl8ua"
      }
    },
    {
      "cell_type": "code",
      "execution_count": 3,
      "metadata": {
        "colab": {
          "base_uri": "https://localhost:8080/"
        },
        "id": "tz_W_W2uj-ho",
        "outputId": "2345a90d-3f8b-418f-9876-2836731ab7ba"
      },
      "outputs": [
        {
          "output_type": "stream",
          "name": "stdout",
          "text": [
            "Array A: \n",
            "[44 95 83 17 99 84 75 16 19 77  1 35 92 88 88]\n",
            "\n",
            "Array B:\n",
            "[[50 55 76  5]\n",
            " [46 29 14 16]\n",
            " [23 13 50  2]\n",
            " [81 87 97 67]\n",
            " [14 97 78 79]\n",
            " [97 35 79 21]]\n"
          ]
        }
      ],
      "source": [
        "a = np.random.randint(1,100,15)\n",
        "b = np.random.randint(1,100,24).reshape(6,4)\n",
        "print(\"Array A: \")\n",
        "print(a)\n",
        "print()\n",
        "print(\"Array B:\")\n",
        "print(b)"
      ]
    },
    {
      "cell_type": "code",
      "source": [
        "print(\"Sorted Array (1D Array): \")\n",
        "print(np.sort(a))"
      ],
      "metadata": {
        "colab": {
          "base_uri": "https://localhost:8080/"
        },
        "id": "y83Z2TyhmZAF",
        "outputId": "3432d47b-2faf-4932-b697-32f89311725f"
      },
      "execution_count": 5,
      "outputs": [
        {
          "output_type": "stream",
          "name": "stdout",
          "text": [
            "Sorted Array: \n",
            "[ 1 16 17 19 35 44 75 77 83 84 88 88 92 95 99]\n"
          ]
        }
      ]
    },
    {
      "cell_type": "code",
      "source": [
        "print(\"Sorted Array (2D Array) Row Sorting: \")\n",
        "print(np.sort(b, axis = 1)) # Row Sorting\n",
        "\n",
        "print()\n",
        "\n",
        "print(\"Sorted Array (2D Array) Column Sorting: \")\n",
        "print(np.sort(b, axis = 0)) # Column Sorting"
      ],
      "metadata": {
        "colab": {
          "base_uri": "https://localhost:8080/"
        },
        "id": "We0zA9spmgX-",
        "outputId": "ce3f9d9a-86e6-4538-f4c6-d87f63bf2550"
      },
      "execution_count": 9,
      "outputs": [
        {
          "output_type": "stream",
          "name": "stdout",
          "text": [
            "Sorted Array (2D Array) Row Sorting: \n",
            "[[ 5 50 55 76]\n",
            " [14 16 29 46]\n",
            " [ 2 13 23 50]\n",
            " [67 81 87 97]\n",
            " [14 78 79 97]\n",
            " [21 35 79 97]]\n",
            "\n",
            "Sorted Array (2D Array) Column Sorting: \n",
            "[[14 13 14  2]\n",
            " [23 29 50  5]\n",
            " [46 35 76 16]\n",
            " [50 55 78 21]\n",
            " [81 87 79 67]\n",
            " [97 97 97 79]]\n"
          ]
        }
      ]
    },
    {
      "cell_type": "code",
      "source": [
        "print(\"Sorting in Descending Order: (1 Dimensional Array)\")\n",
        "print(np.sort(a)[::-1])"
      ],
      "metadata": {
        "colab": {
          "base_uri": "https://localhost:8080/"
        },
        "id": "u4h6VjsSmqpe",
        "outputId": "4741b490-d600-4f40-fde0-d3b491661346"
      },
      "execution_count": 10,
      "outputs": [
        {
          "output_type": "stream",
          "name": "stdout",
          "text": [
            "Sorting in Descending Order: (1 Dimensional Array)\n",
            "[99 95 92 88 88 84 83 77 75 44 35 19 17 16  1]\n"
          ]
        }
      ]
    },
    {
      "cell_type": "markdown",
      "source": [
        "## **Chapter 2:** `np.append`\n",
        "\n",
        "The numpy.append() appends values along the mentioned axis at the end of the array\n",
        "\n",
        "[Documentation](https://numpy.org/doc/stable/reference/generated/numpy.append.html)"
      ],
      "metadata": {
        "id": "Q9301XMInDdK"
      }
    },
    {
      "cell_type": "code",
      "source": [
        "print(\"Appending in 1 Dimensional Array: \")\n",
        "print(np.append(a,200))"
      ],
      "metadata": {
        "colab": {
          "base_uri": "https://localhost:8080/"
        },
        "id": "ICi3wq45nBtS",
        "outputId": "ddec8dec-a209-4b8d-b1e5-79d07c3e2795"
      },
      "execution_count": 11,
      "outputs": [
        {
          "output_type": "stream",
          "name": "stdout",
          "text": [
            "Appending in 1 Dimensional Array: \n",
            "[ 44  95  83  17  99  84  75  16  19  77   1  35  92  88  88 200]\n"
          ]
        }
      ]
    },
    {
      "cell_type": "code",
      "source": [
        "print(\"Appending in 2 Dimensional Array (Values = 1): \")\n",
        "# Adding a column that can have only 1s\n",
        "print(np.append(b, np.ones((b.shape[0], 1)), axis = 1))\n",
        "print()\n",
        "print(\"Appending in 2 Dimensional Array (Values = Random): \")\n",
        "# Adding a column that can have only random values\n",
        "print(np.append(b, np.random.random((b.shape[0], 1)), axis = 1))"
      ],
      "metadata": {
        "colab": {
          "base_uri": "https://localhost:8080/"
        },
        "id": "Cqi33HIfniPC",
        "outputId": "0020d72d-b5a0-457c-b169-896e1dc2856d"
      },
      "execution_count": 19,
      "outputs": [
        {
          "output_type": "stream",
          "name": "stdout",
          "text": [
            "Appending in 2 Dimensional Array (Values = 1): \n",
            "[[50. 55. 76.  5.  1.]\n",
            " [46. 29. 14. 16.  1.]\n",
            " [23. 13. 50.  2.  1.]\n",
            " [81. 87. 97. 67.  1.]\n",
            " [14. 97. 78. 79.  1.]\n",
            " [97. 35. 79. 21.  1.]]\n",
            "\n",
            "Appending in 2 Dimensional Array (Values = Random): \n",
            "[[50.         55.         76.          5.          0.7642639 ]\n",
            " [46.         29.         14.         16.          0.97559091]\n",
            " [23.         13.         50.          2.          0.90253829]\n",
            " [81.         87.         97.         67.          0.82145837]\n",
            " [14.         97.         78.         79.          0.40568132]\n",
            " [97.         35.         79.         21.          0.77987487]]\n"
          ]
        }
      ]
    },
    {
      "cell_type": "markdown",
      "source": [
        "## **Chapter 3:** `np.concatenate`\n",
        "\n",
        "numpy.concatenate() function concatenate a sequence of arrays along an existing axis.\n",
        "\n",
        "[Documentation](https://numpy.org/doc/stable/reference/generated/numpy.concatenate.html)"
      ],
      "metadata": {
        "id": "_k3L3_73odMB"
      }
    },
    {
      "cell_type": "code",
      "source": [
        "c = np.arange(6).reshape(2,3)\n",
        "d = np.arange(6,12).reshape(2,3)\n",
        "print(\"Array C: \")\n",
        "print(c)\n",
        "print()\n",
        "print(\"Array D: \")\n",
        "print(d)"
      ],
      "metadata": {
        "colab": {
          "base_uri": "https://localhost:8080/"
        },
        "id": "44ADoCBun02n",
        "outputId": "29970e09-a89d-480b-9da7-dc3edfb78e67"
      },
      "execution_count": 20,
      "outputs": [
        {
          "output_type": "stream",
          "name": "stdout",
          "text": [
            "Array C: \n",
            "[[0 1 2]\n",
            " [3 4 5]]\n",
            "\n",
            "Array D: \n",
            "[[ 6  7  8]\n",
            " [ 9 10 11]]\n"
          ]
        }
      ]
    },
    {
      "cell_type": "code",
      "source": [
        "print(\"Concatenating Row Wise: \")\n",
        "print(np.concatenate((c,d), axis = 0)) # Row wise Concatenate"
      ],
      "metadata": {
        "colab": {
          "base_uri": "https://localhost:8080/"
        },
        "id": "9cl6RC1JooIJ",
        "outputId": "f3786b26-db86-428f-c987-7331116ea188"
      },
      "execution_count": 21,
      "outputs": [
        {
          "output_type": "stream",
          "name": "stdout",
          "text": [
            "Concatenating Row Wise: \n",
            "[[ 0  1  2]\n",
            " [ 3  4  5]\n",
            " [ 6  7  8]\n",
            " [ 9 10 11]]\n"
          ]
        }
      ]
    },
    {
      "cell_type": "code",
      "source": [
        "print(\"Concatenating Column Wise: \")\n",
        "print(np.concatenate((c,d), axis = 1)) # Column Wise Concatenate"
      ],
      "metadata": {
        "colab": {
          "base_uri": "https://localhost:8080/"
        },
        "id": "m2c_dT4Lo2DK",
        "outputId": "d1bdfbcf-21dd-40f1-cf7c-dd70d4827aac"
      },
      "execution_count": 22,
      "outputs": [
        {
          "output_type": "stream",
          "name": "stdout",
          "text": [
            "Concatenating Column Wise: \n",
            "[[ 0  1  2  6  7  8]\n",
            " [ 3  4  5  9 10 11]]\n"
          ]
        }
      ]
    },
    {
      "cell_type": "markdown",
      "source": [
        "## **Chapter 4:** `np.unique`\n",
        "\n",
        "With the help of np.unique() method, we can get the unique values from an array given as parameter in np.unique() method.\n",
        "\n",
        "[Documentation](https://numpy.org/doc/stable/reference/generated/numpy.unique.html/)"
      ],
      "metadata": {
        "id": "7RgcyaY8o_R3"
      }
    },
    {
      "cell_type": "code",
      "source": [
        "e = np.array([1,1,2,2,3,3,4,4,5,5,6,6])\n",
        "print(\"Original Array: \")\n",
        "print(e)\n",
        "print()\n",
        "print(\"Array containing unique values: \")\n",
        "print(np.unique(e))"
      ],
      "metadata": {
        "colab": {
          "base_uri": "https://localhost:8080/"
        },
        "id": "_wCoSQx_o99J",
        "outputId": "e681dbe9-117e-4245-f1d4-47aa9ebfa2d4"
      },
      "execution_count": 23,
      "outputs": [
        {
          "output_type": "stream",
          "name": "stdout",
          "text": [
            "Original Array: \n",
            "[1 1 2 2 3 3 4 4 5 5 6 6]\n",
            "\n",
            "Array containing unique values: \n",
            "[1 2 3 4 5 6]\n"
          ]
        }
      ]
    },
    {
      "cell_type": "markdown",
      "source": [
        "## **Chapter 5:** `np.expand_dims`\n",
        "\n",
        "With the help of Numpy.expand_dims() method, we can get the expanded dimensions of an array\n",
        "\n",
        "[Documentation](https://numpy.org/doc/stable/reference/generated/numpy.expand_dims.html)"
      ],
      "metadata": {
        "id": "3oN1CCm4pOJF"
      }
    },
    {
      "cell_type": "code",
      "source": [
        "print(\"Original Array: \", a)\n",
        "print(\"Shape of the Array A: \", a.shape)"
      ],
      "metadata": {
        "colab": {
          "base_uri": "https://localhost:8080/"
        },
        "id": "SIuSenCTpWxK",
        "outputId": "97907ba0-936b-4cb5-f714-fa9b6a9a6fe0"
      },
      "execution_count": 28,
      "outputs": [
        {
          "output_type": "stream",
          "name": "stdout",
          "text": [
            "Original Array:  [44 95 83 17 99 84 75 16 19 77  1 35 92 88 88]\n",
            "Shape of the Array A:  (15,)\n"
          ]
        }
      ]
    },
    {
      "cell_type": "code",
      "source": [
        "print(\"After Expanding the Array A (Row Wise): \")\n",
        "a1 = np.expand_dims(a, axis = 0)\n",
        "print(a1)\n",
        "print()\n",
        "print(\"Shape of the Array A: \", a1.shape)"
      ],
      "metadata": {
        "colab": {
          "base_uri": "https://localhost:8080/"
        },
        "id": "g_iMAwmSsBK0",
        "outputId": "90bd84a0-bdd0-49fb-98a5-dc2e5c6acfe5"
      },
      "execution_count": 29,
      "outputs": [
        {
          "output_type": "stream",
          "name": "stdout",
          "text": [
            "After Expanding the Array A (Row Wise): \n",
            "[[44 95 83 17 99 84 75 16 19 77  1 35 92 88 88]]\n",
            "\n",
            "Shape of the Array A:  (1, 15)\n"
          ]
        }
      ]
    },
    {
      "cell_type": "code",
      "source": [
        "print(\"After Expanding the Array A (Column Wise): \")\n",
        "a2 = np.expand_dims(a, axis = 1)\n",
        "print(a2)\n",
        "print()\n",
        "print(\"Shape of the Array A: \", a2.shape)"
      ],
      "metadata": {
        "colab": {
          "base_uri": "https://localhost:8080/"
        },
        "id": "muPz5QPxsibs",
        "outputId": "3fd60eab-4a63-4e63-ca57-4b050f848cdf"
      },
      "execution_count": 30,
      "outputs": [
        {
          "output_type": "stream",
          "name": "stdout",
          "text": [
            "After Expanding the Array A (Column Wise): \n",
            "[[44]\n",
            " [95]\n",
            " [83]\n",
            " [17]\n",
            " [99]\n",
            " [84]\n",
            " [75]\n",
            " [16]\n",
            " [19]\n",
            " [77]\n",
            " [ 1]\n",
            " [35]\n",
            " [92]\n",
            " [88]\n",
            " [88]]\n",
            "\n",
            "Shape of the Array A:  (15, 1)\n"
          ]
        }
      ]
    },
    {
      "cell_type": "markdown",
      "source": [
        "## **Chapter 6:** `np.where`\n",
        "\n",
        "The numpy.where() function returns the indices of elements in an input array where the given condition is satisfied.\n",
        "\n",
        "```\n",
        "np.where(condition, true, false)\n",
        "```\n",
        "\n",
        "[Documentation](https://numpy.org/doc/stable/reference/generated/numpy.where.html)"
      ],
      "metadata": {
        "id": "NYPOR6GWpXlS"
      }
    },
    {
      "cell_type": "code",
      "source": [
        "print(\"Original Array:\")\n",
        "print(a)"
      ],
      "metadata": {
        "colab": {
          "base_uri": "https://localhost:8080/"
        },
        "id": "1kCqliS6pmIZ",
        "outputId": "6523a00f-4819-46db-d246-14533914f932"
      },
      "execution_count": 31,
      "outputs": [
        {
          "output_type": "stream",
          "name": "stdout",
          "text": [
            "Original Array:\n",
            "[44 95 83 17 99 84 75 16 19 77  1 35 92 88 88]\n"
          ]
        }
      ]
    },
    {
      "cell_type": "code",
      "source": [
        "# Find all indices with value greater than 50\n",
        "a3 = np.where(a > 50)\n",
        "print(a3)"
      ],
      "metadata": {
        "colab": {
          "base_uri": "https://localhost:8080/"
        },
        "id": "XeVHVwm1s7cX",
        "outputId": "53efb500-889d-4f74-f116-d31866405f1f"
      },
      "execution_count": 33,
      "outputs": [
        {
          "output_type": "stream",
          "name": "stdout",
          "text": [
            "(array([ 1,  2,  4,  5,  6,  9, 12, 13, 14]),)\n"
          ]
        }
      ]
    },
    {
      "cell_type": "code",
      "source": [
        "# Replace all values > 50 with 0\n",
        "print(np.where(a > 50, 0, a))"
      ],
      "metadata": {
        "colab": {
          "base_uri": "https://localhost:8080/"
        },
        "id": "qI71ZZHQtLiH",
        "outputId": "77fd97d9-e49f-44fc-b454-1738e843f192"
      },
      "execution_count": 34,
      "outputs": [
        {
          "output_type": "stream",
          "name": "stdout",
          "text": [
            "[44  0  0 17  0  0  0 16 19  0  1 35  0  0  0]\n"
          ]
        }
      ]
    },
    {
      "cell_type": "code",
      "source": [
        "# Replace all Even values with 0\n",
        "print(np.where(a%2==0, 0, a))"
      ],
      "metadata": {
        "colab": {
          "base_uri": "https://localhost:8080/"
        },
        "id": "rg3CrS0Ltd-Y",
        "outputId": "564c743c-7403-4f73-b1ca-0a40b4971ef6"
      },
      "execution_count": 35,
      "outputs": [
        {
          "output_type": "stream",
          "name": "stdout",
          "text": [
            "[ 0 95 83 17 99  0 75  0 19 77  1 35  0  0  0]\n"
          ]
        }
      ]
    },
    {
      "cell_type": "markdown",
      "source": [
        "## **Chapter 7:** `np.argmax`\n",
        "\n",
        "The numpy.argmax() function returns indices of the max element of the array in a particular axis.\n",
        "\n",
        "[Documentation](https://numpy.org/doc/stable/reference/generated/numpy.argmax.html)"
      ],
      "metadata": {
        "id": "Bz0x42x3pmr2"
      }
    },
    {
      "cell_type": "code",
      "source": [
        "print(\"Original Array:\")\n",
        "print(a)"
      ],
      "metadata": {
        "colab": {
          "base_uri": "https://localhost:8080/"
        },
        "id": "eqx8ZkcJptWg",
        "outputId": "c40f06b7-0984-4827-9b82-d1d075e39ce4"
      },
      "execution_count": 36,
      "outputs": [
        {
          "output_type": "stream",
          "name": "stdout",
          "text": [
            "Original Array:\n",
            "[44 95 83 17 99 84 75 16 19 77  1 35 92 88 88]\n"
          ]
        }
      ]
    },
    {
      "cell_type": "code",
      "source": [
        "print(\"Returning index of the maximum element: \")\n",
        "print(np.argmax(a))"
      ],
      "metadata": {
        "colab": {
          "base_uri": "https://localhost:8080/"
        },
        "id": "0z9zRucgtp7j",
        "outputId": "9948a152-72f5-413f-9da0-4785eb6d44be"
      },
      "execution_count": 37,
      "outputs": [
        {
          "output_type": "stream",
          "name": "stdout",
          "text": [
            "Returning index of the maximum element: \n",
            "4\n"
          ]
        }
      ]
    },
    {
      "cell_type": "code",
      "source": [
        "print(\"Original Array:\")\n",
        "print(b)"
      ],
      "metadata": {
        "colab": {
          "base_uri": "https://localhost:8080/"
        },
        "id": "02hT5CZCt5xS",
        "outputId": "bf2b04bb-63ff-4463-cee7-38c5eec2a3f0"
      },
      "execution_count": 38,
      "outputs": [
        {
          "output_type": "stream",
          "name": "stdout",
          "text": [
            "Original Array:\n",
            "[[50 55 76  5]\n",
            " [46 29 14 16]\n",
            " [23 13 50  2]\n",
            " [81 87 97 67]\n",
            " [14 97 78 79]\n",
            " [97 35 79 21]]\n"
          ]
        }
      ]
    },
    {
      "cell_type": "code",
      "source": [
        "print(\"Returning index of the maximum element (Column Wise): \")\n",
        "print(np.argmax(b, axis = 0))"
      ],
      "metadata": {
        "colab": {
          "base_uri": "https://localhost:8080/"
        },
        "id": "GDUyjLhvt37e",
        "outputId": "205b8fe9-0fd4-4cec-b083-c4d998a84578"
      },
      "execution_count": 56,
      "outputs": [
        {
          "output_type": "stream",
          "name": "stdout",
          "text": [
            "Returning index of the maximum element (Column Wise): \n",
            "[5 4 3 4]\n"
          ]
        }
      ]
    },
    {
      "cell_type": "code",
      "source": [
        "print(\"Returning index of the maximum element (Row Wise): \")\n",
        "print(np.argmax(b, axis = 1))"
      ],
      "metadata": {
        "colab": {
          "base_uri": "https://localhost:8080/"
        },
        "id": "3EFTUNTTt_Kc",
        "outputId": "30d800ad-c3c1-4c4c-f03f-383f2a1d3b35"
      },
      "execution_count": 41,
      "outputs": [
        {
          "output_type": "stream",
          "name": "stdout",
          "text": [
            "Returning index of the maximum element (Row Wise): \n",
            "[2 0 2 2 1 0]\n"
          ]
        }
      ]
    },
    {
      "cell_type": "code",
      "source": [
        "# np.argmin\n",
        "print(\"Returning index of the minimum element: \")\n",
        "np.argmin(a)"
      ],
      "metadata": {
        "colab": {
          "base_uri": "https://localhost:8080/"
        },
        "id": "GKAAXnnPuef6",
        "outputId": "75cde5e3-0300-4cd8-f88e-9dbcabddc272"
      },
      "execution_count": 43,
      "outputs": [
        {
          "output_type": "stream",
          "name": "stdout",
          "text": [
            "Returning index of the minimum element: \n"
          ]
        },
        {
          "output_type": "execute_result",
          "data": {
            "text/plain": [
              "10"
            ]
          },
          "metadata": {},
          "execution_count": 43
        }
      ]
    },
    {
      "cell_type": "markdown",
      "source": [
        "## **Chapter 8:** `np.cumsum`\n",
        "\n",
        "numpy.cumsum() function is used when we want to compute the cumulative sum of array elements over a given axis.\n",
        "\n",
        "[Documentation](https://numpy.org/doc/stable/reference/generated/numpy.cumsum.html)"
      ],
      "metadata": {
        "id": "NtGwJ9Qzptt1"
      }
    },
    {
      "cell_type": "code",
      "source": [
        "print(\"Original Array:\")\n",
        "print(a)"
      ],
      "metadata": {
        "colab": {
          "base_uri": "https://localhost:8080/"
        },
        "id": "SdrJdQ3Bp2vf",
        "outputId": "1df71035-b02c-4a3f-d1c8-7977b5526bcb"
      },
      "execution_count": 44,
      "outputs": [
        {
          "output_type": "stream",
          "name": "stdout",
          "text": [
            "Original Array:\n",
            "[44 95 83 17 99 84 75 16 19 77  1 35 92 88 88]\n"
          ]
        }
      ]
    },
    {
      "cell_type": "code",
      "source": [
        "print(\"Original Array:\")\n",
        "print(b)"
      ],
      "metadata": {
        "colab": {
          "base_uri": "https://localhost:8080/"
        },
        "id": "4wBcMlw8vFzw",
        "outputId": "20944a12-9d24-4974-d3b5-ad212d41cc1d"
      },
      "execution_count": 48,
      "outputs": [
        {
          "output_type": "stream",
          "name": "stdout",
          "text": [
            "Original Array:\n",
            "[[50 55 76  5]\n",
            " [46 29 14 16]\n",
            " [23 13 50  2]\n",
            " [81 87 97 67]\n",
            " [14 97 78 79]\n",
            " [97 35 79 21]]\n"
          ]
        }
      ]
    },
    {
      "cell_type": "code",
      "source": [
        "print(\"Cumulative Summation of 1D Array\")\n",
        "print(np.cumsum(a))"
      ],
      "metadata": {
        "colab": {
          "base_uri": "https://localhost:8080/"
        },
        "id": "xHYtnddLu6wE",
        "outputId": "256643ab-008b-4346-d1a1-c0091bf603ec"
      },
      "execution_count": 45,
      "outputs": [
        {
          "output_type": "stream",
          "name": "stdout",
          "text": [
            "Cumulative Summation of 1D Array\n",
            "[ 44 139 222 239 338 422 497 513 532 609 610 645 737 825 913]\n"
          ]
        }
      ]
    },
    {
      "cell_type": "code",
      "source": [
        "print(\"Cumulative Summation of 2D Array: (Column Wise)\")\n",
        "print(np.cumsum(b, axis = 0))"
      ],
      "metadata": {
        "colab": {
          "base_uri": "https://localhost:8080/"
        },
        "id": "RLnPiRdcu_ij",
        "outputId": "5f86a29e-b5eb-4e0c-91d6-1c575281f95f"
      },
      "execution_count": 46,
      "outputs": [
        {
          "output_type": "stream",
          "name": "stdout",
          "text": [
            "Cumulative Summation of 2D Array\n",
            "[[ 50  55  76   5]\n",
            " [ 96  84  90  21]\n",
            " [119  97 140  23]\n",
            " [200 184 237  90]\n",
            " [214 281 315 169]\n",
            " [311 316 394 190]]\n"
          ]
        }
      ]
    },
    {
      "cell_type": "code",
      "source": [
        "print(\"Cumulative Summation of 2D Array: (Row Wise)\")\n",
        "print(np.cumsum(b, axis = 1))"
      ],
      "metadata": {
        "colab": {
          "base_uri": "https://localhost:8080/"
        },
        "id": "AYgOuJI5vEii",
        "outputId": "361b7e9e-aad9-4ac4-d2c6-0827fd7ff22f"
      },
      "execution_count": 57,
      "outputs": [
        {
          "output_type": "stream",
          "name": "stdout",
          "text": [
            "Cumulative Summation of 2D Array: (Row Wise)\n",
            "[[ 50 105 181 186]\n",
            " [ 46  75  89 105]\n",
            " [ 23  36  86  88]\n",
            " [ 81 168 265 332]\n",
            " [ 14 111 189 268]\n",
            " [ 97 132 211 232]]\n"
          ]
        }
      ]
    },
    {
      "cell_type": "markdown",
      "source": [
        "## **Chapter 9:** `np.percentile`\n",
        "\n",
        "numpy.percentile()function used to compute the nth percentile of the given data (array elements) along the specified axis.\n",
        "\n",
        "[Documentation](https://numpy.org/doc/stable/reference/generated/numpy.percentile.html)"
      ],
      "metadata": {
        "id": "hvX4SFWap4p7"
      }
    },
    {
      "cell_type": "code",
      "source": [
        "print(\"Original Array:\")\n",
        "print(a)"
      ],
      "metadata": {
        "colab": {
          "base_uri": "https://localhost:8080/"
        },
        "id": "6rwX4gEdqBIj",
        "outputId": "e7505a83-ee1e-41a4-c040-e6c98a6b2c59"
      },
      "execution_count": 49,
      "outputs": [
        {
          "output_type": "stream",
          "name": "stdout",
          "text": [
            "Original Array:\n",
            "[44 95 83 17 99 84 75 16 19 77  1 35 92 88 88]\n"
          ]
        }
      ]
    },
    {
      "cell_type": "code",
      "source": [
        "print(\"Percentile of an Array:\")\n",
        "print(np.percentile(a, 100))"
      ],
      "metadata": {
        "colab": {
          "base_uri": "https://localhost:8080/"
        },
        "id": "FSzh8j9qxf-M",
        "outputId": "edfacc14-9cfb-48db-debc-c7a6cfbf9392"
      },
      "execution_count": 58,
      "outputs": [
        {
          "output_type": "stream",
          "name": "stdout",
          "text": [
            "Percentile of an Array:\n",
            "99.0\n"
          ]
        }
      ]
    },
    {
      "cell_type": "code",
      "source": [
        "print(\"Percentile of an Array:\")\n",
        "print(np.percentile(a, 0))"
      ],
      "metadata": {
        "colab": {
          "base_uri": "https://localhost:8080/"
        },
        "id": "4wVsqJIDxhoM",
        "outputId": "888703d6-7ca5-4f9c-85b1-a5cce4346673"
      },
      "execution_count": 59,
      "outputs": [
        {
          "output_type": "stream",
          "name": "stdout",
          "text": [
            "Percentile of an Array:\n",
            "1.0\n"
          ]
        }
      ]
    },
    {
      "cell_type": "code",
      "source": [
        "print(\"Percentile of an Array:\")\n",
        "print(np.percentile(a, 50)) # This will be equal to median"
      ],
      "metadata": {
        "colab": {
          "base_uri": "https://localhost:8080/"
        },
        "id": "rJA_e5UMwz18",
        "outputId": "f3efed17-f9e3-46e3-ecd1-ef6c41bafddd"
      },
      "execution_count": 60,
      "outputs": [
        {
          "output_type": "stream",
          "name": "stdout",
          "text": [
            "Percentile of an Array:\n",
            "77.0\n"
          ]
        }
      ]
    },
    {
      "cell_type": "code",
      "source": [
        "print(\"Median of an Array:\")\n",
        "print(np.median(a))"
      ],
      "metadata": {
        "colab": {
          "base_uri": "https://localhost:8080/"
        },
        "id": "oeD1OFyMw6n6",
        "outputId": "c29eb5e1-1177-4aeb-9e67-e01e6bf1fbcd"
      },
      "execution_count": 53,
      "outputs": [
        {
          "output_type": "stream",
          "name": "stdout",
          "text": [
            "Median of an Array:\n",
            "77.0\n"
          ]
        }
      ]
    },
    {
      "cell_type": "markdown",
      "source": [
        "## **Chapter 10:** `np.histogram`\n",
        "\n",
        "Numpy has a built-in numpy.histogram() function which represents the frequency of data distribution in the graphical form.\n",
        "\n",
        "[Documentation](https://numpy.org/doc/stable/reference/generated/numpy.histogram.html)"
      ],
      "metadata": {
        "id": "mnFmCylAqBr1"
      }
    },
    {
      "cell_type": "code",
      "source": [
        "print(\"Original Array:\")\n",
        "print(a)"
      ],
      "metadata": {
        "colab": {
          "base_uri": "https://localhost:8080/"
        },
        "id": "_mNrpubeqPb-",
        "outputId": "9b088e00-cf5f-467e-ce28-382fb4597aa8"
      },
      "execution_count": 54,
      "outputs": [
        {
          "output_type": "stream",
          "name": "stdout",
          "text": [
            "Original Array:\n",
            "[44 95 83 17 99 84 75 16 19 77  1 35 92 88 88]\n"
          ]
        }
      ]
    },
    {
      "cell_type": "code",
      "source": [
        "print(np.histogram(a,bins=[10, 20, 30, 40, 50, 60, 70, 80, 90, 100 ]))"
      ],
      "metadata": {
        "colab": {
          "base_uri": "https://localhost:8080/"
        },
        "id": "TQI896b9x5XR",
        "outputId": "e957a581-4e51-4921-e9e0-10e048ad7a35"
      },
      "execution_count": 61,
      "outputs": [
        {
          "output_type": "stream",
          "name": "stdout",
          "text": [
            "(array([3, 0, 1, 1, 0, 0, 2, 4, 3]), array([ 10,  20,  30,  40,  50,  60,  70,  80,  90, 100]))\n"
          ]
        }
      ]
    },
    {
      "cell_type": "code",
      "source": [
        "print(np.histogram(a,bins=[0,50,100]))\n",
        "# 0 to 50 : 6\n",
        "# 50 to 100: 9"
      ],
      "metadata": {
        "colab": {
          "base_uri": "https://localhost:8080/"
        },
        "id": "eZTxkanMxHK4",
        "outputId": "11cbb8ba-fcd1-46e8-d239-a96ce2893d38"
      },
      "execution_count": 62,
      "outputs": [
        {
          "output_type": "stream",
          "name": "stdout",
          "text": [
            "(array([6, 9]), array([  0,  50, 100]))\n"
          ]
        }
      ]
    },
    {
      "cell_type": "markdown",
      "source": [
        "## **Chapter 11:** `numpy.isin()`\n",
        "\n",
        "With the help of numpy.isin() method, we can see that one array having values are checked in a different numpy array having different elements with different sizes.\n",
        "\n",
        "Inshort, it used to search multiple items in a array in one go.\n",
        "\n",
        "[Documentation](https://numpy.org/doc/stable/reference/generated/numpy.isin.html)"
      ],
      "metadata": {
        "id": "1CTwXz40qQST"
      }
    },
    {
      "cell_type": "code",
      "source": [
        "print(\"Original Array:\")\n",
        "print(a)"
      ],
      "metadata": {
        "colab": {
          "base_uri": "https://localhost:8080/"
        },
        "id": "7tgaG9WrqeQT",
        "outputId": "17fc0923-e047-4294-cb34-87e702bb2a18"
      },
      "execution_count": 65,
      "outputs": [
        {
          "output_type": "stream",
          "name": "stdout",
          "text": [
            "Original Array:\n",
            "[44 95 83 17 99 84 75 16 19 77  1 35 92 88 88]\n"
          ]
        }
      ]
    },
    {
      "cell_type": "code",
      "source": [
        "items = [10,20,30,40,50,60,70,80,90,100]\n",
        "print(\"Searching items in original array: \")\n",
        "print(np.isin(a,items))"
      ],
      "metadata": {
        "colab": {
          "base_uri": "https://localhost:8080/"
        },
        "id": "LQBSZeKjzFRt",
        "outputId": "c993c2c6-3cee-4ebf-b7b5-16aa025d385f"
      },
      "execution_count": 66,
      "outputs": [
        {
          "output_type": "stream",
          "name": "stdout",
          "text": [
            "Searching items in original array: \n",
            "[False False False False False False False False False False False False\n",
            " False False False]\n"
          ]
        }
      ]
    },
    {
      "cell_type": "code",
      "source": [
        "items = [44,55,66,77,99,88,100,1,2,3]\n",
        "print(\"Searching items in original array: \")\n",
        "print(np.isin(a,items))"
      ],
      "metadata": {
        "colab": {
          "base_uri": "https://localhost:8080/"
        },
        "id": "_fYxwhiezXGq",
        "outputId": "525cb671-7385-4407-b6e6-6b3e15e7bbc3"
      },
      "execution_count": 67,
      "outputs": [
        {
          "output_type": "stream",
          "name": "stdout",
          "text": [
            "Searching items in original array: \n",
            "[ True False False False  True False False False False  True  True False\n",
            " False  True  True]\n"
          ]
        }
      ]
    },
    {
      "cell_type": "markdown",
      "source": [
        "## **Chapter 12:** `numpy.flip()`\n",
        "\n",
        "The numpy.flip() function reverses the order of array elements along the specified axis, preserving the shape of the array.\n",
        "\n",
        "Inshort, it will be a mirror image\n",
        "\n",
        "[Documentation](https://numpy.org/doc/stable/reference/generated/numpy.flip.html)"
      ],
      "metadata": {
        "id": "PWHiLJMCqyQ-"
      }
    },
    {
      "cell_type": "code",
      "source": [
        "print(\"Original Array:\")\n",
        "print(a)"
      ],
      "metadata": {
        "colab": {
          "base_uri": "https://localhost:8080/"
        },
        "id": "mIiMeFEuzjUT",
        "outputId": "6dcdbab5-2ab8-4bdc-b213-62afe1779733"
      },
      "execution_count": 68,
      "outputs": [
        {
          "output_type": "stream",
          "name": "stdout",
          "text": [
            "Original Array:\n",
            "[44 95 83 17 99 84 75 16 19 77  1 35 92 88 88]\n"
          ]
        }
      ]
    },
    {
      "cell_type": "code",
      "source": [
        "print(\"Reversed Array (1 Dimensional):\")\n",
        "print(np.flip(a)) # Mirror Image"
      ],
      "metadata": {
        "colab": {
          "base_uri": "https://localhost:8080/"
        },
        "id": "M6QZ61_mzmOV",
        "outputId": "564a085e-0cb6-409f-c04d-0d80616daaaa"
      },
      "execution_count": 73,
      "outputs": [
        {
          "output_type": "stream",
          "name": "stdout",
          "text": [
            "Reversed Array (1 Dimensional):\n",
            "[88 88 92 35  1 77 19 16 75 84 99 17 83 95 44]\n"
          ]
        }
      ]
    },
    {
      "cell_type": "code",
      "source": [
        "print(\"Original Array:\")\n",
        "print(b)"
      ],
      "metadata": {
        "colab": {
          "base_uri": "https://localhost:8080/"
        },
        "id": "mhDML3SZzviT",
        "outputId": "537c7b8c-d6a9-4fd0-e2f6-9ccefcd9922f"
      },
      "execution_count": 70,
      "outputs": [
        {
          "output_type": "stream",
          "name": "stdout",
          "text": [
            "Original Array:\n",
            "[[50 55 76  5]\n",
            " [46 29 14 16]\n",
            " [23 13 50  2]\n",
            " [81 87 97 67]\n",
            " [14 97 78 79]\n",
            " [97 35 79 21]]\n"
          ]
        }
      ]
    },
    {
      "cell_type": "code",
      "source": [
        "print(\"Reversed Array (Both Row and Column Wise):\")\n",
        "print(np.flip(b))"
      ],
      "metadata": {
        "colab": {
          "base_uri": "https://localhost:8080/"
        },
        "id": "x0RhAAEZ0ESq",
        "outputId": "c3448b6d-560c-4981-c7a3-c89e50a8a76c"
      },
      "execution_count": 74,
      "outputs": [
        {
          "output_type": "stream",
          "name": "stdout",
          "text": [
            "Reversed Array (Both Row and Column Wise):\n",
            "[[21 79 35 97]\n",
            " [79 78 97 14]\n",
            " [67 97 87 81]\n",
            " [ 2 50 13 23]\n",
            " [16 14 29 46]\n",
            " [ 5 76 55 50]]\n"
          ]
        }
      ]
    },
    {
      "cell_type": "code",
      "source": [
        "print(\"Reversed Array (Column Wise):\")\n",
        "print(np.flip(b,axis = 0)) # Mirror Image"
      ],
      "metadata": {
        "colab": {
          "base_uri": "https://localhost:8080/"
        },
        "id": "FxOyT9nOzxO3",
        "outputId": "3b70ca32-2e7b-457e-c091-676dcc4feda6"
      },
      "execution_count": 71,
      "outputs": [
        {
          "output_type": "stream",
          "name": "stdout",
          "text": [
            "Reversed Array (Column Wise):\n",
            "[[97 35 79 21]\n",
            " [14 97 78 79]\n",
            " [81 87 97 67]\n",
            " [23 13 50  2]\n",
            " [46 29 14 16]\n",
            " [50 55 76  5]]\n"
          ]
        }
      ]
    },
    {
      "cell_type": "code",
      "source": [
        "print(\"Reversed Array (Row wise):\")\n",
        "print(np.flip(b, axis = 1)) # Mirror Image"
      ],
      "metadata": {
        "colab": {
          "base_uri": "https://localhost:8080/"
        },
        "id": "-0F6oyVFzxLX",
        "outputId": "a51d3da0-6089-40dd-cf4e-2857fbabba66"
      },
      "execution_count": 72,
      "outputs": [
        {
          "output_type": "stream",
          "name": "stdout",
          "text": [
            "Reversed Array (Row wise):\n",
            "[[ 5 76 55 50]\n",
            " [16 14 29 46]\n",
            " [ 2 50 13 23]\n",
            " [67 97 87 81]\n",
            " [79 78 97 14]\n",
            " [21 79 35 97]]\n"
          ]
        }
      ]
    },
    {
      "cell_type": "markdown",
      "source": [
        "## **Chapter 13:** `numpy.put()`\n",
        "\n",
        "The numpy.put() function replaces specific elements of an array with given values of p_array. Array indexed works on flattened array.\n",
        "\n",
        "Inshort, it change.\n",
        "\n",
        "```\n",
        "np.put(array_name, [indexes_you_wanna_change], [values_you_wanna_replace])\n",
        "```\n",
        "\n",
        "\n",
        "[Documentation](https://numpy.org/doc/stable/reference/generated/numpy.put.html)"
      ],
      "metadata": {
        "id": "SxTYIO0Uqy87"
      }
    },
    {
      "cell_type": "code",
      "source": [
        "print(\"Original Array:\")\n",
        "print(a)"
      ],
      "metadata": {
        "colab": {
          "base_uri": "https://localhost:8080/"
        },
        "id": "vtQsunYS0NqO",
        "outputId": "78852f73-cbb5-4cee-e52d-d55df7a6a614"
      },
      "execution_count": 75,
      "outputs": [
        {
          "output_type": "stream",
          "name": "stdout",
          "text": [
            "Original Array:\n",
            "[44 95 83 17 99 84 75 16 19 77  1 35 92 88 88]\n"
          ]
        }
      ]
    },
    {
      "cell_type": "code",
      "source": [
        "print(\" ----------------- Changing the Original Array Using np.put() ----------------- \")\n",
        "np.put(a,[0,1], [100, 500]) # permanent changes\n",
        "print(\"Changed Array: \")\n",
        "print(a)"
      ],
      "metadata": {
        "colab": {
          "base_uri": "https://localhost:8080/"
        },
        "id": "mojpzHnA0TpE",
        "outputId": "1a560a79-b25a-4a5b-c421-4cc85a18eee0"
      },
      "execution_count": 78,
      "outputs": [
        {
          "output_type": "stream",
          "name": "stdout",
          "text": [
            " ----------------- Changing the Original Array Using np.put() ----------------- \n",
            "Changed Array: \n",
            "[100 500  83  17  99  84  75  16  19  77   1  35  92  88  88]\n"
          ]
        }
      ]
    },
    {
      "cell_type": "markdown",
      "source": [
        "## **Chapter 14:** `numpy.delete()`\n",
        "\n",
        "The numpy.delete() function returns a new array with the deletion of sub-arrays along with the mentioned axis.\n",
        "\n",
        "```\n",
        "np.delete(array_name, index_you_wanna_delete)\n",
        "```\n",
        "\n",
        "[Documentation](https://numpy.org/doc/stable/reference/generated/numpy.delete.html)"
      ],
      "metadata": {
        "id": "ZkIzCnqjq2CZ"
      }
    },
    {
      "cell_type": "code",
      "source": [
        "print(\"Original Array:\")\n",
        "print(a)"
      ],
      "metadata": {
        "colab": {
          "base_uri": "https://localhost:8080/"
        },
        "id": "M4E2RgVc0sRC",
        "outputId": "dee59de6-faad-428d-9bb7-2e025e51ec06"
      },
      "execution_count": 79,
      "outputs": [
        {
          "output_type": "stream",
          "name": "stdout",
          "text": [
            "Original Array:\n",
            "[100 500  83  17  99  84  75  16  19  77   1  35  92  88  88]\n"
          ]
        }
      ]
    },
    {
      "cell_type": "code",
      "source": [
        "print(np.delete(a, [0, 2, 4])) # Temporary Change"
      ],
      "metadata": {
        "colab": {
          "base_uri": "https://localhost:8080/"
        },
        "id": "cvcV0tbG0wLP",
        "outputId": "42412077-f990-4292-b9e8-00a1a6567b19"
      },
      "execution_count": 81,
      "outputs": [
        {
          "output_type": "stream",
          "name": "stdout",
          "text": [
            "[500  17  84  75  16  19  77   1  35  92  88  88]\n"
          ]
        }
      ]
    },
    {
      "cell_type": "markdown",
      "source": [
        "## **Chapter 15:** **Set functions**\n",
        "- np.union1d\n",
        "- np.intersect1d\n",
        "- np.setdiff1d\n",
        "- np.setxor1d\n",
        "- np.in1d"
      ],
      "metadata": {
        "id": "bgphSSIjq1t5"
      }
    },
    {
      "cell_type": "code",
      "source": [
        "m = np.array([1,2,3,4,5])\n",
        "n = np.array([3,4,5,6,7])\n",
        "print(\"Array (M): \")\n",
        "print(m)\n",
        "print()\n",
        "print(\"Array (N): \")\n",
        "print(n)"
      ],
      "metadata": {
        "colab": {
          "base_uri": "https://localhost:8080/"
        },
        "id": "_p6VzaG91ZHl",
        "outputId": "6592cf97-dcf4-4761-a08e-66b43e448145"
      },
      "execution_count": 83,
      "outputs": [
        {
          "output_type": "stream",
          "name": "stdout",
          "text": [
            "Array (M): \n",
            "[1 2 3 4 5]\n",
            "\n",
            "Array (N): \n",
            "[3 4 5 6 7]\n"
          ]
        }
      ]
    },
    {
      "cell_type": "code",
      "source": [
        "print(\"Union of Arrays m and n is: \")\n",
        "print(np.union1d(m,n))\n",
        "print()\n",
        "print(\"Intersection of Arrays m and n is: \")\n",
        "print(np.intersect1d(m,n))\n",
        "print()\n",
        "print(\"Difference of Arrays m and n is: \")\n",
        "print(np.setdiff1d(m,n))\n",
        "print()\n",
        "print(\"Symmetric Difference of Arrays m and n is: \")\n",
        "print(np.setxor1d(m,n))\n",
        "print()\n",
        "print(\"Is m in n: \")\n",
        "print(np.in1d(m,n))"
      ],
      "metadata": {
        "colab": {
          "base_uri": "https://localhost:8080/"
        },
        "id": "8S-frHL11m28",
        "outputId": "3facd3b9-2af5-4a58-e5f1-0ec4cce90ad2"
      },
      "execution_count": 86,
      "outputs": [
        {
          "output_type": "stream",
          "name": "stdout",
          "text": [
            "Union of Arrays m and n is: \n",
            "[1 2 3 4 5 6 7]\n",
            "\n",
            "Intersection of Arrays m and n is: \n",
            "[3 4 5]\n",
            "\n",
            "Difference of Arrays m and n is: \n",
            "[1 2]\n",
            "\n",
            "Symmetric Difference of Arrays m and n is: \n",
            "[1 2 6 7]\n",
            "\n",
            "Is m in n: \n",
            "[False False  True  True  True]\n"
          ]
        }
      ]
    },
    {
      "cell_type": "markdown",
      "source": [
        "## **Chapter 16:** `numpy.clip()`\n",
        "\n",
        "numpy.clip() function is used to Clip (limit) the values in an array.\n",
        "\n",
        "[Documentation](https://numpy.org/doc/stable/reference/generated/numpy.clip.html)"
      ],
      "metadata": {
        "id": "bBqX2RVRq1MV"
      }
    },
    {
      "cell_type": "code",
      "source": [
        "print(\"Original Array:\")\n",
        "print(a)"
      ],
      "metadata": {
        "colab": {
          "base_uri": "https://localhost:8080/"
        },
        "id": "vDd4Ik502X25",
        "outputId": "70f6a46b-563f-4c5e-ca86-d83dd0a457db"
      },
      "execution_count": 87,
      "outputs": [
        {
          "output_type": "stream",
          "name": "stdout",
          "text": [
            "Original Array:\n",
            "[100 500  83  17  99  84  75  16  19  77   1  35  92  88  88]\n"
          ]
        }
      ]
    },
    {
      "cell_type": "code",
      "source": [
        "print(\"Clipping: \")\n",
        "print(np.clip(a,a_min=25,a_max=75))"
      ],
      "metadata": {
        "colab": {
          "base_uri": "https://localhost:8080/"
        },
        "id": "AwxypuTs2O2d",
        "outputId": "f4aa11d0-f84e-4937-8574-fb18ad7e6b14"
      },
      "execution_count": 88,
      "outputs": [
        {
          "output_type": "stream",
          "name": "stdout",
          "text": [
            "Clipping: \n",
            "[75 75 75 25 75 75 75 25 25 75 25 35 75 75 75]\n"
          ]
        }
      ]
    },
    {
      "cell_type": "markdown",
      "source": [
        "## **Chapter 17:** `numpy.corrcoef()`\n",
        "\n",
        "Return Pearson product-moment correlation coefficients.\n",
        "\n",
        "The relation lies in between [-1, 1]\n",
        "\n",
        "**NOTES:**\n",
        "- +1 indicates a perfect positive linear relationship: as one variable increases, the other also increases in a perfectly predictable way.\n",
        "- -1 indicates a perfect negative linear relationship: as one variable increases, the other decreases in a perfectly predictable way.\n",
        "- 0 indicates no linear relationship: changes in one variable do not predict changes in the other.\n",
        "\n",
        "\n",
        "\n",
        "[Documentation](https://numpy.org/doc/stable/reference/generated/numpy.corrcoef.html)"
      ],
      "metadata": {
        "id": "CZ_ofQr4yQbZ"
      }
    },
    {
      "cell_type": "code",
      "source": [
        "salary = np.array([20000,40000,25000,35000,60000])\n",
        "experience = np.array([1,3,2,4,2])"
      ],
      "metadata": {
        "id": "40kBwlmqrkWr"
      },
      "execution_count": 63,
      "outputs": []
    },
    {
      "cell_type": "code",
      "source": [
        "print(np.corrcoef(salary,experience))"
      ],
      "metadata": {
        "colab": {
          "base_uri": "https://localhost:8080/"
        },
        "id": "wGoJrgScygZ-",
        "outputId": "85f70200-5caa-47cc-ff99-7582d9c1e837"
      },
      "execution_count": 64,
      "outputs": [
        {
          "output_type": "stream",
          "name": "stdout",
          "text": [
            "[[1.         0.25344572]\n",
            " [0.25344572 1.        ]]\n"
          ]
        }
      ]
    },
    {
      "cell_type": "markdown",
      "source": [
        "Some more functions try to learn yourself:\n",
        "- `np.swapaxes`\n",
        "- `np.count_nonzero`\n",
        "- `np.uniform`\n",
        "- `np.tile`\n",
        "- `np.repeat`\n",
        "- `np.allclose`\n",
        "- `np.equals`"
      ],
      "metadata": {
        "id": "OrtOYq5j2hKK"
      }
    }
  ]
}