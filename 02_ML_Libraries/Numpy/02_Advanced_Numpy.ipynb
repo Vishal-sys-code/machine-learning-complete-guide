{
  "nbformat": 4,
  "nbformat_minor": 0,
  "metadata": {
    "colab": {
      "provenance": []
    },
    "kernelspec": {
      "name": "python3",
      "display_name": "Python 3"
    },
    "language_info": {
      "name": "python"
    }
  },
  "cells": [
    {
      "cell_type": "markdown",
      "source": [
        "# **Table of Contents**\n",
        "* Numpy Array vs Python Lists\n",
        "* Advanced Indexing\n",
        "* Fancy Indexing\n",
        "* Boolean Indexing\n",
        "* Broadcasting\n",
        "* Broadcasting Rules\n",
        "* Broadcasting Examples\n",
        "* Mathematical Operations in Numpy\n",
        "* Sigmoid in Numpy\n",
        "* Mean Squared Error in Numpy\n",
        "* Working with missing values\n",
        "* Plotting Graphs\n"
      ],
      "metadata": {
        "id": "E-RWlCBNsDXF"
      }
    },
    {
      "cell_type": "markdown",
      "source": [
        "# **Advanced Numpy**"
      ],
      "metadata": {
        "id": "IkC5VGTZr0r0"
      }
    },
    {
      "cell_type": "code",
      "source": [
        "import numpy as np"
      ],
      "metadata": {
        "id": "zRZDR_hPvh9W"
      },
      "execution_count": 3,
      "outputs": []
    },
    {
      "cell_type": "markdown",
      "source": [
        "<div align = \"center\">\n",
        "  <h1><b> Chapter 1:</b> Numpy Array vs Python Lists</h1>\n",
        "</div>"
      ],
      "metadata": {
        "id": "OJktSexvtNYm"
      }
    },
    {
      "cell_type": "markdown",
      "source": [
        "## ***Speed***"
      ],
      "metadata": {
        "id": "Z8o9hwVsu41I"
      }
    },
    {
      "cell_type": "code",
      "execution_count": 4,
      "metadata": {
        "colab": {
          "base_uri": "https://localhost:8080/"
        },
        "id": "FAAR8MC7rl1W",
        "outputId": "a9c4b991-0310-4ab5-a5df-3a92e5ba5402"
      },
      "outputs": [
        {
          "output_type": "stream",
          "name": "stdout",
          "text": [
            "Time taken by the Python Lists is:  3.504951238632202\n",
            "Time taken by the Numpy is:  0.033449649810791016\n",
            "Numpy is Faster...\n"
          ]
        }
      ],
      "source": [
        "import time\n",
        "# Working in Lists\n",
        "a = [i for i in range(10000000)]\n",
        "b = [i for i in range(10000000, 20000000)]\n",
        "c = []\n",
        "start_list = time.time()\n",
        "for i in range(len(a)):\n",
        "  c.append(a[i] + b[i])\n",
        "end_list = time.time() - start_list\n",
        "print(\"Time taken by the Python Lists is: \", end_list)\n",
        "\n",
        "# Working in Numpy\n",
        "np_a = np.arange(10000000)\n",
        "np_b = np.arange(10000000, 20000000)\n",
        "start_numpy = time.time()\n",
        "c = np_a + np_b\n",
        "end_numpy = time.time() - start_numpy\n",
        "print(\"Time taken by the Numpy is: \", end_numpy)\n",
        "\n",
        "if(end_numpy < end_list):\n",
        "  print(\"Numpy is Faster...\")\n",
        "else:\n",
        "  print(\"List is Faster....\")"
      ]
    },
    {
      "cell_type": "markdown",
      "source": [
        "## ***Memory***"
      ],
      "metadata": {
        "id": "qIgVTU7uwjad"
      }
    },
    {
      "cell_type": "code",
      "source": [
        "import sys\n",
        "a = [i for i in range(10000000)]\n",
        "print(\"Space Occupying by Lists (in bytes): \", sys.getsizeof(a))\n",
        "np_a = np.arange(10000000)\n",
        "print(\"Space Occupying by Numpy (in bytes): \", sys.getsizeof(np_a))\n",
        "np_b = np.arange(10000000, dtype = np.int32)\n",
        "print(\"Space Occupying by Numpy (in bytes): \", sys.getsizeof(np_b))\n",
        "np_c = np.arange(10000000, dtype = np.int16)\n",
        "print(\"Space Occupying by Numpy (in bytes): \", sys.getsizeof(np_c))\n",
        "np_d = np.arange(10000000, dtype = np.int8)\n",
        "print(\"Space Occupying by Numpy (in bytes): \", sys.getsizeof(np_d))"
      ],
      "metadata": {
        "colab": {
          "base_uri": "https://localhost:8080/"
        },
        "id": "JsLeIRE2uyoV",
        "outputId": "2d019bac-dec5-42ca-d769-df55d4ac158c"
      },
      "execution_count": 9,
      "outputs": [
        {
          "output_type": "stream",
          "name": "stdout",
          "text": [
            "Space Occupying by Lists (in bytes):  89095160\n",
            "Space Occupying by Numpy (in bytes):  80000112\n",
            "Space Occupying by Numpy (in bytes):  40000112\n",
            "Space Occupying by Numpy (in bytes):  20000112\n",
            "Space Occupying by Numpy (in bytes):  10000112\n"
          ]
        }
      ]
    },
    {
      "cell_type": "markdown",
      "source": [
        "<div align = \"center\">\n",
        "  <h1><b> Chapter 2:</b> Advance Indexing</h1>\n",
        "</div>"
      ],
      "metadata": {
        "id": "oG6YqrDXtSBS"
      }
    },
    {
      "cell_type": "code",
      "source": [
        "a = np.arange(12).reshape(4, 3)\n",
        "print(a)"
      ],
      "metadata": {
        "colab": {
          "base_uri": "https://localhost:8080/"
        },
        "id": "LZ8IDV1Xx0WS",
        "outputId": "ecb38970-e692-4ede-afcf-86b45d1b1e41"
      },
      "execution_count": 10,
      "outputs": [
        {
          "output_type": "stream",
          "name": "stdout",
          "text": [
            "[[ 0  1  2]\n",
            " [ 3  4  5]\n",
            " [ 6  7  8]\n",
            " [ 9 10 11]]\n"
          ]
        }
      ]
    },
    {
      "cell_type": "code",
      "source": [
        "print(a[1,2])\n",
        "print(a[1:3, 1:3])"
      ],
      "metadata": {
        "colab": {
          "base_uri": "https://localhost:8080/"
        },
        "id": "5AT2maA-yE2X",
        "outputId": "a088cf18-974e-4b52-f432-84f5c255676f"
      },
      "execution_count": 12,
      "outputs": [
        {
          "output_type": "stream",
          "name": "stdout",
          "text": [
            "5\n",
            "[[4 5]\n",
            " [7 8]]\n"
          ]
        }
      ]
    },
    {
      "cell_type": "markdown",
      "source": [
        "<div align = \"center\">\n",
        "  <h1><b> Chapter 3:</b> Fancy Indexing</h1>\n",
        "</div>"
      ],
      "metadata": {
        "id": "tSr85MQbyUbq"
      }
    },
    {
      "cell_type": "markdown",
      "source": [
        "**Generalised way:**\n",
        "```\n",
        "For Only Rows:\n",
        "(array[[index_value_to_extract_row]])\n",
        "\n",
        "For Both Rows and Columns:\n",
        "(array[[index_value_to_extract_row, index_value_to_extract_columns]])\n",
        "```"
      ],
      "metadata": {
        "id": "9lQ0UpP8zE3U"
      }
    },
    {
      "cell_type": "code",
      "source": [
        "print(\"Original Array:\")\n",
        "print(a)"
      ],
      "metadata": {
        "colab": {
          "base_uri": "https://localhost:8080/"
        },
        "id": "2FKN9nVzyZwJ",
        "outputId": "a2e5730e-f40c-4276-bbad-8ad630086311"
      },
      "execution_count": 13,
      "outputs": [
        {
          "output_type": "stream",
          "name": "stdout",
          "text": [
            "Original Array:\n",
            "[[ 0  1  2]\n",
            " [ 3  4  5]\n",
            " [ 6  7  8]\n",
            " [ 9 10 11]]\n"
          ]
        }
      ]
    },
    {
      "cell_type": "code",
      "source": [
        "print(\"Extract: 1st row, 3rd row and 4th row\")\n",
        "print(a[[0,2,3]])"
      ],
      "metadata": {
        "colab": {
          "base_uri": "https://localhost:8080/"
        },
        "id": "YDtT-xcMyZsQ",
        "outputId": "b30850cf-089f-423b-996f-374ecd6b4042"
      },
      "execution_count": 14,
      "outputs": [
        {
          "output_type": "stream",
          "name": "stdout",
          "text": [
            "Extract: 1st row, 3rd row and 4th row\n",
            "[[ 0  1  2]\n",
            " [ 6  7  8]\n",
            " [ 9 10 11]]\n"
          ]
        }
      ]
    },
    {
      "cell_type": "code",
      "source": [
        "a1 = np.arange(24).reshape(6, 4)\n",
        "print(\"New Array: \")\n",
        "print(a1)"
      ],
      "metadata": {
        "colab": {
          "base_uri": "https://localhost:8080/"
        },
        "id": "bIA3jeYpyZoe",
        "outputId": "27a41469-36bf-493b-d5be-148b11b89b50"
      },
      "execution_count": 15,
      "outputs": [
        {
          "output_type": "stream",
          "name": "stdout",
          "text": [
            "New Array: \n",
            "[[ 0  1  2  3]\n",
            " [ 4  5  6  7]\n",
            " [ 8  9 10 11]\n",
            " [12 13 14 15]\n",
            " [16 17 18 19]\n",
            " [20 21 22 23]]\n"
          ]
        }
      ]
    },
    {
      "cell_type": "code",
      "source": [
        "print(\"Extract: 1st row, 3rd row, 4th row and 6th row: \")\n",
        "print(a1[[0, 2, 3, 5]])\n",
        "print()\n",
        "print(\"Extract: 1st Column, 2nd Column and 3rd Column: \")\n",
        "print(a1[:, [0, 2, 3]])"
      ],
      "metadata": {
        "colab": {
          "base_uri": "https://localhost:8080/"
        },
        "id": "oOYKCHphyZkx",
        "outputId": "a25e9b20-a2d4-4b01-a8f2-c2c5f0ba802b"
      },
      "execution_count": 17,
      "outputs": [
        {
          "output_type": "stream",
          "name": "stdout",
          "text": [
            "Extract: 1st row, 3rd row, 4th row and 6th row: \n",
            "[[ 0  1  2  3]\n",
            " [ 8  9 10 11]\n",
            " [12 13 14 15]\n",
            " [20 21 22 23]]\n",
            "\n",
            "Extract: 1st Column, 2nd Column and 3rd Column: \n",
            "[[ 0  2  3]\n",
            " [ 4  6  7]\n",
            " [ 8 10 11]\n",
            " [12 14 15]\n",
            " [16 18 19]\n",
            " [20 22 23]]\n"
          ]
        }
      ]
    },
    {
      "cell_type": "markdown",
      "source": [
        "<div align = \"center\">\n",
        "  <h1><b> Chapter 4:</b> Boolean Indexing</h1>\n",
        "</div>"
      ],
      "metadata": {
        "id": "jliRP9RsuFWo"
      }
    },
    {
      "cell_type": "markdown",
      "source": [
        "Boolean indexing in NumPy uses a Boolean array to select elements from an array that meet a certain condition. The Boolean array is a binary mask that indicates whether each element in the array should be selected or not."
      ],
      "metadata": {
        "id": "itpeZ6iO15HW"
      }
    },
    {
      "cell_type": "code",
      "source": [
        "a = np.random.randint(1, 100, 24).reshape(6, 4)\n",
        "print(\"Original Array: \")\n",
        "print(a)"
      ],
      "metadata": {
        "colab": {
          "base_uri": "https://localhost:8080/"
        },
        "id": "80LXB0Ih1Xny",
        "outputId": "947972b1-a9e8-47e4-cb4c-c6b92e43dbe9"
      },
      "execution_count": 18,
      "outputs": [
        {
          "output_type": "stream",
          "name": "stdout",
          "text": [
            "Original Array: \n",
            "[[82 14 21 29]\n",
            " [38 42 23 58]\n",
            " [38 79 10 18]\n",
            " [57 33 88 78]\n",
            " [64 19 54 29]\n",
            " [48 41 32 68]]\n"
          ]
        }
      ]
    },
    {
      "cell_type": "code",
      "source": [
        "# Find all Numbers greater than 50\n",
        "print(\"Boolean Array: \")\n",
        "print(a > 50)\n",
        "print()\n",
        "print(\"Masking Array: \")\n",
        "print(a[a > 50])"
      ],
      "metadata": {
        "colab": {
          "base_uri": "https://localhost:8080/"
        },
        "id": "B0Fa02z_1nD4",
        "outputId": "088575c5-3b3d-4041-d61a-f23c04f4ded4"
      },
      "execution_count": 21,
      "outputs": [
        {
          "output_type": "stream",
          "name": "stdout",
          "text": [
            "Boolean Array: \n",
            "[[ True False False False]\n",
            " [False False False  True]\n",
            " [False  True False False]\n",
            " [ True False  True  True]\n",
            " [ True False  True False]\n",
            " [False False False  True]]\n",
            "\n",
            "Masking Array: \n",
            "[82 58 79 57 88 78 64 54 68]\n"
          ]
        }
      ]
    },
    {
      "cell_type": "code",
      "source": [
        "# Find all numbers greater than 50 and are even\n",
        "print(\"Boolean Array:\")\n",
        "print((a > 50) & (a % 2 == 0))\n",
        "print(\"Masking Array:\")\n",
        "print(a[(a > 50) & (a % 2 == 0)])"
      ],
      "metadata": {
        "colab": {
          "base_uri": "https://localhost:8080/"
        },
        "id": "gwMflK1Q1m8m",
        "outputId": "bd3feca0-8d3a-4cb9-eb90-d609f82719a4"
      },
      "execution_count": 26,
      "outputs": [
        {
          "output_type": "stream",
          "name": "stdout",
          "text": [
            "Boolean Array:\n",
            "[[ True False False False]\n",
            " [False False False  True]\n",
            " [False False False False]\n",
            " [False False  True  True]\n",
            " [ True False  True False]\n",
            " [False False False  True]]\n",
            "Masking Array:\n",
            "[82 58 88 78 64 54 68]\n"
          ]
        }
      ]
    },
    {
      "cell_type": "code",
      "source": [
        "# Find all numbers not divisible by 7\n",
        "print(\"Boolean Array: \")\n",
        "print(a % 7 != 0)\n",
        "print(\"Masking Array: \")\n",
        "print(a[a % 7 != 0])"
      ],
      "metadata": {
        "colab": {
          "base_uri": "https://localhost:8080/"
        },
        "id": "KXBQM6py1m3N",
        "outputId": "6d8a6cc2-d91c-4ac8-9b55-0adea99e21bc"
      },
      "execution_count": 28,
      "outputs": [
        {
          "output_type": "stream",
          "name": "stdout",
          "text": [
            "Boolean Array: \n",
            "[[ True False False  True]\n",
            " [ True False  True  True]\n",
            " [ True  True  True  True]\n",
            " [ True  True  True  True]\n",
            " [ True  True  True  True]\n",
            " [ True  True  True  True]]\n",
            "Masking Array: \n",
            "[82 29 38 23 58 38 79 10 18 57 33 88 78 64 19 54 29 48 41 32 68]\n"
          ]
        }
      ]
    },
    {
      "cell_type": "markdown",
      "source": [
        "<div align = \"center\">\n",
        "  <h1><b> Chapter 5:</b> Broadcasting</h1>\n",
        "</div>\n",
        "\n",
        "The term broadcasting describes how Numpy treats arrays with different shapes during arithmetic operations.\n",
        "\n",
        "The smaller array is \"broadcast\" across the larger array so that they have compatible shapes."
      ],
      "metadata": {
        "id": "jCewdEqouHja"
      }
    },
    {
      "cell_type": "code",
      "source": [
        "# Same Shape\n",
        "a = np.arange(6).reshape(2,3)\n",
        "b = np.arange(6, 12).reshape(2,3)\n",
        "print(\"Array A:\")\n",
        "print(a)\n",
        "print()\n",
        "print(\"Array B:\")\n",
        "print(b)\n",
        "print()\n",
        "print(\"Array A + Array B\")\n",
        "print(a + b)"
      ],
      "metadata": {
        "colab": {
          "base_uri": "https://localhost:8080/"
        },
        "id": "9fetYDbr3h3m",
        "outputId": "c041daa7-4d9b-4d8b-aaa4-1a35057e1b0e"
      },
      "execution_count": 30,
      "outputs": [
        {
          "output_type": "stream",
          "name": "stdout",
          "text": [
            "Array A:\n",
            "[[0 1 2]\n",
            " [3 4 5]]\n",
            "\n",
            "Array B:\n",
            "[[ 6  7  8]\n",
            " [ 9 10 11]]\n",
            "\n",
            "Array A + Array B\n",
            "[[ 6  8 10]\n",
            " [12 14 16]]\n"
          ]
        }
      ]
    },
    {
      "cell_type": "code",
      "source": [
        "# Different Shape\n",
        "a = np.arange(6).reshape(2,3)\n",
        "b = np.arange(3).reshape(1,3)\n",
        "print(\"Array A:\")\n",
        "print(a)\n",
        "print()\n",
        "print(\"Array B:\")\n",
        "print(b)\n",
        "print()\n",
        "print(\"Array A + Array B\")\n",
        "print(a + b)"
      ],
      "metadata": {
        "colab": {
          "base_uri": "https://localhost:8080/"
        },
        "id": "CbpN4T474Hh8",
        "outputId": "ef9c45f6-7ae2-4a46-f7e6-248274bc6c43"
      },
      "execution_count": 31,
      "outputs": [
        {
          "output_type": "stream",
          "name": "stdout",
          "text": [
            "Array A:\n",
            "[[0 1 2]\n",
            " [3 4 5]]\n",
            "\n",
            "Array B:\n",
            "[[0 1 2]]\n",
            "\n",
            "Array A + Array B\n",
            "[[0 2 4]\n",
            " [3 5 7]]\n"
          ]
        }
      ]
    },
    {
      "cell_type": "markdown",
      "source": [
        "<div align = \"center\">\n",
        "  <h1><b> Chapter 6:</b> Broadcasting Rules</h1>\n",
        "</div>"
      ],
      "metadata": {
        "id": "Z1ZPW1OouMUN"
      }
    },
    {
      "cell_type": "markdown",
      "source": [
        "**1. Make the two arrays have the same number of dimensions.**<br>\n",
        "- If the numbers of dimensions of the two arrays are different, add new dimensions with size 1 to the head of the array with the smaller dimension.<br>\n",
        "\n",
        "**2. Make each dimension of the two arrays the same size.**<br>\n",
        "- If the sizes of each dimension of the two arrays do not match, dimensions with size 1 are stretched to the size of the other array.\n",
        "- If there is a dimension whose size is not 1 in either of the two arrays, it cannot be broadcasted, and an error is raised.\n",
        "\n",
        "<img src = \"https://jakevdp.github.io/PythonDataScienceHandbook/figures/02.05-broadcasting.png\">"
      ],
      "metadata": {
        "id": "DOPPBiY14-3l"
      }
    },
    {
      "cell_type": "markdown",
      "source": [
        "<div align = \"center\">\n",
        "  <h1><b> Chapter 7:</b> Broadcasting Examples</h1>\n",
        "</div>"
      ],
      "metadata": {
        "id": "N_8kxwmMuRiW"
      }
    },
    {
      "cell_type": "code",
      "source": [
        "# Example - 1\n",
        "a = np.arange(12).reshape(4, 3)\n",
        "b = np.arange(3)\n",
        "print(\"Array A: \")\n",
        "print(a)\n",
        "print()\n",
        "print(\"Array B: \")\n",
        "print(b)\n",
        "print()\n",
        "\n",
        "# Original Array => 2D Array => Streching\n",
        "# (4, 3) and (3) => (4, 3) and (1, 3) => (4, 3) and (4, 3) => Internally happening in Numpy\n",
        "print(\"Array A + Array B: \")\n",
        "print(a + b)"
      ],
      "metadata": {
        "colab": {
          "base_uri": "https://localhost:8080/"
        },
        "id": "VWT3IrFv5KN0",
        "outputId": "1f03fff7-2135-40a0-8d57-411443ee6c4f"
      },
      "execution_count": 36,
      "outputs": [
        {
          "output_type": "stream",
          "name": "stdout",
          "text": [
            "Array A: \n",
            "[[ 0  1  2]\n",
            " [ 3  4  5]\n",
            " [ 6  7  8]\n",
            " [ 9 10 11]]\n",
            "\n",
            "Array B: \n",
            "[0 1 2]\n",
            "\n",
            "Array A + Array B: \n",
            "[[ 0  2  4]\n",
            " [ 3  5  7]\n",
            " [ 6  8 10]\n",
            " [ 9 11 13]]\n"
          ]
        }
      ]
    },
    {
      "cell_type": "code",
      "source": [
        "# Example - 2\n",
        "a = np.arange(12).reshape(3, 4)\n",
        "b = np.arange(3)\n",
        "print(\"Array A: \")\n",
        "print(a)\n",
        "print()\n",
        "print(\"Array B: \")\n",
        "print(b)\n",
        "print()\n",
        "# (3,4) and (3) => (3, 4) and (1, 3) => (3, 4) and (3, 3) => No operation will perform\n",
        "# (3, 4) and (3, 3) : Not same shape\n",
        "print(\"Array A + Array B: \")\n",
        "print(a + b)"
      ],
      "metadata": {
        "colab": {
          "base_uri": "https://localhost:8080/",
          "height": 347
        },
        "id": "CRDdctcR6zmt",
        "outputId": "04503424-da6e-4518-83e1-b4d8bd947192"
      },
      "execution_count": 39,
      "outputs": [
        {
          "output_type": "stream",
          "name": "stdout",
          "text": [
            "Array A: \n",
            "[[ 0  1  2  3]\n",
            " [ 4  5  6  7]\n",
            " [ 8  9 10 11]]\n",
            "\n",
            "Array B: \n",
            "[0 1 2]\n",
            "\n",
            "Array A + Array B: \n"
          ]
        },
        {
          "output_type": "error",
          "ename": "ValueError",
          "evalue": "operands could not be broadcast together with shapes (3,4) (3,) ",
          "traceback": [
            "\u001b[0;31m---------------------------------------------------------------------------\u001b[0m",
            "\u001b[0;31mValueError\u001b[0m                                Traceback (most recent call last)",
            "\u001b[0;32m<ipython-input-39-f124ee53bb38>\u001b[0m in \u001b[0;36m<cell line: 0>\u001b[0;34m()\u001b[0m\n\u001b[1;32m     11\u001b[0m \u001b[0;31m# (3, 4) and (3, 3) : Not same shape\u001b[0m\u001b[0;34m\u001b[0m\u001b[0;34m\u001b[0m\u001b[0m\n\u001b[1;32m     12\u001b[0m \u001b[0mprint\u001b[0m\u001b[0;34m(\u001b[0m\u001b[0;34m\"Array A + Array B: \"\u001b[0m\u001b[0;34m)\u001b[0m\u001b[0;34m\u001b[0m\u001b[0;34m\u001b[0m\u001b[0m\n\u001b[0;32m---> 13\u001b[0;31m \u001b[0mprint\u001b[0m\u001b[0;34m(\u001b[0m\u001b[0ma\u001b[0m \u001b[0;34m+\u001b[0m \u001b[0mb\u001b[0m\u001b[0;34m)\u001b[0m\u001b[0;34m\u001b[0m\u001b[0;34m\u001b[0m\u001b[0m\n\u001b[0m",
            "\u001b[0;31mValueError\u001b[0m: operands could not be broadcast together with shapes (3,4) (3,) "
          ]
        }
      ]
    },
    {
      "cell_type": "code",
      "source": [
        "# Example - 3\n",
        "a = np.arange(3).reshape(1,3)\n",
        "b = np.arange(3).reshape(3,1)\n",
        "print(\"Array A: \")\n",
        "print(a)\n",
        "print()\n",
        "print(\"Array B: \")\n",
        "print(b)\n",
        "print()\n",
        "# Streching the 1 to 3\n",
        "# (1, 3) and (3, 1) => (3, 3) and (3, 3) => Same Shape => Yes to any Operation\n",
        "print(\"Array A + Array B: \")\n",
        "print(a + b)"
      ],
      "metadata": {
        "colab": {
          "base_uri": "https://localhost:8080/"
        },
        "id": "ontAody57RFC",
        "outputId": "4df51ad3-c0f2-4a45-f688-7fbc348c559f"
      },
      "execution_count": 42,
      "outputs": [
        {
          "output_type": "stream",
          "name": "stdout",
          "text": [
            "Array A: \n",
            "[[0 1 2]]\n",
            "\n",
            "Array B: \n",
            "[[0]\n",
            " [1]\n",
            " [2]]\n",
            "\n",
            "Array A + Array B: \n",
            "[[0 1 2]\n",
            " [1 2 3]\n",
            " [2 3 4]]\n"
          ]
        }
      ]
    },
    {
      "cell_type": "code",
      "source": [
        "# Example - 3\n",
        "a = np.arange(3).reshape(1,3)\n",
        "b = np.arange(4).reshape(4,1)\n",
        "print(\"Array A: \")\n",
        "print(a)\n",
        "print()\n",
        "print(\"Array B: \")\n",
        "print(b)\n",
        "print()\n",
        "# (1,3) and (4,1) => (4, 3) and (4, 3) => Streching 1 to making at same shape level\n",
        "print(\"Result: \")\n",
        "print(a + b)"
      ],
      "metadata": {
        "colab": {
          "base_uri": "https://localhost:8080/"
        },
        "id": "gq2J17Hd7vwI",
        "outputId": "69c4402a-2b6a-4b13-eadd-f80a790f01cc"
      },
      "execution_count": 44,
      "outputs": [
        {
          "output_type": "stream",
          "name": "stdout",
          "text": [
            "Array A: \n",
            "[[0 1 2]]\n",
            "\n",
            "Array B: \n",
            "[[0]\n",
            " [1]\n",
            " [2]\n",
            " [3]]\n",
            "\n",
            "Result: \n",
            "[[0 1 2]\n",
            " [1 2 3]\n",
            " [2 3 4]\n",
            " [3 4 5]]\n"
          ]
        }
      ]
    },
    {
      "cell_type": "code",
      "source": [
        "# Example - 4\n",
        "a = np.array([1]) # (1, 1)\n",
        "b = np.arange(4).reshape(2, 2) # (2, 2)\n",
        "print(\"Array A: \")\n",
        "print(a)\n",
        "print()\n",
        "print(\"Array B: \")\n",
        "print(b)\n",
        "print()\n",
        "print(\"Array A + Array B: \")\n",
        "print(a + b)"
      ],
      "metadata": {
        "colab": {
          "base_uri": "https://localhost:8080/"
        },
        "id": "eJHtlzLx8NzP",
        "outputId": "6d58fd17-79f7-4334-94fe-d817a83ff91e"
      },
      "execution_count": 45,
      "outputs": [
        {
          "output_type": "stream",
          "name": "stdout",
          "text": [
            "Array A: \n",
            "[1]\n",
            "\n",
            "Array B: \n",
            "[[0 1]\n",
            " [2 3]]\n",
            "\n",
            "Array A + Array B: \n",
            "[[1 2]\n",
            " [3 4]]\n"
          ]
        }
      ]
    },
    {
      "cell_type": "code",
      "source": [
        "# Example - 5\n",
        "a = np.arange(12).reshape(3,4)\n",
        "b = np.arange(12).reshape(4,3)\n",
        "print(\"Array A: \")\n",
        "print(a)\n",
        "print()\n",
        "print(\"Array B: \")\n",
        "print(b)\n",
        "print()\n",
        "print(\"Array A + Array B: \")\n",
        "print(a + b) # Can't Broadcast"
      ],
      "metadata": {
        "colab": {
          "base_uri": "https://localhost:8080/",
          "height": 402
        },
        "id": "QABQy43h8i3n",
        "outputId": "3d78be30-97ac-4bcb-9fdd-de652fa39d66"
      },
      "execution_count": 47,
      "outputs": [
        {
          "output_type": "stream",
          "name": "stdout",
          "text": [
            "Array A: \n",
            "[[ 0  1  2  3]\n",
            " [ 4  5  6  7]\n",
            " [ 8  9 10 11]]\n",
            "\n",
            "Array B: \n",
            "[[ 0  1  2]\n",
            " [ 3  4  5]\n",
            " [ 6  7  8]\n",
            " [ 9 10 11]]\n",
            "\n",
            "Array A + Array B: \n"
          ]
        },
        {
          "output_type": "error",
          "ename": "ValueError",
          "evalue": "operands could not be broadcast together with shapes (3,4) (4,3) ",
          "traceback": [
            "\u001b[0;31m---------------------------------------------------------------------------\u001b[0m",
            "\u001b[0;31mValueError\u001b[0m                                Traceback (most recent call last)",
            "\u001b[0;32m<ipython-input-47-cf4dc40535de>\u001b[0m in \u001b[0;36m<cell line: 0>\u001b[0;34m()\u001b[0m\n\u001b[1;32m      8\u001b[0m \u001b[0mprint\u001b[0m\u001b[0;34m(\u001b[0m\u001b[0;34m)\u001b[0m\u001b[0;34m\u001b[0m\u001b[0;34m\u001b[0m\u001b[0m\n\u001b[1;32m      9\u001b[0m \u001b[0mprint\u001b[0m\u001b[0;34m(\u001b[0m\u001b[0;34m\"Array A + Array B: \"\u001b[0m\u001b[0;34m)\u001b[0m\u001b[0;34m\u001b[0m\u001b[0;34m\u001b[0m\u001b[0m\n\u001b[0;32m---> 10\u001b[0;31m \u001b[0mprint\u001b[0m\u001b[0;34m(\u001b[0m\u001b[0ma\u001b[0m \u001b[0;34m+\u001b[0m \u001b[0mb\u001b[0m\u001b[0;34m)\u001b[0m \u001b[0;31m# Can't Broadcast\u001b[0m\u001b[0;34m\u001b[0m\u001b[0;34m\u001b[0m\u001b[0m\n\u001b[0m",
            "\u001b[0;31mValueError\u001b[0m: operands could not be broadcast together with shapes (3,4) (4,3) "
          ]
        }
      ]
    },
    {
      "cell_type": "code",
      "source": [
        "# Example - 6\n",
        "a = np.arange(16).reshape(4,4)\n",
        "b = np.arange(4).reshape(2,2)\n",
        "print(\"Array A: \")\n",
        "print(a)\n",
        "print()\n",
        "print(\"Array B: \")\n",
        "print(b)\n",
        "print()\n",
        "print(\"Array A + Array B: \")\n",
        "print(a + b)\n",
        "# Not in the same shape, because there is no 1, and hence nothing to stretch"
      ],
      "metadata": {
        "colab": {
          "base_uri": "https://localhost:8080/",
          "height": 383
        },
        "id": "adadwWV88iy6",
        "outputId": "3c8266f4-2cb7-4d69-e1db-b17c84fc7ff3"
      },
      "execution_count": 49,
      "outputs": [
        {
          "output_type": "stream",
          "name": "stdout",
          "text": [
            "Array A: \n",
            "[[ 0  1  2  3]\n",
            " [ 4  5  6  7]\n",
            " [ 8  9 10 11]\n",
            " [12 13 14 15]]\n",
            "\n",
            "Array B: \n",
            "[[0 1]\n",
            " [2 3]]\n",
            "\n",
            "Array A + Array B: \n"
          ]
        },
        {
          "output_type": "error",
          "ename": "ValueError",
          "evalue": "operands could not be broadcast together with shapes (4,4) (2,2) ",
          "traceback": [
            "\u001b[0;31m---------------------------------------------------------------------------\u001b[0m",
            "\u001b[0;31mValueError\u001b[0m                                Traceback (most recent call last)",
            "\u001b[0;32m<ipython-input-49-d7e636df1795>\u001b[0m in \u001b[0;36m<cell line: 0>\u001b[0;34m()\u001b[0m\n\u001b[1;32m      8\u001b[0m \u001b[0mprint\u001b[0m\u001b[0;34m(\u001b[0m\u001b[0;34m)\u001b[0m\u001b[0;34m\u001b[0m\u001b[0;34m\u001b[0m\u001b[0m\n\u001b[1;32m      9\u001b[0m \u001b[0mprint\u001b[0m\u001b[0;34m(\u001b[0m\u001b[0;34m\"Array A + Array B: \"\u001b[0m\u001b[0;34m)\u001b[0m\u001b[0;34m\u001b[0m\u001b[0;34m\u001b[0m\u001b[0m\n\u001b[0;32m---> 10\u001b[0;31m \u001b[0mprint\u001b[0m\u001b[0;34m(\u001b[0m\u001b[0ma\u001b[0m \u001b[0;34m+\u001b[0m \u001b[0mb\u001b[0m\u001b[0;34m)\u001b[0m \u001b[0;31m# Not in the same shape\u001b[0m\u001b[0;34m\u001b[0m\u001b[0;34m\u001b[0m\u001b[0m\n\u001b[0m",
            "\u001b[0;31mValueError\u001b[0m: operands could not be broadcast together with shapes (4,4) (2,2) "
          ]
        }
      ]
    },
    {
      "cell_type": "markdown",
      "source": [
        "<div align = \"center\">\n",
        "  <h1><b> Chapter 8:</b> Mathematical Operations in NumPy</h1>\n",
        "</div>"
      ],
      "metadata": {
        "id": "NgYlz7SouTr4"
      }
    },
    {
      "cell_type": "code",
      "source": [
        "a = np.arange(10)\n",
        "print(\"Array: \")\n",
        "print(a)\n",
        "print()\n",
        "print(\"Summation of whole array: \", np.sum(a))\n",
        "print()\n",
        "print(\"Calculating sine value of each element: \")\n",
        "print(np.sin(a))"
      ],
      "metadata": {
        "colab": {
          "base_uri": "https://localhost:8080/"
        },
        "id": "6hv4JnK8JcpM",
        "outputId": "b4918f83-6e0c-47d6-c503-0972465714e2"
      },
      "execution_count": 52,
      "outputs": [
        {
          "output_type": "stream",
          "name": "stdout",
          "text": [
            "Array: \n",
            "[0 1 2 3 4 5 6 7 8 9]\n",
            "\n",
            "Summation of whole array:  45\n",
            "\n",
            "Calculating sine value of each element: \n",
            "[ 0.          0.84147098  0.90929743  0.14112001 -0.7568025  -0.95892427\n",
            " -0.2794155   0.6569866   0.98935825  0.41211849]\n"
          ]
        }
      ]
    },
    {
      "cell_type": "markdown",
      "source": [
        "<div align = \"center\">\n",
        "  <h1><b> Chapter 9:</b> Sigmoid in NumPy</h1>\n",
        "</div>\n",
        "\n",
        "\n",
        "**Formula of Sigmoid:**\n",
        "\n",
        "$$\n",
        "\\sigma(x) = \\frac{1}{1 + e^{-x}}\n",
        "$$"
      ],
      "metadata": {
        "id": "gPl3khqMuVoE"
      }
    },
    {
      "cell_type": "code",
      "source": [
        "def sigmoid(array):\n",
        "  return 1 / (1 + np.exp(-array))\n",
        "\n",
        "a = np.arange(10)\n",
        "print(\"Sigmoid of each element of an array: \")\n",
        "print(sigmoid(a))"
      ],
      "metadata": {
        "colab": {
          "base_uri": "https://localhost:8080/"
        },
        "id": "Tja7iYQnKAuH",
        "outputId": "5e6d45ef-8068-4f27-d89d-1c23fde69fdd"
      },
      "execution_count": 53,
      "outputs": [
        {
          "output_type": "stream",
          "name": "stdout",
          "text": [
            "Sigmoid of each element of an array: \n",
            "[0.5        0.73105858 0.88079708 0.95257413 0.98201379 0.99330715\n",
            " 0.99752738 0.99908895 0.99966465 0.99987661]\n"
          ]
        }
      ]
    },
    {
      "cell_type": "markdown",
      "source": [
        "<div align = \"center\">\n",
        "  <h1><b> Chapter 10:</b> Mean Squared error in NumPy</h1>\n",
        "</div>\n",
        "\n",
        "**Formula of Mean Squared Error:**\n",
        "\n",
        "$$\n",
        "\\text{MSE} = \\frac{1}{n} \\sum_{i=1}^{n} (y_i - \\hat{y}_i)^2\n",
        "$$"
      ],
      "metadata": {
        "id": "Mphmr_KbuX8B"
      }
    },
    {
      "cell_type": "code",
      "source": [
        "actual_value = np.random.randint(1,50,25)\n",
        "predicted_value = np.random.randint(1,50,25)\n",
        "print(\"Actual Values: \")\n",
        "print(actual_value)\n",
        "print()\n",
        "print(\"Predicted Values: \")\n",
        "print(predicted_value)\n",
        "print()\n",
        "# Function of Mean Squared Error\n",
        "def mean_squared_error(y, y_hat):\n",
        "  return np.mean(np.square(y - y_hat))\n",
        "print(\"Mean Squared Error: \", mean_squared_error(actual_value, predicted_value))"
      ],
      "metadata": {
        "colab": {
          "base_uri": "https://localhost:8080/"
        },
        "id": "L97jFnGYK_Qd",
        "outputId": "5c680dd8-702f-4809-d7e5-d65679c7ba43"
      },
      "execution_count": 55,
      "outputs": [
        {
          "output_type": "stream",
          "name": "stdout",
          "text": [
            "Actual Values: \n",
            "[ 1 14 26 17 15 36 21 31 27  8 46 40 10 23 29 27 39 25 35  8 34 20 24 15\n",
            "  3]\n",
            "\n",
            "Predicted Values: \n",
            "[14  7 31 44 37 25 15 13 22 27 30 46  9  1 26 35 41 26 44  5 29 11  4 20\n",
            " 16]\n",
            "\n",
            "Mean Squared Error:  158.72\n"
          ]
        }
      ]
    },
    {
      "cell_type": "markdown",
      "source": [
        "<div align = \"center\">\n",
        "  <h1><b> Chapter 11:</b> Working with Missing Values</h1>\n",
        "</div>\n",
        "\n",
        "```\n",
        "Missing Values => np.nan\n",
        "```"
      ],
      "metadata": {
        "id": "Hhsb1BTOuZn4"
      }
    },
    {
      "cell_type": "code",
      "source": [
        "a = np.array([1,2,3,4,np.nan,6])\n",
        "print(\"Array: \", a)"
      ],
      "metadata": {
        "colab": {
          "base_uri": "https://localhost:8080/"
        },
        "id": "YPeHYdjuMqtE",
        "outputId": "fd19d0b6-8450-4d11-dbf0-1b39b342812e"
      },
      "execution_count": 56,
      "outputs": [
        {
          "output_type": "stream",
          "name": "stdout",
          "text": [
            "Array:  [ 1.  2.  3.  4. nan  6.]\n"
          ]
        }
      ]
    },
    {
      "cell_type": "code",
      "source": [
        "# Removing the missing value : Using Boolean Indexing\n",
        "print(\"Making Boolean Array: \")\n",
        "print(np.isnan(a))\n",
        "print(\"Masking the Array (Values which are not nan): \")\n",
        "print(a[~np.isnan(a)])"
      ],
      "metadata": {
        "colab": {
          "base_uri": "https://localhost:8080/"
        },
        "id": "wxucvp8iNNRP",
        "outputId": "8d6a4ebc-9b90-4d05-c2cc-9414c2974baf"
      },
      "execution_count": 59,
      "outputs": [
        {
          "output_type": "stream",
          "name": "stdout",
          "text": [
            "Making Boolean Array: \n",
            "[False False False False  True False]\n",
            "Masking the Array: \n",
            "[1. 2. 3. 4. 6.]\n"
          ]
        }
      ]
    },
    {
      "cell_type": "markdown",
      "source": [
        "<div align = \"center\">\n",
        "  <h1><b> Chapter 12:</b> Plotting Graphs</h1>\n",
        "</div>"
      ],
      "metadata": {
        "id": "ZycVe6HsubIk"
      }
    },
    {
      "cell_type": "code",
      "source": [
        "import matplotlib.pyplot as plt"
      ],
      "metadata": {
        "id": "HjKfTsrVNwq-"
      },
      "execution_count": 60,
      "outputs": []
    },
    {
      "cell_type": "markdown",
      "source": [
        "Plotting $x = y$ : ***Linear***"
      ],
      "metadata": {
        "id": "CGZ_3mnBN2es"
      }
    },
    {
      "cell_type": "code",
      "source": [
        "x = np.linspace(-10, 10, 100) # 100 numbers in the range of [-10, 10]\n",
        "y = x\n",
        "plt.plot(x, y)\n",
        "plt.show()"
      ],
      "metadata": {
        "colab": {
          "base_uri": "https://localhost:8080/",
          "height": 430
        },
        "id": "rYw3kahWNzIV",
        "outputId": "981f87ee-2a99-4ad3-9285-b02cdeddfddc"
      },
      "execution_count": 62,
      "outputs": [
        {
          "output_type": "display_data",
          "data": {
            "text/plain": [
              "<Figure size 640x480 with 1 Axes>"
            ],
            "image/png": "[encoded data removed]"
          },
          "metadata": {}
        }
      ]
    },
    {
      "cell_type": "markdown",
      "source": [
        "**Plotting $y =x^2$** : ***Parabolic***"
      ],
      "metadata": {
        "id": "niVAlJMGOSX6"
      }
    },
    {
      "cell_type": "code",
      "source": [
        "x = np.linspace(-10, 10, 100) # 100 numbers in the range of [-10, 10]\n",
        "y = x**2\n",
        "plt.plot(x, y)\n",
        "plt.show()"
      ],
      "metadata": {
        "colab": {
          "base_uri": "https://localhost:8080/",
          "height": 430
        },
        "id": "LDagEYTrONAJ",
        "outputId": "785800d4-3d0c-4a9c-becc-7b95c263b376"
      },
      "execution_count": 63,
      "outputs": [
        {
          "output_type": "display_data",
          "data": {
            "text/plain": [
              "<Figure size 640x480 with 1 Axes>"
            ],
            "image/png": "[encoded data removed]"
          },
          "metadata": {}
        }
      ]
    },
    {
      "cell_type": "markdown",
      "source": [
        "**Plotting $y = sin(x)$** : ***Sine Value***"
      ],
      "metadata": {
        "id": "pnw0vkksOl4T"
      }
    },
    {
      "cell_type": "code",
      "source": [
        "x = np.linspace(-10, 10, 100) # 100 numbers in the range of [-10, 10]\n",
        "y = np.sin(x)\n",
        "plt.plot(x, y)\n",
        "plt.show()"
      ],
      "metadata": {
        "colab": {
          "base_uri": "https://localhost:8080/",
          "height": 430
        },
        "id": "1ZARO9s-Ojmc",
        "outputId": "3b11e306-7294-4303-9bde-4705018186b5"
      },
      "execution_count": 65,
      "outputs": [
        {
          "output_type": "display_data",
          "data": {
            "text/plain": [
              "<Figure size 640x480 with 1 Axes>"
            ],
            "image/png": "[encoded data removed]"
          },
          "metadata": {}
        }
      ]
    },
    {
      "cell_type": "markdown",
      "source": [
        "**Plotting $y = log(x)$** : ***Logarithmic***"
      ],
      "metadata": {
        "id": "nozOZL5TOyyP"
      }
    },
    {
      "cell_type": "code",
      "source": [
        "x = np.linspace(-10, 10, 100) # 100 numbers in the range of [-10, 10]\n",
        "y = np.log(x)\n",
        "plt.plot(x, y)\n",
        "plt.show()"
      ],
      "metadata": {
        "colab": {
          "base_uri": "https://localhost:8080/",
          "height": 466
        },
        "id": "B-KcEq3bOruh",
        "outputId": "b2cb3be9-ca21-4342-8206-bfeb3f2001fd"
      },
      "execution_count": 66,
      "outputs": [
        {
          "output_type": "stream",
          "name": "stderr",
          "text": [
            "<ipython-input-66-648ad45fcf08>:2: RuntimeWarning: invalid value encountered in log\n",
            "  y = np.log(x)\n"
          ]
        },
        {
          "output_type": "display_data",
          "data": {
            "text/plain": [
              "<Figure size 640x480 with 1 Axes>"
            ],
            "image/png": "[encoded data removed]"
          },
          "metadata": {}
        }
      ]
    },
    {
      "cell_type": "markdown",
      "source": [
        "**Plotting $y = exp(x)$** : ***Exponential***"
      ],
      "metadata": {
        "id": "d5LC40P2O8zL"
      }
    },
    {
      "cell_type": "code",
      "source": [
        "x = np.linspace(-10, 10, 100) # 100 numbers in the range of [-10, 10]\n",
        "y = np.exp(x)\n",
        "plt.plot(x, y)\n",
        "plt.show()"
      ],
      "metadata": {
        "colab": {
          "base_uri": "https://localhost:8080/",
          "height": 430
        },
        "id": "QPTaOY_VO17B",
        "outputId": "db6420b6-8a6c-41b3-ed46-b8770b791eaa"
      },
      "execution_count": 67,
      "outputs": [
        {
          "output_type": "display_data",
          "data": {
            "text/plain": [
              "<Figure size 640x480 with 1 Axes>"
            ],
            "image/png": "[encoded data removed]"
          },
          "metadata": {}
        }
      ]
    },
    {
      "cell_type": "markdown",
      "source": [
        "**Plotting $y = \\frac{1}{1 + e^{-x}}$** : ***Sigmoid Function***"
      ],
      "metadata": {
        "id": "rfDgHP86PEFF"
      }
    },
    {
      "cell_type": "code",
      "source": [
        "x = np.linspace(-10, 10, 100) # 100 numbers in the range of [-10, 10]\n",
        "y = 1/(1+np.exp(-x))\n",
        "plt.plot(x, y)\n",
        "plt.show()"
      ],
      "metadata": {
        "colab": {
          "base_uri": "https://localhost:8080/",
          "height": 430
        },
        "id": "IIfOmQBGO4q4",
        "outputId": "492563c9-dd7a-498f-d1f2-9d039eeac34f"
      },
      "execution_count": 68,
      "outputs": [
        {
          "output_type": "display_data",
          "data": {
            "text/plain": [
              "<Figure size 640x480 with 1 Axes>"
            ],
            "image/png": "[encoded data removed]"
          },
          "metadata": {}
        }
      ]
    }
  ]
}