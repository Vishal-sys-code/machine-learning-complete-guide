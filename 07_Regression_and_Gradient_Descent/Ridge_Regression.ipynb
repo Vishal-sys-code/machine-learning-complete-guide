{
  "nbformat": 4,
  "nbformat_minor": 0,
  "metadata": {
    "colab": {
      "provenance": []
    },
    "kernelspec": {
      "name": "python3",
      "display_name": "Python 3"
    },
    "language_info": {
      "name": "python"
    }
  },
  "cells": [
    {
      "cell_type": "markdown",
      "source": [
        "# Ridge Regression [PART - 1]"
      ],
      "metadata": {
        "id": "EznE7Yhg3oTP"
      }
    },
    {
      "cell_type": "code",
      "execution_count": 75,
      "metadata": {
        "id": "nssJAGe0_Qq-"
      },
      "outputs": [],
      "source": [
        "import numpy as np\n",
        "import pandas as pd\n",
        "import matplotlib.pyplot as plt\n",
        "from sklearn.datasets import load_diabetes\n",
        "from sklearn.datasets import make_regression\n",
        "from sklearn.model_selection import train_test_split\n",
        "from sklearn.linear_model import LinearRegression, Ridge, SGDRegressor\n",
        "from sklearn.metrics import r2_score, root_mean_squared_error\n",
        "from sklearn.pipeline import Pipeline\n",
        "from sklearn.preprocessing import PolynomialFeatures"
      ]
    },
    {
      "cell_type": "code",
      "source": [
        "data = load_diabetes()"
      ],
      "metadata": {
        "id": "hDTpE6sqFiLg"
      },
      "execution_count": 76,
      "outputs": []
    },
    {
      "cell_type": "code",
      "source": [
        "print(data.DESCR)"
      ],
      "metadata": {
        "colab": {
          "base_uri": "https://localhost:8080/"
        },
        "id": "HapOIegxFkHF",
        "outputId": "711c6b30-a77a-4df1-fadf-bba3413a44da"
      },
      "execution_count": 77,
      "outputs": [
        {
          "output_type": "stream",
          "name": "stdout",
          "text": [
            ".. _diabetes_dataset:\n",
            "\n",
            "Diabetes dataset\n",
            "----------------\n",
            "\n",
            "Ten baseline variables, age, sex, body mass index, average blood\n",
            "pressure, and six blood serum measurements were obtained for each of n =\n",
            "442 diabetes patients, as well as the response of interest, a\n",
            "quantitative measure of disease progression one year after baseline.\n",
            "\n",
            "**Data Set Characteristics:**\n",
            "\n",
            ":Number of Instances: 442\n",
            "\n",
            ":Number of Attributes: First 10 columns are numeric predictive values\n",
            "\n",
            ":Target: Column 11 is a quantitative measure of disease progression one year after baseline\n",
            "\n",
            ":Attribute Information:\n",
            "    - age     age in years\n",
            "    - sex\n",
            "    - bmi     body mass index\n",
            "    - bp      average blood pressure\n",
            "    - s1      tc, total serum cholesterol\n",
            "    - s2      ldl, low-density lipoproteins\n",
            "    - s3      hdl, high-density lipoproteins\n",
            "    - s4      tch, total cholesterol / HDL\n",
            "    - s5      ltg, possibly log of serum triglycerides level\n",
            "    - s6      glu, blood sugar level\n",
            "\n",
            "Note: Each of these 10 feature variables have been mean centered and scaled by the standard deviation times the square root of `n_samples` (i.e. the sum of squares of each column totals 1).\n",
            "\n",
            "Source URL:\n",
            "https://www4.stat.ncsu.edu/~boos/var.select/diabetes.html\n",
            "\n",
            "For more information see:\n",
            "Bradley Efron, Trevor Hastie, Iain Johnstone and Robert Tibshirani (2004) \"Least Angle Regression,\" Annals of Statistics (with discussion), 407-499.\n",
            "(https://web.stanford.edu/~hastie/Papers/LARS/LeastAngle_2002.pdf)\n",
            "\n"
          ]
        }
      ]
    },
    {
      "cell_type": "code",
      "source": [
        "X = data.data\n",
        "y = data.target"
      ],
      "metadata": {
        "id": "WUzA5FpxFlhK"
      },
      "execution_count": 78,
      "outputs": []
    },
    {
      "cell_type": "code",
      "source": [
        "X_train, X_test, y_train, y_test = train_test_split(X,y,test_size = 0.2, random_state = 45)"
      ],
      "metadata": {
        "id": "4DQxK_5HFy8a"
      },
      "execution_count": 79,
      "outputs": []
    },
    {
      "cell_type": "code",
      "source": [
        "lr = LinearRegression()\n",
        "lr.fit(X_train,y_train)\n",
        "y_pred = lr.predict(X_test)\n",
        "print(\"R2 Score\", r2_score(y_pred, y_test))\n",
        "print(\"Root Mean Square Error: \", root_mean_squared_error(y_pred, y_test))"
      ],
      "metadata": {
        "colab": {
          "base_uri": "https://localhost:8080/"
        },
        "id": "0-51Wju3GAGl",
        "outputId": "649ff54f-5886-4b87-f475-4c20405d188d"
      },
      "execution_count": 80,
      "outputs": [
        {
          "output_type": "stream",
          "name": "stdout",
          "text": [
            "R2 Score 0.15992844644314907\n",
            "Root Mean Square Error:  48.72713760953253\n"
          ]
        }
      ]
    },
    {
      "cell_type": "markdown",
      "source": [
        "## Ridge Regression from Sklearn Library\n",
        "\n",
        "`alpha = penalty term`"
      ],
      "metadata": {
        "id": "1RE26spvISla"
      }
    },
    {
      "cell_type": "code",
      "source": [
        "R = Ridge(alpha = 0.001)"
      ],
      "metadata": {
        "id": "GYAlemTuGUr_"
      },
      "execution_count": 81,
      "outputs": []
    },
    {
      "cell_type": "code",
      "source": [
        "R.fit(X_train,y_train)\n",
        "y_pred = R.predict(X_test)\n",
        "print(\"R2 Score\", r2_score(y_pred, y_test))\n",
        "print(\"Root Mean Square Error: \", root_mean_squared_error(y_pred, y_test))"
      ],
      "metadata": {
        "colab": {
          "base_uri": "https://localhost:8080/"
        },
        "id": "cyKbOV9hGn9n",
        "outputId": "7b9cbbcb-f9e4-4e20-8461-a7381a0eda66"
      },
      "execution_count": 82,
      "outputs": [
        {
          "output_type": "stream",
          "name": "stdout",
          "text": [
            "R2 Score 0.16064010917326121\n",
            "Root Mean Square Error:  48.65957177859253\n"
          ]
        }
      ]
    },
    {
      "cell_type": "code",
      "source": [
        "m = 100\n",
        "x1 = 5 * np.random.rand(m, 1) - 2\n",
        "x2 = (0.7 * x1 ** 2) - 2 * x1 + 3 + np.random.randn(m, 1)\n",
        "plt.scatter(x1, x2)\n",
        "plt.show()"
      ],
      "metadata": {
        "colab": {
          "base_uri": "https://localhost:8080/",
          "height": 430
        },
        "id": "MYJckOhWGuvD",
        "outputId": "38771e66-43a4-4b36-ad8e-e3944a3d70a5"
      },
      "execution_count": 83,
      "outputs": [
        {
          "output_type": "display_data",
          "data": {
            "text/plain": [
              "<Figure size 640x480 with 1 Axes>"
            ],
            "image/png": "[encoded data removed]"
          },
          "metadata": {}
        }
      ]
    },
    {
      "cell_type": "code",
      "source": [
        "def get_preds_ridge(x1, x2, alpha):\n",
        "  model = Pipeline([\n",
        "      ('poly_feats', PolynomialFeatures(degree = 16)),\n",
        "      ('ridge', Ridge(alpha = alpha))\n",
        "  ])\n",
        "  model.fit(x1, x2)\n",
        "  return model.predict(x1)\n",
        "alphas = [0, 20, 200]\n",
        "cs = ['r', 'g', 'b']\n",
        "plt.figure(figsize = (10,6))\n",
        "plt.plot(x1, x2, 'b+', label = 'Datapoints')\n",
        "for alpha, c in zip(alphas, cs):\n",
        "  preds = get_preds_ridge(x1, x2, alpha)\n",
        "  plt.plot(sorted(x1[:,0]), preds[np.argsort(x1[:,0])], c, label = 'Alpha: {}'.format(alpha))\n",
        "plt.legend()\n",
        "plt.show()"
      ],
      "metadata": {
        "colab": {
          "base_uri": "https://localhost:8080/",
          "height": 431
        },
        "id": "ZHANKaYqHB8j",
        "outputId": "95979abf-bc6c-4fd8-e362-a74bae730b1a"
      },
      "execution_count": 84,
      "outputs": [
        {
          "output_type": "display_data",
          "data": {
            "text/plain": [
              "<Figure size 1000x600 with 1 Axes>"
            ],
            "image/png": "[encoded data removed]"
          },
          "metadata": {}
        }
      ]
    },
    {
      "cell_type": "markdown",
      "source": [
        "# Ridge Regression [PART - 2]\n",
        "## For 2 Dimensional Data"
      ],
      "metadata": {
        "id": "-ANu-VPa3wQr"
      }
    },
    {
      "cell_type": "markdown",
      "source": [
        "## Ridge Regression [Slope and Intercepts] - From Scratch"
      ],
      "metadata": {
        "id": "BnftoLky4Es0"
      }
    },
    {
      "cell_type": "code",
      "source": [
        "X, y = make_regression(n_samples = 100, n_features = 1, n_informative = 1, n_targets = 1, noise = 20, random_state = 13)"
      ],
      "metadata": {
        "id": "RNUYed_fIDDt"
      },
      "execution_count": 85,
      "outputs": []
    },
    {
      "cell_type": "code",
      "source": [
        "plt.scatter(X, y)"
      ],
      "metadata": {
        "colab": {
          "base_uri": "https://localhost:8080/",
          "height": 447
        },
        "id": "48JlbzDl9HQW",
        "outputId": "562c9ceb-fab8-40f7-f041-134f9a0a9d3b"
      },
      "execution_count": 86,
      "outputs": [
        {
          "output_type": "execute_result",
          "data": {
            "text/plain": [
              "<matplotlib.collections.PathCollection at 0x7df820ee3460>"
            ]
          },
          "metadata": {},
          "execution_count": 86
        },
        {
          "output_type": "display_data",
          "data": {
            "text/plain": [
              "<Figure size 640x480 with 1 Axes>"
            ],
            "image/png": "[encoded data removed]"
          },
          "metadata": {}
        }
      ]
    },
    {
      "cell_type": "code",
      "source": [
        "lr = LinearRegression()\n",
        "lr.fit(X, y)\n",
        "print(\"Coefficient: \", lr.coef_)\n",
        "print(\"Intercept: \", lr.intercept_)"
      ],
      "metadata": {
        "colab": {
          "base_uri": "https://localhost:8080/"
        },
        "id": "FK-NHQbg9Jsr",
        "outputId": "0691af41-d3c1-4533-f234-633f55d936d0"
      },
      "execution_count": 87,
      "outputs": [
        {
          "output_type": "stream",
          "name": "stdout",
          "text": [
            "Coefficient:  [27.82809103]\n",
            "Intercept:  -2.29474455867698\n"
          ]
        }
      ]
    },
    {
      "cell_type": "code",
      "source": [
        "rr = Ridge(alpha = 10)\n",
        "rr.fit(X, y)\n",
        "print(\"Coefficient: \", rr.coef_)\n",
        "print(\"Intercept: \", rr.intercept_)"
      ],
      "metadata": {
        "colab": {
          "base_uri": "https://localhost:8080/"
        },
        "id": "B0vjouqX9Zqn",
        "outputId": "ae3e66a7-064a-48b5-a60b-a058f36ee880"
      },
      "execution_count": 88,
      "outputs": [
        {
          "output_type": "stream",
          "name": "stdout",
          "text": [
            "Coefficient:  [24.9546267]\n",
            "Intercept:  -2.1269130035235735\n"
          ]
        }
      ]
    },
    {
      "cell_type": "code",
      "source": [
        "rr_1 = Ridge(alpha = 100)\n",
        "rr_1.fit(X, y)\n",
        "print(\"Coefficient: \", rr_1.coef_)\n",
        "print(\"Intercept: \", rr_1.intercept_)"
      ],
      "metadata": {
        "colab": {
          "base_uri": "https://localhost:8080/"
        },
        "id": "NIqyOMJb9ixH",
        "outputId": "82958e41-dcc9-4027-a6bd-9d86e8d6f8ad"
      },
      "execution_count": 89,
      "outputs": [
        {
          "output_type": "stream",
          "name": "stdout",
          "text": [
            "Coefficient:  [12.93442104]\n",
            "Intercept:  -1.4248441496033308\n"
          ]
        }
      ]
    },
    {
      "cell_type": "code",
      "source": [
        "plt.plot(X,y,'b.')\n",
        "plt.plot(X, lr.predict(X), color = 'red', label = 'alpha = 0')\n",
        "plt.plot(X, rr.predict(X), color = 'green', label = 'alpha = 10')\n",
        "plt.plot(X, rr_1.predict(X), color = 'orange', label = 'alpha = 100')\n",
        "plt.legend()\n",
        "plt.show()"
      ],
      "metadata": {
        "colab": {
          "base_uri": "https://localhost:8080/",
          "height": 430
        },
        "id": "HkAcLPP2944P",
        "outputId": "67737859-027b-4436-da98-adab259f3e00"
      },
      "execution_count": 90,
      "outputs": [
        {
          "output_type": "display_data",
          "data": {
            "text/plain": [
              "<Figure size 640x480 with 1 Axes>"
            ],
            "image/png": "[encoded data removed]"
          },
          "metadata": {}
        }
      ]
    },
    {
      "cell_type": "markdown",
      "source": [
        "## Custom Ridge Regression Class"
      ],
      "metadata": {
        "id": "2u9mqKji-tT_"
      }
    },
    {
      "cell_type": "code",
      "source": [
        "\"\"\"\n",
        "value of m = numerator / denominator\n",
        "numerator = summation_i_1toN (Y_i - Y_mean) *(X_i - X_mean)\n",
        "denominator = lambda(penalty term) + summation_i_1toN (X_i - X_mean) ** 2\n",
        "m = [summation_i_1toN (Y_i - Y_mean) *(X_i - X_mean)]/[lambda(penalty term) + summation_i_1toN (X_i - X_mean) ** 2]\n",
        "\n",
        "\"\"\"\n",
        "class CustomRidgeRegression:\n",
        "  def __init__(self, alpha = 0.1):\n",
        "    self.alpha = alpha\n",
        "    self.coefficient = None\n",
        "    self.intercept = None\n",
        "  def fit(self, X_train, y_train):\n",
        "    numerator = 0\n",
        "    denominator = 0\n",
        "    for i in range(X_train.shape[0]):\n",
        "      numerator =  numerator + ((y_train[i] - y_train.mean()) * (X_train[i] - X_train.mean()))\n",
        "      denominator = denominator + (X_train[i] - X_train.mean())**2\n",
        "    self.coefficient = numerator / (denominator + self.alpha)\n",
        "    self.intercept = y_train.mean() - (self.coefficient * X_train.mean())\n",
        "    print(\"Coefficient: \", self.coefficient)\n",
        "    print(\"Intercept: \", self.intercept)\n",
        "  def predict(self, X_test):\n",
        "    y_pred = 0\n",
        "    for i in range(X_test.shape[0]):\n",
        "      y_pred = y_pred + self.coefficient * X_test[i] + self.intercept[i]\n",
        "    return y_pred"
      ],
      "metadata": {
        "id": "xgQbhdpN-Ven"
      },
      "execution_count": 91,
      "outputs": []
    },
    {
      "cell_type": "code",
      "source": [
        "crr = CustomRidgeRegression(alpha = 10)\n",
        "print(\"For alpha = 10: \")\n",
        "crr.fit(X, y)\n",
        "\n",
        "print()\n",
        "\n",
        "crr = CustomRidgeRegression(alpha = 100)\n",
        "print(\"For alpha = 100: \")\n",
        "crr.fit(X, y)"
      ],
      "metadata": {
        "colab": {
          "base_uri": "https://localhost:8080/"
        },
        "id": "UoSLTvlr_DhR",
        "outputId": "7987cdf6-ded9-4d90-c2bc-5297396f7fda"
      },
      "execution_count": 92,
      "outputs": [
        {
          "output_type": "stream",
          "name": "stdout",
          "text": [
            "For alpha = 10: \n",
            "Coefficient:  [24.9546267]\n",
            "Intercept:  [-2.126913]\n",
            "\n",
            "For alpha = 100: \n",
            "Coefficient:  [12.93442104]\n",
            "Intercept:  [-1.42484415]\n"
          ]
        }
      ]
    },
    {
      "cell_type": "markdown",
      "source": [
        "## For N Dimensional Data"
      ],
      "metadata": {
        "id": "cUJVlQHPCvTI"
      }
    },
    {
      "cell_type": "code",
      "source": [
        "X,y = load_diabetes(return_X_y = True)"
      ],
      "metadata": {
        "id": "znMftDz5CRyj"
      },
      "execution_count": 93,
      "outputs": []
    },
    {
      "cell_type": "code",
      "source": [
        "X_train, X_test, y_train, y_test = train_test_split(X,y, test_size = 0.2, random_state = 4)"
      ],
      "metadata": {
        "id": "URyaXok0QbzX"
      },
      "execution_count": 94,
      "outputs": []
    },
    {
      "cell_type": "code",
      "source": [
        "rreg = Ridge(alpha = 0.1, solver = 'cholesky')\n",
        "rreg.fit(X_train, y_train)\n",
        "y_pred = rreg.predict(X_test)\n",
        "print(\"R2 Score: \", r2_score(y_pred, y_test))\n",
        "print(\"Root Mean Square Error: \", root_mean_squared_error(y_pred, y_test))"
      ],
      "metadata": {
        "colab": {
          "base_uri": "https://localhost:8080/"
        },
        "id": "5Bi2gMNyQkL8",
        "outputId": "aaff7d97-0c4f-4194-e10d-900771cdc550"
      },
      "execution_count": 95,
      "outputs": [
        {
          "output_type": "stream",
          "name": "stdout",
          "text": [
            "R2 Score:  -0.2813489752918308\n",
            "Root Mean Square Error:  53.801079806407095\n"
          ]
        }
      ]
    },
    {
      "cell_type": "code",
      "source": [
        "print(\"Intercept: \", rreg.intercept_)\n",
        "print()\n",
        "print(\"Coefficient: \", rreg.coef_)"
      ],
      "metadata": {
        "colab": {
          "base_uri": "https://localhost:8080/"
        },
        "id": "NDqJOS3IQwG-",
        "outputId": "32128e5f-7812-48ba-fa5c-818c78325baf"
      },
      "execution_count": 96,
      "outputs": [
        {
          "output_type": "stream",
          "name": "stdout",
          "text": [
            "Intercept:  150.89053425602808\n",
            "\n",
            "Coefficient:  [  44.02063391 -241.69329987  452.98665299  332.04420177  -76.33686744\n",
            "  -68.52143809 -164.98809083  149.96908118  431.61347417   58.51862681]\n"
          ]
        }
      ]
    },
    {
      "cell_type": "code",
      "source": [
        "class CustomRidgeRegressionNDimensional:\n",
        "  def __init__(self, alpha = 0.1):\n",
        "    self.alpha = alpha\n",
        "    self.coefficient = None\n",
        "    self.intercept = None\n",
        "  def fit(self, X_train, y_train):\n",
        "    X_train = np.insert(X_train, 0, 1, axis = 1)\n",
        "    identity_matrix = np.identity(X_train.shape[1])\n",
        "    penalty_term = self.alpha * identity_matrix\n",
        "    w = np.linalg.inv(np.dot(X_train.T, X_train) + penalty_term).dot(X_train.T).dot(y_train)\n",
        "    self.coefficient = w[1:]\n",
        "    self.intercept = w[0]\n",
        "    print(\"Coefficient: \", self.coefficient)\n",
        "    print(\"Intercept: \", self.intercept)\n",
        "  def predict(self, X_test):\n",
        "    return np.dot(X_test,self.coefficient) + self.intercept"
      ],
      "metadata": {
        "id": "_VW2CBlORNbr"
      },
      "execution_count": 97,
      "outputs": []
    },
    {
      "cell_type": "markdown",
      "source": [
        "`np.identify(X_train.shape[1]) = No of Rows ka identity matrix`."
      ],
      "metadata": {
        "id": "fcYAyB5nUTeG"
      }
    },
    {
      "cell_type": "code",
      "source": [
        "reg = CustomRidgeRegressionNDimensional()\n",
        "reg.fit(X_train, y_train)\n",
        "y_pred = reg.predict(X_test)\n",
        "print()\n",
        "print(\"R2 Score: \", r2_score(y_pred, y_test))\n",
        "print()\n",
        "print(\"Root Mean Square Error: \", root_mean_squared_error(y_pred, y_test))"
      ],
      "metadata": {
        "colab": {
          "base_uri": "https://localhost:8080/"
        },
        "id": "iVGHXon1U2LO",
        "outputId": "612a61f7-f3ac-46d0-8048-140907d1d046"
      },
      "execution_count": 98,
      "outputs": [
        {
          "output_type": "stream",
          "name": "stdout",
          "text": [
            "Coefficient:  [  44.04252774 -241.72019592  452.99153345  332.06044266  -76.32617866\n",
            "  -68.54884462 -165.01664054  149.93980143  431.59483654   58.54419942]\n",
            "Intercept:  150.84762720023167\n",
            "\n",
            "R2 Score:  -0.28155543141188133\n",
            "\n",
            "Root Mean Square Error:  53.80611155568962\n"
          ]
        }
      ]
    },
    {
      "cell_type": "markdown",
      "source": [
        "### Exactly getting\n",
        "\n",
        "The reason of using `[0][0]=0` is that because in our matrix W the first term is basically intercept not slope and we have to multiply Lambda with only slopes.\n",
        "Thats why first term became zero and lambda is multiplied with only slopes."
      ],
      "metadata": {
        "id": "OfoDboiWbjfM"
      }
    },
    {
      "cell_type": "code",
      "source": [
        "class CustomRidgeRegressionNDimensional:\n",
        "  def __init__(self, alpha = 0.1):\n",
        "    self.alpha = alpha\n",
        "    self.coefficient = None\n",
        "    self.intercept = None\n",
        "  def fit(self, X_train, y_train):\n",
        "    X_train = np.insert(X_train, 0, 1, axis = 1)\n",
        "    identity_matrix = np.identity(X_train.shape[1])\n",
        "    identity_matrix[0][0] = 0\n",
        "    penalty_term = self.alpha * identity_matrix\n",
        "    w = np.linalg.inv(np.dot(X_train.T, X_train) + penalty_term).dot(X_train.T).dot(y_train)\n",
        "    self.coefficient = w[1:]\n",
        "    self.intercept = w[0]\n",
        "    print(\"Coefficient: \", self.coefficient)\n",
        "    print(\"Intercept: \", self.intercept)\n",
        "  def predict(self, X_test):\n",
        "    return np.dot(X_test,self.coefficient) + self.intercept"
      ],
      "metadata": {
        "id": "7XyCRZdxU3l7"
      },
      "execution_count": 99,
      "outputs": []
    },
    {
      "cell_type": "code",
      "source": [
        "reg = CustomRidgeRegressionNDimensional()\n",
        "reg.fit(X_train, y_train)\n",
        "y_pred = reg.predict(X_test)\n",
        "print()\n",
        "print(\"R2 Score: \", r2_score(y_pred, y_test))\n",
        "print()\n",
        "print(\"Root Mean Square Error: \", root_mean_squared_error(y_pred, y_test))"
      ],
      "metadata": {
        "colab": {
          "base_uri": "https://localhost:8080/"
        },
        "id": "a99H4lGZbgjm",
        "outputId": "2174f26a-72bf-4b9a-a629-cc881c8ce248"
      },
      "execution_count": 100,
      "outputs": [
        {
          "output_type": "stream",
          "name": "stdout",
          "text": [
            "Coefficient:  [  44.02063391 -241.69329987  452.98665299  332.04420177  -76.33686744\n",
            "  -68.52143809 -164.98809083  149.96908118  431.61347417   58.51862681]\n",
            "Intercept:  150.8905342560281\n",
            "\n",
            "R2 Score:  -0.2813489752918308\n",
            "\n",
            "Root Mean Square Error:  53.801079806407095\n"
          ]
        }
      ]
    },
    {
      "cell_type": "markdown",
      "source": [
        "## Gradient Descent using sklearn"
      ],
      "metadata": {
        "id": "PBP6xaUUbyUI"
      }
    },
    {
      "cell_type": "code",
      "source": [
        "X,y = load_diabetes(return_X_y = True)\n",
        "X_train, X_test, y_train, y_test = train_test_split(X,y,test_size = 0.2, random_state = 4)"
      ],
      "metadata": {
        "id": "19MJ7Ryrbh5Y"
      },
      "execution_count": 101,
      "outputs": []
    },
    {
      "cell_type": "code",
      "source": [
        "reg = SGDRegressor(penalty = 'l2', max_iter = 500, eta0 = 0.1, learning_rate = 'constant', alpha = 0.001)\n",
        "reg.fit(X_train, y_train)\n",
        "y_pred = reg.predict(X_test)\n",
        "print(\"R2 Score: \", r2_score(y_pred, y_test))\n",
        "print(\"Root Mean Square Error: \", root_mean_squared_error(y_pred, y_test))\n",
        "print(\" \")\n",
        "print(\"Coefficient: \", reg.coef_)\n",
        "print(\"Intercept: \", reg.intercept_)"
      ],
      "metadata": {
        "colab": {
          "base_uri": "https://localhost:8080/"
        },
        "id": "HsNc6paLcEny",
        "outputId": "6f2a169c-0ead-4a41-d259-751734d387e5"
      },
      "execution_count": 102,
      "outputs": [
        {
          "output_type": "stream",
          "name": "stdout",
          "text": [
            "R2 Score:  -0.6631732814492695\n",
            "Root Mean Square Error:  54.40303737999783\n",
            " \n",
            "Coefficient:  [  51.0549496  -149.94004672  362.67683456  266.45533966   -4.67052388\n",
            "  -58.87587948 -167.51991316  136.98863675  327.72194941  105.23597594]\n",
            "Intercept:  [152.4561143]\n"
          ]
        }
      ]
    },
    {
      "cell_type": "markdown",
      "source": [
        "## Custom Gradient Descent [Ridge Regression]"
      ],
      "metadata": {
        "id": "vfjO-RB2cxYs"
      }
    },
    {
      "cell_type": "code",
      "source": [
        "class CustomRidgeRegressionGradientDescent:\n",
        "  def __init__(self, epochs, learning_rate, alpha):\n",
        "    self.epochs = epochs\n",
        "    self.learning_rate = learning_rate\n",
        "    self.alpha = alpha\n",
        "    self.intercept = None\n",
        "    self.coefficient = None\n",
        "  def fit(self, X_train, y_train):\n",
        "    self.intercept = 0\n",
        "    self.coefficient = np.ones(X_train.shape[1])\n",
        "    w = np.insert(self.coefficient, 0, self.intercept)\n",
        "    X_train = np.insert(X_train, 0, 1, axis = 1)\n",
        "    for i in range(self.epochs):\n",
        "      derivative_of_w = np.dot(X_train.T, X_train).dot(w) - np.dot(X_train.T, y_train) + self.alpha * w\n",
        "      w = w - self.learning_rate * derivative_of_w\n",
        "    self.intercept = w[0]\n",
        "    self.coefficient = w[1:]\n",
        "    print(\"Coefficient: \", self.coefficient)\n",
        "    print(\"Intercept: \", self.intercept)\n",
        "  def predict(self, X_test):\n",
        "    return np.dot(X_test, self.coefficient) + self.intercept"
      ],
      "metadata": {
        "id": "Zfcz1Lmycdxq"
      },
      "execution_count": 103,
      "outputs": []
    },
    {
      "cell_type": "code",
      "source": [
        "reg = CustomRidgeRegressionGradientDescent(epochs = 500, learning_rate = 0.005, alpha = 0.001)\n",
        "reg.fit(X_train, y_train)\n",
        "y_pred = reg.predict(X_test)\n",
        "print()\n",
        "print(\"R2 Score: \", r2_score(y_pred, y_test))\n",
        "print()\n",
        "print(\"Coefficient: \", reg.coefficient)\n",
        "print(\"Intercept: \", reg.intercept)"
      ],
      "metadata": {
        "colab": {
          "base_uri": "https://localhost:8080/"
        },
        "id": "Q7p2vIFCef7k",
        "outputId": "0fe6dbc3-638a-4833-e1dd-e0e04ff02f89"
      },
      "execution_count": 104,
      "outputs": [
        {
          "output_type": "stream",
          "name": "stdout",
          "text": [
            "Coefficient:  [  46.65050914 -221.3750037   452.12080647  325.54248128  -29.09464178\n",
            "  -96.47517735 -190.90017011  146.32900372  400.80267299   95.09048094]\n",
            "Intercept:  150.86975316713472\n",
            "\n",
            "R2 Score:  -0.2259659986493514\n",
            "\n",
            "Coefficient:  [  46.65050914 -221.3750037   452.12080647  325.54248128  -29.09464178\n",
            "  -96.47517735 -190.90017011  146.32900372  400.80267299   95.09048094]\n",
            "Intercept:  150.86975316713472\n"
          ]
        }
      ]
    }
  ]
}